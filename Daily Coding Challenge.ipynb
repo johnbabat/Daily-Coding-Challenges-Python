{
 "cells": [
  {
   "cell_type": "markdown",
   "metadata": {},
   "source": [
    "### Daily Coding Problem: Problem #1 [Easy]\n",
    "\n",
    "This problem was recently asked by Google.\n",
    "\n",
    "Given a list of numbers and a number k, return whether any two numbers from the list add up to k.\n",
    "\n",
    "For example, given [10, 15, 3, 7] and k of 17, return true since 10 + 7 is 17.\n",
    "\n",
    "Bonus: Can you do this in one pass?"
   ]
  },
  {
   "cell_type": "code",
   "execution_count": 1,
   "metadata": {},
   "outputs": [],
   "source": [
    "def twoSum(nums, k):\n",
    "    store = set()\n",
    "    for num in nums:\n",
    "        if k-num in store: return True\n",
    "        store.add(num)\n",
    "    return False"
   ]
  },
  {
   "cell_type": "code",
   "execution_count": 2,
   "metadata": {},
   "outputs": [
    {
     "data": {
      "text/plain": [
       "True"
      ]
     },
     "execution_count": 2,
     "metadata": {},
     "output_type": "execute_result"
    }
   ],
   "source": [
    "# Test Code\n",
    "\n",
    "nums, k = [10, 15, 3, 7], 17\n",
    "\n",
    "twoSum(nums, k)"
   ]
  },
  {
   "cell_type": "markdown",
   "metadata": {},
   "source": [
    "### Daily Coding Problem: Problem #2 [Hard]\n",
    "\n",
    "This problem was asked by Uber.\n",
    "\n",
    "Given an array of integers, return a new array such that each element at index i of the new array is the product of all the numbers in the original array except the one at i.\n",
    "\n",
    "For example, if our input was [1, 2, 3, 4, 5], the expected output would be [120, 60, 40, 30, 24]. If our input was [3, 2, 1], the expected output would be [2, 3, 6].\n",
    "\n",
    "Follow-up: what if you can't use division?"
   ]
  },
  {
   "cell_type": "code",
   "execution_count": 3,
   "metadata": {},
   "outputs": [],
   "source": [
    "def productExceptSelf(nums):\n",
    "    if not nums: return []\n",
    "    if len(nums) == 1: return [0]\n",
    "    prodNums = nums[:]\n",
    "    for i in range(1, len(nums)):\n",
    "        prodNums[i] *= prodNums[i-1]\n",
    "\n",
    "    start = 1\n",
    "    for i in range(len(nums)-1, 0, -1):\n",
    "        val = nums[i]\n",
    "        nums[i] = start * prodNums[i-1]\n",
    "        start *= val\n",
    "    nums[0] = start\n",
    "    return nums"
   ]
  },
  {
   "cell_type": "code",
   "execution_count": 4,
   "metadata": {},
   "outputs": [
    {
     "data": {
      "text/plain": [
       "[120, 60, 40, 30, 24]"
      ]
     },
     "execution_count": 4,
     "metadata": {},
     "output_type": "execute_result"
    }
   ],
   "source": [
    "productExceptSelf([1,2,3,4,5])"
   ]
  },
  {
   "cell_type": "markdown",
   "metadata": {},
   "source": [
    "### Daily Coding Problem: Problem #3 [Medium]\n",
    "\n",
    "This problem was asked by Google.\n",
    "\n",
    "Given the root to a binary tree, implement serialize(root), which serializes the tree into a string, and deserialize(s), which deserializes the string back into the tree.\n",
    "\n",
    "For example, given the following Node class\n",
    "\n",
    "    class Node:\n",
    "        def __init__(self, val, left=None, right=None):\n",
    "            self.val = val\n",
    "            self.left = left\n",
    "            self.right = right\n",
    "        \n",
    "The following test should pass:\n",
    "\n",
    "node = Node('root', Node('left', Node('left.left')), Node('right'))\n",
    "\n",
    "assert deserialize(serialize(node)).left.left.val == 'left.left'"
   ]
  },
  {
   "cell_type": "code",
   "execution_count": 305,
   "metadata": {},
   "outputs": [],
   "source": [
    "# Approach 1: Using dictionaries to store tree\n",
    "def serialize(root):\n",
    "    res = {}\n",
    "    def helper(node):\n",
    "        if not node: return None\n",
    "        dic = {\"val\": node.val, \"left\": None, \"right\":None}\n",
    "        dic[\"left\"] = helper(node.left)\n",
    "        dic[\"right\"] = helper(node.right)\n",
    "        return dic\n",
    "    res = helper(root)\n",
    "    return str(res)\n",
    "\n",
    "def deserialize(data):\n",
    "    data = eval(data)\n",
    "    def helper(dic):\n",
    "        if not dic: return\n",
    "        node = Node(dic[\"val\"])\n",
    "        node.left = helper(dic[\"left\"])\n",
    "        node.right = helper(dic[\"right\"])\n",
    "        return node\n",
    "    root = helper(data)\n",
    "    return root"
   ]
  },
  {
   "cell_type": "code",
   "execution_count": 306,
   "metadata": {},
   "outputs": [],
   "source": [
    "# Approach 2: Using stack and level order traversal\n",
    "def serialize(root):\n",
    "    stack = []\n",
    "    queue = deque([root])\n",
    "\n",
    "    while queue:\n",
    "        node = queue.popleft()\n",
    "        if node:\n",
    "            stack.append(node.val)\n",
    "            queue.append(node.left)\n",
    "            queue.append(node.right)\n",
    "        else: stack.append(None)\n",
    "    return str(stack)\n",
    "\n",
    "def deserialize(data):\n",
    "    stack = eval(data)\n",
    "    if stack[0] is None: return None\n",
    "    root = Node(stack[0])\n",
    "    temp = deque([root])\n",
    "    idx = 1\n",
    "\n",
    "    while temp:\n",
    "        node = temp.popleft()\n",
    "        if node is not None:\n",
    "            l, r = stack[idx], stack[idx+1]\n",
    "            if l is None: temp.append(None)\n",
    "            else:\n",
    "                node.left = Node(l)\n",
    "                temp.append(node.left)\n",
    "            if r is None: temp.append(None)\n",
    "            else:\n",
    "                node.right = Node(r)\n",
    "                temp.append(node.right)\n",
    "            idx +=2\n",
    "    return root"
   ]
  },
  {
   "cell_type": "code",
   "execution_count": 307,
   "metadata": {},
   "outputs": [
    {
     "data": {
      "text/plain": [
       "'left.left'"
      ]
     },
     "execution_count": 307,
     "metadata": {},
     "output_type": "execute_result"
    }
   ],
   "source": [
    "# Test Code\n",
    "\n",
    "class Node:\n",
    "    def __init__(self, val, left=None, right=None):\n",
    "        self.val = val\n",
    "        self.left = left\n",
    "        self.right = right\n",
    "\n",
    "node = Node('root', Node('left', Node('left.left')), Node('right'))\n",
    "\n",
    "deserialize(serialize(node)).left.left.val"
   ]
  },
  {
   "cell_type": "markdown",
   "metadata": {},
   "source": [
    "### Daily Coding Problem: Problem #4 [Hard]\n",
    "\n",
    "This problem was asked by Stripe.\n",
    "\n",
    "Given an array of integers, find the first missing positive integer in linear time and constant space. In other words, find the lowest positive integer that does not exist in the array. The array can contain duplicates and negative numbers as well.\n",
    "\n",
    "For example, the input [3, 4, -1, 1] should give 2. The input [1, 2, 0] should give 3.\n",
    "\n",
    "You can modify the input array in-place."
   ]
  },
  {
   "cell_type": "code",
   "execution_count": 112,
   "metadata": {},
   "outputs": [],
   "source": [
    "def getFirstMissing(nums):\n",
    "    n = len(nums)\n",
    "    for i in range(len(nums)):\n",
    "        if nums[i] <= 0: nums[i] = n+1\n",
    "\n",
    "    if not nums: return 1\n",
    "    for num in nums:\n",
    "        cur = abs(num)\n",
    "        if cur-1 < n:\n",
    "            if nums[cur-1]> 0: nums[cur-1] *=-1\n",
    "\n",
    "    for i in range(n):\n",
    "        if nums[i] > 0: return i+1\n",
    "    return n + 1"
   ]
  },
  {
   "cell_type": "code",
   "execution_count": 113,
   "metadata": {},
   "outputs": [
    {
     "data": {
      "text/plain": [
       "2"
      ]
     },
     "execution_count": 113,
     "metadata": {},
     "output_type": "execute_result"
    }
   ],
   "source": [
    "# Test Code\n",
    "\n",
    "array = [3, 4,-1, 1]\n",
    "getFirstMissing(array)"
   ]
  },
  {
   "cell_type": "markdown",
   "metadata": {},
   "source": [
    "### Daily Coding Problem: Problem #5 [Medium]\n",
    "\n",
    "This problem was asked by Jane Street.\n",
    "\n",
    "cons(a, b) constructs a pair, and car(pair) and cdr(pair) returns the first and last element of that pair. For example, car(cons(3, 4)) returns 3, and cdr(cons(3, 4)) returns 4.\n",
    "\n",
    "Given this implementation of cons:\n",
    "\n",
    "    def cons(a, b):\n",
    "        def pair(f):\n",
    "            return f(a, b)\n",
    "        return pair\n",
    "Implement car and cdr."
   ]
  },
  {
   "cell_type": "code",
   "execution_count": 408,
   "metadata": {},
   "outputs": [],
   "source": [
    "def cons(a, b):\n",
    "    def pair(f):\n",
    "        return f(a, b)\n",
    "    return pair\n",
    "\n",
    "def car(f):\n",
    "    def car_help(a, b):\n",
    "        return a\n",
    "    return f(car_help)\n",
    "\n",
    "def cdr(f):\n",
    "    def cdr_help(a, b):\n",
    "        return b\n",
    "    return f(cdr_help)"
   ]
  },
  {
   "cell_type": "code",
   "execution_count": 409,
   "metadata": {},
   "outputs": [
    {
     "data": {
      "text/plain": [
       "[3, 4]"
      ]
     },
     "execution_count": 409,
     "metadata": {},
     "output_type": "execute_result"
    }
   ],
   "source": [
    "# Test Code\n",
    "\n",
    "a, b = 3, 4\n",
    "\n",
    "[car(cons(a,b)), cdr(cons(a,b))]"
   ]
  },
  {
   "cell_type": "code",
   "execution_count": null,
   "metadata": {},
   "outputs": [],
   "source": []
  },
  {
   "cell_type": "code",
   "execution_count": null,
   "metadata": {},
   "outputs": [],
   "source": []
  },
  {
   "cell_type": "code",
   "execution_count": null,
   "metadata": {},
   "outputs": [],
   "source": []
  },
  {
   "cell_type": "markdown",
   "metadata": {},
   "source": [
    "### Daily Coding Problem: Problem #122 [Medium]\n",
    "\n",
    "This question was asked by Zillow.\n",
    "\n",
    "You are given a 2-d matrix where each cell represents number of coins in that cell. Assuming we start at matrix[0][0], and can only move right or down, find the maximum number of coins you can collect by the bottom right corner.\n",
    "\n",
    "For example, in this matrix\n",
    "\n"
   ]
  },
  {
   "cell_type": "markdown",
   "metadata": {},
   "source": [
    "    0 3 1 1\n",
    "    2 0 0 4\n",
    "    1 5 3 1 "
   ]
  },
  {
   "cell_type": "markdown",
   "metadata": {},
   "source": [
    "The most we can collect is 0 + 2 + 1 + 5 + 3 + 1 = 12 coins."
   ]
  },
  {
   "cell_type": "code",
   "execution_count": 16,
   "metadata": {},
   "outputs": [],
   "source": [
    "# The approach is to replace each cell with the sum of the the value of the cell and the maximum of the top and left cell.\n",
    "# The matrix would have the macimum path at the bottom right\n",
    "\n",
    "def max_coins(matrix):\n",
    "    \n",
    "    # Iterate through the matrix\n",
    "    for i in range(len(matrix)):\n",
    "        for j in range(len(matrix[0])):\n",
    "            # Ignore the first element is the matrix\n",
    "            if i == 0 and j == 0:\n",
    "                pass\n",
    "            # If it as an element at the top border (i.e i = 0)\n",
    "            elif i == 0:\n",
    "                # Replace the value there with the sum of itself and previous value on that row\n",
    "                matrix[i][j] += matrix[i][j-1]\n",
    "            # else if it as an element at the left border (i.e j = 0)\n",
    "            elif j == 0:\n",
    "                # Replace the value there with the sum of itself and previous value on that column\n",
    "                matrix[i][j] += matrix[i-1][j]\n",
    "            # for other elements in the matrix\n",
    "            else:\n",
    "                # replace their values with the sum of itself and the larger value between the previous row and previous column\n",
    "                matrix[i][j] += max(matrix[i-1][j], matrix[i][j-1])\n",
    "    return matrix[-1][-1]"
   ]
  },
  {
   "cell_type": "code",
   "execution_count": 17,
   "metadata": {},
   "outputs": [
    {
     "data": {
      "text/plain": [
       "12"
      ]
     },
     "execution_count": 17,
     "metadata": {},
     "output_type": "execute_result"
    }
   ],
   "source": [
    "# TEST CODE\n",
    "\n",
    "mat = [[0,3,1,1], [2,0,0,4], [1,5,3,1]]\n",
    "max_coins(mat)"
   ]
  },
  {
   "cell_type": "markdown",
   "metadata": {},
   "source": [
    "### Daily Coding Problem: Problem #123 [Hard]\n",
    "\n",
    "This problem was asked by LinkedIn.\n",
    "\n",
    "Given a string, return whether it represents a number. Here are the different kinds of numbers:\n",
    "\n",
    "- \"10\", a positive integer\n",
    "- \"-10\", a negative integer\n",
    "- \"10.1\", a positive real number\n",
    "- \"-10.1\", a negative real number\n",
    "- \"1e5\", a number in scientific notation\n",
    "\n",
    "And here are examples of non-numbers:\n",
    "\n",
    "- \"a\"\n",
    "- \"x 1\"\n",
    "- \"a -2\"\n",
    "- \"-\""
   ]
  },
  {
   "cell_type": "code",
   "execution_count": 16,
   "metadata": {},
   "outputs": [],
   "source": [
    "#    The approach I took is to check if the string is a floating, if not check if it's an integer\n",
    "#    if it is any of the above return 'is a number' else return 'is NOT a number'\n",
    "\n",
    "def number_or_not(string):\n",
    "    try: float(string)\n",
    "    except:\n",
    "        try: int(string)\n",
    "        except: return False\n",
    "    return True"
   ]
  },
  {
   "cell_type": "code",
   "execution_count": 22,
   "metadata": {},
   "outputs": [],
   "source": [
    "# An Alternate approach would be to use regular expressions\n",
    "\n",
    "import re\n",
    "def number_or_not(string):\n",
    "    return re.match('^(\\s+)?[+-]?((\\d+(\\.)?|\\.\\d+)(\\d+)?(e[-+]?\\d+)?(\\s+)?)$', string) is not None"
   ]
  },
  {
   "cell_type": "code",
   "execution_count": 23,
   "metadata": {},
   "outputs": [
    {
     "name": "stdout",
     "output_type": "stream",
     "text": [
      "10 True\n",
      "-10 True\n",
      "10.1 True\n",
      "-10.1 True\n",
      "1e5 True\n",
      "a False\n",
      "x 1 False\n",
      "a -2 False\n",
      "- False\n",
      "0 True\n"
     ]
    }
   ],
   "source": [
    "# TEST CODE\n",
    "\n",
    "print(\"10\", number_or_not(\"10\"))\n",
    "print(\"-10\", number_or_not(\"-10\"))\n",
    "print(\"10.1\", number_or_not(\"10.1\"))\n",
    "print(\"-10.1\", number_or_not(\"-10.1\"))\n",
    "print(\"1e5\", number_or_not(\"1e5\"))\n",
    "print(\"a\", number_or_not(\"a\"))\n",
    "print(\"x 1\", number_or_not(\"x 1\"))\n",
    "print(\"a -2\", number_or_not(\"a -2\"))\n",
    "print(\"-\", number_or_not(\"-\"))\n",
    "print(\"0\", number_or_not(\"0\"))"
   ]
  },
  {
   "cell_type": "markdown",
   "metadata": {},
   "source": [
    "### Daily Coding Problem: Problem #124 [Easy]\n",
    "\n",
    "This problem was asked by Microsoft.\n",
    "\n",
    "You have n fair coins and you flip them all at the same time. Any that come up tails you set aside. The ones that come up heads you flip again. How many rounds do you expect to play before only one coin remains?\n",
    "\n",
    "Write a function that, given n, returns the number of rounds you'd expect to play until one coin remains."
   ]
  },
  {
   "cell_type": "code",
   "execution_count": 5,
   "metadata": {},
   "outputs": [],
   "source": [
    "#    My approach is to multiply the number of coins by 0.5 everytime I flip\n",
    "#    since there's a 50% probability. Then I increment number of flips by 1 each time\n",
    "\n",
    "def number_of_flips(n):\n",
    "    total_flips = 0\n",
    "    while n >= 2:\n",
    "        n = n*0.5\n",
    "        total_flips+=1\n",
    "    return total_flips"
   ]
  },
  {
   "cell_type": "code",
   "execution_count": 6,
   "metadata": {},
   "outputs": [
    {
     "data": {
      "text/plain": [
       "3"
      ]
     },
     "execution_count": 6,
     "metadata": {},
     "output_type": "execute_result"
    }
   ],
   "source": [
    "# TEST CODE\n",
    "\n",
    "number_of_flips(9)"
   ]
  },
  {
   "cell_type": "markdown",
   "metadata": {},
   "source": [
    "### Daily Coding Problem: Problem #125 [Easy]\n",
    "\n",
    "This problem was asked by Google.\n",
    "\n",
    "Given the root of a binary search tree, and a target K, return two nodes in the tree whose sum equals K.\n",
    "\n",
    "For example, given the following tree and K of 20\n",
    "\n",
    "        10\n",
    "       /   \\\n",
    "     5      15\n",
    "           /  \\\n",
    "         11    15\n",
    "Return the nodes 5 and 15."
   ]
  },
  {
   "cell_type": "code",
   "execution_count": 102,
   "metadata": {},
   "outputs": [],
   "source": [
    "def sumNodesEqualsK(root, K):\n",
    "    store, res = set(), [None, None]\n",
    "    found = [False]\n",
    "    \n",
    "    def dfs(node):\n",
    "        if found[0]: return\n",
    "        if not node: return\n",
    "        if K-node.val in store:\n",
    "            res[0] = K-node.val; res[1] = node.val\n",
    "            found[0] = True\n",
    "            return\n",
    "        store.add(node.val)\n",
    "        dfs(node.left)\n",
    "        dfs(node.right)\n",
    "    \n",
    "    dfs(root)\n",
    "    return res"
   ]
  },
  {
   "cell_type": "code",
   "execution_count": 103,
   "metadata": {},
   "outputs": [
    {
     "data": {
      "text/plain": [
       "[5, 15]"
      ]
     },
     "execution_count": 103,
     "metadata": {},
     "output_type": "execute_result"
    }
   ],
   "source": [
    "# TEST CODE\n",
    "\n",
    "class Node:\n",
    "    def __init__(self, val):\n",
    "        self.val = val\n",
    "        self.right = None\n",
    "        self.left = None\n",
    "\n",
    "K = 20\n",
    "root = Node(10)\n",
    "\n",
    "root.left = Node(5)\n",
    "root.right = Node(15)\n",
    "\n",
    "root.right.left = Node(11)\n",
    "root.right.right = Node(15)\n",
    "\n",
    "sumNodesEqualsK(root, K)"
   ]
  },
  {
   "cell_type": "markdown",
   "metadata": {},
   "source": [
    " ### Daily Coding Problem: Problem #126 [Medium]\n",
    " \n",
    " This problem was asked by Facebook.\n",
    "\n",
    "Write a function that rotates a list by k elements. For example, [1, 2, 3, 4, 5, 6] rotated by two becomes [3, 4, 5, 6, 1, 2]. Try solving this without creating a copy of the list. How many swap or move operations do you need?"
   ]
  },
  {
   "cell_type": "markdown",
   "metadata": {},
   "source": [
    "#### ANSWER TO QUESTIONS\n",
    "\n",
    "- You would need to make (length of list * (k % length of list swaps)). Which would be (length of list * length of list) in a worst case scenario"
   ]
  },
  {
   "cell_type": "code",
   "execution_count": 114,
   "metadata": {},
   "outputs": [],
   "source": [
    "def rotateListByK(nums, k):\n",
    "    def rotateOnce():\n",
    "        start = nums[0]\n",
    "        for i in range(len(nums)-1):\n",
    "            nums[i] = nums[i+1]\n",
    "        nums[-1] = start\n",
    "        \n",
    "    k %= len(nums)\n",
    "    for _ in range(k):\n",
    "        rotateOnce()\n",
    "    return nums"
   ]
  },
  {
   "cell_type": "code",
   "execution_count": 115,
   "metadata": {},
   "outputs": [
    {
     "data": {
      "text/plain": [
       "[3, 4, 5, 6, 1, 2]"
      ]
     },
     "execution_count": 115,
     "metadata": {},
     "output_type": "execute_result"
    }
   ],
   "source": [
    "# Test Code\n",
    "\n",
    "nums, k = [1, 2, 3, 4, 5, 6], 2\n",
    "\n",
    "rotateListByK(nums, k)"
   ]
  },
  {
   "cell_type": "markdown",
   "metadata": {},
   "source": [
    "### Daily Coding Problem: Problem #127 [Easy]\n",
    "\n",
    "This problem was asked by Microsoft.\n",
    "\n",
    "Let's represent an integer in a linked list format by having each node represent a digit in the number. The nodes make up the number in reversed order.\n",
    "\n",
    "For example, the following linked list:\n",
    "\n",
    "1 -> 2 -> 3 -> 4 -> 5\n",
    "\n",
    "is the number 54321.\n",
    "\n",
    "Given two linked lists in this format, return their sum in the same linked list format.\n",
    "\n",
    "For example, given\n",
    "\n",
    "9 -> 9\n",
    "\n",
    "5 -> 2\n",
    "\n",
    "return 124 (99 + 25) as:\n",
    "\n",
    "4 -> 2 -> 1"
   ]
  },
  {
   "cell_type": "code",
   "execution_count": 7,
   "metadata": {},
   "outputs": [],
   "source": [
    "def sumlist(list1, list2):\n",
    "    int1 = list1.value\n",
    "    int2 = list2.value\n",
    "    \n",
    "    # Convert the linked lists to integers\n",
    "    while list1.next != None:\n",
    "        int1 = (10 * int1) + list1.next.value\n",
    "        list1 = list1.next\n",
    "    while list2.next != None:\n",
    "        int2 = (10 * int2) + list2.next.value\n",
    "        list2 = list2.next\n",
    "        \n",
    "    int3 = int1+int2\n",
    "    \n",
    "    list3 = Node(int3 % 10)\n",
    "    int3 = int3 // 10\n",
    "    \n",
    "    currentnode = list3\n",
    "    \n",
    "    # Create a loop and take the last value of the integer by using modulo 10 to create a reversed linked list\n",
    "    while int3 > 0:\n",
    "        currentnode.next = Node(int3 % 10)\n",
    "        int3 = int3 // 10\n",
    "        currentnode = currentnode.next\n",
    "    \n",
    "    #Print out list\n",
    "    current = list3\n",
    "    while current is not None:\n",
    "        if current.next is None:\n",
    "            print(current.value)\n",
    "        else:\n",
    "            print(current.value, end=' --> ')\n",
    "        current = current.next\n",
    "    return"
   ]
  },
  {
   "cell_type": "code",
   "execution_count": 8,
   "metadata": {},
   "outputs": [
    {
     "name": "stdout",
     "output_type": "stream",
     "text": [
      "4 --> 2 --> 1\n"
     ]
    }
   ],
   "source": [
    "# TEST CODE\n",
    "\n",
    "class Node:\n",
    "    def __init__(self, value):\n",
    "        self.value = value\n",
    "        self.next = None\n",
    "\n",
    "a = Node(9)\n",
    "a.next = Node(9)\n",
    "\n",
    "b = Node(2)\n",
    "b.next = Node(5)\n",
    "\n",
    "sumlist(a,b)"
   ]
  },
  {
   "cell_type": "markdown",
   "metadata": {},
   "source": [
    "### Daily Coding Problem: Problem #128 [Medium]\n",
    "\n",
    "The Tower of Hanoi is a puzzle game with three rods and n disks, each a different size.\n",
    "\n",
    "All the disks start off on the first rod in a stack. They are ordered by size, with the largest disk on the bottom and the smallest one at the top.\n",
    "\n",
    "The goal of this puzzle is to move all the disks from the first rod to the last rod while following these rules:\n",
    "\n",
    "You can only move one disk at a time.\n",
    "A move consists of taking the uppermost disk from one of the stacks and placing it on top of another stack.\n",
    "You cannot place a larger disk on top of a smaller disk.\n",
    "Write a function that prints out all the steps necessary to complete the Tower of Hanoi. You should assume that the rods are numbered, with the first rod being 1, the second (auxiliary) rod being 2, and the last (goal) rod being 3.\n",
    "\n",
    "For example, with n = 3, we can do this in 7 moves:\n",
    "\n",
    "    Move 1 to 3\n",
    "    Move 1 to 2\n",
    "    Move 3 to 2\n",
    "    Move 1 to 3\n",
    "    Move 2 to 1\n",
    "    Move 2 to 3\n",
    "    Move 1 to 3"
   ]
  },
  {
   "cell_type": "code",
   "execution_count": 91,
   "metadata": {},
   "outputs": [],
   "source": [
    "def TOH(n, A, B, C):\n",
    "    if n > 0:\n",
    "        TOH(n-1, A, C, B)\n",
    "        print(f\"Move {A} to {C}\")\n",
    "        TOH(n-1, B, A, C)\n",
    "\n",
    "def towerOfHanoi(n):\n",
    "    TOH(n, 1, 2, 3)"
   ]
  },
  {
   "cell_type": "code",
   "execution_count": 92,
   "metadata": {},
   "outputs": [
    {
     "name": "stdout",
     "output_type": "stream",
     "text": [
      "Move 1 to 3\n",
      "Move 1 to 2\n",
      "Move 3 to 2\n",
      "Move 1 to 3\n",
      "Move 2 to 1\n",
      "Move 2 to 3\n",
      "Move 1 to 3\n"
     ]
    }
   ],
   "source": [
    "towerOfHanoi(3)"
   ]
  },
  {
   "cell_type": "markdown",
   "metadata": {},
   "source": [
    "### Daily Coding Problem: Problem #129 [Medium]\n",
    "\n",
    "Good morning! Here's your coding interview problem for today.\n",
    "\n",
    "Given a real number n, find the square root of n. For example, given n = 9, return 3"
   ]
  },
  {
   "cell_type": "code",
   "execution_count": 18,
   "metadata": {},
   "outputs": [],
   "source": [
    "def sqr_root(n):\n",
    "    # Iterate from 1 to the n\n",
    "    for i in range(round(n)):\n",
    "        # Compute the squares and stop if it equals n, and return it\n",
    "        if i*i == n:\n",
    "            return i\n",
    "        # else if the square is gretaer than n, start a sqr_check with the current and previous values\n",
    "        elif i*i > n:\n",
    "            return sqr_check(i, i-1, n)\n",
    "        \n",
    "def sqr_check(low, high, n):\n",
    "    # Mid is equal to the center of low and high, then find the sqaure of mid\n",
    "    mid = (low + high) / 2\n",
    "    sqr = mid*mid\n",
    "    \n",
    "    # Base case\n",
    "    # Return sqr if it is equal to n or if it's correct to 5 decimal places\n",
    "    if sqr == n or abs(sqr-n) < 0.00001:\n",
    "        return mid\n",
    "    \n",
    "    # If square is greater than n, recursively run sqr_check with the mid replacing high\n",
    "    elif sqr > n:\n",
    "        return sqr_check(mid, high, n)\n",
    "    # else if square is greater than n, recursively run sqr_check with the mid replacing low\n",
    "    else:\n",
    "        return sqr_check(low, mid, n)"
   ]
  },
  {
   "cell_type": "code",
   "execution_count": 21,
   "metadata": {},
   "outputs": [
    {
     "data": {
      "text/plain": [
       "3"
      ]
     },
     "execution_count": 21,
     "metadata": {},
     "output_type": "execute_result"
    }
   ],
   "source": [
    "# Test Code\n",
    "\n",
    "sqr_root(9)"
   ]
  },
  {
   "cell_type": "markdown",
   "metadata": {},
   "source": [
    "### Daily Coding Problem: Problem #130 [Medium]\n",
    "\n",
    "This problem was asked by Facebook.\n",
    "\n",
    "Given an array of numbers representing the stock prices of a company in chronological order and an integer k, return the maximum profit you can make from k buys and sells. You must buy the stock before you can sell it, and you must sell the stock before you can buy it again.\n",
    "\n",
    "For example, given k = 2 and the array [5, 2, 4, 0, 1], you should return 3."
   ]
  },
  {
   "cell_type": "code",
   "execution_count": 9,
   "metadata": {},
   "outputs": [],
   "source": [
    "#    The approach I took is to start from the begining of the list,initialize profit as 0, save the current index value and move to the next item whenever the next item is less than the current otherwise, switch the saved index value to the current and add the difference between the diifference between current and next to the total profit before moving to the next item again.\n",
    "\n",
    "def max_profit(arr):\n",
    "    profit = 0\n",
    "    i = 0\n",
    "    \n",
    "    while i < len(arr)-1:\n",
    "        current = arr[0]\n",
    "        if arr[i+1] < arr[i]:\n",
    "            i += 1\n",
    "        else:\n",
    "            current = arr[i]\n",
    "            profit += (arr[i+1] - arr[i])\n",
    "            i += 1\n",
    "    return profit"
   ]
  },
  {
   "cell_type": "code",
   "execution_count": 10,
   "metadata": {},
   "outputs": [
    {
     "data": {
      "text/plain": [
       "3"
      ]
     },
     "execution_count": 10,
     "metadata": {},
     "output_type": "execute_result"
    }
   ],
   "source": [
    "# TEST CODE\n",
    "\n",
    "max_profit([5,2,4,0,1])"
   ]
  },
  {
   "cell_type": "markdown",
   "metadata": {},
   "source": [
    "### Daily Coding Problem: Problem #131 [Medium]\n",
    "\n",
    "This question was asked by Snapchat.\n",
    "\n",
    "Given the head to a singly linked list, where each node also has a “random” pointer that points to anywhere in the linked list, deep clone the list."
   ]
  },
  {
   "cell_type": "code",
   "execution_count": 11,
   "metadata": {},
   "outputs": [],
   "source": [
    "def deep_clone(listhead):\n",
    "    clone = Node(listhead.value)\n",
    "    \n",
    "    current = listhead\n",
    "    current2 = clone\n",
    "    \n",
    "    # Place a copy of every node between itself and the next node    \n",
    "    while current.next != None:\n",
    "        nextval = current.next\n",
    "        current2.next = nextval\n",
    "        current.next = current2\n",
    "        current2 = Node(nextval.value)\n",
    "        current = nextval\n",
    "    current.next = current2\n",
    "    \n",
    "    current = listhead\n",
    "    current2 = clone\n",
    "    \n",
    "    # Assign the random pointer of the newly placed node to the next pointer after the random pointer of the preceeding node\n",
    "    while current2.next != None:\n",
    "        current2.random = current.random.next\n",
    "        current2 = current2.next.next\n",
    "        current = current.next.next\n",
    "    \n",
    "    current = listhead\n",
    "    current2 = clone\n",
    "    \n",
    "    # Break the link between node and copy and separte them fully into two separate lists    \n",
    "    while current2.next != None:\n",
    "        current.next = current.next.next\n",
    "        current2.next = current2.next.next\n",
    "        \n",
    "        current = current.next\n",
    "        current2 = current2.next\n",
    "    current.next = None\n",
    "    \n",
    "    return clone"
   ]
  },
  {
   "cell_type": "markdown",
   "metadata": {},
   "source": [
    "### Daily Coding Problem: Problem #132 [Easy]\n",
    "\n",
    "This question was asked by Riot Games.\n",
    "\n",
    "Design and implement a HitCounter class that keeps track of requests (or hits). It should support the following operations:\n",
    "\n",
    "- record(timestamp): records a hit that happened at timestamp\n",
    "\n",
    "- total(): returns the total number of hits recorded\n",
    "\n",
    "- range(lower, upper): returns the number of hits that occurred between timestamps lower and upper (inclusive)\n",
    "\n",
    "Follow-up: What if our system has limited memory?"
   ]
  },
  {
   "cell_type": "code",
   "execution_count": 12,
   "metadata": {},
   "outputs": [],
   "source": [
    "#    The hit counter stores appends each record in a list, the total is gotten as the length of the list while the range is the difference in index values between two timestamps\n",
    "\n",
    "class HitCounter:\n",
    "    def __init__(self):\n",
    "        self.hits = []\n",
    "        \n",
    "    def record(self, timestamp):\n",
    "        self.hits.append(timestamp)\n",
    "    \n",
    "    def total(self):\n",
    "        return len(self.hits)\n",
    "    \n",
    "    def range(self, lower, upper):\n",
    "        return self.hits.index(upper) - self.hits.index(lower)"
   ]
  },
  {
   "cell_type": "markdown",
   "metadata": {},
   "source": [
    "### Daily Coding Problem: Problem #133 [Medium]\n",
    "\n",
    "This problem was asked by Amazon.\n",
    "\n",
    "Given a node in a binary search tree, return the next bigger element, also known as the inorder successor.\n",
    "\n",
    "For example, the inorder successor of 22 is 30.\n",
    "\n",
    "      10\n",
    "     /  \\\n",
    "    5    30\n",
    "        /  \\\n",
    "      22    35\n",
    "You can assume each node has a parent pointer."
   ]
  },
  {
   "cell_type": "code",
   "execution_count": 13,
   "metadata": {},
   "outputs": [],
   "source": [
    "#    I did an inorder traversal and returned the current node parent when the node had been found\n",
    "\n",
    "def inorder_succesor(tree, node):\n",
    "    currentnode = tree\n",
    "    while currentnode != None:\n",
    "        if node > currentnode.value:\n",
    "            currentnode = currentnode.rbranch\n",
    "        elif node < currentnode.value:\n",
    "            currentnode = currentnode.lbranch\n",
    "        else:\n",
    "            return currentnode.parent.value\n",
    "        \n",
    "    return 'Node not in tree'"
   ]
  },
  {
   "cell_type": "code",
   "execution_count": 14,
   "metadata": {},
   "outputs": [
    {
     "data": {
      "text/plain": [
       "30"
      ]
     },
     "execution_count": 14,
     "metadata": {},
     "output_type": "execute_result"
    }
   ],
   "source": [
    "# TEST CODE\n",
    "\n",
    "class Node:\n",
    "    def __init__(self, value):\n",
    "        self.value = value\n",
    "        self.rbranch = None\n",
    "        self.lbranch = None\n",
    "        self.parent = None\n",
    "\n",
    "a = Node(10)\n",
    "\n",
    "a.lbranch = Node(5)\n",
    "a.lbranch.parent = a\n",
    "\n",
    "a.rbranch = Node(30)\n",
    "a.rbranch.parent = a\n",
    "\n",
    "\n",
    "a.rbranch.lbranch = Node(22)\n",
    "a.rbranch.lbranch.parent = a.rbranch\n",
    "\n",
    "a.rbranch.rbranch = Node(35)\n",
    "a.rbranch.rbranch.parent = a.rbranch\n",
    "\n",
    "inorder_succesor(a, 22)"
   ]
  },
  {
   "cell_type": "markdown",
   "metadata": {},
   "source": [
    "### Daily Coding Problem: Problem #134 [Easy]\n",
    "\n",
    "This problem was asked by Facebook.\n",
    "\n",
    "You have a large array with most of the elements as zero.\n",
    "\n",
    "Use a more space-efficient data structure, SparseArray, that implements the same interface:\n",
    "\n",
    "- init(arr, size): initialize with the original large array and size.\n",
    "\n",
    "- set(i, val): updates index at i with val.\n",
    "\n",
    "- get(i): gets the value at index i."
   ]
  },
  {
   "cell_type": "code",
   "execution_count": 15,
   "metadata": {},
   "outputs": [],
   "source": [
    "#    I initialized the sparse array as a dictionary\n",
    "#    Set updates the dictionary with a key, value pair, where key is index and value is the value\n",
    "#    Get checks first if the index is within array size, then checks for key to find the index, if it's not there, it returns 0\n",
    "\n",
    "class SparseArray:\n",
    "    def __init__ (self, arr, size):\n",
    "        self.size = size\n",
    "        self.arr = arr\n",
    "        self.sparse_arr = {}\n",
    "        \n",
    "        for i in range(len(self.arr)):\n",
    "            if self.arr[i] != 0:\n",
    "                self.set(i, self.arr[i])\n",
    "        \n",
    "    def set(self, i, val):\n",
    "        if val == 0:\n",
    "            if i in self.sparse_arr:\n",
    "                del self.sparse_arr[i]\n",
    "            return\n",
    "        self.sparse_arr[i] = val\n",
    "        \n",
    "    def get(self, i):\n",
    "        if i >= self.size:\n",
    "            return 'List index out of range'\n",
    "        elif i not in self.sparse_arr:\n",
    "            return 0\n",
    "        return self.sparse_arr[i]"
   ]
  },
  {
   "cell_type": "markdown",
   "metadata": {},
   "source": [
    "### Daily Coding Problem: Problem #135 [Easy]\n",
    "\n",
    "This question was asked by Apple.\n",
    "\n",
    "Given a binary tree, find a minimum path sum from root to a leaf.\n",
    "\n",
    "For example, the minimum path in this tree is [10, 5, 1, -1], which has sum 15.\n",
    "\n",
    "       10\n",
    "      /  \\\n",
    "     5    5\n",
    "      \\     \\\n",
    "        2    1\n",
    "            /\n",
    "          -1"
   ]
  },
  {
   "cell_type": "code",
   "execution_count": 490,
   "metadata": {},
   "outputs": [],
   "source": [
    "def minimum_path(tree):\n",
    "    \n",
    "    # Initialize the left and right branch globally and set them to None\n",
    "    global left_branch\n",
    "    global right_branch\n",
    "    left_branch = None\n",
    "    right_branch = None\n",
    "    return _minimum_path(tree, 0)\n",
    "\n",
    "def _minimum_path(tree, sum):\n",
    "    \n",
    "    # When you get to base case (i.e a leaf) return the sum\n",
    "    if tree.lbranch is None and tree.rbranch is None:\n",
    "        return sum + tree.value\n",
    "    \n",
    "    # For each node call the left and right branches recursively and set them to the left_branch and right_branch respectively, if they are not None\n",
    "    if tree.lbranch is not None:\n",
    "        left_branch = _minimum_path(tree.lbranch, sum + tree.value)\n",
    "    if tree.rbranch is not None:\n",
    "        right_branch = _minimum_path(tree.rbranch, sum + tree.value)\n",
    "    \n",
    "    # return the minimum of the branches from a node\n",
    "    if tree.lbranch is not None and tree.rbranch is not None:\n",
    "        return min(left_branch, right_branch)\n",
    "    elif tree.lbranch is None:\n",
    "        return right_branch\n",
    "    elif tree.rbranch is None:\n",
    "        return left_branch"
   ]
  },
  {
   "cell_type": "code",
   "execution_count": 491,
   "metadata": {},
   "outputs": [
    {
     "data": {
      "text/plain": [
       "17"
      ]
     },
     "execution_count": 491,
     "metadata": {},
     "output_type": "execute_result"
    }
   ],
   "source": [
    "# TEST CODE\n",
    "\n",
    "class Node:\n",
    "    def __init__(self, value):\n",
    "        self.value = value\n",
    "        self.rbranch = None\n",
    "        self.lbranch = None\n",
    "        \n",
    "T = Node(10)\n",
    "T.lbranch = Node(5)\n",
    "T.rbranch = Node(5)\n",
    "T.lbranch.rbranch = Node(2)\n",
    "T.rbranch.rbranch = Node(4)\n",
    "T.rbranch.rbranch.lbranch = Node(7)\n",
    "\n",
    "minimum_path(T)"
   ]
  },
  {
   "cell_type": "markdown",
   "metadata": {},
   "source": [
    "### Daily Coding Problem: Problem #136 [Medium]\n",
    "\n",
    "This question was asked by Google.\n",
    "\n",
    "Given an N by M matrix consisting only of 1's and 0's, find the largest rectangle containing only 1's and return its area.\n",
    "\n",
    "For example, given the following matrix:\n"
   ]
  },
  {
   "cell_type": "code",
   "execution_count": null,
   "metadata": {},
   "outputs": [],
   "source": [
    "# [[1, 0, 0, 0],\n",
    "#  [1, 0, 1, 1],\n",
    "#  [1, 0, 1, 1],\n",
    "#  [0, 1, 0, 0]]"
   ]
  },
  {
   "cell_type": "markdown",
   "metadata": {},
   "source": [
    "Return 4."
   ]
  },
  {
   "cell_type": "code",
   "execution_count": 15,
   "metadata": {},
   "outputs": [],
   "source": [
    "def largest_rectangle(matrix):\n",
    "    \n",
    "    array = [0]*len(matrix[0])\n",
    "    area = 0\n",
    "    maxArea = 0\n",
    "    \n",
    "    for i in range(len(matrix)):\n",
    "        area = largest_hist_area(array)\n",
    "        for j in range(len(matrix[0])):\n",
    "            if matrix[i][j] == 0:\n",
    "                array[j] = 0\n",
    "            else:\n",
    "                array[j] += 1\n",
    "        if area > maxArea:\n",
    "            maxArea = area\n",
    "            \n",
    "    area = largest_hist_area(array)\n",
    "    if area > maxArea:\n",
    "        maxArea = area\n",
    "    \n",
    "    return maxArea\n",
    "\n",
    "def largest_hist_area(arr):\n",
    "    stack = []\n",
    "    maxArea = 0\n",
    "    area = 0\n",
    "    \n",
    "    for i in range(1, len(arr)):\n",
    "        if arr[i] >= arr[i-1]:\n",
    "            stack.append(i-1)\n",
    "        else:\n",
    "            stack.append(i-1)\n",
    "            while arr[stack[-1]] > arr[i]:\n",
    "                top = stack.pop()\n",
    "                if len(stack) == 0:\n",
    "                    area = arr[top] * i\n",
    "                else:\n",
    "                    area = arr[top] * (i - stack[-1] - 1)\n",
    "                if area > maxArea:\n",
    "                    maxArea = area\n",
    "                if len(stack) == 0:\n",
    "                    break\n",
    "\n",
    "    i = len(arr)\n",
    "    stack.append(i-1)\n",
    "\n",
    "    while len(stack) != 0:\n",
    "        top = stack.pop()\n",
    "        if len(stack) == 0:\n",
    "            area = arr[top] * i\n",
    "        else:\n",
    "            area = arr[top] * (i - stack[-1] - 1)\n",
    "        if area > maxArea:\n",
    "            maxArea = area\n",
    "            \n",
    "    return maxArea"
   ]
  },
  {
   "cell_type": "code",
   "execution_count": 16,
   "metadata": {},
   "outputs": [
    {
     "data": {
      "text/plain": [
       "4"
      ]
     },
     "execution_count": 16,
     "metadata": {},
     "output_type": "execute_result"
    }
   ],
   "source": [
    "#Test Code\n",
    "\n",
    "matrix =[[1, 0, 0, 0],\n",
    "         [1, 0, 1, 1],\n",
    "         [1, 0, 1, 1],\n",
    "         [0, 1, 0, 0]]\n",
    "\n",
    "largest_rectangle(matrix)"
   ]
  },
  {
   "cell_type": "markdown",
   "metadata": {},
   "source": [
    "### Daily Coding Problem: Problem #137 [Medium]\n",
    "\n",
    "This problem was asked by Amazon.\n",
    "\n",
    "Implement a bit array.\n",
    "\n",
    "A bit array is a space efficient array that holds a value of 1 or 0 at each index.\n",
    "\n",
    "- init(size): initialize the array with size\n",
    "- set(i, val): updates index at i with val where val is either 1 or 0.\n",
    "- get(i): gets the value at index i."
   ]
  },
  {
   "cell_type": "code",
   "execution_count": 1,
   "metadata": {},
   "outputs": [],
   "source": [
    "class bitarray:\n",
    "    def __init__ (self, size):\n",
    "        \n",
    "        # Divide the required size by 32 to initialize the array size\n",
    "        # 32 is preferred cause that is typically how many bits a memory can contain\n",
    "        self.newsize = (size//32) + 1\n",
    "        self.arr = [0] * self.newsize\n",
    "    \n",
    "    # To set the value at an index i\n",
    "    def set(self, i, val):\n",
    "        \n",
    "        # if the bit at the index is 0\n",
    "        if (self.arr[i>>5] & 1<<(i%32)) == 0:\n",
    "            # if the value to set is 1\n",
    "            if val == 1:\n",
    "                # Update the value to 1 using an OR operator\n",
    "                self.arr[i>>5] |= (1<<(i % 32))\n",
    "            # if the value is already 0, do nothing\n",
    "            else:\n",
    "                pass\n",
    "            \n",
    "        # else if the value to set is 1\n",
    "        else:\n",
    "            # if the value is already 1, do nothing\n",
    "            if val == 1:\n",
    "                pass\n",
    "            # else if the value is 0\n",
    "            else:\n",
    "                # Update the value to 0 using an XOR operator\n",
    "                self.arr[i>>5] ^= (1<<(i%32))\n",
    "                \n",
    "    def get(self, i):\n",
    "        # Check for the value of the bit at the index\n",
    "        if (self.arr[i>>5] & 1<<(i%32)) == 0:\n",
    "            return 0\n",
    "        else:\n",
    "            return 1"
   ]
  },
  {
   "cell_type": "markdown",
   "metadata": {},
   "source": [
    "### Daily Coding Problem: Problem #138 [Hard]\n",
    "\n",
    "This problem was asked by Google.\n",
    "\n",
    "Find the minimum number of coins required to make n cents.\n",
    "\n",
    "You can use standard American denominations, that is, 1¢, 5¢, 10¢, and 25¢.\n",
    "\n",
    "For example, given n = 16, return 3 since we can make it with a 10¢, a 5¢, and a 1¢."
   ]
  },
  {
   "cell_type": "code",
   "execution_count": 2,
   "metadata": {},
   "outputs": [],
   "source": [
    "def minimumCoins(n):\n",
    "    # Set number of coins used to zero\n",
    "    count = 0\n",
    "    # Continuosly remove coins from n starting from the highest denomination\n",
    "    # Subtract the removed coin from the whatever is left of n\n",
    "    while n != 0:\n",
    "        if n >= 25:\n",
    "            n-=25\n",
    "            \n",
    "        elif n >= 10:\n",
    "            n-=10\n",
    "        \n",
    "        elif n >= 5:\n",
    "            n-=5\n",
    "            \n",
    "        else: n-=1\n",
    "        # Anytime a coin is removed add to number of coins used   \n",
    "        count+=1\n",
    "    # Return total number of coins removed\n",
    "    return count"
   ]
  },
  {
   "cell_type": "code",
   "execution_count": 5,
   "metadata": {},
   "outputs": [
    {
     "data": {
      "text/plain": [
       "3"
      ]
     },
     "execution_count": 5,
     "metadata": {},
     "output_type": "execute_result"
    }
   ],
   "source": [
    "# Test Code\n",
    "minimumCoins(16)"
   ]
  },
  {
   "cell_type": "markdown",
   "metadata": {},
   "source": [
    "#### Note:\n",
    "\n",
    "The code above runs perfectly for the above question specifically but would fail for some more peculiar denomination sets.\n",
    "\n",
    "A more robust approach is given below"
   ]
  },
  {
   "cell_type": "code",
   "execution_count": 118,
   "metadata": {},
   "outputs": [],
   "source": [
    "def mincoins(coins, n):\n",
    "    store = [float('inf')] * (n+1)\n",
    "    store[0] = 0\n",
    "    \n",
    "    \n",
    "    for i in range(coins[0],n+1):\n",
    "        for j in coins:\n",
    "            if j <= i:\n",
    "                val = store[i-j]\n",
    "                if (val != float('inf') and (val + 1) < store[i]):\n",
    "                    store[i] = val + 1\n",
    "    return store[n]\n",
    "\n",
    "\n",
    "# def mincoins2(coins, n):\n",
    "#     dp = [float('inf')] * (n + 1)\n",
    "#     dp[0] = 0\n",
    "\n",
    "#     for coin in coins:\n",
    "#         for x in range(coin, n + 1):\n",
    "#             dp[x] = min(dp[x], dp[x - coin] + 1)\n",
    "#     return dp[n] if dp[n] != float('inf') else -1 "
   ]
  },
  {
   "cell_type": "code",
   "execution_count": 119,
   "metadata": {},
   "outputs": [
    {
     "data": {
      "text/plain": [
       "2"
      ]
     },
     "execution_count": 119,
     "metadata": {},
     "output_type": "execute_result"
    }
   ],
   "source": [
    "# Test Code\n",
    "mincoins([5, 10, 20, 25], 40)"
   ]
  },
  {
   "cell_type": "markdown",
   "metadata": {},
   "source": [
    "### Daily Coding Problem: Problem #139 [Medium]\n",
    "\n",
    "This problem was asked by Google.\n",
    "\n",
    "Given an iterator with methods next() and hasNext(), create a wrapper iterator, PeekableInterface, which also implements peek(). peek shows the next element that would be returned on next().\n",
    "\n",
    "Here is the interface:\n",
    "\n",
    "class PeekableInterface(object):\n",
    "\n",
    "    def __init__(self, iterator):\n",
    "        pass\n",
    "\n",
    "    def peek(self):\n",
    "        pass\n",
    "\n",
    "    def next(self):\n",
    "        pass\n",
    "\n",
    "    def hasNext(self):\n",
    "        pass"
   ]
  },
  {
   "cell_type": "code",
   "execution_count": 645,
   "metadata": {},
   "outputs": [],
   "source": [
    "class PeekableInterface(object):\n",
    "\n",
    "    def __init__(self, iterator):\n",
    "        self.iter = iterator\n",
    "        self.nextVal = next(self.iter)\n",
    "\n",
    "        \n",
    "    def peek(self):\n",
    "        return self.nextVal\n",
    "\n",
    "    def next(self):\n",
    "        nextVal = self.nextVal\n",
    "        try:\n",
    "            self.nextVal = next(self.iter)\n",
    "        except:\n",
    "            self.nextVal = None\n",
    "        return nextVal\n",
    "    \n",
    "    def hasNext(self):\n",
    "        return self.nextVal is not None"
   ]
  },
  {
   "cell_type": "markdown",
   "metadata": {},
   "source": [
    "### Daily Coding Problem: Problem #140 [Medium]\n",
    "\n",
    "This problem was asked by Facebook.\n",
    "\n",
    "Given an array of integers in which two elements appear exactly once and all other elements appear exactly twice, find the two elements that appear only once.\n",
    "\n",
    "For example, given the array [2, 4, 6, 8, 10, 2, 6, 10], return 4 and 8. The order does not matter.\n",
    "\n",
    "Follow-up: Can you do this in linear time and constant space?"
   ]
  },
  {
   "cell_type": "code",
   "execution_count": 120,
   "metadata": {},
   "outputs": [],
   "source": [
    "def appearOnce(array):\n",
    "    a, res = 0, [0,0]\n",
    "    for i in array:\n",
    "        a ^= i\n",
    "        \n",
    "    # The rightmost set bit\n",
    "    b = a & ~(a-1)\n",
    "    for i in array:\n",
    "        if i & b: res[0]^=i\n",
    "        else: res[1]^=i\n",
    "    \n",
    "    return res"
   ]
  },
  {
   "cell_type": "code",
   "execution_count": 121,
   "metadata": {},
   "outputs": [
    {
     "data": {
      "text/plain": [
       "[4, 8]"
      ]
     },
     "execution_count": 121,
     "metadata": {},
     "output_type": "execute_result"
    }
   ],
   "source": [
    "appearOnce([2, 4, 6, 8, 10, 2, 6, 10])"
   ]
  },
  {
   "cell_type": "markdown",
   "metadata": {},
   "source": [
    "### Daily Coding Problem: Problem #141 [Hard]\n",
    "\n",
    "This problem was asked by Microsoft.\n",
    "\n",
    "Implement 3 stacks using a single list:\n",
    "\n",
    "class Stack:\n",
    "\n",
    "    def __init__(self):\n",
    "        self.list = []\n",
    "\n",
    "    def pop(self, stack_number):\n",
    "        pass\n",
    "\n",
    "    def push(self, item, stack_number):\n",
    "        pass"
   ]
  },
  {
   "cell_type": "code",
   "execution_count": 26,
   "metadata": {},
   "outputs": [],
   "source": [
    "class Node:\n",
    "    def __init__ (self, value = None):\n",
    "        self.value = value\n",
    "        self.next = None\n",
    "        \n",
    "class Stack:\n",
    "    def __init__ (self):\n",
    "        self.list = [None, None, None]\n",
    "        \n",
    "    def pop(self, stack_number):\n",
    "        if self.list[stack_number] is None:\n",
    "            return 'Cannot pop from empty list'\n",
    "        curr = self.list[stack_number]\n",
    "        self.list[stack_number] = curr.next\n",
    "        curr.next = None\n",
    "        return curr.value\n",
    "        \n",
    "    def push(self, item, stack_number):\n",
    "        if self.list[stack_number] is None:\n",
    "            self.list[stack_number] = Node(item)\n",
    "            return\n",
    "        curr = self.list[stack_number]\n",
    "        self.list[stack_number] = Node(item)\n",
    "        self.list[stack_number].next = curr\n",
    "        return   "
   ]
  },
  {
   "cell_type": "markdown",
   "metadata": {},
   "source": [
    "### Daily Coding Problem: Problem #142 [Hard]\n",
    "\n",
    "This problem was asked by Google.\n",
    "\n",
    "You're given a string consisting solely of (, ), and *. * can represent either a (, ), or an empty string. Determine whether the parentheses are balanced.\n",
    "\n",
    "For example, (()* and (*) are balanced. )*( is not balanced."
   ]
  },
  {
   "cell_type": "code",
   "execution_count": 20,
   "metadata": {},
   "outputs": [],
   "source": [
    "def checkValidString(s):\n",
    "    left = 0\n",
    "    right = 0\n",
    "\n",
    "    # Iterating through the string from right and left\n",
    "    for i in range(len(s)):\n",
    "        # if char at index from left is ( or * increase left else decrase\n",
    "        if s[i] in '(*':\n",
    "            left +=1\n",
    "        else:\n",
    "            left -=1\n",
    "\n",
    "        # if char at index is from right ) or * increase right else decrase \n",
    "        if s[-(i+1)] in ')*':\n",
    "            right += 1\n",
    "        else:\n",
    "            right -=1\n",
    "\n",
    "        #  if either left or right is less than zero, return false\n",
    "        if left < 0 or right < 0:\n",
    "            return False\n",
    "    return True"
   ]
  },
  {
   "cell_type": "code",
   "execution_count": 21,
   "metadata": {},
   "outputs": [
    {
     "data": {
      "text/plain": [
       "True"
      ]
     },
     "execution_count": 21,
     "metadata": {},
     "output_type": "execute_result"
    }
   ],
   "source": [
    "# Test Code\n",
    "\n",
    "checkValidString(\"(()*\")"
   ]
  },
  {
   "cell_type": "code",
   "execution_count": 22,
   "metadata": {},
   "outputs": [
    {
     "data": {
      "text/plain": [
       "True"
      ]
     },
     "execution_count": 22,
     "metadata": {},
     "output_type": "execute_result"
    }
   ],
   "source": [
    "checkValidString(\"()\")"
   ]
  },
  {
   "cell_type": "code",
   "execution_count": 23,
   "metadata": {},
   "outputs": [
    {
     "data": {
      "text/plain": [
       "False"
      ]
     },
     "execution_count": 23,
     "metadata": {},
     "output_type": "execute_result"
    }
   ],
   "source": [
    "checkValidString(\")(\")"
   ]
  },
  {
   "cell_type": "markdown",
   "metadata": {
    "collapsed": true
   },
   "source": [
    "### Daily Coding Problem: Problem #143 [Medium]\n",
    "\n",
    "This problem was asked by Amazon.\n",
    "\n",
    "Given a pivot x, and a list lst, partition the list into three parts.\n",
    "\n",
    "- The first part contains all elements in lst that are less than x\n",
    "- The second part contains all elements in lst that are equal to x\n",
    "- The third part contains all elements in lst that are larger than x\n",
    "- Ordering within a part can be arbitrary.\n",
    "\n",
    "For example, given x = 10 and lst = [9, 12, 3, 5, 14, 10, 10], one partition may be [9, 3, 5, 10, 10, 12, 14]."
   ]
  },
  {
   "cell_type": "code",
   "execution_count": 49,
   "metadata": {},
   "outputs": [],
   "source": [
    "def partIntoThree(lst, x):\n",
    "    i, l, r = 0, 0, len(lst)-1\n",
    "    while i < r:\n",
    "        if lst[i] < x:\n",
    "            lst[i], lst[l] = lst[l], lst[i]\n",
    "            l +=1; i +=1\n",
    "        elif lst[i] > x:\n",
    "            lst[i], lst[r] = lst[r], lst[i]\n",
    "            r -=1\n",
    "        else: i +=1\n",
    "    return lst"
   ]
  },
  {
   "cell_type": "code",
   "execution_count": 50,
   "metadata": {},
   "outputs": [
    {
     "data": {
      "text/plain": [
       "[9, 3, 5, 10, 10, 14, 12]"
      ]
     },
     "execution_count": 50,
     "metadata": {},
     "output_type": "execute_result"
    }
   ],
   "source": [
    "# Test Code\n",
    "lst = [9,12,3,5,14,10,10]\n",
    "partIntoThree(lst, 10)"
   ]
  },
  {
   "cell_type": "markdown",
   "metadata": {},
   "source": [
    "### Daily Coding Problem: Problem #144 [Medium]\n",
    "    \n",
    "This problem was asked by Google.\n",
    "\n",
    "Given an array of numbers and an index i, return the index of the nearest larger number of the number at index i, where distance is measured in array indices.\n",
    "\n",
    "For example, given [4, 1, 3, 5, 6] and index 0, you should return 3.\n",
    "\n",
    "If two distances to larger numbers are the equal, then return any one of them. If the array at i doesn't have a nearest larger integer, then return null.\n",
    "\n",
    "Follow-up: If you can preprocess the array, can you do this in constant time?"
   ]
  },
  {
   "cell_type": "code",
   "execution_count": 167,
   "metadata": {},
   "outputs": [],
   "source": [
    "def preprocess_array(arr):\n",
    "    val_idx = [(arr[i], i) for i in range(len(arr))]\n",
    "    val_idx.sort(key = lambda x: x[0])\n",
    "    \n",
    "    processed = [None]*len(arr)\n",
    "    for i, group in enumerate(val_idx):\n",
    "        min_dist = len(val_idx)-1\n",
    "        cur_idx = None\n",
    "        for j in range(i+1, len(val_idx)):\n",
    "            cur_dist = abs(group[1] - val_idx[j][1])\n",
    "            if cur_dist < min_dist:\n",
    "                min_dist = cur_dist\n",
    "                cur_idx = val_idx[j][1]\n",
    "        processed[group[1]] = cur_idx\n",
    "        \n",
    "    return processed\n",
    "\n",
    "def nearest_larger(nums, i):\n",
    "    processed_nums = preprocess_array(nums)\n",
    "    return processed_nums[i]"
   ]
  },
  {
   "cell_type": "code",
   "execution_count": 168,
   "metadata": {},
   "outputs": [
    {
     "data": {
      "text/plain": [
       "3"
      ]
     },
     "execution_count": 168,
     "metadata": {},
     "output_type": "execute_result"
    }
   ],
   "source": [
    "# Test Code\n",
    "\n",
    "nums, index = [4, 1, 3, 5, 6], 0\n",
    "nearest_larger(nums, index)"
   ]
  },
  {
   "cell_type": "markdown",
   "metadata": {},
   "source": [
    "### Daily Coding Problem: Problem #145 [Easy]\n",
    "\n",
    "This problem was asked by Google.\n",
    "\n",
    "Given the head of a singly linked list, swap every two nodes and return its head.\n",
    "\n",
    "For example, given 1 -> 2 -> 3 -> 4, return 2 -> 1 -> 4 -> 3."
   ]
  },
  {
   "cell_type": "code",
   "execution_count": 204,
   "metadata": {},
   "outputs": [],
   "source": [
    "def swapEveryTwoNodes(head):\n",
    "    if not head: return\n",
    "    \n",
    "    new_head = head.Next\n",
    "    head.Next = head.Next.Next\n",
    "    prev = new_head.Next = head\n",
    "    cur = head.Next\n",
    "    \n",
    "    while cur:\n",
    "        prev.Next = cur.Next\n",
    "        cur.Next, prev.Next.Next = prev.Next.Next, cur\n",
    "        prev, cur = cur, cur.Next\n",
    "    return new_head"
   ]
  },
  {
   "cell_type": "code",
   "execution_count": 205,
   "metadata": {},
   "outputs": [
    {
     "name": "stdout",
     "output_type": "stream",
     "text": [
      "2 --> 1 --> 4 --> 3\n"
     ]
    }
   ],
   "source": [
    "# Test Code\n",
    "\n",
    "class Node:\n",
    "    def __init__(self, val, Next = None):\n",
    "        self.val = val\n",
    "        self.Next = Next\n",
    "\n",
    "#1 --> 2 --> 3 --> 4\n",
    "head = Node(1); head.Next = Node(2); head.Next.Next = Node(3); head.Next.Next.Next = Node(4)\n",
    "\n",
    "new_head = swapEveryTwoNodes(head)\n",
    "print(new_head.val, '-->', new_head.Next.val, '-->', new_head.Next.Next.val, '-->', new_head.Next.Next.Next.val)"
   ]
  },
  {
   "cell_type": "markdown",
   "metadata": {},
   "source": [
    "### Daily Coding Problem: Problem #146 [Medium]\n",
    "\n",
    "This question was asked by BufferBox.\n",
    "\n",
    "Given a binary tree where all nodes are either 0 or 1, prune the tree so that subtrees containing all 0s are removed.\n",
    "\n",
    "For example, given the following tree:\n",
    "\n",
    "       0\n",
    "      / \\\n",
    "     1   0\n",
    "        / \\\n",
    "       1   0\n",
    "      / \\\n",
    "     0   0\n",
    "should be pruned to:\n",
    "\n",
    "       0\n",
    "      / \\\n",
    "     1   0\n",
    "        /\n",
    "       1\n",
    "We do not remove the tree at the root or its left child because it still has a 1 as a descendant."
   ]
  },
  {
   "cell_type": "code",
   "execution_count": 228,
   "metadata": {},
   "outputs": [],
   "source": [
    "def pruneZerosSubtree(root):\n",
    "    def dfs(node):\n",
    "        if node is None: return True\n",
    "        lbranch = dfs(node.left)\n",
    "        rbranch = dfs(node.right)\n",
    "        if lbranch is True: node.left = None\n",
    "        if rbranch is True: node.right = None\n",
    "\n",
    "        return node.val == 0 and lbranch and rbranch\n",
    "\n",
    "    return root if not dfs(root) else None"
   ]
  },
  {
   "cell_type": "code",
   "execution_count": 229,
   "metadata": {},
   "outputs": [
    {
     "name": "stdout",
     "output_type": "stream",
     "text": [
      "[0, 1, 0, None, None, 1, None]\n"
     ]
    }
   ],
   "source": [
    "# Test Code\n",
    "\n",
    "class Node:\n",
    "    def __init__(self, val, right=None, left=None):\n",
    "        self.val = val\n",
    "        self.right = right\n",
    "        self.left = left\n",
    "\n",
    "root = Node(0)\n",
    "\n",
    "root.left = Node(1)\n",
    "root.right = Node(0)\n",
    "\n",
    "root.right.left = Node(1)\n",
    "root.right.right = Node(0)\n",
    "\n",
    "root.right.left.left = Node(0)\n",
    "root.right.left.right = Node(0)\n",
    "\n",
    "root = pruneZerosSubtree(root)\n",
    "print([root.val, root.left.val, root.right.val, root.left.left, root.left.right, root.right.left.val, root.right.right])"
   ]
  },
  {
   "cell_type": "markdown",
   "metadata": {},
   "source": [
    "### Daily Coding Problem: Problem #147 [Hard]\n",
    "\n",
    "Given a list, sort it using this method: reverse(lst, i, j), which reverses lst from i to j."
   ]
  },
  {
   "cell_type": "code",
   "execution_count": 321,
   "metadata": {},
   "outputs": [],
   "source": [
    "def customSort(lst):\n",
    "    \n",
    "    def reverse(lst, i, j):\n",
    "        if i >= j: return lst\n",
    "        lst[i], lst[j] = lst[j], lst[i]\n",
    "        return reverse(lst, i+1, j-1)\n",
    "\n",
    "    base = len(lst)-1\n",
    "    while base > 0:\n",
    "        max_idx = lst.index(max(lst[:base+1]))\n",
    "        if max_idx < base:\n",
    "            reverse(lst, 0, max_idx)\n",
    "            reverse(lst, 0, base)\n",
    "        base-=1\n",
    "        \n",
    "    return lst"
   ]
  },
  {
   "cell_type": "markdown",
   "metadata": {},
   "source": [
    "### Daily Coding Problem: Problem #148 [Medium]\n",
    "\n",
    "This problem was asked by Apple.\n",
    "\n",
    "Gray code is a binary code where each successive value differ in only one bit, as well as when wrapping around. Gray code is common in hardware so that we don't see temporary spurious values during transitions.\n",
    "\n",
    "Given a number of bits n, generate a possible gray code for it.\n",
    "\n",
    "For example, for n = 2, one gray code would be [00, 01, 11, 10]."
   ]
  },
  {
   "cell_type": "code",
   "execution_count": 161,
   "metadata": {},
   "outputs": [],
   "source": [
    "def grayCode(n):\n",
    "    res = []\n",
    "    max_num = 1 << n\n",
    "    for num in range(max_num):\n",
    "        cur, i, j = bin(num), 2, 3\n",
    "        gray = [cur[i]]\n",
    "        while j <= len(cur)-1:\n",
    "            if cur[i] == cur[j]: gray.append(\"0\")\n",
    "            else: gray.append(\"1\")\n",
    "            j +=1\n",
    "            i +=1\n",
    "        res.append(\"0\"*(n-len(gray)) + \"\".join(gray))\n",
    "        \n",
    "    return res"
   ]
  },
  {
   "cell_type": "code",
   "execution_count": 162,
   "metadata": {},
   "outputs": [],
   "source": [
    "# Aproach 2\n",
    "\n",
    "def grayCode2(n: int):\n",
    "    return [format(i ^ (i >> 1), f'0{n}b') for i in range(1 << n)]"
   ]
  },
  {
   "cell_type": "code",
   "execution_count": 163,
   "metadata": {},
   "outputs": [
    {
     "data": {
      "text/plain": [
       "['00', '01', '11', '10']"
      ]
     },
     "execution_count": 163,
     "metadata": {},
     "output_type": "execute_result"
    }
   ],
   "source": [
    "# Test Code\n",
    "\n",
    "n = 2\n",
    "graycode(n)"
   ]
  },
  {
   "cell_type": "markdown",
   "metadata": {},
   "source": [
    "### Daily Coding Problem: Problem #149 [Hard]\n",
    "\n",
    "This problem was asked by Goldman Sachs.\n",
    "\n",
    "Given a list of numbers L, implement a method sum(i, j) which returns the sum from the sublist L[i:j] (including i, excluding j).\n",
    "\n",
    "For example, given L = [1, 2, 3, 4, 5], sum(1, 3) should return sum([2, 3]), which is 5.\n",
    "\n",
    "You can assume that you can do some pre-processing. sum() should be optimized over the pre-processing step."
   ]
  },
  {
   "cell_type": "code",
   "execution_count": 40,
   "metadata": {},
   "outputs": [],
   "source": [
    "class sumSubList:\n",
    "    \n",
    "    def __init__(self, nums):\n",
    "        for i in range(1, len(nums)):\n",
    "            nums[i] += nums[i-1]\n",
    "        self.nums = nums\n",
    "        \n",
    "    def sum(self, i, j):\n",
    "        if i < 0 or j > len(self.nums):\n",
    "            raise IndexError(\"list index out of range\")\n",
    "        if i > j:\n",
    "            raise IndexError(\"index i cannot be greater than j\")\n",
    "        if i == 0: return self.nums[j-1]\n",
    "        return self.nums[j-1] - self.nums[i-1]"
   ]
  },
  {
   "cell_type": "code",
   "execution_count": 41,
   "metadata": {},
   "outputs": [
    {
     "data": {
      "text/plain": [
       "5"
      ]
     },
     "execution_count": 41,
     "metadata": {},
     "output_type": "execute_result"
    }
   ],
   "source": [
    "# Test Code\n",
    "\n",
    "L = [1, 2, 3, 4, 5]\n",
    "i, j = 1, 3\n",
    "\n",
    "sol = sumSubList(L)\n",
    "sol.sum(i, j)"
   ]
  },
  {
   "cell_type": "markdown",
   "metadata": {},
   "source": [
    "### Daily Coding Problem: Problem #150 [Hard]\n",
    "\n",
    "This problem was asked by LinkedIn.\n",
    "\n",
    "Given a list of points, a central point, and an integer k, find the nearest k points from the central point.\n",
    "\n",
    "For example, given the list of points [(0, 0), (5, 4), (3, 1)], the central point (1, 2), and k = 2, return [(0, 0), (3, 1)]."
   ]
  },
  {
   "cell_type": "code",
   "execution_count": 56,
   "metadata": {},
   "outputs": [],
   "source": [
    "import math"
   ]
  },
  {
   "cell_type": "code",
   "execution_count": 61,
   "metadata": {},
   "outputs": [],
   "source": [
    "def nearestKPoints(points, c, k):\n",
    "    points.sort(key = lambda x: math.sqrt( (c[0]-x[0])**2 + (c[1]-x[1])**2 ))\n",
    "    return points[:k]"
   ]
  },
  {
   "cell_type": "code",
   "execution_count": 62,
   "metadata": {},
   "outputs": [
    {
     "data": {
      "text/plain": [
       "[(0, 0), (3, 1)]"
      ]
     },
     "execution_count": 62,
     "metadata": {},
     "output_type": "execute_result"
    }
   ],
   "source": [
    "# Test Code\n",
    "\n",
    "points, central, k = [(0, 0), (5, 4), (3, 1)], (1, 2), 2\n",
    "\n",
    "nearestKPoints(points, central, k)"
   ]
  },
  {
   "cell_type": "markdown",
   "metadata": {},
   "source": [
    "### Daily Coding Problem: Problem #151 [Medium]\n",
    "\n",
    "Given a 2-D matrix representing an image, a location of a pixel in the screen and a color C, replace the color of the given pixel and all adjacent same colored pixels with C.\n",
    "\n",
    "For example, given the following matrix, and location pixel of (2, 2), and 'G' for green:\n",
    "\n",
    "    B B W\n",
    "    W W W\n",
    "    W W W\n",
    "    B B B\n",
    "    \n",
    "Becomes\n",
    "\n",
    "    B B G\n",
    "    G G G\n",
    "    G G G\n",
    "    B B B"
   ]
  },
  {
   "cell_type": "code",
   "execution_count": 5,
   "metadata": {},
   "outputs": [],
   "source": [
    "def changeColor(matrix, x, y, col):\n",
    "    R, C = len(matrix)-1, len(matrix[0])-1\n",
    "    tag = matrix[x][y]\n",
    "    \n",
    "    def dfs(r,c):\n",
    "        if r > R or r < 0 or c > C or c < 0: return\n",
    "        if matrix[r][c] == col: return\n",
    "        if matrix[r][c] == tag:\n",
    "            matrix[r][c] = col\n",
    "            dfs(r+1, c)\n",
    "            dfs(r, c+1)\n",
    "            dfs(r-1, c)\n",
    "            dfs(r, c-1)\n",
    "        return\n",
    "    \n",
    "    dfs(x,y)\n",
    "    return matrix"
   ]
  },
  {
   "cell_type": "code",
   "execution_count": 6,
   "metadata": {},
   "outputs": [
    {
     "data": {
      "text/plain": [
       "[['B', 'B', 'G'], ['G', 'G', 'G'], ['G', 'G', 'G'], ['B', 'B', 'B']]"
      ]
     },
     "execution_count": 6,
     "metadata": {},
     "output_type": "execute_result"
    }
   ],
   "source": [
    "matrix =  [['B', 'B', 'W'],\n",
    "           ['W', 'W', 'W'],\n",
    "           ['W', 'W', 'W'],\n",
    "           ['B', 'B', 'B']]\n",
    "\n",
    "x, y, col = 2, 2, 'G'\n",
    "\n",
    "# Test Code\n",
    "changeColor(matrix, R, C, col)"
   ]
  },
  {
   "cell_type": "markdown",
   "metadata": {},
   "source": [
    "### Daily Coding Problem: Problem #152 [Medium]\n",
    "\n",
    "This problem was asked by Triplebyte.\n",
    "\n",
    "You are given n numbers as well as n probabilities that sum up to 1. Write a function to generate one of the numbers with its corresponding probability.\n",
    "\n",
    "For example, given the numbers [1, 2, 3, 4] and probabilities [0.1, 0.5, 0.2, 0.2], your function should return 1 10% of the time, 2 50% of the time, and 3 and 4 20% of the time.\n",
    "\n",
    "You can generate random numbers between 0 and 1 uniformly."
   ]
  },
  {
   "cell_type": "code",
   "execution_count": 181,
   "metadata": {},
   "outputs": [],
   "source": [
    "import random"
   ]
  },
  {
   "cell_type": "code",
   "execution_count": 182,
   "metadata": {},
   "outputs": [],
   "source": [
    "class weightedProb:\n",
    "    def __init__(self, nums, probs):\n",
    "        for i in range(1, len(probs)):\n",
    "            probs[i]+=probs[i-1]\n",
    "        self.probs = probs\n",
    "        self.nums = nums\n",
    "        \n",
    "    def generateNum(self):\n",
    "        target = random.random()\n",
    "        low, high = 0, len(self.probs)-1\n",
    "        while low < high:\n",
    "            mid = (high+low)//2\n",
    "            if target > self.probs[mid]:\n",
    "                low = mid+1\n",
    "            else:\n",
    "                high = mid\n",
    "        return self.nums[low]"
   ]
  },
  {
   "cell_type": "code",
   "execution_count": null,
   "metadata": {},
   "outputs": [],
   "source": [
    "# Test Code\n",
    "\n",
    "nums, probabilities = [1,2,3,4], [0.1,0.5,0.2,0.2]\n",
    "sol = weightedProb(nums, probabilities)\n",
    "sol.generateNum()"
   ]
  },
  {
   "cell_type": "markdown",
   "metadata": {},
   "source": [
    "### Daily Coding Problem: Problem #153 [Hard]\n",
    "\n",
    "Find an efficient algorithm to find the smallest distance (measured in number of words) between any two given words in a string.\n",
    "\n",
    "For example, given words \"hello\", and \"world\" and a text content of \"dog cat hello cat dog dog hello cat world\", return 1 because there's only one word \"cat\" in between the two words."
   ]
  },
  {
   "cell_type": "code",
   "execution_count": 62,
   "metadata": {},
   "outputs": [],
   "source": [
    "def minDistBetweenWords(wordA, wordB, context):\n",
    "    cont = context.split(' ')\n",
    "    words = {wordA, wordB}\n",
    "    prev, res = (None, None), len(cont)\n",
    "    \n",
    "    for i in range(len(cont)):\n",
    "        if cont[i] in words:\n",
    "            if not prev[0]: prev = (cont[i], i)\n",
    "            if cont[i] == prev[0]: pass\n",
    "            else:\n",
    "                res = min(res, i-prev[1]-1)\n",
    "            prev = (cont[i], i)\n",
    "    return res"
   ]
  },
  {
   "cell_type": "code",
   "execution_count": 63,
   "metadata": {},
   "outputs": [
    {
     "data": {
      "text/plain": [
       "1"
      ]
     },
     "execution_count": 63,
     "metadata": {},
     "output_type": "execute_result"
    }
   ],
   "source": [
    "# Test Code\n",
    "\n",
    "wordA, wordB =\"hello\", \"world\"\n",
    "context = \"dog cat hello cat dog dog hello cat world\"\n",
    "\n",
    "minDistBetweenWords(wordA, wordB, context)"
   ]
  },
  {
   "cell_type": "markdown",
   "metadata": {},
   "source": [
    "### Daily Coding Problem: Problem #154 [Easy]\n",
    "\n",
    "This problem was asked by Amazon.\n",
    "\n",
    "Implement a stack API using only a heap. A stack implements the following methods:\n",
    "\n",
    "- push(item), which adds an element to the stack\n",
    "- pop(), which removes and returns the most recently added element (or throws an error if there is nothing on the stack)\n",
    "\n",
    "Recall that a heap has the following operations:\n",
    "\n",
    "- push(item), which adds a new key to the heap\n",
    "- pop(), which removes and returns the max value of the heap"
   ]
  },
  {
   "cell_type": "code",
   "execution_count": 468,
   "metadata": {},
   "outputs": [],
   "source": [
    "from heapq import heappop, heappush"
   ]
  },
  {
   "cell_type": "code",
   "execution_count": 469,
   "metadata": {},
   "outputs": [],
   "source": [
    "class Stack:\n",
    "    \n",
    "    def __init__(self):\n",
    "        self.counter = -1\n",
    "        self.stack = []\n",
    "        \n",
    "    def push(self, item):\n",
    "        heappush(self.stack, (self.counter, item))\n",
    "        self.counter -=1\n",
    "    \n",
    "    def pop(self):\n",
    "        return heappop(self.stack)[1]"
   ]
  },
  {
   "cell_type": "code",
   "execution_count": null,
   "metadata": {},
   "outputs": [],
   "source": []
  },
  {
   "cell_type": "code",
   "execution_count": null,
   "metadata": {},
   "outputs": [],
   "source": []
  },
  {
   "cell_type": "markdown",
   "metadata": {},
   "source": [
    "### Daily Coding Problem: Problem #171 [Easy]\n",
    "\n",
    "This problem was asked by Amazon.\n",
    "\n",
    "You are given a list of data entries that represent entries and exits of groups of people into a building. An entry looks like this:\n",
    "\n",
    "- {\"timestamp\": 1526579928, count: 3, \"type\": \"enter\"}\n",
    "\n",
    "This means 3 people entered the building. An exit looks like this:\n",
    "\n",
    "- {\"timestamp\": 1526580382, count: 2, \"type\": \"exit\"}\n",
    "\n",
    "This means that 2 people exited the building. timestamp is in Unix time.\n",
    "\n",
    "Find the busiest period in the building, that is, the time with the most people in the building. Return it as a pair of (start, end) timestamps. You can assume the building always starts off and ends up empty, i.e. with 0 people inside."
   ]
  },
  {
   "cell_type": "code",
   "execution_count": 757,
   "metadata": {},
   "outputs": [],
   "source": [
    "def busiest_period(movement):\n",
    "    max_people = cur = 0\n",
    "    \n",
    "    for i in movement:\n",
    "        print(cur)\n",
    "        if i[\"type\"] == \"enter\":\n",
    "            cur +=i[\"count\"]\n",
    "            if cur > max_people:\n",
    "                max_people = cur\n",
    "                start = i[\"timestamp\"]\n",
    "        else:\n",
    "            if cur == max_people:\n",
    "                end = i[\"timestamp\"]\n",
    "            cur -=i[\"count\"]\n",
    "    return (start, end)"
   ]
  },
  {
   "cell_type": "markdown",
   "metadata": {},
   "source": [
    "### Daily Coding Problem: Problem #172 [Medium]\n",
    "\n",
    "This problem was asked by Dropbox.\n",
    "\n",
    "Given a string s and a list of words words, where each word is the same length, find all starting indices of substrings in s that is a concatenation of every word in words exactly once.\n",
    "\n",
    "For example, \n",
    "- Given s = \"dogcatcatcodecatdog\" and words = [\"cat\", \"dog\"], return [0, 13], since \"dogcat\" starts at index 0 and \"catdog\" starts at index 13.\n",
    "\n",
    "- Given s = \"barfoobazbitbyte\" and words = [\"dog\", \"cat\"], return [] since there are no substrings composed of \"dog\" and \"cat\" in s.\n",
    "\n",
    "The order of the indices does not matter."
   ]
  },
  {
   "cell_type": "code",
   "execution_count": 435,
   "metadata": {},
   "outputs": [],
   "source": [
    "def concatSubstringIndices(s, words):        \n",
    "    if not s or not words: return []\n",
    "    if len(''.join(words))>len(s): return []\n",
    "    \n",
    "    store, res, n = {}, [], len(words[0])\n",
    "    \n",
    "    for word in words:\n",
    "        if word in store: store[word] += 1\n",
    "        else: store[word] = 1\n",
    "    \n",
    "    for i in range(len(s)):\n",
    "        curmap = {}\n",
    "        \n",
    "        for j in range(i, len(s), n):\n",
    "            cur = s[j: j+n]\n",
    "            if cur in store:\n",
    "                if cur in curmap: curmap[cur] +=1\n",
    "                else: curmap[cur] = 1\n",
    "            else: break\n",
    "                \n",
    "            if curmap[cur] > store[cur]: break\n",
    "                \n",
    "            if curmap == store: res.append(i)\n",
    "    return res"
   ]
  },
  {
   "cell_type": "code",
   "execution_count": 436,
   "metadata": {},
   "outputs": [
    {
     "data": {
      "text/plain": [
       "[0, 13]"
      ]
     },
     "execution_count": 436,
     "metadata": {},
     "output_type": "execute_result"
    }
   ],
   "source": [
    "# Test Code\n",
    "\n",
    "s1, words1 = \"dogcatcatcodecatdog\", [\"cat\", \"dog\"]\n",
    "s2, words2 = \"barfoobazbitbyte\", [\"dog\", \"cat\"]\n",
    "\n",
    "concatSubstringIndices(s1, words1)"
   ]
  },
  {
   "cell_type": "code",
   "execution_count": 437,
   "metadata": {},
   "outputs": [
    {
     "data": {
      "text/plain": [
       "[]"
      ]
     },
     "execution_count": 437,
     "metadata": {},
     "output_type": "execute_result"
    }
   ],
   "source": [
    "concatSubstringIndices(s2, words2)"
   ]
  },
  {
   "cell_type": "markdown",
   "metadata": {},
   "source": [
    "### Daily Coding Problem: Problem #173 [Easy]\n",
    "\n",
    "This problem was asked by Stripe.\n",
    "\n",
    "Write a function to flatten a nested dictionary. Namespace the keys with a period.\n",
    "\n",
    "For example, given the following dictionary:\n",
    "\n",
    "{\n",
    "    \"key\": 3,\n",
    "    \"foo\": {\n",
    "        \"a\": 5,\n",
    "        \"bar\": {\n",
    "            \"baz\": 8\n",
    "        }\n",
    "    }\n",
    "}\n",
    "it should become:\n",
    "\n",
    "{\n",
    "    \"key\": 3,\n",
    "    \"foo.a\": 5,\n",
    "    \"foo.bar.baz\": 8\n",
    "}\n",
    "You can assume keys do not contain dots in them, i.e. no clobbering will occur."
   ]
  },
  {
   "cell_type": "code",
   "execution_count": 61,
   "metadata": {},
   "outputs": [],
   "source": [
    "def flattenNestedDict(dictionary):\n",
    "    newdict = {}\n",
    "    \n",
    "    def nest(dictionary, prevkey = \"\"):\n",
    "        # For, key and value in dictionary\n",
    "        # If prevkey is not empty, set k equal to prevkey + k\n",
    "        # If value is a dictionary, recursively call nest\n",
    "        # Else add k = value to dictionary\n",
    "        for k, v in dictionary.items():\n",
    "            if prevkey:\n",
    "                k = prevkey + \".\" + k\n",
    "            if type(v) == dict:\n",
    "                nest(v, k)\n",
    "            else: newdict[k] = v\n",
    "                \n",
    "    nest(dictionary)\n",
    "    return newdict"
   ]
  },
  {
   "cell_type": "code",
   "execution_count": 62,
   "metadata": {},
   "outputs": [
    {
     "data": {
      "text/plain": [
       "{'key': 3, 'foo.a': 5, 'foo.bar.baz': 8}"
      ]
     },
     "execution_count": 62,
     "metadata": {},
     "output_type": "execute_result"
    }
   ],
   "source": [
    "flattenNestedDict({ \"key\": 3, \"foo\": { \"a\": 5, \"bar\": { \"baz\": 8 } } })"
   ]
  },
  {
   "cell_type": "markdown",
   "metadata": {},
   "source": [
    "### Daily Coding Problem: Problem #174 [Medium]\n",
    "\n",
    "Describe and give an example of each of the following types of polymorphism:\n",
    "\n",
    "- Ad-hoc polymorphism\n",
    "- Parametric polymorphism\n",
    "- Subtype polymorphism"
   ]
  },
  {
   "cell_type": "markdown",
   "metadata": {},
   "source": [
    "#### ANSWER TO QUESTIONS\n",
    "\n",
    "- Ad-hoc polymorphism:\n",
    "    Ad-hoc polymorphism is also known as function overloading, and it refers to using the type system in order to resolve precisely which method will be invoked. So, we may have two functions, both called fn, where one accepts an int parameter, while the other accepts a String parameter, and the right function to invoke is chosen based on the type of parameter being passed.\n",
    "\n",
    "- Parametic polymorphosm:\n",
    "    Parametric polymorphism is a programming language technique that enables the generic definition of functions and types, without a great deal of concern for type-based errors. It allows language to be more expressive while writing generic code that applies to various types of data. Functions written in context with parametric polymorphism work on various data types.\n",
    "    For example: A method that returns the number of elements in a Collection. You can pass in a list of any type of elements, and it will return an answer.\n",
    "\n",
    "\n",
    "- Subtype polymorphism:\n",
    "     Subtype polymorphism allows a function to be written to take an object of a certain type T, but also work correctly if passed an object that belongs to a type S that is a subtype of T\n",
    "    In other words, you can have a method that takes an Animal as a parameter but you can also pass in a Cat or a Dog into it because Cats and Dogs are animals."
   ]
  },
  {
   "cell_type": "markdown",
   "metadata": {},
   "source": [
    "### Daily Coding Problem: Problem #175 [Easy]\n",
    "\n",
    "This problem was asked by Google.\n",
    "\n",
    "You are given a starting state start, a list of transition probabilities for a Markov chain, and a number of steps num_steps. Run the Markov chain starting from start for num_steps and compute the number of times we visited each state.\n",
    "\n",
    "For example, given the starting state a, number of steps 5000, and the following transition probabilities:\n",
    "\n",
    "[\n",
    "\n",
    "    ('a', 'a', 0.9),\n",
    "    ('a', 'b', 0.075),\n",
    "    ('a', 'c', 0.025),\n",
    "    ('b', 'a', 0.15),\n",
    "    ('b', 'b', 0.8),\n",
    "    ('b', 'c', 0.05),\n",
    "    ('c', 'a', 0.25),\n",
    "    ('c', 'b', 0.25),\n",
    "    ('c', 'c', 0.5)\n",
    "]\n",
    "\n",
    "One instance of running this Markov chain might produce { 'a': 3012, 'b': 1656, 'c': 332 }."
   ]
  },
  {
   "cell_type": "code",
   "execution_count": 122,
   "metadata": {},
   "outputs": [],
   "source": [
    "# Import random choice for selecting from a list with varying probability of items\n",
    "from numpy.random import choice"
   ]
  },
  {
   "cell_type": "code",
   "execution_count": 689,
   "metadata": {},
   "outputs": [],
   "source": [
    "def markov_chain(chain, start, steps):\n",
    "    statesmap, states = {}, []\n",
    "    \n",
    "    # Add the possible starting states to a 'statesmap' with value = 0 to represent number of visits\n",
    "    # Also append them to the states list\n",
    "    for val in chain:\n",
    "        if val[0] not in statesmap: statesmap[val[0]]=0; states.append(val[0])\n",
    "    \n",
    "    # Create a 2 dimensional array('store') and make it the length of states\n",
    "    # Each point in the 2D array represents probability of transition from one state to another\n",
    "    # Iterate through the chain and set the values of the transition probabilities in the 2D array('store')\n",
    "    store = [[0]*len(states) for i in range(len(states))]\n",
    "    for i in chain:\n",
    "        idx1, idx2 = states.index(i[0]), states.index(i[1])\n",
    "        store[idx1][idx2] = i[2]\n",
    "    \n",
    "    # From the designated start state, select a state to transition to based on the probabilities\n",
    "    # The selection is made by passing the required array from 'store' into random.choice\n",
    "    # Repeatedly make these transitions for the numer of steps and increment the of visit in statesmap\n",
    "    curidx = states.index(start)\n",
    "    for _ in range(steps):\n",
    "        val = choice(states, 1, p=store[curidx], replace=False)[0]\n",
    "        curidx = states.index(val)\n",
    "        statesmap[val] += 1\n",
    "    return statesmap"
   ]
  },
  {
   "cell_type": "code",
   "execution_count": 690,
   "metadata": {},
   "outputs": [
    {
     "data": {
      "text/plain": [
       "{'a': 3022, 'b': 1600, 'c': 378}"
      ]
     },
     "execution_count": 690,
     "metadata": {},
     "output_type": "execute_result"
    }
   ],
   "source": [
    "# Test Code\n",
    "\n",
    "markov_chain([('a', 'a', 0.9),\n",
    "              ('a', 'b', 0.075),\n",
    "              ('a', 'c', 0.025),\n",
    "              ('b', 'a', 0.15),\n",
    "              ('b', 'b', 0.8),\n",
    "              ('b', 'c', 0.05),\n",
    "              ('c', 'a', 0.25),\n",
    "              ('c', 'b', 0.25),\n",
    "              ('c', 'c', 0.5)], 'a', 5000)"
   ]
  },
  {
   "cell_type": "markdown",
   "metadata": {},
   "source": [
    "### Daily Coding Problem: Problem #176 [Easy]\n",
    "\n",
    "This problem was asked by Bloomberg.\n",
    "\n",
    "Determine whether there exists a one-to-one character mapping from one string s1 to another s2.\n",
    "\n",
    "For example, given s1 = abc and s2 = bcd, return true since we can map a to b, b to c, and c to d.\n",
    "\n",
    "Given s1 = foo and s2 = bar, return false since the o cannot map to two characters."
   ]
  },
  {
   "cell_type": "code",
   "execution_count": 264,
   "metadata": {},
   "outputs": [],
   "source": [
    "def oneToOne(s1, s2):\n",
    "    check, store = set(), {}\n",
    "    \n",
    "    if len(s1) != len(s2): return False\n",
    "    for i in range(len(s1)):\n",
    "        if s1[i] in store:\n",
    "            if store[s1[i]] == s2[i]: pass\n",
    "            else: return False\n",
    "        else:\n",
    "            if s2[i] in check: return False\n",
    "            store[s1[i]] = s2[i]\n",
    "    return True"
   ]
  },
  {
   "cell_type": "code",
   "execution_count": 265,
   "metadata": {},
   "outputs": [
    {
     "data": {
      "text/plain": [
       "True"
      ]
     },
     "execution_count": 265,
     "metadata": {},
     "output_type": "execute_result"
    }
   ],
   "source": [
    "# Tets Code\n",
    "\n",
    "s1a, s2a = \"abc\", \"bcd\"\n",
    "s1b, s2b = \"foo\", \"bar\"\n",
    "\n",
    "oneToOne(s1a, s2a)"
   ]
  },
  {
   "cell_type": "code",
   "execution_count": 266,
   "metadata": {},
   "outputs": [
    {
     "data": {
      "text/plain": [
       "False"
      ]
     },
     "execution_count": 266,
     "metadata": {},
     "output_type": "execute_result"
    }
   ],
   "source": [
    "oneToOne(s1b, s2b)"
   ]
  },
  {
   "cell_type": "markdown",
   "metadata": {},
   "source": [
    "### Daily Coding Problem: Problem #177 [Easy]\n",
    "\n",
    "This problem was asked by Airbnb.\n",
    "\n",
    "Given a linked list and a positive integer k, rotate the list to the right by k places.\n",
    "\n",
    "For example, given the linked list 7 -> 7 -> 3 -> 5 and k = 2, it should become 3 -> 5 -> 7 -> 7.\n",
    "\n",
    "Given the linked list 1 -> 2 -> 3 -> 4 -> 5 and k = 3, it should become 3 -> 4 -> 5 -> 1 -> 2."
   ]
  },
  {
   "cell_type": "code",
   "execution_count": 174,
   "metadata": {},
   "outputs": [],
   "source": [
    "def rotateLList(head, k):\n",
    "    \n",
    "    if not head: return\n",
    "    \n",
    "    tail, length = head, 1\n",
    "    while tail.next:\n",
    "        tail = tail.next\n",
    "        length +=1\n",
    "    k %= length\n",
    "    tail.next = head\n",
    "    \n",
    "    while k:\n",
    "        tail, head = tail.next, head.next\n",
    "        k-=1\n",
    "    tail.next = None\n",
    "    return head"
   ]
  },
  {
   "cell_type": "code",
   "execution_count": 182,
   "metadata": {},
   "outputs": [
    {
     "name": "stdout",
     "output_type": "stream",
     "text": [
      "3 -> 5 -> 7 -> 7\n"
     ]
    }
   ],
   "source": [
    "# TEST CODE\n",
    "\n",
    "class Node:\n",
    "    def __init__(self, value):\n",
    "        self.value = value\n",
    "        self.next = None\n",
    "\n",
    "# LL = 7 -> 7 -> 3 -> 5 -\n",
    "LL = Node(7)\n",
    "LL.next = Node(7)\n",
    "LL.next.next = Node(3)\n",
    "LL.next.next.next = Node(5)\n",
    "\n",
    "res = rotateLList(LL, 2)\n",
    "while res.next: print(res.value, end=' -> '); res=res.next\n",
    "print(res.value)"
   ]
  },
  {
   "cell_type": "markdown",
   "metadata": {},
   "source": [
    "### Daily Coding Problem: Problem #178 [Hard]\n",
    "\n",
    "This problem was asked by Two Sigma.\n",
    "\n",
    "Alice wants to join her school's Probability Student Club. Membership dues are computed via one of two simple probabilistic games.\n",
    "\n",
    "- The first game: roll a die repeatedly. Stop rolling once you get a five followed by a six. Your number of rolls is the amount you pay, in dollars.\n",
    "\n",
    "- The second game: same, except that the stopping condition is a five followed by a five.\n",
    "\n",
    "Which of the two games should Alice elect to play? Does it even matter? Write a program to simulate the two games and calculate their expected value."
   ]
  },
  {
   "cell_type": "markdown",
   "metadata": {},
   "source": [
    "#### ANSWER TO QUESTION\n",
    "Both games have the same probability of happening. It does not matter which she picks"
   ]
  },
  {
   "cell_type": "code",
   "execution_count": null,
   "metadata": {},
   "outputs": [],
   "source": [
    "# import random to select at random\n",
    "import random"
   ]
  },
  {
   "cell_type": "code",
   "execution_count": 220,
   "metadata": {},
   "outputs": [],
   "source": [
    "def simulateGames():\n",
    "    rolldie, totalgame1, totalgame2, = [1,2,3,4,5,6], 0, 0\n",
    "    \n",
    "    res = None\n",
    "    while True:\n",
    "        totalgame1+=1\n",
    "        prev = res\n",
    "        res = random.choice(rolldie)\n",
    "        if prev:\n",
    "            print('GAME 1 (roll', str(totalgame1)+') -> previous pick:', prev, '| current pick:', res)\n",
    "            if prev == 5 and res == 6:\n",
    "                break\n",
    "        else:\n",
    "            print('GAME 1 (roll 1) -> first pick:', res)\n",
    "            prev = res\n",
    "    \n",
    "    res = None\n",
    "    while True:\n",
    "        totalgame2+=1\n",
    "        prev=res\n",
    "        res = random.choice(rolldie)\n",
    "        if prev:\n",
    "            print('GAME 2 (roll',str(totalgame2)+') -> previous pick:', prev, '| current pick:', res)\n",
    "            if prev == 5 and res == 5:\n",
    "                break\n",
    "        else:\n",
    "            print('\\nGAME 2 (roll 1) -> first pick:', res)\n",
    "            prev = res\n",
    "            \n",
    "    return 'Expected value for Game1 is ' + str(totalgame1) + ' while Game2 is ' + str(totalgame2)"
   ]
  },
  {
   "cell_type": "code",
   "execution_count": 223,
   "metadata": {},
   "outputs": [
    {
     "name": "stdout",
     "output_type": "stream",
     "text": [
      "GAME 1 (roll 1) -> first pick: 3\n",
      "GAME 1 (roll 2) -> previous pick: 3 | current pick: 6\n",
      "GAME 1 (roll 3) -> previous pick: 6 | current pick: 6\n",
      "GAME 1 (roll 4) -> previous pick: 6 | current pick: 2\n",
      "GAME 1 (roll 5) -> previous pick: 2 | current pick: 1\n",
      "GAME 1 (roll 6) -> previous pick: 1 | current pick: 3\n",
      "GAME 1 (roll 7) -> previous pick: 3 | current pick: 1\n",
      "GAME 1 (roll 8) -> previous pick: 1 | current pick: 6\n",
      "GAME 1 (roll 9) -> previous pick: 6 | current pick: 5\n",
      "GAME 1 (roll 10) -> previous pick: 5 | current pick: 5\n",
      "GAME 1 (roll 11) -> previous pick: 5 | current pick: 3\n",
      "GAME 1 (roll 12) -> previous pick: 3 | current pick: 4\n",
      "GAME 1 (roll 13) -> previous pick: 4 | current pick: 1\n",
      "GAME 1 (roll 14) -> previous pick: 1 | current pick: 1\n",
      "GAME 1 (roll 15) -> previous pick: 1 | current pick: 6\n",
      "GAME 1 (roll 16) -> previous pick: 6 | current pick: 5\n",
      "GAME 1 (roll 17) -> previous pick: 5 | current pick: 5\n",
      "GAME 1 (roll 18) -> previous pick: 5 | current pick: 2\n",
      "GAME 1 (roll 19) -> previous pick: 2 | current pick: 1\n",
      "GAME 1 (roll 20) -> previous pick: 1 | current pick: 2\n",
      "GAME 1 (roll 21) -> previous pick: 2 | current pick: 6\n",
      "GAME 1 (roll 22) -> previous pick: 6 | current pick: 1\n",
      "GAME 1 (roll 23) -> previous pick: 1 | current pick: 6\n",
      "GAME 1 (roll 24) -> previous pick: 6 | current pick: 6\n",
      "GAME 1 (roll 25) -> previous pick: 6 | current pick: 2\n",
      "GAME 1 (roll 26) -> previous pick: 2 | current pick: 5\n",
      "GAME 1 (roll 27) -> previous pick: 5 | current pick: 3\n",
      "GAME 1 (roll 28) -> previous pick: 3 | current pick: 3\n",
      "GAME 1 (roll 29) -> previous pick: 3 | current pick: 6\n",
      "GAME 1 (roll 30) -> previous pick: 6 | current pick: 1\n",
      "GAME 1 (roll 31) -> previous pick: 1 | current pick: 2\n",
      "GAME 1 (roll 32) -> previous pick: 2 | current pick: 2\n",
      "GAME 1 (roll 33) -> previous pick: 2 | current pick: 5\n",
      "GAME 1 (roll 34) -> previous pick: 5 | current pick: 6\n",
      "\n",
      "GAME 2 (roll 1) -> first pick: 4\n",
      "GAME 2 (roll 2) -> previous pick: 4 | current pick: 1\n",
      "GAME 2 (roll 3) -> previous pick: 1 | current pick: 3\n",
      "GAME 2 (roll 4) -> previous pick: 3 | current pick: 4\n",
      "GAME 2 (roll 5) -> previous pick: 4 | current pick: 1\n",
      "GAME 2 (roll 6) -> previous pick: 1 | current pick: 3\n",
      "GAME 2 (roll 7) -> previous pick: 3 | current pick: 4\n",
      "GAME 2 (roll 8) -> previous pick: 4 | current pick: 6\n",
      "GAME 2 (roll 9) -> previous pick: 6 | current pick: 6\n",
      "GAME 2 (roll 10) -> previous pick: 6 | current pick: 6\n",
      "GAME 2 (roll 11) -> previous pick: 6 | current pick: 1\n",
      "GAME 2 (roll 12) -> previous pick: 1 | current pick: 5\n",
      "GAME 2 (roll 13) -> previous pick: 5 | current pick: 6\n",
      "GAME 2 (roll 14) -> previous pick: 6 | current pick: 5\n",
      "GAME 2 (roll 15) -> previous pick: 5 | current pick: 4\n",
      "GAME 2 (roll 16) -> previous pick: 4 | current pick: 3\n",
      "GAME 2 (roll 17) -> previous pick: 3 | current pick: 6\n",
      "GAME 2 (roll 18) -> previous pick: 6 | current pick: 1\n",
      "GAME 2 (roll 19) -> previous pick: 1 | current pick: 5\n",
      "GAME 2 (roll 20) -> previous pick: 5 | current pick: 3\n",
      "GAME 2 (roll 21) -> previous pick: 3 | current pick: 3\n",
      "GAME 2 (roll 22) -> previous pick: 3 | current pick: 3\n",
      "GAME 2 (roll 23) -> previous pick: 3 | current pick: 3\n",
      "GAME 2 (roll 24) -> previous pick: 3 | current pick: 4\n",
      "GAME 2 (roll 25) -> previous pick: 4 | current pick: 2\n",
      "GAME 2 (roll 26) -> previous pick: 2 | current pick: 3\n",
      "GAME 2 (roll 27) -> previous pick: 3 | current pick: 4\n",
      "GAME 2 (roll 28) -> previous pick: 4 | current pick: 4\n",
      "GAME 2 (roll 29) -> previous pick: 4 | current pick: 5\n",
      "GAME 2 (roll 30) -> previous pick: 5 | current pick: 5\n"
     ]
    },
    {
     "data": {
      "text/plain": [
       "'Expected value for Game1 is 34 while Game2 is 30'"
      ]
     },
     "execution_count": 223,
     "metadata": {},
     "output_type": "execute_result"
    }
   ],
   "source": [
    "simulateGames()"
   ]
  },
  {
   "cell_type": "markdown",
   "metadata": {},
   "source": [
    "### Daily Coding Problem: Problem #179 [Medium]\n",
    "\n",
    "This problem was asked by Google.\n",
    "\n",
    "Given the sequence of keys visited by a postorder traversal of a binary search tree, reconstruct the tree.\n",
    "\n",
    "For example, given the sequence 2, 4, 3, 8, 7, 5, you should construct the following tree:\n",
    "\n",
    "        5\n",
    "       / \\\n",
    "      3   7\n",
    "     / \\   \\\n",
    "    2   4   8"
   ]
  },
  {
   "cell_type": "code",
   "execution_count": 259,
   "metadata": {},
   "outputs": [],
   "source": [
    "class Node:\n",
    "    def __init__ (self, val, left = None, right = None):\n",
    "        self.val = val\n",
    "        self.left = left\n",
    "        self.right = right\n",
    "\n",
    "def reconstructPostorder(postorder):\n",
    "    if postorder is None: return None\n",
    "    \n",
    "    root = Node(postorder[-1])\n",
    "    \n",
    "    # Iterating backwards\n",
    "    # If current node value is less than 'i', keep moving right\n",
    "    # Else keep moving left\n",
    "    # When current node is None, set it to 'i'\n",
    "    for i in range(len(postorder)-2, -1, -1):\n",
    "        cur = root\n",
    "        while cur is not None:\n",
    "            if cur.val < postorder[i]:\n",
    "                if cur.right is None:\n",
    "                    cur.right = Node(postorder[i])\n",
    "                    break\n",
    "                cur = cur.right   \n",
    "            else:\n",
    "                if cur.left is None:\n",
    "                    cur.left = Node(postorder[i])\n",
    "                    break\n",
    "                cur = cur.left\n",
    "    return root"
   ]
  },
  {
   "cell_type": "code",
   "execution_count": 260,
   "metadata": {},
   "outputs": [
    {
     "name": "stdout",
     "output_type": "stream",
     "text": [
      "[5, 3, 7, 2, 4, None, 8]\n"
     ]
    }
   ],
   "source": [
    "# Test Code\n",
    "\n",
    "postorder = [2,4,3,8,7,5]\n",
    "\n",
    "tree = reconstructPostorder(postorder)\n",
    "print([tree.val, tree.left.val, tree.right.val, tree.left.left.val, tree.left.right.val, tree.right.left, tree.right.right.val])"
   ]
  },
  {
   "cell_type": "markdown",
   "metadata": {},
   "source": [
    "### Daily Coding Problem: Problem #180 [Medium]\n",
    "\n",
    "This problem was asked by Google.\n",
    "\n",
    "Given a stack of N elements, interleave the first half of the stack with the second half reversed using only one other queue. This should be done in-place.\n",
    "\n",
    "Recall that you can only push or pop from a stack, and enqueue or dequeue from a queue.\n",
    "\n",
    "For example,\n",
    "- if the stack is [1, 2, 3, 4, 5], it should become [1, 5, 2, 4, 3].\n",
    "- If the stack is [1, 2, 3, 4], it should become [1, 4, 2, 3].\n",
    "\n",
    "Hint: Try working backwards from the end state."
   ]
  },
  {
   "cell_type": "code",
   "execution_count": 261,
   "metadata": {},
   "outputs": [],
   "source": [
    "def interleaveStack(stack):\n",
    "    queue = []\n",
    "    if len(stack)%2 == 0: i = j = int(len(stack)/2)\n",
    "    else: i = int(len(stack)/2); j = i+1\n",
    "    \n",
    "    # From the element in the middle of the list, append left and right to queue\n",
    "    # continously iterate left and right till i gets to 0\n",
    "    while i > 0:\n",
    "        if i == j: queue.append(stack[i])\n",
    "        else:\n",
    "            queue.append(stack[i])\n",
    "            queue.append(stack[j])\n",
    "        i-=1; j+=1\n",
    "    # pop each item from the queue and set the value at stack\n",
    "    for v in range(len(queue)):\n",
    "        stack[v+1] = queue.pop()\n",
    "    return stack"
   ]
  },
  {
   "cell_type": "code",
   "execution_count": 262,
   "metadata": {},
   "outputs": [
    {
     "data": {
      "text/plain": [
       "[1, 5, 2, 4, 3]"
      ]
     },
     "execution_count": 262,
     "metadata": {},
     "output_type": "execute_result"
    }
   ],
   "source": [
    "# Test Code\n",
    "\n",
    "inputArr1 =  [1, 2, 3, 4, 5]\n",
    "inputArr2 =  [1, 2, 3, 4]\n",
    "\n",
    "interleaveStack(inputArr1)"
   ]
  },
  {
   "cell_type": "code",
   "execution_count": 263,
   "metadata": {},
   "outputs": [
    {
     "data": {
      "text/plain": [
       "[1, 4, 2, 3]"
      ]
     },
     "execution_count": 263,
     "metadata": {},
     "output_type": "execute_result"
    }
   ],
   "source": [
    "interleaveStack(inputArr2)"
   ]
  },
  {
   "cell_type": "markdown",
   "metadata": {},
   "source": [
    "### Daily Coding Problem: Problem #181 [Hard]\n",
    "\n",
    "This problem was asked by Google.\n",
    "\n",
    "Given a string, split it into as few strings as possible such that each string is a palindrome.\n",
    "\n",
    "For example, given the input string \"racecarannakayak\", return [\"racecar\", \"anna\", \"kayak\"].\n",
    "\n",
    "Given the input string abc, return [\"a\", \"b\", \"c\"]."
   ]
  },
  {
   "cell_type": "code",
   "execution_count": 550,
   "metadata": {},
   "outputs": [],
   "source": [
    "def fewestPalindromes(s):\n",
    "    DP = [(0,0)] * (len(s)+1)\n",
    "    res = []\n",
    "    \n",
    "    for i in range(1,len(DP)):\n",
    "        count = 0\n",
    "        for j in range(1,i+1):\n",
    "            sub, idx = s[j-1:i], j\n",
    "            if sub == sub[::-1]:\n",
    "                if count:\n",
    "                    if count[0] <= DP[j-1][0]+1:\n",
    "                        pass\n",
    "                    else: count = (DP[j-1][0]+1, idx)\n",
    "                else: count = (DP[j-1][0]+1, idx)\n",
    "        DP[i] = count\n",
    "\n",
    "    j = len(DP)-1\n",
    "    i = DP[j][1]\n",
    "    \n",
    "    while i >= 1:\n",
    "        res.append(s[i-1:j])\n",
    "        j = i-1\n",
    "        i = DP[j][1]\n",
    "        \n",
    "    return res[::-1]"
   ]
  },
  {
   "cell_type": "code",
   "execution_count": 552,
   "metadata": {},
   "outputs": [
    {
     "data": {
      "text/plain": [
       "['racecar', 'anna', 'kayak']"
      ]
     },
     "execution_count": 552,
     "metadata": {},
     "output_type": "execute_result"
    }
   ],
   "source": [
    "# Test Code\n",
    "\n",
    "string1 = \"racecarannakayak\"\n",
    "string2 = \"abc\"\n",
    "\n",
    "fewestPalindromes(string1)"
   ]
  },
  {
   "cell_type": "code",
   "execution_count": 553,
   "metadata": {},
   "outputs": [
    {
     "data": {
      "text/plain": [
       "['a', 'b', 'c']"
      ]
     },
     "execution_count": 553,
     "metadata": {},
     "output_type": "execute_result"
    }
   ],
   "source": [
    "fewestPalindromes(string2)"
   ]
  },
  {
   "cell_type": "markdown",
   "metadata": {},
   "source": [
    "### Daily Coding Problem: Problem #182 [Medium]\n",
    "\n",
    "This problem was asked by Facebook.\n",
    "\n",
    "A graph is minimally-connected if it is connected and there is no edge that can be removed while still leaving the graph connected. For example, any binary tree is minimally-connected.\n",
    "\n",
    "Given an undirected graph, check if the graph is minimally-connected. You can choose to represent the graph as either an adjacency matrix or adjacency list."
   ]
  },
  {
   "cell_type": "code",
   "execution_count": 74,
   "metadata": {},
   "outputs": [],
   "source": [
    "from collections import defaultdict"
   ]
  },
  {
   "cell_type": "code",
   "execution_count": 88,
   "metadata": {},
   "outputs": [],
   "source": [
    "class Graph:\n",
    "    def __init__ (self):\n",
    "        self.graph = defaultdict(list)\n",
    "\n",
    "    def add_edge(self, x, y):\n",
    "        self.graph[x].append(y)\n",
    "        self.graph[y].append(x)\n",
    "    \n",
    "    def find_parent(self, parent, x):\n",
    "        while True:\n",
    "            val = x\n",
    "            x = parent[val]\n",
    "            if x == -1:\n",
    "                return val\n",
    "    \n",
    "    def isMinimallyConnected(self):\n",
    "        parents = {}\n",
    "        for k in self.graph:\n",
    "            parents[k] = -1\n",
    "            \n",
    "        seen = set()\n",
    "        for i in self.graph:\n",
    "            for j in self.graph[i]:\n",
    "                if (j, i) not in seen:\n",
    "                    i_par = self.find_parent(parents, i)\n",
    "                    j_par = self.find_parent(parents, j)\n",
    "                    if i_par == j_par:\n",
    "                        return False\n",
    "                    parents[j_par] = i_par\n",
    "                seen.add((i, j))\n",
    "        return True"
   ]
  },
  {
   "cell_type": "markdown",
   "metadata": {},
   "source": [
    "### Daily Coding Problem: Problem #183 [Hard]\n",
    "\n",
    "This problem was asked by Twitch.\n",
    "\n",
    "Describe what happens when you type a URL into your browser and press Enter."
   ]
  },
  {
   "cell_type": "markdown",
   "metadata": {},
   "source": [
    "#### ANSWER TO QUSETION\n",
    "\n",
    "- STEP 1: You enter a URL into a web browser\n",
    "- STEP 2: The browser looks up the IP address for the domain name via DNS\n",
    "- STEP 3: The browser initiates a TCP connection with the server.\n",
    "- STEP 4: The browser sends a HTTP request to the server\n",
    "- STEP 5: The server sends back a HTTP response\n",
    "- STEP 6: The browser begins rendering the HTML\n",
    "- STEP 7: The browser sends requests for additional objects embedded in HTML (images, css, JavaScript) and repeats steps 4-6.\n",
    "- STEP 8: Once the page is loaded, the browser sends further async requests as needed."
   ]
  },
  {
   "cell_type": "markdown",
   "metadata": {},
   "source": [
    "### Daily Coding Problem: Problem #184 [Easy]\n",
    "\n",
    "This problem was asked by Amazon.\n",
    "\n",
    "Given n numbers, find the greatest common denominator between them.\n",
    "\n",
    "For example, given the numbers [42, 56, 14], return 14."
   ]
  },
  {
   "cell_type": "code",
   "execution_count": 555,
   "metadata": {},
   "outputs": [],
   "source": [
    "def greatestCommonDenom(nums):\n",
    "    if not nums: return 0\n",
    "    \n",
    "    res = nums[0]\n",
    "    for num in nums:\n",
    "        while num:\n",
    "            res, num = num, res%num\n",
    "    return res"
   ]
  },
  {
   "cell_type": "code",
   "execution_count": 566,
   "metadata": {},
   "outputs": [
    {
     "data": {
      "text/plain": [
       "14"
      ]
     },
     "execution_count": 566,
     "metadata": {},
     "output_type": "execute_result"
    }
   ],
   "source": [
    "# Test Code\n",
    "\n",
    "nums = [42, 56, 14]\n",
    "greatestCommonDenom(nums)"
   ]
  },
  {
   "cell_type": "markdown",
   "metadata": {},
   "source": [
    "### Daily Coding Problem: Problem #185 [Easy]\n",
    "\n",
    "This problem was asked by Google.\n",
    "\n",
    "Given two rectangles on a 2D graph, return the area of their intersection. If the rectangles don't intersect, return 0.\n",
    "\n",
    "For example, given the following rectangles:\n",
    "\n",
    "{    \"top_left\": (1, 4),\n",
    "    \"dimensions\": (3, 3) # width, height\n",
    "}\n",
    "\n",
    "and\n",
    "\n",
    "{    \"top_left\": (0, 5),\n",
    "    \"dimensions\": (4, 3) # width, height\n",
    "}\n",
    "\n",
    "return 6."
   ]
  },
  {
   "cell_type": "code",
   "execution_count": 745,
   "metadata": {},
   "outputs": [],
   "source": [
    "def intersection_area(A, B):\n",
    "    \n",
    "    A_left_x, B_left_x = A[\"top_left\"][0], B[\"top_left\"][0]\n",
    "    A_top_y, B_top_y = A[\"top_left\"][1], B[\"top_left\"][1]\n",
    "    A_width, B_width = A[\"dimensions\"][0], B[\"dimensions\"][0]\n",
    "    A_height, B_height = A[\"dimensions\"][1], B[\"dimensions\"][1]\n",
    "    \n",
    "    rec_left_x = max(A_left_x, B_left_x)\n",
    "    rec_right_x = min(A_left_x + A_width, B_left_x + B_width)\n",
    "    rec_top_y = min(A_top_y, B_top_y)\n",
    "    rec_bottom_y = max(A_top_y - A_height, B_top_y - B_height)\n",
    "    \n",
    "    if rec_right_x < rec_left_x or rec_top_y < rec_bottom_y:\n",
    "        return 0\n",
    "    return (rec_right_x - rec_left_x) * (rec_top_y - rec_bottom_y)"
   ]
  },
  {
   "cell_type": "code",
   "execution_count": 748,
   "metadata": {},
   "outputs": [
    {
     "data": {
      "text/plain": [
       "6"
      ]
     },
     "execution_count": 748,
     "metadata": {},
     "output_type": "execute_result"
    }
   ],
   "source": [
    "# Test Code\n",
    "\n",
    "rectangle1 = { \"top_left\": (1, 4),\n",
    "               \"dimensions\": (3, 3)}\n",
    "rectangle2 = { \"top_left\": (1, 5),\n",
    "               \"dimensions\": (4, 3)}\n",
    "\n",
    "intersection_area(rectangle1, rectangle2)"
   ]
  },
  {
   "cell_type": "markdown",
   "metadata": {},
   "source": [
    "### Daily Coding Problem: Problem #186 [Hard]\n",
    "\n",
    "This problem was asked by Microsoft.\n",
    "\n",
    "Given an array of positive integers, divide the array into two subsets such that the difference between the sum of the subsets is as small as possible.\n",
    "\n",
    "For example, given [5, 10, 15, 20, 25], return the sets {10, 25} and {5, 15, 20}, which has a difference of 5, which is the smallest possible difference."
   ]
  },
  {
   "cell_type": "code",
   "execution_count": 2,
   "metadata": {},
   "outputs": [],
   "source": [
    "def find_min(A, sumA, B, sumB, diff):\n",
    "\n",
    "    next_arr = None\n",
    "    for i in range(len(A)):\n",
    "        newsumA, newsumB = sumA - A[i], sumB + A[i]\n",
    "        newdiff = abs(newsumA - newsumB)\n",
    "        if newdiff < diff:\n",
    "            diff = newdiff\n",
    "            next_arr = (A[:i] + A[i + 1:], newsumA, B + [A[i]], newsumB)\n",
    "\n",
    "    if not next_arr:\n",
    "        return (set(A), set(B))\n",
    "\n",
    "    return find_min(next_arr[0], next_arr[1], next_arr[2], next_arr[3], diff)\n",
    "\n",
    "\n",
    "def min_diff_partition(arr):\n",
    "    tot_sum = sum(arr)\n",
    "    return find_min(arr, tot_sum, [], 0, tot_sum)"
   ]
  },
  {
   "cell_type": "code",
   "execution_count": 3,
   "metadata": {},
   "outputs": [
    {
     "data": {
      "text/plain": [
       "({5, 15, 20}, {10, 25})"
      ]
     },
     "execution_count": 3,
     "metadata": {},
     "output_type": "execute_result"
    }
   ],
   "source": [
    "# Test Code\n",
    "\n",
    "array = [5, 10, 15, 20, 25]\n",
    "min_diff_partition([5, 10, 15, 20 ,25])"
   ]
  },
  {
   "cell_type": "markdown",
   "metadata": {},
   "source": [
    "### Daily Coding Problem: Problem #187 [Easy]\n",
    "\n",
    "This problem was asked by Google.\n",
    "\n",
    "You are given given a list of rectangles represented by min and max x- and y-coordinates. Compute whether or not a pair of rectangles overlap each other. If one rectangle completely covers another, it is considered overlapping.\n",
    "\n",
    "For example, given the following rectangles:\n",
    "\n",
    "{ \"top_left\": (1, 4),\n",
    " \"dimensions\": (3, 3) # width, height },\n",
    "\n",
    "{ \"top_left\": (-1, 3),\n",
    " \"dimensions\": (2, 1) },\n",
    "\n",
    "{ \"top_left\": (0, 5),\n",
    " \"dimensions\": (4, 3) }\n",
    "\n",
    "return true as the first and third rectangle overlap each other."
   ]
  },
  {
   "cell_type": "code",
   "execution_count": 88,
   "metadata": {},
   "outputs": [],
   "source": [
    "def completely_overlapping_pair(rectangles):\n",
    "    rectangles.sort(key = lambda x: (x[\"top_left\"][0], -x[\"top_left\"][1]))\n",
    "    \n",
    "    for i in range(len(rectangles)-1):\n",
    "        A = rectangles[i]\n",
    "        for j in range(i + 1, len(rectangles)):\n",
    "            B = rectangles[j]\n",
    "            if (A[\"top_left\"][0] + A[\"dimensions\"][0] >= B[\"top_left\"][0] + B[\"dimensions\"][0]) and \\\n",
    "                (A[\"top_left\"][1] >= B[\"top_left\"][1]) and \\\n",
    "                    (A[\"top_left\"][1] - A[\"dimensions\"][1] <= B[\"top_left\"][1] - B[\"dimensions\"][1]):\n",
    "                return True\n",
    "            \n",
    "    return False"
   ]
  },
  {
   "cell_type": "code",
   "execution_count": 92,
   "metadata": {},
   "outputs": [
    {
     "data": {
      "text/plain": [
       "False"
      ]
     },
     "execution_count": 92,
     "metadata": {},
     "output_type": "execute_result"
    }
   ],
   "source": [
    "# Test Code\n",
    "# NOTE: Example provided in the question is incorrect. It does not completely overlap as decribed in question\n",
    "\n",
    "r1 = ({\"top_left\": (1, 4), \"dimensions\": (3, 3)})\n",
    "r2 = ({\"top_left\": (-1, 3), \"dimensions\": (2, 1)})\n",
    "r3 = ({\"top_left\": (0, 5), \"dimensions\": (4, 3)})\n",
    "completely_overlapping_pair([r1, r2, r3])"
   ]
  },
  {
   "cell_type": "code",
   "execution_count": 93,
   "metadata": {},
   "outputs": [
    {
     "data": {
      "text/plain": [
       "True"
      ]
     },
     "execution_count": 93,
     "metadata": {},
     "output_type": "execute_result"
    }
   ],
   "source": [
    "r1 = ({\"top_left\": (1, 4), \"dimensions\": (3, 3)})\n",
    "r2 = ({\"top_left\": (-1, 3), \"dimensions\": (2, 1)})\n",
    "r3 = ({\"top_left\": (0, 5), \"dimensions\": (4, 4)})\n",
    "completely_overlapping_pair([r1, r2, r3])"
   ]
  },
  {
   "cell_type": "markdown",
   "metadata": {},
   "source": [
    "### Daily Coding Problem: Problem #188 [Medium]\n",
    "\n",
    "This problem was asked by Google.\n",
    "\n",
    "What will this code print out?\n",
    "\n",
    "    def make_functions():\n",
    "        flist = []\n",
    "\n",
    "        for i in [1, 2, 3]:\n",
    "            def print_i():\n",
    "                print(i)\n",
    "            flist.append(print_i)\n",
    "\n",
    "        return flist\n",
    "\n",
    "    functions = make_functions()\n",
    "    for f in functions:\n",
    "        f()\n",
    "        \n",
    "How can we make it print out what we apparently want?"
   ]
  },
  {
   "cell_type": "markdown",
   "metadata": {},
   "source": [
    "#### ANSWER TO QUESTION\n",
    "\n",
    "- The Code will print out: 3, 3, 3\n",
    "- The solution below would give us our desired output of 1, 2, 3"
   ]
  },
  {
   "cell_type": "code",
   "execution_count": 52,
   "metadata": {},
   "outputs": [
    {
     "name": "stdout",
     "output_type": "stream",
     "text": [
      "1\n",
      "2\n",
      "3\n"
     ]
    }
   ],
   "source": [
    "def make_functions():\n",
    "    flist = []\n",
    "\n",
    "    for i in [1, 2, 3]:\n",
    "        def print_i(i):\n",
    "            print(i)\n",
    "        flist.append((print_i, i))\n",
    "\n",
    "    return flist\n",
    "\n",
    "\n",
    "functions = make_functions()\n",
    "for f, i in functions:\n",
    "    f(i)"
   ]
  },
  {
   "cell_type": "markdown",
   "metadata": {},
   "source": [
    "### Daily Coding Problem: Problem #189 [Easy]\n",
    "\n",
    "This problem was asked by Google.\n",
    "\n",
    "Given an array of elements, return the length of the longest subarray where all its elements are distinct.\n",
    "\n",
    "For example, given the array [5, 1, 3, 5, 2, 3, 4, 1], return 5 as the longest subarray of distinct elements is [5, 2, 3, 4, 1]."
   ]
  },
  {
   "cell_type": "code",
   "execution_count": 109,
   "metadata": {},
   "outputs": [],
   "source": [
    "def longest_distinct_subarray(arr):\n",
    "    maxsub, count, store = 0, 0, {}\n",
    "\n",
    "    for i in range(0, len(arr)):\n",
    "        if arr[i] in store and i <= (count+store[arr[i]]):\n",
    "            count = min(count, i-store[arr[i]])\n",
    "        else: count+=1\n",
    "        store[arr[i]] = i\n",
    "        maxsub = max(count, maxsub)\n",
    "    return maxsub"
   ]
  },
  {
   "cell_type": "code",
   "execution_count": 110,
   "metadata": {},
   "outputs": [
    {
     "data": {
      "text/plain": [
       "5"
      ]
     },
     "execution_count": 110,
     "metadata": {},
     "output_type": "execute_result"
    }
   ],
   "source": [
    "longest_distinct_subarray([5, 1, 3, 5, 2, 3, 4, 1])"
   ]
  },
  {
   "cell_type": "markdown",
   "metadata": {},
   "source": [
    "### Daily Coding Problem: Problem #190 [Medium]\n",
    "\n",
    "This problem was asked by Facebook.\n",
    "\n",
    "Given a circular array, compute its maximum subarray sum in O(n) time. A subarray can be empty, and in this case the sum is 0.\n",
    "\n",
    "For example, given [8, -1, 3, 4], return 15 as we choose the numbers 3, 4, and 8 where the 8 is obtained from wrapping around.\n",
    "\n",
    "Given [-4, 5, 1, 0], return 6 as we choose the numbers 5 and 1"
   ]
  },
  {
   "cell_type": "code",
   "execution_count": 212,
   "metadata": {},
   "outputs": [],
   "source": [
    "def maxsubsum_circular_array(array):\n",
    "    if not array: return 0\n",
    "    \n",
    "    maxsum = minsum = array[0]\n",
    "    totalsum = maxcount = mincount = 0\n",
    "    for i in array:\n",
    "        maxcount +=i; mincount +=i; totalsum +=i\n",
    "        maxsum = max(maxcount, maxsum)\n",
    "        minsum = min(mincount, minsum)\n",
    "        if maxcount < 0: maxcount = 0\n",
    "        if mincount > 0: mincount = 0\n",
    "\n",
    "    if maxsum < 1 or totalsum - minsum < maxsum: return maxsum\n",
    "    return totalsum - minsum"
   ]
  },
  {
   "cell_type": "code",
   "execution_count": 213,
   "metadata": {},
   "outputs": [
    {
     "data": {
      "text/plain": [
       "15"
      ]
     },
     "execution_count": 213,
     "metadata": {},
     "output_type": "execute_result"
    }
   ],
   "source": [
    "# Test Code\n",
    "\n",
    "array1 = [8, -1, 3, 4]\n",
    "array2 = [-4, 5, 1, 0]\n",
    "\n",
    "maxsubsum_circular_array(array1)"
   ]
  },
  {
   "cell_type": "code",
   "execution_count": 214,
   "metadata": {},
   "outputs": [
    {
     "data": {
      "text/plain": [
       "6"
      ]
     },
     "execution_count": 214,
     "metadata": {},
     "output_type": "execute_result"
    }
   ],
   "source": [
    "maxsubsum_circular_array(array2)"
   ]
  },
  {
   "cell_type": "markdown",
   "metadata": {},
   "source": [
    "### Daily Coding Problem: Problem #191 [Easy]\n",
    "    \n",
    "This problem was asked by Stripe.\n",
    "\n",
    "Given a collection of intervals, find the minimum number of intervals you need to remove to make the rest of the intervals non-overlapping.\n",
    "\n",
    "Intervals can \"touch\", such as [0, 1] and [1, 2], but they won't be considered overlapping.\n",
    "\n",
    "For example, given the intervals (7, 9), (2, 4), (5, 8), return 1 as the last interval can be removed and the first two won't overlap.\n",
    "\n",
    "The intervals are not necessarily sorted in any order."
   ]
  },
  {
   "cell_type": "code",
   "execution_count": 289,
   "metadata": {},
   "outputs": [],
   "source": [
    "from collections import deque"
   ]
  },
  {
   "cell_type": "code",
   "execution_count": 292,
   "metadata": {},
   "outputs": [],
   "source": [
    "def eraseOverlapIntervals(intervals):\n",
    "    if len(intervals) < 2: return 0\n",
    "    \n",
    "    intervals.sort(key = lambda x: (x[0], x[1]))\n",
    "    queue = deque(intervals)\n",
    "\n",
    "    i = 0\n",
    "    while True:\n",
    "        if queue[i][1] > queue[i+1][0]:\n",
    "            if queue[i][1]>= queue[i+1][1]:\n",
    "                del queue[i]\n",
    "            else:\n",
    "                del queue[i+1]\n",
    "        else: i+=1\n",
    "        if i > len(queue)-2: break\n",
    "    return len(intervals) - len(queue)"
   ]
  },
  {
   "cell_type": "code",
   "execution_count": 37,
   "metadata": {},
   "outputs": [],
   "source": [
    "def eraseOverlapIntervals2(self, intervals: List[List[int]]) -> int:\n",
    "        intervals.sort(key = lambda x: (x[0], x[1]))\n",
    "        res = 0\n",
    "        i = 0; j = 1\n",
    "        print(intervals)\n",
    "        while j < len(intervals):\n",
    "            if intervals[j][0] < intervals[i][1]:\n",
    "                if intervals[j][1] < intervals[i][1]: i = j\n",
    "                res +=1\n",
    "            else: i = j\n",
    "            j +=1\n",
    "        return res"
   ]
  },
  {
   "cell_type": "code",
   "execution_count": 293,
   "metadata": {},
   "outputs": [
    {
     "data": {
      "text/plain": [
       "1"
      ]
     },
     "execution_count": 293,
     "metadata": {},
     "output_type": "execute_result"
    }
   ],
   "source": [
    "# Test Code\n",
    "\n",
    "intervals = [(7, 9), (2, 4), (5, 8)]\n",
    "\n",
    "eraseOverlapIntervals(intervals)"
   ]
  },
  {
   "cell_type": "markdown",
   "metadata": {},
   "source": [
    "### Daily Coding Problem: Problem #192 [Medium]\n",
    "\n",
    "This problem was asked by Google.\n",
    "\n",
    "You are given an array of nonnegative integers. Let's say you start at the beginning of the array and are trying to advance to the end. You can advance at most, the number of steps that you're currently on. Determine whether you can get to the end of the array.\n",
    "\n",
    "For example, given the array [1, 3, 1, 2, 0, 1], we can go from indices 0 -> 1 -> 3 -> 5, so return true.\n",
    "\n",
    "Given the array [1, 2, 1, 0, 0], we can't reach the end, so return false"
   ]
  },
  {
   "cell_type": "code",
   "execution_count": 294,
   "metadata": {},
   "outputs": [],
   "source": [
    "def get_to_end(array):\n",
    "    reach = 1\n",
    "    for num in array:\n",
    "        reach = max(num, reach-1)\n",
    "        if reach == 0: return False\n",
    "    return True"
   ]
  },
  {
   "cell_type": "code",
   "execution_count": 295,
   "metadata": {},
   "outputs": [
    {
     "data": {
      "text/plain": [
       "True"
      ]
     },
     "execution_count": 295,
     "metadata": {},
     "output_type": "execute_result"
    }
   ],
   "source": [
    "# Test Code\n",
    "\n",
    "get_to_end([1, 3, 1, 2, 0, 1])"
   ]
  },
  {
   "cell_type": "markdown",
   "metadata": {},
   "source": [
    "### Daily Coding Problem: Problem #193 [Hard]\n",
    "\n",
    "This problem was asked by Affirm.\n",
    "\n",
    "Given a array of numbers representing the stock prices of a company in chronological order, write a function that calculates the maximum profit you could have made from buying and selling that stock. You're also given a number fee that represents a transaction fee for each buy and sell transaction.\n",
    "\n",
    "You must buy before you can sell the stock, but you can make as many transactions as you like.\n",
    "\n",
    "For example, given [1, 3, 2, 8, 4, 10] and fee = 2, you should return 9, since you could buy the stock at 1 dollar, and sell at 8 dollars, and then buy it at 4 dollars and sell it at 10 dollars. Since we did two transactions, there is a 4 dollar fee, so we have 7 + 6 = 13 profit minus 4 dollars of fees."
   ]
  },
  {
   "cell_type": "code",
   "execution_count": 148,
   "metadata": {},
   "outputs": [],
   "source": [
    "def maxProfit(prices, fee):\n",
    "    cash, hold = 0, -prices[0]\n",
    "    for i in range(1, len(prices)):\n",
    "        cash = max(cash, hold + prices[i] - fee)\n",
    "        hold = max(hold, cash - prices[i])\n",
    "\n",
    "    return cash"
   ]
  },
  {
   "cell_type": "code",
   "execution_count": 149,
   "metadata": {},
   "outputs": [
    {
     "data": {
      "text/plain": [
       "9"
      ]
     },
     "execution_count": 149,
     "metadata": {},
     "output_type": "execute_result"
    }
   ],
   "source": [
    "# Test Code\n",
    "\n",
    "prices, fee = [1, 3, 2, 8, 4, 10], 2\n",
    "maxProfit(prices, fee)"
   ]
  },
  {
   "cell_type": "markdown",
   "metadata": {},
   "source": [
    "### Daily Coding Problem: Problem #194 [Easy]\n",
    "    \n",
    "This problem was asked by Facebook.\n",
    "\n",
    "Suppose you are given two lists of n points, one list p1, p2, ..., pn on the line y = 0 and the other list q1, q2, ..., qn on the line y = 1. Imagine a set of n line segments connecting each point pi to qi. Write an algorithm to determine how many pairs of the line segments intersect."
   ]
  },
  {
   "cell_type": "code",
   "execution_count": 38,
   "metadata": {},
   "outputs": [],
   "source": [
    "def intersectingSegements(lineA, lineB):\n",
    "    segments = list(zip(lineA, lineB))\n",
    "    segments.sort(key = lambda x: x[0])\n",
    "\n",
    "    count = 0\n",
    "    for i in range(len(segments)-1):\n",
    "        for j in range(i+1, len(segments)):\n",
    "            if segments[i][1] > segments[j][1]:\n",
    "                count+=1\n",
    "    return count"
   ]
  },
  {
   "cell_type": "markdown",
   "metadata": {},
   "source": [
    "### Daily Coding Problem: Problem #195 [Hard]\n",
    "\n",
    "This problem was asked by Google.\n",
    "\n",
    "Let A be an N by M matrix in which every row and every column is sorted.\n",
    "\n",
    "Given i1, j1, i2, and j2, compute the number of elements of M smaller than M[i1, j1] and larger than M[i2, j2].\n",
    "\n",
    "For example, given the following matrix:\n",
    "\n",
    "    [[1,  3,  7,  10, 15, 20],\n",
    "     [2,  6,  9,  14, 22, 25],\n",
    "     [3,  8,  10, 15, 25, 30],\n",
    "     [10, 11, 12, 23, 30, 35],\n",
    "     [20, 25, 30, 35, 40, 45]]\n",
    " \n",
    "And i1 = 1, j1 = 1, i2 = 3, j2 = 3, return 15 as there are 15 numbers in the matrix smaller than 6 or greater than 23."
   ]
  },
  {
   "cell_type": "code",
   "execution_count": 141,
   "metadata": {},
   "outputs": [],
   "source": [
    "def countSmallerAndLarger(matrix, i1, j1, i2, j2):\n",
    "    \n",
    "    count = 0\n",
    "    for row in matrix:\n",
    "        count+= len([x for x in row if x < matrix[i1][j1] or x > matrix[i2][j2]])\n",
    "    return count"
   ]
  },
  {
   "cell_type": "code",
   "execution_count": 142,
   "metadata": {},
   "outputs": [
    {
     "data": {
      "text/plain": [
       "14"
      ]
     },
     "execution_count": 142,
     "metadata": {},
     "output_type": "execute_result"
    }
   ],
   "source": [
    "# Test Code\n",
    "# NOTE: Example provided in the question has an incorrect answer. It should be 14 and not 15\n",
    "\n",
    "matrix = [[1,  3,  7,  10, 15, 20],\n",
    "          [2,  6,  9,  14, 22, 25],\n",
    "          [3,  8,  10, 15, 25, 30],\n",
    "          [10, 11, 12, 23, 30, 35],\n",
    "          [20, 25, 30, 35, 40, 45]]\n",
    "\n",
    "i1 = 1; j1 = 1; i2 = 3; j2 = 3\n",
    "\n",
    "countSmallerAndLarger(matrix, i1, j1, i2, j2)"
   ]
  },
  {
   "cell_type": "markdown",
   "metadata": {},
   "source": [
    "### Daily Coding Problem: Problem #196 [Easy]\n",
    "\n",
    "This problem was asked by Apple.\n",
    "\n",
    "Given the root of a binary tree, find the most frequent subtree sum. The subtree sum of a node is the sum of all values under a node, including the node itself.\n",
    "\n",
    "For example, given the following tree:\n",
    "\n",
    "      5\n",
    "     / \\\n",
    "    2  -5\n",
    "Return 2 as it occurs twice: once as the left leaf, and once as the sum of 2 + 5 - 5"
   ]
  },
  {
   "cell_type": "code",
   "execution_count": 146,
   "metadata": {},
   "outputs": [],
   "source": [
    "from collections import defaultdict"
   ]
  },
  {
   "cell_type": "code",
   "execution_count": 147,
   "metadata": {},
   "outputs": [],
   "source": [
    "def mostFreqSubSum(root):\n",
    "    store = defaultdict(int)\n",
    "    def dfs(node):\n",
    "        if node is None: return 0\n",
    "        nodesum = node.val + dfs(node.left) + dfs(node.right)\n",
    "        store[nodesum] += 1\n",
    "        return nodesum\n",
    "\n",
    "    dfs(root)\n",
    "    if not store: return []\n",
    "    mostfreq = max(store.values())\n",
    "    res = [k for k, v in store.items() if v == mostfreq]\n",
    "    return res"
   ]
  },
  {
   "cell_type": "code",
   "execution_count": 150,
   "metadata": {},
   "outputs": [
    {
     "data": {
      "text/plain": [
       "[2]"
      ]
     },
     "execution_count": 150,
     "metadata": {},
     "output_type": "execute_result"
    }
   ],
   "source": [
    "# Test Code\n",
    "\n",
    "class Node:\n",
    "    def __init__(self, val, right = None, left = None):\n",
    "        self.val = val\n",
    "        self.right = None\n",
    "        self.left = None\n",
    "\n",
    "root = Node(5)\n",
    "root.left = Node(2)\n",
    "root.right = Node(-5)\n",
    "\n",
    "mostFreqSubSum(root)"
   ]
  },
  {
   "cell_type": "markdown",
   "metadata": {},
   "source": [
    "### Daily Coding Problem: Problem #198 [Medium]\n",
    "\n",
    "This problem was asked by Google.\n",
    "\n",
    "Given a set of distinct positive integers, find the largest subset such that every pair of elements in the subset (i, j) satisfies either i % j = 0 or j % i = 0.\n",
    "\n",
    "For example, given the set [3, 5, 10, 20, 21], you should return [5, 10, 20]. Given [1, 3, 6, 24], return [1, 3, 6, 24]."
   ]
  },
  {
   "cell_type": "code",
   "execution_count": 4,
   "metadata": {},
   "outputs": [],
   "source": [
    "def longestDivisiblePairSubset(nums):\n",
    "    if not nums: return []\n",
    "    nums.sort()\n",
    "    length = [0]*len(nums)\n",
    "    par = [None]*len(nums)\n",
    "    for i in range(len(nums)-1):\n",
    "        for j in range(i+1, len(nums)):\n",
    "            if nums[j] % nums[i] == 0:\n",
    "                if length[i] >= length[j]:\n",
    "                    length[j] = length[i]+1\n",
    "                    par[j] = i\n",
    "    res = []\n",
    "    max_len = max(length)\n",
    "    idx = length.index(max_len)\n",
    "\n",
    "    while idx is not None:\n",
    "        res.append(nums[idx])\n",
    "        idx = par[idx]\n",
    "    return res[::-1]"
   ]
  },
  {
   "cell_type": "code",
   "execution_count": 5,
   "metadata": {},
   "outputs": [
    {
     "data": {
      "text/plain": [
       "[5, 10, 20]"
      ]
     },
     "execution_count": 5,
     "metadata": {},
     "output_type": "execute_result"
    }
   ],
   "source": [
    "# Test Code\n",
    "\n",
    "nums1 = [3, 5, 10, 20, 21]\n",
    "nums2 = [1, 3, 6, 24]\n",
    "\n",
    "longestDivisiblePairSubset(nums1)"
   ]
  },
  {
   "cell_type": "code",
   "execution_count": 6,
   "metadata": {},
   "outputs": [
    {
     "data": {
      "text/plain": [
       "[1, 3, 6, 24]"
      ]
     },
     "execution_count": 6,
     "metadata": {},
     "output_type": "execute_result"
    }
   ],
   "source": [
    "longestDivisiblePairSubset(nums2)"
   ]
  },
  {
   "cell_type": "markdown",
   "metadata": {},
   "source": [
    "### Daily Coding Problem: Problem #199 [Hard]\n",
    "\n",
    "This problem was asked by Facebook.\n",
    "\n",
    "Given a string of parentheses, find the balanced string that can be produced from it using the minimum number of insertions and deletions. If there are multiple solutions, return any of them.\n",
    "\n",
    "For example, given \"(()\", you could return \"(())\". Given \"))()(\", you could return \"()()()()\"."
   ]
  },
  {
   "cell_type": "code",
   "execution_count": 187,
   "metadata": {},
   "outputs": [],
   "source": [
    "def minInsertAndDelete(s):\n",
    "    l = r = 0\n",
    "    s = list(s)\n",
    "    for i in range(len(s)):\n",
    "        if s[i] == ')':\n",
    "            if l == 0: s[i] = ''\n",
    "            else: l-=1\n",
    "        else: l+=1\n",
    "    s += [')']*l\n",
    "    return \"\".join(s)"
   ]
  },
  {
   "cell_type": "code",
   "execution_count": 188,
   "metadata": {},
   "outputs": [
    {
     "data": {
      "text/plain": [
       "'(())'"
      ]
     },
     "execution_count": 188,
     "metadata": {},
     "output_type": "execute_result"
    }
   ],
   "source": [
    "# Test Code\n",
    "\n",
    "s1 = \"(()\"\n",
    "s2 = \"))()(\"\n",
    "\n",
    "minInsertAndDelete(s1)"
   ]
  },
  {
   "cell_type": "code",
   "execution_count": 189,
   "metadata": {},
   "outputs": [
    {
     "data": {
      "text/plain": [
       "'()()'"
      ]
     },
     "execution_count": 189,
     "metadata": {},
     "output_type": "execute_result"
    }
   ],
   "source": [
    "minInsertAndDelete(s2)"
   ]
  },
  {
   "cell_type": "markdown",
   "metadata": {},
   "source": [
    "### Daily Coding Problem: Problem #200 [Hard]\n",
    "\n",
    "This problem was asked by Microsoft.\n",
    "\n",
    "Let X be a set of n intervals on the real line. We say that a set of points P \"stabs\" X if every interval in X contains at least one point in P. Compute the smallest set of points that stabs X.\n",
    "\n",
    "For example, given the intervals [(1, 4), (4, 5), (7, 9), (9, 12)], you should return [4, 9]."
   ]
  },
  {
   "cell_type": "code",
   "execution_count": 50,
   "metadata": {},
   "outputs": [],
   "source": [
    "def smallestStabbingInterval(intervals):\n",
    "    return [min([x[1] for x in intervals]), max([x[0] for x in intervals])]"
   ]
  },
  {
   "cell_type": "code",
   "execution_count": 51,
   "metadata": {},
   "outputs": [
    {
     "data": {
      "text/plain": [
       "[4, 9]"
      ]
     },
     "execution_count": 51,
     "metadata": {},
     "output_type": "execute_result"
    }
   ],
   "source": [
    "# Test Code\n",
    "\n",
    "intervals = [(1, 4), (4, 5), (7, 9), (9, 12)]\n",
    "smallestStabbingInterval(intervals)"
   ]
  },
  {
   "cell_type": "markdown",
   "metadata": {},
   "source": [
    "### Daily Coding Problem: Problem #201 [Easy]\n",
    "\n",
    "This problem was asked by Google.\n",
    "\n",
    "You are given an array of arrays of integers, where each array corresponds to a row in a triangle of numbers. For example, [[1], [2, 3], [1, 5, 1]] represents the triangle:\n",
    "\n",
    "      1\n",
    "     2 3\n",
    "    1 5 1\n",
    "    \n",
    "We define a path in the triangle to start at the top and go down one row at a time to an adjacent value, eventually ending with an entry on the bottom row. For example, 1 -> 3 -> 5. The weight of the path is the sum of the entries.\n",
    "\n",
    "Write a program that returns the weight of the maximum weight path."
   ]
  },
  {
   "cell_type": "code",
   "execution_count": 10,
   "metadata": {},
   "outputs": [],
   "source": [
    "def maxPathWeight(triangle):\n",
    "    for i in range(len(triangle)-2,-1,-1):\n",
    "        for j in range(len(triangle[i])):\n",
    "            triangle[i][j]+=max(triangle[i+1][j],triangle[i+1][j+1])\n",
    "    return triangle[0][0]"
   ]
  },
  {
   "cell_type": "code",
   "execution_count": 11,
   "metadata": {},
   "outputs": [
    {
     "data": {
      "text/plain": [
       "9"
      ]
     },
     "execution_count": 11,
     "metadata": {},
     "output_type": "execute_result"
    }
   ],
   "source": [
    "# Test Code\n",
    "\n",
    "triangle = [[1], [2, 3], [1, 5, 1]]\n",
    "\n",
    "maxPathWeight(triangle)"
   ]
  },
  {
   "cell_type": "markdown",
   "metadata": {},
   "source": [
    "### Daily Coding Problem: Problem #202 [Easy]\n",
    "\n",
    "Write a program that checks whether an integer is a palindrome. For example, 121 is a palindrome, as well as 888. 678 is not a palindrome. Do not convert the integer into a string."
   ]
  },
  {
   "cell_type": "code",
   "execution_count": 46,
   "metadata": {},
   "outputs": [],
   "source": [
    "def isIntegerPalindrome(num):\n",
    "    left = 1\n",
    "    while num//(10**left) > 0: left += 1\n",
    "    left-=1\n",
    "\n",
    "    while num:\n",
    "        if (num % 10) != (num // 10**left):\n",
    "            return False\n",
    "        num = (num % 10**left) // 10\n",
    "        left -=2\n",
    "    return True"
   ]
  },
  {
   "cell_type": "code",
   "execution_count": 47,
   "metadata": {},
   "outputs": [
    {
     "data": {
      "text/plain": [
       "True"
      ]
     },
     "execution_count": 47,
     "metadata": {},
     "output_type": "execute_result"
    }
   ],
   "source": [
    "# Test Code\n",
    "\n",
    "num1 = 121\n",
    "num2 = 888\n",
    "num3 = 678\n",
    "\n",
    "isIntegerPalindrome(num1)"
   ]
  },
  {
   "cell_type": "code",
   "execution_count": 48,
   "metadata": {},
   "outputs": [
    {
     "data": {
      "text/plain": [
       "True"
      ]
     },
     "execution_count": 48,
     "metadata": {},
     "output_type": "execute_result"
    }
   ],
   "source": [
    "isIntegerPalindrome(num2)"
   ]
  },
  {
   "cell_type": "code",
   "execution_count": 49,
   "metadata": {},
   "outputs": [
    {
     "data": {
      "text/plain": [
       "False"
      ]
     },
     "execution_count": 49,
     "metadata": {},
     "output_type": "execute_result"
    }
   ],
   "source": [
    "isIntegerPalindrome(num3)"
   ]
  },
  {
   "cell_type": "markdown",
   "metadata": {},
   "source": [
    "### Daily Coding Problem: Problem #203 [Medium]\n",
    "\n",
    "This problem was asked by Uber.\n",
    "\n",
    "Suppose an array sorted in ascending order is rotated at some pivot unknown to you beforehand. Find the minimum element in O(log N) time. You may assume the array does not contain duplicates.\n",
    "\n",
    "For example, given [5, 7, 10, 3, 4], return 3."
   ]
  },
  {
   "cell_type": "code",
   "execution_count": 12,
   "metadata": {},
   "outputs": [],
   "source": [
    "def minRotatedArray(nums):\n",
    "    if not nums: return None\n",
    "    \n",
    "    low, high = 0, len(nums)-1\n",
    "    while low < high:\n",
    "        mid = (high+low)//2\n",
    "        if nums[mid] > nums[-1]: low = mid + 1 \n",
    "        else: high = mid\n",
    "    return nums[low]"
   ]
  },
  {
   "cell_type": "code",
   "execution_count": 13,
   "metadata": {},
   "outputs": [
    {
     "data": {
      "text/plain": [
       "3"
      ]
     },
     "execution_count": 13,
     "metadata": {},
     "output_type": "execute_result"
    }
   ],
   "source": [
    "# Test Code\n",
    "\n",
    "nums = [5, 7, 10, 3, 4]\n",
    "\n",
    "minRotatedArray(nums)"
   ]
  },
  {
   "cell_type": "markdown",
   "metadata": {},
   "source": [
    "### Daily Coding Problem: Problem #204 [Easy]\n",
    "    \n",
    "This problem was asked by Amazon.\n",
    "\n",
    "Given a complete binary tree, count the number of nodes in faster than O(n) time. Recall that a complete binary tree has every level filled except the last, and the nodes in the last level are filled starting from the left."
   ]
  },
  {
   "cell_type": "code",
   "execution_count": 6,
   "metadata": {},
   "outputs": [],
   "source": [
    "def countNodes(root):\n",
    "    if not root: return 0\n",
    "\n",
    "    node = root\n",
    "    l = r = 1\n",
    "    while node.left:\n",
    "        node = node.left\n",
    "        l+=1\n",
    "    node = root\n",
    "    while node.right:\n",
    "        node = node.right\n",
    "        r+=1\n",
    "    if l == r: return (2**l)-1\n",
    "\n",
    "    return 1 + countNodes(root.left) + countNodes(root.right)"
   ]
  },
  {
   "cell_type": "markdown",
   "metadata": {},
   "source": [
    "### Daily Coding Problem: Problem #205 [Easy]\n",
    "\n",
    "This problem was asked by IBM.\n",
    "\n",
    "Given an integer, find the next permutation of it in absolute order. For example, given 48975, the next permutation would be 49578."
   ]
  },
  {
   "cell_type": "code",
   "execution_count": 60,
   "metadata": {},
   "outputs": [],
   "source": [
    "def nextLargestPerm(num):\n",
    "    if num//10 == 0: return num\n",
    "    num = list(str(abs(num)))\n",
    "\n",
    "    for i in range(len(num)-1,0,-1):\n",
    "        if num[i] > num[i-1]:\n",
    "            idx = i-1; break\n",
    "            \n",
    "    for j in range(idx+1, len(num)):\n",
    "        if num[j] > num[idx]: swapVal = j\n",
    "        else: break\n",
    "            \n",
    "    num[idx], num[swapVal] = num[swapVal], num[idx]\n",
    "    \n",
    "    return int(\"\".join(num[:idx+1] + sorted(num[idx+1:])))"
   ]
  },
  {
   "cell_type": "code",
   "execution_count": 62,
   "metadata": {},
   "outputs": [
    {
     "data": {
      "text/plain": [
       "49578"
      ]
     },
     "execution_count": 62,
     "metadata": {},
     "output_type": "execute_result"
    }
   ],
   "source": [
    "# Test Code\n",
    "\n",
    "num = 48975\n",
    "\n",
    "nextLargestPerm(num)"
   ]
  },
  {
   "cell_type": "markdown",
   "metadata": {},
   "source": [
    "### Daily Coding Problem: Problem #206 [Easy]\n",
    "\n",
    "This problem was asked by Twitter.\n",
    "\n",
    "A permutation can be specified by an array P, where P[i] represents the location of the element at i in the permutation.\n",
    "For example, [2, 1, 0] represents the permutation where elements at the index 0 and 2 are swapped.\n",
    "\n",
    "Given an array and a permutation, apply the permutation to the array. For example, given the array [\"a\", \"b\", \"c\"] and the permutation [2, 1, 0], return [\"c\", \"b\", \"a\"]"
   ]
  },
  {
   "cell_type": "code",
   "execution_count": 308,
   "metadata": {},
   "outputs": [],
   "source": [
    "def permute(arr, perm):\n",
    "    res = [None]*len(arr)\n",
    "    for i in range(len(arr)):\n",
    "        res[perm[i]] = arr[i]\n",
    "    return res"
   ]
  },
  {
   "cell_type": "code",
   "execution_count": 309,
   "metadata": {},
   "outputs": [
    {
     "data": {
      "text/plain": [
       "['c', 'b', 'a']"
      ]
     },
     "execution_count": 309,
     "metadata": {},
     "output_type": "execute_result"
    }
   ],
   "source": [
    "# Test Code\n",
    "\n",
    "array, perms = [\"a\",\"b\",\"c\"], [2,1,0]\n",
    "\n",
    "permute(array, perms)"
   ]
  },
  {
   "cell_type": "markdown",
   "metadata": {},
   "source": [
    "### Daily Coding Problem: Problem #207 [Medium]\n",
    "\n",
    "This problem was asked by Dropbox.\n",
    "\n",
    "Given an undirected graph G, check whether it is bipartite. Recall that a graph is bipartite if its vertices can be divided into two independent sets, U and V, such that no edge connects vertices of the same set."
   ]
  },
  {
   "cell_type": "code",
   "execution_count": 1,
   "metadata": {},
   "outputs": [],
   "source": [
    "def isBipartite(graph):\n",
    "    color = {}\n",
    "    def dfs(node, c):\n",
    "        if node in color:\n",
    "            return not color[node] == c\n",
    "        color[node] = c^1\n",
    "        for child in graph[node]:\n",
    "            if not dfs(child, c^1): return False\n",
    "        return True\n",
    "\n",
    "    for node in range(len(graph)):\n",
    "        if node not in color:\n",
    "            if not dfs(node, 0): return False\n",
    "    return True"
   ]
  },
  {
   "cell_type": "markdown",
   "metadata": {},
   "source": [
    "### Daily Coding Problem: Problem #208 [Medium]\n",
    "\n",
    "This problem was asked by LinkedIn.\n",
    "\n",
    "Given a linked list of numbers and a pivot k, partition the linked list so that all nodes less than k come before nodes greater than or equal to k.\n",
    "\n",
    "For example, given the linked list 5 -> 1 -> 8 -> 0 -> 3 and k = 3, the solution could be 1 -> 0 -> 5 -> 8 -> 3."
   ]
  },
  {
   "cell_type": "code",
   "execution_count": 174,
   "metadata": {},
   "outputs": [],
   "source": [
    "def partitionLList(head, k):\n",
    "    if not head: return\n",
    "    low, high = [], []\n",
    "    cur = head\n",
    "    while cur:\n",
    "        if cur.val < k: low.append(cur)\n",
    "        else: high.append(cur)\n",
    "        cur = cur.Next\n",
    "    res = low + high\n",
    "    for i in range(len(res)-1):\n",
    "        res[i].Next = res[i+1]\n",
    "    res[-1].Next = None\n",
    "    return res[0]"
   ]
  },
  {
   "cell_type": "code",
   "execution_count": 175,
   "metadata": {},
   "outputs": [
    {
     "name": "stdout",
     "output_type": "stream",
     "text": [
      "1 --> 0 --> 5 --> 8 --> 3\n"
     ]
    }
   ],
   "source": [
    "# Test Code\n",
    "\n",
    "def printLinkedList(node):\n",
    "    while node:\n",
    "        if not node.Next: print(node.val)\n",
    "        else: print(node.val, '--> ', end=\"\")\n",
    "        node = node.Next\n",
    "\n",
    "class Node:\n",
    "    def __init__(self, val, Next = None):\n",
    "        self.val = val\n",
    "        self.Next = Next\n",
    "\n",
    "k = 3\n",
    "head = Node(5)\n",
    "head.Next = Node(1)\n",
    "head.Next.Next = Node(8)\n",
    "head.Next.Next.Next = Node(0)\n",
    "head.Next.Next.Next.Next = Node(3)\n",
    "\n",
    "res = partitionLList(head, k)\n",
    "printLinkedList(res)"
   ]
  },
  {
   "cell_type": "markdown",
   "metadata": {},
   "source": [
    "### Daily Coding Problem: Problem #209 [Hard]\n",
    "\n",
    "\n",
    "This problem was asked by YouTube.\n",
    "\n",
    "Write a program that computes the length of the longest common subsequence of three given strings. For example, given \"epidemiologist\", \"refrigeration\", and \"supercalifragilisticexpialodocious\", it should return 5, since the longest common subsequence is \"eieio\""
   ]
  },
  {
   "cell_type": "code",
   "execution_count": 177,
   "metadata": {},
   "outputs": [],
   "source": [
    "def LCS3(A, B, C):\n",
    "    store = [[[0]*(len(C)+1) for _ in range(len(B)+1)] for q in range(len(A)+1)]\n",
    "\n",
    "    for i in range(len(A)):\n",
    "        for j in range(len(B)):\n",
    "            for k in range(len(C)):\n",
    "                if A[i] == B[j] and B[j] == C[k]:\n",
    "                    store[i+1][j+1][k+1] = store[i][j][k] + 1\n",
    "                else:\n",
    "                    store[i+1][j+1][k+1] = max(store[i][j+1][k+1], store[i+1][j][k+1], store[i+1][j+1][k])\n",
    "    return store[-1][-1][-1]"
   ]
  },
  {
   "cell_type": "code",
   "execution_count": 178,
   "metadata": {},
   "outputs": [
    {
     "data": {
      "text/plain": [
       "5"
      ]
     },
     "execution_count": 178,
     "metadata": {},
     "output_type": "execute_result"
    }
   ],
   "source": [
    "# Test Code\n",
    "\n",
    "str1 = \"epidemiologist\"\n",
    "str2 = \"refrigeration\"\n",
    "str3 = \"supercalifragilisticexpialodocious\"\n",
    "\n",
    "LCS3(str1, str2, str3)"
   ]
  },
  {
   "cell_type": "markdown",
   "metadata": {},
   "source": [
    "### Daily Coding Problem: Problem #210 [Easy]\n",
    "\n",
    "This problem was asked by Apple.\n",
    "\n",
    "A Collatz sequence in mathematics can be defined as follows. Starting with any positive integer:\n",
    "\n",
    "- if n is even, the next number in the sequence is n / 2\n",
    "- if n is odd, the next number in the sequence is 3n + 1\n",
    "- It is conjectured that every such sequence eventually reaches the number 1. Test this conjecture.\n",
    "\n",
    "Bonus: What input n <= 1000000 gives the longest sequence?"
   ]
  },
  {
   "cell_type": "markdown",
   "metadata": {},
   "source": [
    "ANSWER: The longest sequence n <= 1000000 would be the largest possible odd number, which is => 999999"
   ]
  },
  {
   "cell_type": "code",
   "execution_count": 31,
   "metadata": {},
   "outputs": [],
   "source": [
    "from random import randint"
   ]
  },
  {
   "cell_type": "code",
   "execution_count": 32,
   "metadata": {},
   "outputs": [
    {
     "name": "stdout",
     "output_type": "stream",
     "text": [
      "541925 --> 1\n",
      "548554 --> 1\n",
      "708107 --> 1\n",
      "583563 --> 1\n",
      "798747 --> 1\n",
      "938825 --> 1\n",
      "88857 --> 1\n",
      "607870 --> 1\n",
      "604358 --> 1\n",
      "726202 --> 1\n",
      "813480 --> 1\n",
      "290171 --> 1\n",
      "665302 --> 1\n",
      "741030 --> 1\n",
      "248211 --> 1\n",
      "427151 --> 1\n",
      "162252 --> 1\n",
      "190029 --> 1\n",
      "181820 --> 1\n",
      "606557 --> 1\n"
     ]
    }
   ],
   "source": [
    "def collatzSeq(n):\n",
    "    while n != 1:\n",
    "        if n % 2 == 0: n=n//2\n",
    "        else: n = (3*n)+1\n",
    "    return n\n",
    "\n",
    "# Test Conjecture\n",
    "# Testing random numbers between 1 and 1000000\n",
    "no_of_test = 20\n",
    "for i in range(no_of_test):\n",
    "    n = randint(1, 1000000)\n",
    "    print(n, '-->', collatzSeq(n))"
   ]
  },
  {
   "cell_type": "markdown",
   "metadata": {},
   "source": [
    "### Daily Coding Problem: Problem #211 [Medium]\n",
    "\n",
    "This problem was asked by Microsoft.\n",
    "\n",
    "Given a string and a pattern, find the starting indices of all occurrences of the pattern in the string. For example, given the string \"abracadabra\" and the pattern \"abr\", you should return [0, 7]."
   ]
  },
  {
   "cell_type": "code",
   "execution_count": 16,
   "metadata": {},
   "outputs": [],
   "source": [
    "def startIndices(string, pattern):\n",
    "    res, n = [], len(pattern)\n",
    "    for i in range(len(string)-n+1):\n",
    "        if string[i:i+n] == pattern:\n",
    "            res.append(i)\n",
    "    return res"
   ]
  },
  {
   "cell_type": "code",
   "execution_count": 17,
   "metadata": {},
   "outputs": [
    {
     "data": {
      "text/plain": [
       "[0, 7]"
      ]
     },
     "execution_count": 17,
     "metadata": {},
     "output_type": "execute_result"
    }
   ],
   "source": [
    "# Test Code\n",
    "\n",
    "string, pattern = \"abracadabra\", \"abr\"\n",
    "\n",
    "startIndices(string, pattern)"
   ]
  },
  {
   "cell_type": "markdown",
   "metadata": {},
   "source": [
    "### Daily Coding Problem: Problem #212 [Easy]\n",
    "\n",
    "This problem was asked by Dropbox.\n",
    "\n",
    "Spreadsheets often use this alphabetical encoding for its columns: \"A\", \"B\", \"C\", ..., \"AA\", \"AB\", ..., \"ZZ\", \"AAA\", \"AAB\", ....\n",
    "\n",
    "Given a column number, return its alphabetical column id. For example, given 1, return \"A\". Given 27, return \"AA\"."
   ]
  },
  {
   "cell_type": "code",
   "execution_count": 28,
   "metadata": {},
   "outputs": [],
   "source": [
    "def getColumnId(num):\n",
    "    alpha = \"ABCDEFGHIJKLMNOPQRSTUVWXYZ\"\n",
    "    res = \"\"\n",
    "    while num > 0:\n",
    "        res = alpha[(num % 26)-1] + res\n",
    "        if num % 26 == 0: num-=1\n",
    "        num = num//26\n",
    "    return res"
   ]
  },
  {
   "cell_type": "code",
   "execution_count": 29,
   "metadata": {},
   "outputs": [
    {
     "data": {
      "text/plain": [
       "'A'"
      ]
     },
     "execution_count": 29,
     "metadata": {},
     "output_type": "execute_result"
    }
   ],
   "source": [
    "# Test Code\n",
    "\n",
    "num1, num2 = 1, 27\n",
    "getColumnId(num1)"
   ]
  },
  {
   "cell_type": "code",
   "execution_count": 30,
   "metadata": {},
   "outputs": [
    {
     "data": {
      "text/plain": [
       "'AA'"
      ]
     },
     "execution_count": 30,
     "metadata": {},
     "output_type": "execute_result"
    }
   ],
   "source": [
    "getColumnId(num2)"
   ]
  },
  {
   "cell_type": "markdown",
   "metadata": {},
   "source": [
    "### Daily Coding Problem: Problem #213 [Medium]\n",
    "\n",
    "This problem was asked by Snapchat.\n",
    "\n",
    "Given a string of digits, generate all possible valid IP address combinations.\n",
    "\n",
    "IP addresses must follow the format A.B.C.D, where A, B, C, and D are numbers between 0 and 255. Zero-prefixed numbers, such as 01 and 065, are not allowed, except for 0 itself.\n",
    "\n",
    "For example, given \"2542540123\", you should return ['254.25.40.123', '254.254.0.123']"
   ]
  },
  {
   "cell_type": "code",
   "execution_count": 89,
   "metadata": {},
   "outputs": [],
   "source": [
    "def validIPCombo(digits):\n",
    "    store = []\n",
    "    def isValid(num):\n",
    "        if not num: return False\n",
    "        if num == \"0\": return True\n",
    "        if len(num) > 3 or len(num) < 1 or num[0] == \"0\": return False\n",
    "        if int(num) > 255: return False\n",
    "        return True\n",
    "        \n",
    "    def nextValid(cur, remDig, dots):\n",
    "        if dots == 1:\n",
    "            if isValid(remDig):\n",
    "                store.append(cur + '.' + remDig)\n",
    "            return\n",
    "        for i in range(1,4):\n",
    "            curVal = remDig[:i]\n",
    "            if isValid(curVal):\n",
    "                rem = remDig[i:]\n",
    "                if not cur: nextValid(curVal, rem, dots)\n",
    "                else: nextValid(cur + '.' + curVal, rem, dots-1)\n",
    "    nextValid('', digits, 3)\n",
    "    return store"
   ]
  },
  {
   "cell_type": "code",
   "execution_count": 90,
   "metadata": {},
   "outputs": [
    {
     "data": {
      "text/plain": [
       "['254.25.40.123', '254.254.0.123']"
      ]
     },
     "execution_count": 90,
     "metadata": {},
     "output_type": "execute_result"
    }
   ],
   "source": [
    "# Test Code\n",
    "\n",
    "digits = \"2542540123\"\n",
    "\n",
    "validIPCombo(digits)"
   ]
  },
  {
   "cell_type": "markdown",
   "metadata": {},
   "source": [
    "### Daily Coding Problem: Problem #214 [Easy]\n",
    "\n",
    "This problem was asked by Stripe.\n",
    "\n",
    "Given an integer n, return the length of the longest consecutive run of 1s in its binary representation.\n",
    "\n",
    "For example, given 156, you should return 3."
   ]
  },
  {
   "cell_type": "code",
   "execution_count": 97,
   "metadata": {},
   "outputs": [],
   "source": [
    "def longestConsectiveOnes(n):\n",
    "    res = cur = 0\n",
    "    for i in bin(n)[2:]:\n",
    "        if i == '1': cur +=1\n",
    "        else: cur = 0\n",
    "        res = max(res, cur)\n",
    "    return res"
   ]
  },
  {
   "cell_type": "code",
   "execution_count": 98,
   "metadata": {},
   "outputs": [
    {
     "data": {
      "text/plain": [
       "3"
      ]
     },
     "execution_count": 98,
     "metadata": {},
     "output_type": "execute_result"
    }
   ],
   "source": [
    "# Test Code\n",
    "\n",
    "n = 156\n",
    "\n",
    "longestConsectiveOnes(n)"
   ]
  },
  {
   "cell_type": "markdown",
   "metadata": {},
   "source": [
    "### Daily Coding Problem: Problem #215 [Medium]\n",
    "\n",
    "This problem was asked by Yelp.\n",
    "\n",
    "The horizontal distance of a binary tree node describes how far left or right the node will be when the tree is printed out.\n",
    "\n",
    "More rigorously, we can define it as follows:\n",
    "\n",
    "- The horizontal distance of the root is 0.\n",
    "- The horizontal distance of a left child is hd(parent) - 1.\n",
    "- The horizontal distance of a right child is hd(parent) + 1.\n",
    "\n",
    "For example, for the following tree, hd(1) = -2, and hd(6) = 0.\n",
    "\n",
    "            5\n",
    "          /   \\\n",
    "        3       7\n",
    "       / \\     /  \\\n",
    "      1   4   6    9\n",
    "     /            /\n",
    "    0            8\n",
    "      \n",
    "The bottom view of a tree, then, consists of the lowest node at each horizontal distance. If there are two nodes at the same depth and horizontal distance, either is acceptable.\n",
    "\n",
    "For this tree, for example, the bottom view could be [0, 1, 3, 6, 8, 9].\n",
    "\n",
    "Given the root to a binary tree, return its bottom view."
   ]
  },
  {
   "cell_type": "code",
   "execution_count": 11,
   "metadata": {},
   "outputs": [],
   "source": [
    "def bottomView(root):\n",
    "    store = {}\n",
    "    \n",
    "    def dfs(node, width, depth):\n",
    "        if not node: return\n",
    "        if width in store and store[width][1] < depth:\n",
    "            store[width] = (node.val, depth)\n",
    "        else: store[width] = (node.val, depth)\n",
    "        dfs(node.left, width-1, depth+1)\n",
    "        dfs(node.right, width+1, depth+1)\n",
    "    dfs(root, 0, 0)\n",
    "\n",
    "    return [store[i][0] for i in sorted(store)]"
   ]
  },
  {
   "cell_type": "code",
   "execution_count": 12,
   "metadata": {},
   "outputs": [
    {
     "data": {
      "text/plain": [
       "[0, 1, 3, 6, 8, 9]"
      ]
     },
     "execution_count": 12,
     "metadata": {},
     "output_type": "execute_result"
    }
   ],
   "source": [
    "# Test Code\n",
    "\n",
    "class Node:\n",
    "    def __init__(self, val, right = None, left = None):\n",
    "        self.val = val\n",
    "        self.right = None\n",
    "        self.left = None\n",
    "\n",
    "root = Node(5)\n",
    "\n",
    "root.left = Node(3)\n",
    "root.right = Node(7)\n",
    "\n",
    "root.left.left = Node(1)\n",
    "root.left.right = Node(4)\n",
    "root.right.left = Node(6)\n",
    "root.right.right = Node(9)\n",
    "\n",
    "root.left.left.left = Node(0)\n",
    "root.right.right.left = Node(8)\n",
    "\n",
    "\n",
    "bottomView(root)"
   ]
  },
  {
   "cell_type": "markdown",
   "metadata": {},
   "source": [
    "### Daily Coding Problem: Problem #216 [Medium]\n",
    "\n",
    "This problem was asked by Facebook.\n",
    "\n",
    "Given a number in Roman numeral format, convert it to decimal.\n",
    "\n",
    "The values of Roman numerals are as follows:\n",
    "\n",
    "    'M': 1000,\n",
    "    'D': 500,\n",
    "    'C': 100,\n",
    "    'L': 50,\n",
    "    'X': 10,\n",
    "    'V': 5,\n",
    "    'I': 1\n",
    "\n",
    "In addition, note that the Roman numeral system uses subtractive notation for numbers such as IV and XL.\n",
    "\n",
    "For the input XIV, for instance, you should return 14."
   ]
  },
  {
   "cell_type": "code",
   "execution_count": 51,
   "metadata": {},
   "outputs": [],
   "source": [
    "def RomanNumToDec(R):\n",
    "    Map = {'M':1000,'D': 500,'C':100,'L':50,'X':10,'V':5,'I':1}\n",
    "    dec = 0\n",
    "    for i, val in enumerate(R):\n",
    "        if i > 0 and Map[val] > Map[R[i-1]]:\n",
    "            dec += Map[val] - (2*Map[R[i-1]])\n",
    "        else: dec += Map[val]    \n",
    "    return dec"
   ]
  },
  {
   "cell_type": "code",
   "execution_count": 52,
   "metadata": {},
   "outputs": [
    {
     "data": {
      "text/plain": [
       "14"
      ]
     },
     "execution_count": 52,
     "metadata": {},
     "output_type": "execute_result"
    }
   ],
   "source": [
    "# Test Code\n",
    "\n",
    "numeral = 'XIV'\n",
    "\n",
    "RomanNumToDec(numeral)"
   ]
  },
  {
   "cell_type": "markdown",
   "metadata": {},
   "source": [
    "###  Daily Coding Problem: Problem #217 [Hard]\n",
    "\n",
    "This problem was asked by Oracle.\n",
    "\n",
    "We say a number is sparse if there are no adjacent ones in its binary representation. \n",
    "\n",
    "For example, 21 (10101) is sparse, but 22 (10110) is not. For a given input N, find the smallest sparse number greater than or equal to N.\n",
    "\n",
    "Do this in faster than O(N log N) time."
   ]
  },
  {
   "cell_type": "code",
   "execution_count": 102,
   "metadata": {},
   "outputs": [],
   "source": [
    "def nextSparse(num):\n",
    "    if num < 3: return 3\n",
    "    \n",
    "    lg = int(math.log2(num))\n",
    "    for i in range(lg):\n",
    "        if ((1<<i) & num) and ((2<<i) & num): return num\n",
    "    if num & 1:\n",
    "        if num & 4: return num + 1\n",
    "        return num + 2\n",
    "    else:\n",
    "        if not (2 & num) and not (4 & num): return num + 3\n",
    "        if not (2 & num): return num + 2\n",
    "        return num + 1"
   ]
  },
  {
   "cell_type": "code",
   "execution_count": 103,
   "metadata": {},
   "outputs": [
    {
     "data": {
      "text/plain": [
       "22"
      ]
     },
     "execution_count": 103,
     "metadata": {},
     "output_type": "execute_result"
    }
   ],
   "source": [
    "# Test Code\n",
    "\n",
    "num = 21\n",
    "\n",
    "nextSparse(num)"
   ]
  },
  {
   "cell_type": "markdown",
   "metadata": {},
   "source": [
    "### Daily Coding Problem: Problem #218 [Medium]\n",
    "\n",
    "This problem was asked by Yahoo.\n",
    "\n",
    "Write an algorithm that computes the reversal of a directed graph. For example, if a graph consists of A -> B -> C, it should become A <- B <- C."
   ]
  },
  {
   "cell_type": "code",
   "execution_count": 52,
   "metadata": {},
   "outputs": [],
   "source": [
    "def reverseGraph(g):\n",
    "    # Assuming graph is represented by adjacency list\n",
    "    \n",
    "    add, remove = {}, []\n",
    "    def swapNodes(node):\n",
    "        while g[node]:\n",
    "            cur = g[node].pop()\n",
    "            if cur in add: add[cur].append(node)\n",
    "            else: add[cur] = [node]\n",
    "\n",
    "    for n in g:\n",
    "        swapNodes(n)\n",
    "    for node in add:\n",
    "        for child in add[node]:\n",
    "            if node in g: g[node].append(child)\n",
    "            else: g[node] = [child]\n",
    "    for node in g:\n",
    "        if not g[node]: remove.append(node)\n",
    "    for node in remove: del g[node]\n",
    "    return g"
   ]
  },
  {
   "cell_type": "code",
   "execution_count": 53,
   "metadata": {},
   "outputs": [
    {
     "data": {
      "text/plain": [
       "{'B': ['A'], 'C': ['B']}"
      ]
     },
     "execution_count": 53,
     "metadata": {},
     "output_type": "execute_result"
    }
   ],
   "source": [
    "# Test Code\n",
    "\n",
    "graph = {'A':['B'], 'B':['C']}\n",
    "\n",
    "reverseGraph(graph)"
   ]
  },
  {
   "cell_type": "markdown",
   "metadata": {},
   "source": [
    "### Daily Coding Problem: Problem #219 [Hard]\n",
    "\n",
    "This problem was asked by Salesforce.\n",
    "\n",
    "Connect 4 is a game where opponents take turns dropping red or black discs into a 7 x 6 vertically suspended grid. The game ends either when one player creates a line of four consecutive discs of their color (horizontally, vertically, or diagonally), or when there are no more spots left in the grid.\n",
    "\n",
    "Design and implement Connect 4."
   ]
  },
  {
   "cell_type": "code",
   "execution_count": 58,
   "metadata": {},
   "outputs": [],
   "source": [
    "class Connect4:\n",
    "    def __init__(self):\n",
    "        self.grid = [[0]*7 for _ in range(6)]\n",
    "        self.colTrack = [6]*7\n",
    "        self.rowlist = [1,2,3,4,5,6,7]\n",
    "        self.players = int(input(\"Welcome to Connect 4. Please enter number of players: \"))\n",
    "        if self.players <= 1:\n",
    "            print('You must have at least one player')\n",
    "            return\n",
    "        self.player = 1\n",
    "        self.startGame()\n",
    "        \n",
    "    def startGame(self):\n",
    "        print(f'\\nNEW GAME BOARD INITIALIZED\\n')\n",
    "        for row in self.grid: print(row)\n",
    "        while True:\n",
    "            print(f'\\nROWS ARE:\\n{self.rowlist}')\n",
    "            column = int(input(f\"Turn for Player {self.player}. Drop into a row: \"))-1\n",
    "            if self.dropDisc(column):\n",
    "                print(f\"\\nGAME OVER!!!\\nCONGRATS, Player {self.player} is the WINNER!! :-)\")\n",
    "                return \n",
    "        \n",
    "    def dropDisc(self, column):\n",
    "        if column > 6 or column < 0:\n",
    "            print('Invalid. Columns are from 1 - 7')\n",
    "            return\n",
    "        if self.colTrack[column] == 0:\n",
    "            print(f'Column {column} full, try another')\n",
    "            return\n",
    "        self.colTrack[column] -=1\n",
    "        self.grid[self.colTrack[column]][column] = self.player\n",
    "        for row in self.grid:\n",
    "            print(row)\n",
    "        if self.checkForWIn(column): return True\n",
    "        self.player +=1\n",
    "        if self.player > self.players: self.player = 1\n",
    "        \n",
    "        \n",
    "    def checkForWIn(self, column):\n",
    "        x, y = self.colTrack[column], column\n",
    "        l = r = d = tr = dl = tl = dr = 0\n",
    "        i,j =x,y\n",
    "        while i <= 5 and self.grid[i][j] == self.player: d+=1; i +=1\n",
    "        if d >= 4: return True\n",
    "        \n",
    "        i, j = x,y\n",
    "        while j>=0 and self.grid[i][j] == self.player: l+=1; j -=1\n",
    "        i,j = x,y\n",
    "        while j<=6 and self.grid[i][j] == self.player: r+=1; j +=1\n",
    "        if l+r-1 >= 4: return True\n",
    "        \n",
    "        i, j = x,y\n",
    "        while i>=0 and j<=6 and self.grid[i][j]==self.player: tr+=1; j +=1; i-=1\n",
    "        i,j = x,y\n",
    "        while i<=5 and j>=0 and self.grid[i][j]==self.player: dl+=1; i +=1; j-=1\n",
    "        if tr+dl-1 >= 4: return True\n",
    "        \n",
    "        i, j = x,y\n",
    "        while i>=0 and j>=0 and self.grid[i][j]==self.player: tl+=1; j -=1; i-=1\n",
    "        i,j = x,y\n",
    "        while i<=5 and j<=6 and self.grid[i][j]==self.player: dr+=1; i +=1; j+=1\n",
    "        if tl+dr-1 >= 4: return True"
   ]
  },
  {
   "cell_type": "code",
   "execution_count": 59,
   "metadata": {},
   "outputs": [
    {
     "name": "stdout",
     "output_type": "stream",
     "text": [
      "Welcome to Connect 4. Please enter number of players: 2\n",
      "\n",
      "NEW GAME BOARD INITIALIZED\n",
      "\n",
      "[0, 0, 0, 0, 0, 0, 0]\n",
      "[0, 0, 0, 0, 0, 0, 0]\n",
      "[0, 0, 0, 0, 0, 0, 0]\n",
      "[0, 0, 0, 0, 0, 0, 0]\n",
      "[0, 0, 0, 0, 0, 0, 0]\n",
      "[0, 0, 0, 0, 0, 0, 0]\n",
      "\n",
      "ROWS ARE:\n",
      "[1, 2, 3, 4, 5, 6, 7]\n",
      "Turn for Player 1. Drop into a row: 3\n",
      "[0, 0, 0, 0, 0, 0, 0]\n",
      "[0, 0, 0, 0, 0, 0, 0]\n",
      "[0, 0, 0, 0, 0, 0, 0]\n",
      "[0, 0, 0, 0, 0, 0, 0]\n",
      "[0, 0, 0, 0, 0, 0, 0]\n",
      "[0, 0, 1, 0, 0, 0, 0]\n",
      "\n",
      "ROWS ARE:\n",
      "[1, 2, 3, 4, 5, 6, 7]\n",
      "Turn for Player 2. Drop into a row: 2\n",
      "[0, 0, 0, 0, 0, 0, 0]\n",
      "[0, 0, 0, 0, 0, 0, 0]\n",
      "[0, 0, 0, 0, 0, 0, 0]\n",
      "[0, 0, 0, 0, 0, 0, 0]\n",
      "[0, 0, 0, 0, 0, 0, 0]\n",
      "[0, 2, 1, 0, 0, 0, 0]\n",
      "\n",
      "ROWS ARE:\n",
      "[1, 2, 3, 4, 5, 6, 7]\n",
      "Turn for Player 1. Drop into a row: 4\n",
      "[0, 0, 0, 0, 0, 0, 0]\n",
      "[0, 0, 0, 0, 0, 0, 0]\n",
      "[0, 0, 0, 0, 0, 0, 0]\n",
      "[0, 0, 0, 0, 0, 0, 0]\n",
      "[0, 0, 0, 0, 0, 0, 0]\n",
      "[0, 2, 1, 1, 0, 0, 0]\n",
      "\n",
      "ROWS ARE:\n",
      "[1, 2, 3, 4, 5, 6, 7]\n",
      "Turn for Player 2. Drop into a row: 5\n",
      "[0, 0, 0, 0, 0, 0, 0]\n",
      "[0, 0, 0, 0, 0, 0, 0]\n",
      "[0, 0, 0, 0, 0, 0, 0]\n",
      "[0, 0, 0, 0, 0, 0, 0]\n",
      "[0, 0, 0, 0, 0, 0, 0]\n",
      "[0, 2, 1, 1, 2, 0, 0]\n",
      "\n",
      "ROWS ARE:\n",
      "[1, 2, 3, 4, 5, 6, 7]\n",
      "Turn for Player 1. Drop into a row: 3\n",
      "[0, 0, 0, 0, 0, 0, 0]\n",
      "[0, 0, 0, 0, 0, 0, 0]\n",
      "[0, 0, 0, 0, 0, 0, 0]\n",
      "[0, 0, 0, 0, 0, 0, 0]\n",
      "[0, 0, 1, 0, 0, 0, 0]\n",
      "[0, 2, 1, 1, 2, 0, 0]\n",
      "\n",
      "ROWS ARE:\n",
      "[1, 2, 3, 4, 5, 6, 7]\n",
      "Turn for Player 2. Drop into a row: 6\n",
      "[0, 0, 0, 0, 0, 0, 0]\n",
      "[0, 0, 0, 0, 0, 0, 0]\n",
      "[0, 0, 0, 0, 0, 0, 0]\n",
      "[0, 0, 0, 0, 0, 0, 0]\n",
      "[0, 0, 1, 0, 0, 0, 0]\n",
      "[0, 2, 1, 1, 2, 2, 0]\n",
      "\n",
      "ROWS ARE:\n",
      "[1, 2, 3, 4, 5, 6, 7]\n",
      "Turn for Player 1. Drop into a row: 4\n",
      "[0, 0, 0, 0, 0, 0, 0]\n",
      "[0, 0, 0, 0, 0, 0, 0]\n",
      "[0, 0, 0, 0, 0, 0, 0]\n",
      "[0, 0, 0, 0, 0, 0, 0]\n",
      "[0, 0, 1, 1, 0, 0, 0]\n",
      "[0, 2, 1, 1, 2, 2, 0]\n",
      "\n",
      "ROWS ARE:\n",
      "[1, 2, 3, 4, 5, 6, 7]\n",
      "Turn for Player 2. Drop into a row: 3\n",
      "[0, 0, 0, 0, 0, 0, 0]\n",
      "[0, 0, 0, 0, 0, 0, 0]\n",
      "[0, 0, 0, 0, 0, 0, 0]\n",
      "[0, 0, 2, 0, 0, 0, 0]\n",
      "[0, 0, 1, 1, 0, 0, 0]\n",
      "[0, 2, 1, 1, 2, 2, 0]\n",
      "\n",
      "ROWS ARE:\n",
      "[1, 2, 3, 4, 5, 6, 7]\n",
      "Turn for Player 1. Drop into a row: 5\n",
      "[0, 0, 0, 0, 0, 0, 0]\n",
      "[0, 0, 0, 0, 0, 0, 0]\n",
      "[0, 0, 0, 0, 0, 0, 0]\n",
      "[0, 0, 2, 0, 0, 0, 0]\n",
      "[0, 0, 1, 1, 1, 0, 0]\n",
      "[0, 2, 1, 1, 2, 2, 0]\n",
      "\n",
      "ROWS ARE:\n",
      "[1, 2, 3, 4, 5, 6, 7]\n",
      "Turn for Player 2. Drop into a row: 2\n",
      "[0, 0, 0, 0, 0, 0, 0]\n",
      "[0, 0, 0, 0, 0, 0, 0]\n",
      "[0, 0, 0, 0, 0, 0, 0]\n",
      "[0, 0, 2, 0, 0, 0, 0]\n",
      "[0, 2, 1, 1, 1, 0, 0]\n",
      "[0, 2, 1, 1, 2, 2, 0]\n",
      "\n",
      "ROWS ARE:\n",
      "[1, 2, 3, 4, 5, 6, 7]\n",
      "Turn for Player 1. Drop into a row: 6\n",
      "[0, 0, 0, 0, 0, 0, 0]\n",
      "[0, 0, 0, 0, 0, 0, 0]\n",
      "[0, 0, 0, 0, 0, 0, 0]\n",
      "[0, 0, 2, 0, 0, 0, 0]\n",
      "[0, 2, 1, 1, 1, 1, 0]\n",
      "[0, 2, 1, 1, 2, 2, 0]\n",
      "\n",
      "GAME OVER!!!\n",
      "CONGRATS, Player 1 is the WINNER!! :-)\n"
     ]
    },
    {
     "data": {
      "text/plain": [
       "<__main__.Connect4 at 0x22ba4c8cf98>"
      ]
     },
     "execution_count": 59,
     "metadata": {},
     "output_type": "execute_result"
    }
   ],
   "source": [
    "# Test game\n",
    "\n",
    "Connect4()"
   ]
  },
  {
   "cell_type": "markdown",
   "metadata": {},
   "source": [
    "### Daily Coding Problem: Problem #220 [Medium]\n",
    "\n",
    "This problem was asked by Square.\n",
    "\n",
    "In front of you is a row of N coins, with values v1, v1, ..., vn.\n",
    "\n",
    "You are asked to play the following game. You and an opponent take turns choosing either the first or last coin from the row, removing it from the row, and receiving the value of the coin.\n",
    "\n",
    "Write a program that returns the maximum amount of money you can win with certainty, if you move first, assuming your opponent plays optimally."
   ]
  },
  {
   "cell_type": "code",
   "execution_count": 150,
   "metadata": {},
   "outputs": [],
   "source": [
    "def maxAmount(arr):\n",
    "    store = [[None]*len(arr) for _ in range(len(arr))]\n",
    "    \n",
    "    def nextMax(l, r):\n",
    "        if l==r: return arr[l]\n",
    "        if r == l+1: return max(arr[l], arr[r])\n",
    "        if store[l][r] is not None: return store[l][r]\n",
    "        \n",
    "        a1 = nextMax(l+2, r)\n",
    "        store[l+2][r] = a1\n",
    "        a2 = nextMax(l+1, r-1)\n",
    "        store[l+1][r-1] = a2\n",
    "        b1 = nextMax(l+1, r-1)\n",
    "        b2 = nextMax(l,r-2)\n",
    "        \n",
    "        return max(arr[l]+min(a1,a2), arr[r]+min(b1,b2))\n",
    "    return nextMax(0, len(arr)-1)"
   ]
  },
  {
   "cell_type": "markdown",
   "metadata": {},
   "source": [
    "#### NOTE: \n",
    "A faster and better optimized algorithm is given below. "
   ]
  },
  {
   "cell_type": "code",
   "execution_count": 299,
   "metadata": {},
   "outputs": [],
   "source": [
    "def maxAmount2(arr):\n",
    "    \n",
    "    def compressArray(l, r):\n",
    "        stack = []\n",
    "        for i in range(l,r+1):\n",
    "            stack.append(arr[i])\n",
    "            while len(stack) >= 3:\n",
    "                y = stack.pop()\n",
    "                m = stack.pop()\n",
    "                x = stack.pop()\n",
    "                if m >= y and m >= x:\n",
    "                    stack.append(x-m+y)\n",
    "                else:\n",
    "                    stack += [x,m,y]\n",
    "                    break\n",
    "        return 0 if stack[0] > stack[-1] else -1\n",
    "    \n",
    "    turn = res = l = 0\n",
    "    r = len(arr)-1\n",
    "    while l <= r:\n",
    "        cur = compressArray(l,r)\n",
    "        if cur == 0:\n",
    "            if turn % 2 == 0: res +=arr[l]\n",
    "            l +=1\n",
    "        else:\n",
    "            if turn % 2 == 0: res +=arr[r]\n",
    "            r -=1\n",
    "        turn +=1\n",
    "    return res"
   ]
  },
  {
   "cell_type": "markdown",
   "metadata": {},
   "source": [
    "### Daily Coding Problem: Problem #221 [Easy]\n",
    "\n",
    "This problem was asked by Zillow.\n",
    "\n",
    "Let's define a \"sevenish\" number to be one which is either a power of 7, or the sum of unique powers of 7. The first few sevenish numbers are 1, 7, 8, 49, and so on. Create an algorithm to find the nth sevenish number."
   ]
  },
  {
   "cell_type": "code",
   "execution_count": 376,
   "metadata": {},
   "outputs": [],
   "source": [
    "def sevenishNumber(n):\n",
    "    res, p = [], 0\n",
    "    while len(res) <= n:\n",
    "        cur = 7**p\n",
    "        res.append(cur)\n",
    "        for i in range(len(res)-1):\n",
    "            res.append(cur+res[i])\n",
    "            if len(res) == n: return res[-1]\n",
    "        p +=1\n",
    "    return res[n-1]"
   ]
  },
  {
   "cell_type": "code",
   "execution_count": 377,
   "metadata": {},
   "outputs": [
    {
     "data": {
      "text/plain": [
       "[1, 7, 8, 49, 50, 56, 57, 343, 344, 350]"
      ]
     },
     "execution_count": 377,
     "metadata": {},
     "output_type": "execute_result"
    }
   ],
   "source": [
    "# Tets code\n",
    "\n",
    "# Print first n sevenish numbers\n",
    "n = 10\n",
    "\n",
    "[sevenishNumber(i) for i in range(1,n+1)]"
   ]
  },
  {
   "cell_type": "markdown",
   "metadata": {},
   "source": [
    "### Daily Coding Problem: Problem #222 [Medium]\n",
    "\n",
    "This problem was asked by Quora.\n",
    "\n",
    "Given an absolute pathname that may have . or .. as part of it, return the shortest standardized path.\n",
    "\n",
    "For example, given \"/usr/bin/../bin/./scripts/../\", return \"/usr/bin/\"."
   ]
  },
  {
   "cell_type": "code",
   "execution_count": 328,
   "metadata": {},
   "outputs": [],
   "source": [
    "def pathName(path):\n",
    "    path, res = path.split('/'), []\n",
    "\n",
    "    for i in path:\n",
    "        if i == '.': pass\n",
    "        elif i == '..': res.pop()\n",
    "        else: res.append(i)\n",
    "\n",
    "    return '/'.join(res)"
   ]
  },
  {
   "cell_type": "code",
   "execution_count": 329,
   "metadata": {},
   "outputs": [
    {
     "data": {
      "text/plain": [
       "'/usr/bin/'"
      ]
     },
     "execution_count": 329,
     "metadata": {},
     "output_type": "execute_result"
    }
   ],
   "source": [
    "# Test Code\n",
    "\n",
    "path = \"/usr/bin/../bin/./scripts/../\"\n",
    "pathName(path)"
   ]
  },
  {
   "cell_type": "markdown",
   "metadata": {},
   "source": [
    "### Daily Coding Problem: Problem #223 [Hard]\n",
    "\n",
    "This problem was asked by Palantir.\n",
    "\n",
    "Typically, an implementation of in-order traversal of a binary tree has O(h) space complexity, where h is the height of the tree. Write a program to compute the in-order traversal of a binary tree using O(1) space."
   ]
  },
  {
   "cell_type": "code",
   "execution_count": 498,
   "metadata": {},
   "outputs": [],
   "source": [
    "def morris_inorder_traversal(root): \n",
    "    current = root \n",
    "      \n",
    "    while current is not None: \n",
    "        if current.left is None: \n",
    "            print(current.val)\n",
    "            current = current.right \n",
    "        else: \n",
    "            pre = current.left \n",
    "            while pre.right is not None and pre.right is not current: \n",
    "                pre = pre.right \n",
    "            if pre.right is None: \n",
    "                pre.right = current \n",
    "                current = current.left         \n",
    "            else: \n",
    "                pre.right = None\n",
    "                print(current.val)\n",
    "                current = current.right"
   ]
  },
  {
   "cell_type": "markdown",
   "metadata": {},
   "source": [
    "### Daily Coding Problem: Problem #224 [Easy]\n",
    "\n",
    "This problem was asked by Amazon.\n",
    "\n",
    "Given a sorted array, find the smallest positive integer that is not the sum of a subset of the array.\n",
    "\n",
    "For example, for the input [1, 2, 3, 10], you should return 7.\n",
    "\n",
    "Do this in O(N) time."
   ]
  },
  {
   "cell_type": "code",
   "execution_count": 521,
   "metadata": {},
   "outputs": [],
   "source": [
    "def findSmallest(arr):\n",
    "    res = 1\n",
    "    for num in arr:\n",
    "        if num > res: break\n",
    "        res += num\n",
    "    return res"
   ]
  },
  {
   "cell_type": "code",
   "execution_count": 522,
   "metadata": {},
   "outputs": [
    {
     "data": {
      "text/plain": [
       "7"
      ]
     },
     "execution_count": 522,
     "metadata": {},
     "output_type": "execute_result"
    }
   ],
   "source": [
    "# Test Code\n",
    "\n",
    "arr = [1,2,3,10]\n",
    "\n",
    "findSmallest(arr)"
   ]
  },
  {
   "cell_type": "markdown",
   "metadata": {},
   "source": [
    "### Daily Coding Problem: Problem #225 [Easy]\n",
    "\n",
    "This problem was asked by Bloomberg.\n",
    "\n",
    "There are N prisoners standing in a circle, waiting to be executed. The executions are carried out starting with the kth person, and removing every successive kth person going clockwise until there is no one left.\n",
    "\n",
    "Given N and k, write an algorithm to determine where a prisoner should stand in order to be the last survivor.\n",
    "\n",
    "For example, if N = 5 and k = 2, the order of executions would be [2, 4, 1, 5, 3], so you should return 3.\n",
    "\n",
    "Bonus: Find an O(log N) solution if k = 2."
   ]
  },
  {
   "cell_type": "code",
   "execution_count": 589,
   "metadata": {},
   "outputs": [],
   "source": [
    "from collections import deque\n",
    "from math import log2"
   ]
  },
  {
   "cell_type": "code",
   "execution_count": 592,
   "metadata": {},
   "outputs": [],
   "source": [
    "def executionOrder(N, k):\n",
    "    \n",
    "    # Bonus: If k == 2 in O(log N)\n",
    "    if k == 2:\n",
    "        logVal = 2 ** int(log2(N))\n",
    "        return 2*(N - logVal) + 1\n",
    "\n",
    "    prisoners = deque(range(1,N+1))\n",
    "    k %= len(prisoners)\n",
    "    k -=1; nxt = k\n",
    "    \n",
    "    while len(prisoners) > 1:\n",
    "        prev = nxt\n",
    "        del prisoners[nxt]\n",
    "        nxt = prev + k\n",
    "        nxt %= len(prisoners)\n",
    "    return prisoners[0]"
   ]
  },
  {
   "cell_type": "code",
   "execution_count": 593,
   "metadata": {},
   "outputs": [
    {
     "data": {
      "text/plain": [
       "3"
      ]
     },
     "execution_count": 593,
     "metadata": {},
     "output_type": "execute_result"
    }
   ],
   "source": [
    "# Test Code\n",
    "\n",
    "N, k = 5, 2\n",
    "\n",
    "executionOrder(N, k)"
   ]
  },
  {
   "cell_type": "markdown",
   "metadata": {},
   "source": [
    "### Daily Coding Problem: Problem #226 [Hard]\n",
    "\n",
    "This problem was asked by Airbnb.\n",
    "\n",
    "You come across a dictionary of sorted words in a language you've never seen before. Write a program that returns the correct order of letters in this language.\n",
    "\n",
    "For example, given ['xww', 'wxyz', 'wxyw', 'ywx', 'ywz'], you should return ['x', 'z', 'w', 'y']."
   ]
  },
  {
   "cell_type": "code",
   "execution_count": 621,
   "metadata": {},
   "outputs": [],
   "source": [
    "def orderOfLetters(words):\n",
    "    order = {}\n",
    "    \n",
    "    def bubblesort(letters):\n",
    "        for i in range(len(letters)-1, 0, -1):\n",
    "            swap = False\n",
    "            for j in range(i):\n",
    "                if compare(letters[j], letters[j+1]):\n",
    "                    swap = True\n",
    "                    letters[j], letters[j+1] = letters[j+1], letters[j]\n",
    "            if not swap: break\n",
    "        return letters\n",
    "                \n",
    "    def createOrder(A, B):\n",
    "        idx = 0\n",
    "        while A[idx] == B[idx]:\n",
    "            idx +=1\n",
    "            if idx == len(A): return\n",
    "            \n",
    "        if A[idx] in order: order[A[idx]].add(B[idx])\n",
    "        else: order[A[idx]] = {B[idx]}\n",
    "            \n",
    "    def compare(A, B):\n",
    "        if A in order[B][1]: return True\n",
    "        for val in order[B][1]:\n",
    "            if compare(A, val) is True:\n",
    "                return True\n",
    "        return False\n",
    "\n",
    "    for i in range(len(words)-1):\n",
    "        createOrder(words[i], words[i+1])\n",
    "    \n",
    "    return bubblesort([letter for letter in order])"
   ]
  },
  {
   "cell_type": "code",
   "execution_count": 622,
   "metadata": {},
   "outputs": [
    {
     "data": {
      "text/plain": [
       "['x', 'z', 'w', 'y']"
      ]
     },
     "execution_count": 622,
     "metadata": {},
     "output_type": "execute_result"
    }
   ],
   "source": [
    "# Test Code\n",
    "\n",
    "words = ['xww', 'wxyz', 'wxyw', 'ywx', 'ywz']\n",
    "\n",
    "orderOfLetters(words)"
   ]
  },
  {
   "cell_type": "markdown",
   "metadata": {},
   "source": [
    "### Daily Coding Problem: Problem #227 [Easy]\n",
    "\n",
    "This problem was asked by Facebook.\n",
    "\n",
    "Boggle is a game played on a 4 x 4 grid of letters. The goal is to find as many words as possible that can be formed by a sequence of adjacent letters in the grid, using each cell at most once. Given a game board and a dictionary of valid words, implement a Boggle solver."
   ]
  },
  {
   "cell_type": "code",
   "execution_count": 678,
   "metadata": {},
   "outputs": [],
   "source": [
    "def boggleSolver(grid, words):\n",
    "    trie, res = {}, set()\n",
    "    \n",
    "    for word in words:\n",
    "        cur = trie\n",
    "        for ch in word:\n",
    "            if ch not in cur:\n",
    "                cur[ch] = {}\n",
    "            cur = cur[ch]\n",
    "        cur['.'] = True\n",
    "    \n",
    "    def dfs(i, j, tr, cur, vis):\n",
    "        if i < 0 or j < 0 or i > 3 or j > 3: return\n",
    "        if (i,j) in vis: return\n",
    "            \n",
    "        val = grid[i][j]\n",
    "        if val in tr:\n",
    "            tr = tr[val]\n",
    "            cur.append(val)\n",
    "            if '.' in tr:\n",
    "                res.add(''.join(cur))\n",
    "            vis.add((i,j))\n",
    "            \n",
    "            dfs(i-1,  j,  tr, list(cur), set(vis))\n",
    "            dfs(i+1,  j,  tr, list(cur), set(vis))\n",
    "            dfs(i,  j-1,  tr, list(cur), set(vis))\n",
    "            dfs(i,  j+1,  tr, list(cur), set(vis))\n",
    "            dfs(i+1, j+1, tr, list(cur), set(vis))\n",
    "            dfs(i-1, j-1, tr, list(cur), set(vis))\n",
    "            dfs(i-1, j+1, tr, list(cur), set(vis))\n",
    "            dfs(i+1, j-1, tr, list(cur), set(vis))\n",
    "            \n",
    "            \n",
    "    for i in range(len(grid)):\n",
    "        for j in range(len(grid[0])):\n",
    "            dfs(i, j, trie, [], set())\n",
    "            \n",
    "    return list(res)"
   ]
  },
  {
   "cell_type": "markdown",
   "metadata": {},
   "source": [
    "### Daily Coding Problem: Problem #228 [Medium]\n",
    "\n",
    "This problem was asked by Twitter.\n",
    "\n",
    "Given a list of numbers, create an algorithm that arranges them in order to form the largest possible integer. For example, given [10, 7, 76, 415], you should return 77641510."
   ]
  },
  {
   "cell_type": "code",
   "execution_count": 736,
   "metadata": {},
   "outputs": [],
   "source": [
    "def largestNumber(nums):\n",
    "    nums = [str(i) for i in nums]\n",
    "\n",
    "    def bubblesort(nums):\n",
    "        for i in range(len(nums)-1, 0, -1):\n",
    "            swap = False\n",
    "            for j in range(i):\n",
    "                if compare(nums[j], nums[j+1]):\n",
    "                    swap = True\n",
    "                    nums[j], nums[j+1] = nums[j+1], nums[j]\n",
    "            if not swap: break\n",
    "        return nums\n",
    "    \n",
    "    def compare(A, B):\n",
    "        i = j = 0\n",
    "        while i < len(A) and j < len(B):\n",
    "            if int(A[i]) < int(B[j]): return True\n",
    "            elif int(A[i]) > int(B[j]): return False\n",
    "            i +=1; j+=1\n",
    "        \n",
    "        if i == len(A) and j == len(B): return False\n",
    "        \n",
    "        if i == len(A):\n",
    "            return compare(A, B[j:])\n",
    "        if i == len(B):\n",
    "            return compare(A[i:], B)\n",
    "    \n",
    "    bubblesort(nums)    \n",
    "    return int(\"\".join(nums))"
   ]
  },
  {
   "cell_type": "code",
   "execution_count": 737,
   "metadata": {},
   "outputs": [],
   "source": [
    "# Approach 2: Using python's sort comparator\n",
    "\n",
    "class compare(str):\n",
    "    def __lt__(A, B):\n",
    "        return A + B > B + A\n",
    "\n",
    "def largestNumber2(nums):\n",
    "    nums = [str(i) for i in nums]\n",
    "    nums.sort(key = compare)\n",
    "    return \"0\" if nums[0] == \"0\" else \"\".join(nums)"
   ]
  },
  {
   "cell_type": "code",
   "execution_count": 738,
   "metadata": {},
   "outputs": [
    {
     "data": {
      "text/plain": [
       "77641510"
      ]
     },
     "execution_count": 738,
     "metadata": {},
     "output_type": "execute_result"
    }
   ],
   "source": [
    "# Test Code\n",
    "\n",
    "nums = [10, 7, 76, 415]\n",
    "\n",
    "largestNumber(nums)"
   ]
  },
  {
   "cell_type": "markdown",
   "metadata": {},
   "source": [
    "### Daily Coding Problem: Problem #229 [Medium]\n",
    "\n",
    "This problem was asked by Flipkart.\n",
    "\n",
    "Snakes and Ladders is a game played on a 10 x 10 board, the goal of which is get from square 1 to square 100. On each turn players will roll a six-sided die and move forward a number of spaces equal to the result. If they land on a square that represents a snake or ladder, they will be transported ahead or behind, respectively, to a new square.\n",
    "\n",
    "Find the smallest number of turns it takes to play snakes and ladders.\n",
    "\n",
    "For convenience, here are the squares representing snakes and ladders, and their outcomes:\n",
    "\n",
    "snakes = {16: 6, 48: 26, 49: 11, 56: 53, 62: 19, 64: 60, 87: 24, 93: 73, 95: 75, 98: 78}\n",
    "\n",
    "ladders = {1: 38, 4: 14, 9: 31, 21: 42, 28: 84, 36: 44, 51: 67, 71: 91, 80: 100}"
   ]
  },
  {
   "cell_type": "code",
   "execution_count": 834,
   "metadata": {},
   "outputs": [],
   "source": [
    "def smallest_turns(snakes, ladders):\n",
    "    \n",
    "    dp = [float('inf')]*101\n",
    "    i = 1\n",
    "    \n",
    "    while i <= 100:\n",
    "        if i == 1: cur = 0\n",
    "        else: cur = min(dp[i], min(dp[max(1,i-6):i]) + 1)\n",
    "        if i not in snakes:\n",
    "            dp[i] = cur\n",
    "        if i in ladders:\n",
    "            dp[ladders[i]] = dp[i]\n",
    "        if i in snakes:\n",
    "            if dp[snakes[i]] > cur:\n",
    "                dp[snakes[i]] = cur\n",
    "                i = snakes[i]\n",
    "        i +=1\n",
    "        \n",
    "    return dp[-1]"
   ]
  },
  {
   "cell_type": "code",
   "execution_count": 835,
   "metadata": {
    "scrolled": true
   },
   "outputs": [
    {
     "data": {
      "text/plain": [
       "6"
      ]
     },
     "execution_count": 835,
     "metadata": {},
     "output_type": "execute_result"
    }
   ],
   "source": [
    "# Test Code\n",
    "\n",
    "snakes = {16: 6, 48: 26, 49: 11, 56: 53, 62: 19, 64: 60, 87: 24, 93: 73, 95: 75, 98: 78}\n",
    "ladders = {1: 38, 4: 14, 9: 31, 21: 42, 28: 84, 36: 44, 51: 67, 71: 91, 80: 100}\n",
    "\n",
    "smallest_turns(snakes, ladders)"
   ]
  },
  {
   "cell_type": "markdown",
   "metadata": {},
   "source": [
    "### Daily Coding Problem: Problem #230 [Medium]\n",
    "\n",
    "This problem was asked by Goldman Sachs.\n",
    "\n",
    "You are given N identical eggs and access to a building with k floors. Your task is to find the lowest floor that will cause an egg to break, if dropped from that floor. Once an egg breaks, it cannot be dropped again. If an egg breaks when dropped from the xth floor, you can assume it will also break when dropped from any floor greater than x.\n",
    "\n",
    "Write an algorithm that finds the minimum number of trial drops it will take, in the worst case, to identify this floor.\n",
    "\n",
    "For example, if N = 1 and k = 5, we will need to try dropping the egg at every floor, beginning with the first, until we reach the fifth floor, so our solution will be 5."
   ]
  },
  {
   "cell_type": "code",
   "execution_count": 964,
   "metadata": {},
   "outputs": [],
   "source": [
    "def minEggDrop(n, k):  \n",
    "    eggFloor = [[0 for x in range(k + 1)] for x in range(n + 1)] \n",
    "  \n",
    "    for i in range(1, n + 1): \n",
    "        eggFloor[i][1] = 1\n",
    "        eggFloor[i][0] = 0\n",
    "  \n",
    "    # We always need floor level number of trials for one egg. \n",
    "    for floor in range(1, k + 1): \n",
    "        eggFloor[1][floor] = floor\n",
    "  \n",
    "    # Fill rest of the entries in table using optimal substructure property \n",
    "    for i in range(2, n + 1): \n",
    "        for j in range(2, k + 1): \n",
    "            eggFloor[i][j] = float(\"inf\")\n",
    "            for floor in range(1, j + 1): \n",
    "                res = 1 + max(eggFloor[i-1][floor-1], eggFloor[i][j-floor]) \n",
    "                if res < eggFloor[i][j]: \n",
    "                    eggFloor[i][j] = res \n",
    "  \n",
    "    return eggFloor[n][k] "
   ]
  },
  {
   "cell_type": "code",
   "execution_count": 965,
   "metadata": {},
   "outputs": [
    {
     "data": {
      "text/plain": [
       "5"
      ]
     },
     "execution_count": 965,
     "metadata": {},
     "output_type": "execute_result"
    }
   ],
   "source": [
    "# Test code\n",
    "\n",
    "N, k = 1, 5\n",
    "\n",
    "minEggDrop(N, k)"
   ]
  },
  {
   "cell_type": "code",
   "execution_count": 967,
   "metadata": {},
   "outputs": [
    {
     "data": {
      "text/plain": [
       "2"
      ]
     },
     "execution_count": 967,
     "metadata": {},
     "output_type": "execute_result"
    }
   ],
   "source": [
    "minEggDrop(20, 2)"
   ]
  },
  {
   "cell_type": "markdown",
   "metadata": {},
   "source": [
    "### Daily Coding Problem: Problem #231 [Easy]\n",
    "\n",
    "This problem was asked by IBM.\n",
    "\n",
    "Given a string with repeated characters, rearrange the string so that no two adjacent characters are the same. If this is not possible, return None.\n",
    "\n",
    "For example, given \"aaabbc\", you could return \"ababac\". Given \"aaab\", return None."
   ]
  },
  {
   "cell_type": "code",
   "execution_count": 903,
   "metadata": {},
   "outputs": [],
   "source": [
    "from collections import Counter\n",
    "from heapq import heappop, heappush, heapify"
   ]
  },
  {
   "cell_type": "code",
   "execution_count": 904,
   "metadata": {},
   "outputs": [],
   "source": [
    "def rearrange(s):\n",
    "    c, heap, res = Counter(s), [], []\n",
    "    heapify(heap)\n",
    "    \n",
    "    for ch in c:\n",
    "        if c[ch] > (len(s)/2 + 0.5):\n",
    "            return None\n",
    "        heappush(heap, (-c[ch], ch))\n",
    "    \n",
    "    while heap:\n",
    "        if len(heap) == 1:\n",
    "            res.append(heappop(heap)[1])\n",
    "            break\n",
    "            \n",
    "        count1, ch1 = heappop(heap)\n",
    "        count2, ch2 = heappop(heap)\n",
    "        if count1 < -1:\n",
    "            heappush(heap, (count1+1, ch1))\n",
    "        if count2 < -1:\n",
    "            heappush(heap, (count2+1, ch2))\n",
    "        res += [ch1, ch2]\n",
    "            \n",
    "    return \"\".join(res)"
   ]
  },
  {
   "cell_type": "code",
   "execution_count": 905,
   "metadata": {},
   "outputs": [
    {
     "data": {
      "text/plain": [
       "'abaca'"
      ]
     },
     "execution_count": 905,
     "metadata": {},
     "output_type": "execute_result"
    }
   ],
   "source": [
    "# Test Code\n",
    "\n",
    "s1 = \"aaabc\"\n",
    "s2 = \"aaab\"\n",
    "\n",
    "rearrange(s1)"
   ]
  },
  {
   "cell_type": "code",
   "execution_count": 906,
   "metadata": {},
   "outputs": [],
   "source": [
    "rearrange(s2)"
   ]
  },
  {
   "cell_type": "markdown",
   "metadata": {},
   "source": [
    "### Daily Coding Problem: Problem #232 [Easy]\n",
    "\n",
    "This problem was asked by Google.\n",
    "\n",
    "Implement a PrefixMapSum class with the following methods:\n",
    "\n",
    "- insert(key: str, value: int): Set a given key's value in the map. If the key already exists, overwrite the value.\n",
    "\n",
    "- sum(prefix: str): Return the sum of all values of keys that begin with a given prefix.\n",
    "\n",
    "For example, you should be able to run the following code:\n",
    "\n",
    "- mapsum.insert(\"columnar\", 3)\n",
    "- assert mapsum.sum(\"col\") == 3\n",
    "\n",
    "\n",
    "- mapsum.insert(\"column\", 2)\n",
    "- assert mapsum.sum(\"col\") == 5"
   ]
  },
  {
   "cell_type": "code",
   "execution_count": 1057,
   "metadata": {},
   "outputs": [],
   "source": [
    "class PrefixMapSum:\n",
    "    def __init__ (self):\n",
    "        self.trie = {}\n",
    "        self.words = {}\n",
    "        \n",
    "    def insert(self, word, val):\n",
    "        if word in self.words:\n",
    "            preVal = self.words[word]\n",
    "            self.words[word] = val\n",
    "            val = val - preVal\n",
    "        else:\n",
    "            self.words[word] = val\n",
    "            \n",
    "        cur = self.trie\n",
    "        for ch in word:\n",
    "            if ch not in cur:\n",
    "                cur[ch] = {'*':0}\n",
    "            cur = cur[ch]\n",
    "            cur['*'] +=val\n",
    "        cur['.'] = True\n",
    "        \n",
    "    def sum(self, word):\n",
    "        cur = self.trie\n",
    "        for ch in word:\n",
    "            if ch not in cur:\n",
    "                return 0\n",
    "            cur = cur[ch]\n",
    "        return cur['*']"
   ]
  },
  {
   "cell_type": "code",
   "execution_count": 1058,
   "metadata": {},
   "outputs": [
    {
     "data": {
      "text/plain": [
       "3"
      ]
     },
     "execution_count": 1058,
     "metadata": {},
     "output_type": "execute_result"
    }
   ],
   "source": [
    "# Test Code\n",
    "\n",
    "mapsum = PrefixMapSum()\n",
    "\n",
    "mapsum.insert(\"columnar\", 3)\n",
    "mapsum.sum(\"col\")"
   ]
  },
  {
   "cell_type": "code",
   "execution_count": 1059,
   "metadata": {},
   "outputs": [
    {
     "data": {
      "text/plain": [
       "5"
      ]
     },
     "execution_count": 1059,
     "metadata": {},
     "output_type": "execute_result"
    }
   ],
   "source": [
    "mapsum.insert(\"column\", 2)\n",
    "mapsum.sum(\"col\")"
   ]
  },
  {
   "cell_type": "markdown",
   "metadata": {},
   "source": [
    "### Daily Coding Problem: Problem #233 [Easy]\n",
    "\n",
    "This problem was asked by Apple.\n",
    "\n",
    "Implement the function fib(n), which returns the nth number in the Fibonacci sequence, using only O(1) space."
   ]
  },
  {
   "cell_type": "code",
   "execution_count": 1073,
   "metadata": {},
   "outputs": [],
   "source": [
    "def fib(n):\n",
    "    a, b = 0, 1\n",
    "    for i in range(n):\n",
    "        a, b = b, a+b\n",
    "    return a"
   ]
  },
  {
   "cell_type": "code",
   "execution_count": null,
   "metadata": {},
   "outputs": [],
   "source": []
  },
  {
   "cell_type": "code",
   "execution_count": null,
   "metadata": {},
   "outputs": [],
   "source": []
  },
  {
   "cell_type": "markdown",
   "metadata": {},
   "source": [
    "### Daily Coding Problem: Problem #235 [Hard]\n",
    "\n",
    "This problem was asked by Facebook.\n",
    "\n",
    "Given an array of numbers of length N, find both the minimum and maximum using less than 2 * (N - 2) comparisons."
   ]
  },
  {
   "cell_type": "code",
   "execution_count": 59,
   "metadata": {},
   "outputs": [],
   "source": [
    "def minAndMax(nums):\n",
    "    mx = max(nums[0], nums[1])\n",
    "    mn = min(nums[0], nums[1])\n",
    "    \n",
    "    for i in range(3, len(nums)-1, 2):\n",
    "        if nums[i] > nums[i+1]:\n",
    "            a = nums[i]\n",
    "            b = nums[i+1]\n",
    "        else:\n",
    "            a = nums[i+1]\n",
    "            b = nums[i]\n",
    "        mx = max(mx, a)\n",
    "        mn = min(mn, b)\n",
    "    mx = max(mx, nums[-1])\n",
    "    mn = min(mn, nums[-1])\n",
    "    \n",
    "    return mx,mn"
   ]
  },
  {
   "cell_type": "code",
   "execution_count": null,
   "metadata": {},
   "outputs": [],
   "source": []
  },
  {
   "cell_type": "markdown",
   "metadata": {},
   "source": [
    "### Daily Coding Problem: Problem #237 [Easy]\n",
    "\n",
    "This problem was asked by Amazon.\n",
    "\n",
    "A tree is symmetric if its data and shape remain unchanged when it is reflected about the root node. The following tree is an example:\n",
    "\n",
    "            4\n",
    "          / | \\\n",
    "        3   5   3\n",
    "      /           \\\n",
    "    9              9\n",
    "\n",
    "Given a k-ary tree, determine whether it is symmetric."
   ]
  },
  {
   "cell_type": "code",
   "execution_count": 56,
   "metadata": {},
   "outputs": [],
   "source": [
    "from collections import deque"
   ]
  },
  {
   "cell_type": "code",
   "execution_count": 57,
   "metadata": {},
   "outputs": [],
   "source": [
    "def issymmetric(root):\n",
    "    queue = deque([(root,0)])\n",
    "    level = []\n",
    "     \n",
    "    while queue:\n",
    "        cur, lvl = queue.popleft()\n",
    "        if level and level[0] == lvl:\n",
    "            if cur: level[1].append(cur.val)\n",
    "            else: level[1].append(cur)\n",
    "        else:\n",
    "            if level and level[1] != level[1][::-1]:\n",
    "                return False\n",
    "            if cur: level = [lvl, [cur.val]]\n",
    "            else: level = [lvl, [cur]]\n",
    "        if cur:\n",
    "            for child in cur.children:\n",
    "                queue.append((child, lvl+1))\n",
    "    return True"
   ]
  },
  {
   "cell_type": "code",
   "execution_count": 58,
   "metadata": {},
   "outputs": [
    {
     "data": {
      "text/plain": [
       "True"
      ]
     },
     "execution_count": 58,
     "metadata": {},
     "output_type": "execute_result"
    }
   ],
   "source": [
    "# Test Code\n",
    "\n",
    "class Node:\n",
    "    def __init__(self, val, k):\n",
    "        self.val = val\n",
    "        self.children = [None]*k\n",
    "        \n",
    "    def __repr__(self):\n",
    "        return f'{self.val} -> {self.children}'\n",
    "\n",
    "k = 3 # trinary tree\n",
    "root = Node(4,k)\n",
    "root.children[0] = Node(3,k)\n",
    "root.children[1] = Node(5,k)\n",
    "root.children[2] = Node(3,k)\n",
    "root.children[0].children[0] = Node(9,k)\n",
    "root.children[2].children[2] = Node(9,k)\n",
    "\n",
    "issymmetric(root)"
   ]
  },
  {
   "cell_type": "code",
   "execution_count": null,
   "metadata": {},
   "outputs": [],
   "source": []
  },
  {
   "cell_type": "markdown",
   "metadata": {},
   "source": [
    "### Daily Coding Problem: Problem #271 [Hard]\n",
    "\n",
    "This problem was asked by Netflix.\n",
    "\n",
    "Given a sorted list of integers of length N, determine if an element x is in the list without performing any multiplication, division, or bit-shift operations.\n",
    "\n",
    "Do this in O(log N) time."
   ]
  },
  {
   "cell_type": "code",
   "execution_count": 26,
   "metadata": {},
   "outputs": [],
   "source": [
    "def findElem(nums, x):\n",
    "    left, right = 0, len(nums)\n",
    "    while left < right:\n",
    "        mid = (right + left) // 2\n",
    "        if nums[mid] >= x:\n",
    "            right = mid\n",
    "        else:\n",
    "            left = mid + 1\n",
    "    return left"
   ]
  },
  {
   "cell_type": "code",
   "execution_count": 28,
   "metadata": {},
   "outputs": [
    {
     "data": {
      "text/plain": [
       "1"
      ]
     },
     "execution_count": 28,
     "metadata": {},
     "output_type": "execute_result"
    }
   ],
   "source": [
    "findElem([4], 5)"
   ]
  },
  {
   "cell_type": "code",
   "execution_count": null,
   "metadata": {},
   "outputs": [],
   "source": []
  },
  {
   "cell_type": "markdown",
   "metadata": {},
   "source": [
    "### Daily Coding Problem: Problem #273 [Easy]\n",
    "\n",
    "This problem was asked by Apple.\n",
    "\n",
    "A fixed point in an array is an element whose value is equal to its index. Given a sorted array of distinct elements, return a fixed point, if one exists. Otherwise, return False.\n",
    "\n",
    "For example, given [-6, 0, 2, 40], you should return 2. Given [1, 5, 7, 8], you should return False"
   ]
  },
  {
   "cell_type": "code",
   "execution_count": 21,
   "metadata": {},
   "outputs": [],
   "source": [
    "def fixedPoint(nums):\n",
    "    for i in range(len(nums)):\n",
    "        if nums[i] == i:\n",
    "            return i\n",
    "    return False"
   ]
  },
  {
   "cell_type": "code",
   "execution_count": 22,
   "metadata": {},
   "outputs": [
    {
     "data": {
      "text/plain": [
       "2"
      ]
     },
     "execution_count": 22,
     "metadata": {},
     "output_type": "execute_result"
    }
   ],
   "source": [
    "# Test Code\n",
    "\n",
    "nums = [-6, 0, 2, 40]\n",
    "fixedPoint(nums)"
   ]
  },
  {
   "cell_type": "code",
   "execution_count": null,
   "metadata": {},
   "outputs": [],
   "source": []
  },
  {
   "cell_type": "markdown",
   "metadata": {},
   "source": [
    "### Daily Coding Problem: Problem #275 [Medium]\n",
    "\n",
    "This problem was asked by Epic.\n",
    "\n",
    "The \"look and say\" sequence is defined as follows: beginning with the term 1, each subsequent term visually describes the digits appearing in the previous term. The first few terms are as follows:\n",
    "\n",
    "    1\n",
    "    11\n",
    "    21\n",
    "    1211\n",
    "    111221\n",
    "    \n",
    "As an example, the fourth term is 1211, since the third term consists of one 2 and one 1.\n",
    "\n",
    "Given an integer N, print the Nth term of this sequence."
   ]
  },
  {
   "cell_type": "code",
   "execution_count": 18,
   "metadata": {},
   "outputs": [],
   "source": [
    "def lookAndSay(n):\n",
    "    res = [\"1\"]\n",
    "    for _ in range(1, n):\n",
    "        temp = []\n",
    "        prev = None\n",
    "        for num in res:\n",
    "            if not prev:\n",
    "                prev = num; tot = 1\n",
    "            elif num == prev:\n",
    "                tot +=1\n",
    "            else:\n",
    "                temp += [str(tot), str(prev)]\n",
    "                prev = num; tot = 1\n",
    "        temp += [str(tot), str(prev)]\n",
    "        res = temp\n",
    "    return \"\".join(res)"
   ]
  },
  {
   "cell_type": "code",
   "execution_count": 19,
   "metadata": {},
   "outputs": [
    {
     "data": {
      "text/plain": [
       "'1211'"
      ]
     },
     "execution_count": 19,
     "metadata": {},
     "output_type": "execute_result"
    }
   ],
   "source": [
    "# Test Code\n",
    "\n",
    "n = 4\n",
    "\n",
    "lookAndSay(n)"
   ]
  },
  {
   "cell_type": "code",
   "execution_count": null,
   "metadata": {},
   "outputs": [],
   "source": []
  },
  {
   "cell_type": "markdown",
   "metadata": {},
   "source": [
    "### Daily Coding Problem: Problem #279 [Easy]\n",
    "\n",
    "This problem was asked by Twitter.\n",
    "\n",
    "A classroom consists of N students, whose friendships can be represented in an adjacency list. For example, the following descibes a situation where 0 is friends with 1 and 2, 3 is friends with 6, and so on.\n",
    "\n",
    "    {0: [1, 2],\n",
    "     1: [0, 5],\n",
    "     2: [0],\n",
    "     3: [6],\n",
    "     4: [],\n",
    "     5: [1],\n",
    "     6: [3]} \n",
    " \n",
    "Each student can be placed in a friend group, which can be defined as the transitive closure of that student's friendship relations. In other words, this is the smallest set such that no student in the group has any friends outside this group. For the example above, the friend groups would be {0, 1, 2, 5}, {3, 6}, {4}.\n",
    "\n",
    "Given a friendship list such as the one above, determine the number of friend groups in the class."
   ]
  },
  {
   "cell_type": "code",
   "execution_count": 44,
   "metadata": {},
   "outputs": [],
   "source": [
    "def numFriendGroups(graph):\n",
    "    \n",
    "    res, seen = [], set()\n",
    "    \n",
    "    def join(student, cur):\n",
    "        if student in seen:\n",
    "            return\n",
    "        \n",
    "        seen.add(student)\n",
    "        for friend in graph[student]:\n",
    "            cur.add(friend)\n",
    "            join(friend, cur)\n",
    "            \n",
    "        return cur\n",
    "    \n",
    "    for student in graph:\n",
    "        arr = join(student, {student})\n",
    "        if arr:\n",
    "            res.append(list(arr))\n",
    "        \n",
    "    return res"
   ]
  },
  {
   "cell_type": "code",
   "execution_count": 45,
   "metadata": {},
   "outputs": [
    {
     "data": {
      "text/plain": [
       "[[0, 1, 2, 5], [3, 6], [4]]"
      ]
     },
     "execution_count": 45,
     "metadata": {},
     "output_type": "execute_result"
    }
   ],
   "source": [
    "# Test Code\n",
    "\n",
    "graph = {0: [1, 2], 1: [0, 5], 2: [0], 3: [6], 4: [], 5: [1], 6: [3]}\n",
    "\n",
    "numFriendGroups(graph)"
   ]
  },
  {
   "cell_type": "code",
   "execution_count": null,
   "metadata": {},
   "outputs": [],
   "source": []
  },
  {
   "cell_type": "markdown",
   "metadata": {},
   "source": [
    "### Daily Coding Problem: Problem #288 [Medium]\n",
    "\n",
    "This problem was asked by Salesforce.\n",
    "\n",
    "The number 6174 is known as Kaprekar's contant, after the mathematician who discovered an associated property: for all four-digit numbers with at least two distinct digits, repeatedly applying a simple procedure eventually results in this value. The procedure is as follows:\n",
    "\n",
    "For a given input x, create two new numbers that consist of the digits in x in ascending and descending order.\n",
    "Subtract the smaller number from the larger number.\n",
    "For example, this algorithm terminates in three steps when starting from 1234:\n",
    "\n",
    "    4321 - 1234 = 3087\n",
    "    8730 - 0378 = 8352\n",
    "    8532 - 2358 = 6174\n",
    "\n",
    "Write a function that returns how many steps this will take for a given input N."
   ]
  },
  {
   "cell_type": "code",
   "execution_count": 6,
   "metadata": {},
   "outputs": [],
   "source": [
    "def numOfSteps(x):\n",
    "    if len(str(x)) != 4 or len(set(str(x))) < 2:\n",
    "        return \"Invalid input\"\n",
    "    \n",
    "    val, count = str(x), 0\n",
    "    while True:\n",
    "        count +=1\n",
    "        ordered = sorted(val)\n",
    "        val = str(int(''.join(ordered[::-1])) - int(''.join(ordered)))\n",
    "        if val == '6174': return count"
   ]
  },
  {
   "cell_type": "code",
   "execution_count": 9,
   "metadata": {},
   "outputs": [
    {
     "data": {
      "text/plain": [
       "3"
      ]
     },
     "execution_count": 9,
     "metadata": {},
     "output_type": "execute_result"
    }
   ],
   "source": [
    "# Test Code\n",
    "\n",
    "n = 4321\n",
    "\n",
    "numOfSteps(n)"
   ]
  },
  {
   "cell_type": "code",
   "execution_count": null,
   "metadata": {},
   "outputs": [],
   "source": []
  },
  {
   "cell_type": "markdown",
   "metadata": {},
   "source": [
    "### Daily Coding Problem: Problem #296 [Hard]\n",
    "\n",
    "This problem was asked by Etsy.\n",
    "\n",
    "Given a sorted array, convert it into a height-balanced binary search tree."
   ]
  },
  {
   "cell_type": "code",
   "execution_count": 10,
   "metadata": {},
   "outputs": [],
   "source": [
    "#  Print tree util\n",
    "def printTree(root, space=1, height=10):\n",
    " \n",
    "    # Base case\n",
    "    if root is None:\n",
    "        return\n",
    " \n",
    "    # increase distance between levels\n",
    "    space += height\n",
    " \n",
    "    # print right child first\n",
    "    printTree(root.rbranch, space, height)\n",
    "    print()\n",
    " \n",
    "    # print the current node after padding with spaces\n",
    "    for i in range(height, space):\n",
    "        print(' ', end='')\n",
    " \n",
    "    print(root.val, end='')\n",
    " \n",
    "    # print left child\n",
    "    print()\n",
    "    printTree(root.lbranch, space, height)"
   ]
  },
  {
   "cell_type": "code",
   "execution_count": 11,
   "metadata": {},
   "outputs": [],
   "source": [
    "# Solving with AVL trees\n",
    "\n",
    "class Node:\n",
    "    def __init__(self, val, lbranch=None, rbranch=None):\n",
    "        self.val = val\n",
    "        self.lbranch = lbranch\n",
    "        self.rbranch = rbranch\n",
    "        self.bf = 0\n",
    "        self.height = 0\n",
    "\n",
    "class AVLTree:\n",
    "    def __init__(self):\n",
    "        self.root = None\n",
    "        \n",
    "    def contains(self, val):\n",
    "        if not self.root:\n",
    "            return False\n",
    "        node = self.root\n",
    "        while node:\n",
    "            if node.val == val:\n",
    "                return True\n",
    "            if val > node.val:\n",
    "                node = node.rbranch\n",
    "            else:\n",
    "                node = node.lbranch\n",
    "        return False\n",
    "        \n",
    "    def insert(self, val):\n",
    "        if self.contains(val):\n",
    "            return False\n",
    "        if not self.root:\n",
    "            self.root = Node(val)\n",
    "        else:\n",
    "            self._insert(self.root, val)\n",
    "        return True\n",
    "    \n",
    "    def _insert(self, node, val):\n",
    "        if not node:\n",
    "            return Node(val)\n",
    "        if val < node.val:\n",
    "            node.lbranch = self._insert(node.lbranch, val)\n",
    "        else:\n",
    "            node.rbranch = self._insert(node.rbranch, val)\n",
    "            \n",
    "        self._update(node)\n",
    "        \n",
    "        return self._balance(node)\n",
    "    \n",
    "    def _update(self, node):\n",
    "        if not node:\n",
    "            return\n",
    "        lh = -1\n",
    "        rh = -1\n",
    "        if node.lbranch:\n",
    "            lh = node.lbranch.height\n",
    "        if node.rbranch:\n",
    "            rh = node.rbranch.height\n",
    "        \n",
    "        node.height = 1 + max(lh, rh)\n",
    "        \n",
    "        node.bf = rh - lh\n",
    "        \n",
    "    def _balance(self, node):\n",
    "        if not node or abs(node.bf) < 2:\n",
    "            return node\n",
    "        \n",
    "        if node.bf == -2:\n",
    "            if node.lbranch.bf == 1:\n",
    "                node.lbranch = self._leftRotation(node.lbranch)\n",
    "            newNode = self._rightRotation(node)\n",
    "        else:\n",
    "            if node.rbranch.bf == -1:\n",
    "                node.rbranch = self._rightRotation(node.rbranch)\n",
    "            newNode = self._leftRotation(node)\n",
    "        if node == self.root:\n",
    "            self.root = newNode\n",
    "        return newNode\n",
    "    \n",
    "    def _leftRotation(self, node):\n",
    "        rightNode = node.rbranch\n",
    "        node.rbranch = rightNode.lbranch\n",
    "        rightNode.lbranch = node\n",
    "        self._update(node)\n",
    "        self._update(rightNode)\n",
    "        return rightNode\n",
    "    \n",
    "    def _rightRotation(self, node):\n",
    "        leftNode = node.lbranch\n",
    "        node.lbranch = leftNode.rbranch\n",
    "        leftNode.rbranch = node\n",
    "        self._update(node)\n",
    "        self._update(leftNode)\n",
    "        return leftNode\n",
    "        \n",
    "    \n",
    "    def remove(self, val):\n",
    "        if not self.root:\n",
    "            return None\n",
    "        if not self.contains(val):\n",
    "            return None\n",
    "        self.root = self._remove(self.root, val)\n",
    "        return val\n",
    "    \n",
    "    def _remove(self, node, val):\n",
    "        if val < node.val:\n",
    "            node.lbranch = self._remove(node.lbranch, val)\n",
    "        elif val > node.val:\n",
    "            node.rbranch = self._remove(node.rbranch, val)\n",
    "        else:\n",
    "            if node.height == 0:\n",
    "                return None\n",
    "            if not node.rbranch:\n",
    "                return node.lbranch\n",
    "            if not node.lbranch:\n",
    "                return node.rbranch\n",
    "            swapNode = self._getMin(node.rbranch)\n",
    "            self._remove(node, swapNode.val)\n",
    "            node.val = swapNode.val\n",
    "        self._update(node)\n",
    "        return self._balance(node)\n",
    "            \n",
    "    def _getMin(self, node):\n",
    "        while node.lbranch:\n",
    "            node = node.lbranch\n",
    "        return node"
   ]
  },
  {
   "cell_type": "code",
   "execution_count": 12,
   "metadata": {},
   "outputs": [],
   "source": [
    "def arrayToBinaryTree(arr):\n",
    "    tree = AVLTree()\n",
    "    \n",
    "    for elem in arr:\n",
    "        tree.insert(elem)\n",
    "    \n",
    "    return tree"
   ]
  },
  {
   "cell_type": "markdown",
   "metadata": {},
   "source": [
    "### Daily Coding Problem: Problem #297 [Medium]\n",
    "\n",
    "This problem was asked by Amazon.\n",
    "\n",
    "At a popular bar, each customer has a set of favorite drinks, and will happily accept any drink among this set. For example, in the following situation, customer 0 will be satisfied with drinks 0, 1, 3, or 6.\n",
    "\n",
    "\n",
    "    preferences = {\n",
    "        0: [0, 1, 3, 6],\n",
    "        1: [1, 4, 7],\n",
    "        2: [2, 4, 7, 5],\n",
    "        3: [3, 2, 5],\n",
    "        4: [5, 8]\n",
    "    }\n",
    "\n",
    "A lazy bartender working at this bar is trying to reduce his effort by limiting the drink recipes he must memorize. Given a dictionary input such as the one above, return the fewest number of drinks he must learn in order to satisfy all customers.\n",
    "\n",
    "For the input above, the answer would be 2, as drinks 1 and 5 will satisfy everyone."
   ]
  },
  {
   "cell_type": "code",
   "execution_count": 29,
   "metadata": {},
   "outputs": [],
   "source": [
    "from collections import defaultdict\n",
    "\n",
    "def minimumDrinks(preferences):\n",
    "    res = []\n",
    "    drinksMap = defaultdict(set)\n",
    "    \n",
    "    for k, v in preferences.items():\n",
    "        for drink in v:\n",
    "            drinksMap[drink].add(k)\n",
    "            \n",
    "    customers = set()\n",
    "    \n",
    "    while len(customers) < len(preferences):\n",
    "        usedDrink = None\n",
    "        tempCustomers = set(customers)\n",
    "        for k, v in drinksMap.items():\n",
    "            if len(customers | v) > len(tempCustomers):\n",
    "                tempCustomers = customers | v\n",
    "                usedDrink = k\n",
    "        customers = tempCustomers\n",
    "        drinksMap.pop(usedDrink, None)\n",
    "        res.append(usedDrink)\n",
    "        \n",
    "    return res"
   ]
  },
  {
   "cell_type": "code",
   "execution_count": 30,
   "metadata": {},
   "outputs": [
    {
     "data": {
      "text/plain": [
       "[5, 1]"
      ]
     },
     "execution_count": 30,
     "metadata": {},
     "output_type": "execute_result"
    }
   ],
   "source": [
    "# Test Code\n",
    "\n",
    "preferences = {\n",
    "    0: [0, 1, 3, 6],\n",
    "    1: [1, 4, 7],\n",
    "    2: [2, 4, 7, 5],\n",
    "    3: [3, 2, 5],\n",
    "    4: [5, 8]\n",
    "}\n",
    "\n",
    "minimumDrinks(preferences)"
   ]
  },
  {
   "cell_type": "markdown",
   "metadata": {},
   "source": [
    "### Daily Coding Problem: Problem #298 [Easy]\n",
    "\n",
    "This problem was asked by Google.\n",
    "\n",
    "A girl is walking along an apple orchard with a bag in each hand. She likes to pick apples from each tree as she goes along, but is meticulous about not putting different kinds of apples in the same bag.\n",
    "\n",
    "Given an input describing the types of apples she will pass on her path, in order, determine the length of the longest portion of her path that consists of just two types of apple trees.\n",
    "\n",
    "For example, given the input [2, 1, 2, 3, 3, 1, 3, 5], the longest portion will involve types 1 and 3, with a length of four."
   ]
  },
  {
   "cell_type": "code",
   "execution_count": 47,
   "metadata": {},
   "outputs": [],
   "source": [
    "def longestPathWithTwoApples(apples):\n",
    "    res = temp = 0\n",
    "    curr = [apples[0]]\n",
    "    positions = {apples[0]: 0}\n",
    "    \n",
    "    for i in range(1, len(apples)):\n",
    "        if apples[i] not in curr:\n",
    "            if len(curr) == 2:\n",
    "                curr = [apples[i-1]]\n",
    "            temp = i - positions[apples[i-1]] + 1\n",
    "            curr.append(apples[i])\n",
    "            positions[apples[i]] = i\n",
    "        else:\n",
    "            if apples[i] != apples[i-1]:\n",
    "                positions[apples[i]] = i\n",
    "            temp += 1\n",
    "        res = max(temp, res)\n",
    "    return res"
   ]
  },
  {
   "cell_type": "code",
   "execution_count": 48,
   "metadata": {},
   "outputs": [
    {
     "data": {
      "text/plain": [
       "4"
      ]
     },
     "execution_count": 48,
     "metadata": {},
     "output_type": "execute_result"
    }
   ],
   "source": [
    "# Test Code\n",
    "\n",
    "apples = [2, 1, 2, 3, 3, 1, 3, 5]\n",
    "\n",
    "longestPathWithTwoApples(apples)"
   ]
  },
  {
   "cell_type": "markdown",
   "metadata": {},
   "source": [
    "### Daily Coding Problem: Problem #299 [Medium]\n",
    "\n",
    "This problem was asked by Samsung.\n",
    "\n",
    "A group of houses is connected to the main water plant by means of a set of pipes. A house can either be connected by a set of pipes extending directly to the plant, or indirectly by a pipe to a nearby house which is otherwise connected.\n",
    "\n",
    "For example, here is a possible configuration, where A, B, and C are houses, and arrows represent pipes:\n",
    "\n",
    "    A <--> B <--> C <--> plant\n",
    "    \n",
    "Each pipe has an associated cost, which the utility company would like to minimize. Given an undirected graph of pipe connections, return the lowest cost configuration of pipes such that each house has access to water.\n",
    "\n",
    "In the following setup, for example, we can remove all but the pipes from plant to A, plant to B, and B to C, for a total cost of 16.\n",
    "\n",
    "    pipes = {\n",
    "        'plant': {'A': 1, 'B': 5, 'C': 20},\n",
    "        'A': {'C': 15},\n",
    "        'B': {'C': 10},\n",
    "        'C': {}\n",
    "    }"
   ]
  },
  {
   "cell_type": "code",
   "execution_count": 138,
   "metadata": {},
   "outputs": [],
   "source": [
    "from collections import defaultdict\n",
    "\n",
    "# Using kruskal's minimum spanning tree\n",
    "def minimumSpanningTree(pipes):\n",
    "    idMap = {}\n",
    "    costs = []\n",
    "    \n",
    "    parents = list(range(len(pipes)))\n",
    "    childCount = [1] * len(pipes)\n",
    "    \n",
    "    for i, (k, v) in enumerate(pipes.items()):\n",
    "        for pair in v.items():\n",
    "            costs.append((pair[1], k, pair[0]))\n",
    "        idMap[k] = i\n",
    "    \n",
    "    costs.sort(key = lambda x: x[0])\n",
    "    \n",
    "    def find(p):\n",
    "        root = p\n",
    "        while root != parents[root]:\n",
    "            root = parents[root]\n",
    "        \n",
    "        # Path compression         \n",
    "        while p != root:\n",
    "            nextP = parents[p]\n",
    "            parents[p] = root\n",
    "            p = nextP\n",
    "            \n",
    "        return root\n",
    "    \n",
    "    def join(x, y):\n",
    "        a = idMap[x]\n",
    "        b = idMap[y]\n",
    "               \n",
    "        if find(a) == find(b):\n",
    "            return False\n",
    "        if childCount[a] > childCount[b]:\n",
    "            parents[b] = parents[a]\n",
    "            childCount[b] += childCount[a]\n",
    "        else:\n",
    "            parents[a] = parents[b]\n",
    "            childCount[a] += childCount[b]\n",
    "        return True\n",
    "    \n",
    "    minCosts = []\n",
    "    for c in costs:         \n",
    "        if join(c[1], c[2]):\n",
    "            minCosts.append(c)\n",
    "        \n",
    "    minPipes = defaultdict(dict)\n",
    "    for w, a, b in minCosts:\n",
    "        minPipes[a][b] = w\n",
    "    return dict(minPipes)"
   ]
  },
  {
   "cell_type": "code",
   "execution_count": 139,
   "metadata": {},
   "outputs": [
    {
     "data": {
      "text/plain": [
       "{'plant': {'A': 1, 'B': 5}, 'B': {'C': 10}}"
      ]
     },
     "execution_count": 139,
     "metadata": {},
     "output_type": "execute_result"
    }
   ],
   "source": [
    "# Test code\n",
    "\n",
    "pipes = {\n",
    "    'plant': {'A': 1, 'B': 5, 'C': 20},\n",
    "    'A': {'C': 15},\n",
    "    'B': {'C': 10},\n",
    "    'C': {}\n",
    "}\n",
    "\n",
    "\n",
    "minimumSpanningTree(pipes)"
   ]
  },
  {
   "cell_type": "markdown",
   "metadata": {},
   "source": [
    "### Daily Coding Problem: Problem #300 [Easy]\n",
    "\n",
    "This problem was asked by Uber.\n",
    "\n",
    "On election day, a voting machine writes data in the form (voter_id, candidate_id) to a text file. Write a program that reads this file as a stream and returns the top 3 candidates at any given time. If you find a voter voting more than once, report this as fraud."
   ]
  },
  {
   "cell_type": "code",
   "execution_count": 3,
   "metadata": {},
   "outputs": [],
   "source": [
    "class Node:\n",
    "    def __init__(self, val = None, nxt = None, prev = None):\n",
    "        self.val = val\n",
    "        self.votes = 0\n",
    "        self.nxt = nxt\n",
    "        self.prev = prev\n",
    "\n",
    "class DLL:\n",
    "    def __init__(self):\n",
    "        self.head = None\n",
    "        self.tail = None\n",
    "        self.items = {}\n",
    "        \n",
    "    def _swap(a, b):\n",
    "        a.nxt = b.nxt\n",
    "        b.nxt = a\n",
    "        b.prev = a.prev\n",
    "        a.prev = b\n",
    "        b.prev.nxt = b\n",
    "        if self.tail == b:\n",
    "            self.tail = a\n",
    "        else:\n",
    "            a.nxt.prev = a\n",
    "        \n",
    "    def orderedAdd(self, val):\n",
    "        if not val in self.items:\n",
    "            node = Node(val, None, self.tail)\n",
    "            self.tail = node\n",
    "            self.items[val] = node\n",
    "        node = self.items[val]\n",
    "        while node.prev:\n",
    "            if node.prev.freq < node.freq and self.head != node:\n",
    "                self._swap(node.prev, node)\n",
    "                \n",
    "    def topThree(self):\n",
    "        res = []\n",
    "        node = self.head\n",
    "        while node:\n",
    "            res.append(node.val)\n",
    "            node = node.nxt\n",
    "        return res\n",
    "\n",
    "\n",
    "class monitorVotes:\n",
    "    def __init__(self):\n",
    "        self.candidates = DLL()\n",
    "        self.voters = set()\n",
    "\n",
    "    def readStream(file):\n",
    "        with open(file, 'r') as f:\n",
    "            for line in f:\n",
    "                voterId, candidateId = line\n",
    "                if voterId == self.voters:\n",
    "                    print('FRAUD')\n",
    "                else:\n",
    "                    self.candidates.orderedAdd(candidatesId)\n",
    "                \n",
    "    \n",
    "    def getTopThree():\n",
    "        return self.candidates.topThree()"
   ]
  },
  {
   "cell_type": "markdown",
   "metadata": {},
   "source": [
    "### Daily Coding Problem: Problem #301 [Medium]¶\n",
    "\n",
    "This problem was asked by Triplebyte.\n",
    "\n",
    "Implement a data structure which carries out the following operations without resizing the underlying array:\n",
    "\n",
    "    add(value): Add a value to the set of values.\n",
    "    check(value): Check whether a value is in the set.\n",
    "The check method may return occasional false positives (in other words, incorrectly identifying an element as part of the set), but should always correctly identify a true element."
   ]
  },
  {
   "cell_type": "code",
   "execution_count": 11,
   "metadata": {},
   "outputs": [],
   "source": [
    "class BloomFilter:\n",
    "    def __init__(self, size):\n",
    "        self.size = size\n",
    "        self.array = [0] * self.size\n",
    "        \n",
    "    def _hash(self, value):\n",
    "        data = str(value)\n",
    "        res = [0,0]\n",
    "        p = 0\n",
    "        for ch in data:\n",
    "            res[0] += ord(ch) * 7**p\n",
    "            res[1] += ord(ch) ** 2\n",
    "            p +=1\n",
    "        res[0]%= self.size\n",
    "        res[1]%= self.size\n",
    "        return res\n",
    "        \n",
    "    def add(self, value):\n",
    "        res = self._hash(value)\n",
    "        self.array[res[0]] = 1\n",
    "        self.array[res[1]] = 1\n",
    "    \n",
    "    def check(self, value):\n",
    "        res = self._hash(value)\n",
    "        if self.array[res[0]] == 1 and self.array[res[1]] == 1:\n",
    "            return True\n",
    "        return False"
   ]
  },
  {
   "cell_type": "code",
   "execution_count": 15,
   "metadata": {},
   "outputs": [
    {
     "name": "stdout",
     "output_type": "stream",
     "text": [
      "Check sample string -  True\n",
      "Check test value -  True\n",
      "Check third -  True\n",
      "Check final -  False\n"
     ]
    }
   ],
   "source": [
    "# Test Code\n",
    "\n",
    "valueA = \"sample string\"\n",
    "valueB = \"test value\"\n",
    "valueC = \"third\"\n",
    "valueD = \"final\"\n",
    "\n",
    "ds = BloomFilter(20)\n",
    "\n",
    "ds.add(valueA)\n",
    "ds.add(valueB)\n",
    "ds.add(valueC)\n",
    "print('Check', valueA, '- ', ds.check(valueA))\n",
    "print('Check', valueB, '- ', ds.check(valueB))\n",
    "print('Check', valueC, '- ', ds.check(valueC))\n",
    "print('Check', valueD, '- ', ds.check(valueD))"
   ]
  },
  {
   "cell_type": "markdown",
   "metadata": {},
   "source": [
    "### Daily Coding Problem: Problem #302 [Medium]\n",
    "\n",
    "This problem was asked by Uber.\n",
    "\n",
    "You are given a 2-d matrix where each cell consists of either /, \\, or an empty space. Write an algorithm that determines into how many regions the slashes divide the space.\n",
    "\n",
    "For example, suppose the input for a three-by-six grid is the following:\n",
    "\n",
    "    \\    /\n",
    "     \\  /\n",
    "      \\/\n",
    "Considering the edges of the matrix as boundaries, this divides the grid into three triangles, so you should return 3."
   ]
  },
  {
   "cell_type": "code",
   "execution_count": 68,
   "metadata": {},
   "outputs": [],
   "source": [
    "from collections import deque\n",
    "\n",
    "def getRegions(matrix):\n",
    "    m, n = len(matrix[0]), len(matrix)\n",
    "    cells = {(i, j): False if (matrix[i][j] == '') else True for i in range(n) for j in range(m)}\n",
    "    \n",
    "    def bfs(a, b):\n",
    "        queue = deque([(a, b)])\n",
    "        \n",
    "        while queue:\n",
    "            i, j = queue.popleft()\n",
    "            for r, c in [(i, j+1), (i+1, j), (i-1, j), (i, j-1)]:\n",
    "                if (0 <= r < n) and (0 <= c < m):\n",
    "                    if not cells[(r, c)]:\n",
    "                        cells[(r, c)] = True\n",
    "                        queue.append((r, c))\n",
    "        \n",
    "    res = 0\n",
    "    for i, j in cells.keys():\n",
    "        if not cells[(i, j)]:\n",
    "            res +=1\n",
    "            cells[(i, j)] = True\n",
    "            bfs(i, j)\n",
    "    return res"
   ]
  },
  {
   "cell_type": "code",
   "execution_count": 69,
   "metadata": {},
   "outputs": [
    {
     "data": {
      "text/plain": [
       "3"
      ]
     },
     "execution_count": 69,
     "metadata": {},
     "output_type": "execute_result"
    }
   ],
   "source": [
    "# Test Code\n",
    "\n",
    "matrix = [\n",
    "    ['\\\\', '', '', '', '', '/'],\n",
    "    ['', '\\\\', '', '', '/', ''],\n",
    "    ['', '', '\\\\', '/', '', '']\n",
    "]\n",
    "\n",
    "getRegions(matrix)"
   ]
  },
  {
   "cell_type": "markdown",
   "metadata": {},
   "source": [
    "### Daily Coding Problem: Problem #303 [Easy]\n",
    "\n",
    "This problem was asked by Microsoft.\n",
    "\n",
    "Given a clock time in hh:mm format, determine, to the nearest degree, the angle between the hour and the minute hands.\n",
    "\n",
    "Bonus: When, during the course of a day, will the angle be zero?"
   ]
  },
  {
   "cell_type": "code",
   "execution_count": 52,
   "metadata": {},
   "outputs": [],
   "source": [
    "def clockAngle(time):\n",
    "    h, t = time.split(':')\n",
    "    \n",
    "        \n",
    "    hAngle = (int(h) % 12) * 30\n",
    "    tAngle = (int(t) % 60) * 6\n",
    "    \n",
    "    # Add the deflection on the hour hand (It moves )\n",
    "    hAngle += tAngle/360 * 5\n",
    "    \n",
    "    res = round(abs(hAngle - tAngle))\n",
    "    \n",
    "    return 360 - res if res > 180 else res"
   ]
  },
  {
   "cell_type": "code",
   "execution_count": 53,
   "metadata": {},
   "outputs": [
    {
     "name": "stdout",
     "output_type": "stream",
     "text": [
      "12:15 - 89 degrees\n",
      "09:42 - 22 degrees\n",
      "17:54 - 170 degrees\n",
      "02:12 - 11 degrees\n",
      "12:00 - 0 degrees\n"
     ]
    }
   ],
   "source": [
    "# Test Code\n",
    "     \n",
    "tA = \"12:15\"\n",
    "tB = \"09:42\"\n",
    "tC = \"17:54\"\n",
    "tD = \"02:12\"\n",
    "tE = \"12:00\"\n",
    "     \n",
    "print(tA, '-', clockAngle(tA), 'degrees')\n",
    "print(tB, '-', clockAngle(tB), 'degrees')\n",
    "print(tC, '-', clockAngle(tC), 'degrees')\n",
    "print(tD, '-', clockAngle(tD), 'degrees')\n",
    "print(tE, '-', clockAngle(tE), 'degrees')"
   ]
  },
  {
   "cell_type": "markdown",
   "metadata": {},
   "source": [
    "### Daily Coding Problem: Problem #304 [Hard]\n",
    "\n",
    "A knight is placed on a given square on an 8 x 8 chessboard. It is then moved randomly several times, where each move is a standard knight move. If the knight jumps off the board at any point, however, it is not allowed to jump back on.\n",
    "\n",
    "After k moves, what is the probability that the knight remains on the board?"
   ]
  },
  {
   "cell_type": "code",
   "execution_count": 49,
   "metadata": {},
   "outputs": [],
   "source": [
    "from collections import deque\n",
    "\n",
    "def probabilityKnightOnBoard(position, k):\n",
    "    # Track moves will store number of moves as key and count of valid and invalid moves as value in a list\n",
    "    trackMoves = {}\n",
    "    queue = deque([(position[0], position[1], 0)])\n",
    "    while queue:\n",
    "        a, b, m = queue.popleft()\n",
    "        if m == k:\n",
    "            break\n",
    "            \n",
    "        # Check all possible moves         \n",
    "        for x, y in [(a+2, b+1), (a+2, b-1), (a+1, b+2), (a+1, b-2), (a-2, b+1), (a-2, b-1), (a-1, b+2), (a-1, b-2)]:\n",
    "            \n",
    "            # Increment invalid moves count \n",
    "            if x >= 8 or x < 0 or y >= 8 or y < 0:\n",
    "                if m+1 in trackMoves:\n",
    "                    trackMoves[m+1][1] += 1\n",
    "                else:\n",
    "                    trackMoves[m+1] = [0, 1]\n",
    "                    \n",
    "            # Increment valid moves count\n",
    "            else:\n",
    "                queue.append((x, y, m+1))\n",
    "                if m+1 in trackMoves:\n",
    "                    trackMoves[m+1][0] += 1\n",
    "                else:\n",
    "                    trackMoves[m+1] = [1, 0]\n",
    "                    \n",
    "    res = 1\n",
    "    for pair in trackMoves.values():\n",
    "        res *= (pair[0] / sum(pair))\n",
    "    return res"
   ]
  },
  {
   "cell_type": "code",
   "execution_count": 50,
   "metadata": {},
   "outputs": [
    {
     "name": "stdout",
     "output_type": "stream",
     "text": [
      "(4, 4) 5 - 0.35565185546875\n",
      "(2, 5) 3 - 0.53515625\n",
      "(0, 0) 1 - 0.25\n",
      "(1, 7) 7 - 0.06415367126464844\n"
     ]
    }
   ],
   "source": [
    "# Test Code\n",
    "\n",
    "positionA, kA = (4,4), 5\n",
    "positionB, kB = (2,5), 3\n",
    "positionC, kC = (0,0), 1\n",
    "positionD, kD = (1,7), 7\n",
    "\n",
    "\n",
    "print(positionA, kA, '-', probabilityKnightOnBoard(positionA, kA))\n",
    "print(positionB, kB, '-', probabilityKnightOnBoard(positionB, kB))\n",
    "print(positionC, kC, '-', probabilityKnightOnBoard(positionC, kC))\n",
    "print(positionD, kD, '-', probabilityKnightOnBoard(positionD, kD))"
   ]
  },
  {
   "cell_type": "markdown",
   "metadata": {},
   "source": [
    "### Daily Coding Problem: Problem #305 [Easy]\n",
    "\n",
    "This problem was asked by Amazon.\n",
    "\n",
    "Given a linked list, remove all consecutive nodes that sum to zero. Print out the remaining nodes.\n",
    "\n",
    "For example, suppose you are given the input 3 -> 4 -> -7 -> 5 -> -6 -> 6. In this case, you should first remove 3 -> 4 -> -7, then -6 -> 6, leaving only 5."
   ]
  },
  {
   "cell_type": "code",
   "execution_count": 110,
   "metadata": {},
   "outputs": [],
   "source": [
    "class Node:\n",
    "    def __init__(self, val):\n",
    "        self.val = val\n",
    "        self.nxt = None\n",
    "        \n",
    "    def __repr__(self):\n",
    "        return str(self.val) + ' -> ' + str(self.nxt)\n",
    "\n",
    "class LinkedList:\n",
    "    def __init__(self, val):\n",
    "        self.head = Node(val)\n",
    "        \n",
    "    def __repr__(self):\n",
    "        return str(self.head)\n",
    "    \n",
    "    def append(self, val):\n",
    "        curr = self.head\n",
    "        while curr.nxt:\n",
    "            curr = curr.nxt\n",
    "        curr.nxt = Node(val)"
   ]
  },
  {
   "cell_type": "code",
   "execution_count": 111,
   "metadata": {},
   "outputs": [],
   "source": [
    "def removeConsecutiveSumToZero(LList):\n",
    "    \n",
    "    total = 0\n",
    "    dummyHead = Node(0)\n",
    "    dummyHead.nxt = LList.head\n",
    "    sumMap = {0: dummyHead}\n",
    "    \n",
    "    node = dummyHead\n",
    "    while node:\n",
    "        total += node.val\n",
    "        if total in sumMap:\n",
    "            foundNode = sumMap[total]\n",
    "            foundNode.nxt = node.nxt\n",
    "        sumMap[total] = node\n",
    "        node = node.nxt\n",
    "    LList.head = dummyHead.nxt \n",
    "    return LList"
   ]
  },
  {
   "cell_type": "code",
   "execution_count": 112,
   "metadata": {},
   "outputs": [
    {
     "data": {
      "text/plain": [
       "5 -> None"
      ]
     },
     "execution_count": 112,
     "metadata": {},
     "output_type": "execute_result"
    }
   ],
   "source": [
    "LList = LinkedList(3)\n",
    "LList.append(4)\n",
    "LList.append(-7)\n",
    "LList.append(5)\n",
    "LList.append(-6)\n",
    "LList.append(6)\n",
    "\n",
    "removeConsecutiveSumToZero(LList)"
   ]
  },
  {
   "cell_type": "markdown",
   "metadata": {},
   "source": [
    "### Daily Coding Problem: Problem #306 [Medium]\n",
    "\n",
    "This problem was asked by Palantir.\n",
    "\n",
    "You are given a list of N numbers, in which each number is located at most k places away from its sorted position. For example, if k = 1, a given element at index 4 might end up at indices 3, 4, or 5.\n",
    "\n",
    "Come up with an algorithm that sorts this list in O(N log k) time."
   ]
  },
  {
   "cell_type": "code",
   "execution_count": 164,
   "metadata": {},
   "outputs": [],
   "source": [
    "from heapq import heapify, heappush, heappop\n",
    "\n",
    "def custom_sort(arr, k: int):\n",
    "    length = len(arr)\n",
    "    heap = arr[: k+1]\n",
    "    heapify(heap)\n",
    "    # updating the values of the array (to hold sorted elements)\n",
    "    curr_index = 0\n",
    "    for index in range(k + 1, length):\n",
    "        arr[curr_index] = heappop(heap)\n",
    "        heappush(heap, arr[index])\n",
    "        curr_index += 1\n",
    "    # updating the last k positions in the array by emptying the heap\n",
    "    while heap:\n",
    "        arr[curr_index] = heappop(heap)\n",
    "        curr_index += 1\n",
    "    return arr"
   ]
  },
  {
   "cell_type": "code",
   "execution_count": 165,
   "metadata": {},
   "outputs": [
    {
     "data": {
      "text/plain": [
       "[1, 2, 3, 4, 5, 6]"
      ]
     },
     "execution_count": 165,
     "metadata": {},
     "output_type": "execute_result"
    }
   ],
   "source": [
    "# Test Code\n",
    "\n",
    "arr, k = [3,1,4,2,6,5], 2\n",
    "\n",
    "custom_sort(arr, k)"
   ]
  },
  {
   "cell_type": "markdown",
   "metadata": {},
   "source": [
    "### Daily Coding Problem: Problem #307 [Easy]\n",
    "\n",
    "This problem was asked by Oracle.\n",
    "\n",
    "Given a binary search tree, find the floor and ceiling of a given integer. The floor is the highest element in the tree less than or equal to an integer, while the ceiling is the lowest element in the tree greater than or equal to an integer.\n",
    "\n",
    "If either value does not exist, return None."
   ]
  },
  {
   "cell_type": "code",
   "execution_count": 168,
   "metadata": {},
   "outputs": [],
   "source": [
    "class Node:\n",
    "    def __init__(self, val):\n",
    "        self.val = val\n",
    "        self.left = None\n",
    "        self.right = None\n",
    "\n",
    "class BST:\n",
    "    def __init__(self, val):\n",
    "        self.root = Node(val)\n",
    "        \n",
    "    def add(self, val):\n",
    "        node = self.root\n",
    "        while True:\n",
    "            if node.val > val:\n",
    "                if not node.left:\n",
    "                    node.left = Node(val)\n",
    "                    break\n",
    "                node = node.left\n",
    "            elif node.val < val:\n",
    "                if not node.right:\n",
    "                    node.right = Node(val)\n",
    "                    break\n",
    "                node = node.right\n",
    "            else:\n",
    "                break\n",
    "        return"
   ]
  },
  {
   "cell_type": "code",
   "execution_count": 204,
   "metadata": {},
   "outputs": [],
   "source": [
    "def findFloorAndCeiling(tree, val):\n",
    "    node = tree.root\n",
    "    floor = ceil = None\n",
    "    \n",
    "    while node:\n",
    "        if node.val > val:\n",
    "            ceil = node.val\n",
    "            node = node.left\n",
    "        elif node.val < val:\n",
    "            floor = node.val\n",
    "            node = node.right\n",
    "        else:\n",
    "            floor = ceil = node.val\n",
    "            break\n",
    "    return f'floor: {floor}, ceil: {ceil}'"
   ]
  },
  {
   "cell_type": "code",
   "execution_count": 207,
   "metadata": {},
   "outputs": [
    {
     "name": "stdout",
     "output_type": "stream",
     "text": [
      "10 -> floor: 10, ceil: 10\n",
      "24 -> floor: 24, ceil: 24\n",
      "23 -> floor: 20, ceil: 24\n",
      "12 -> floor: 12, ceil: 12\n",
      "11 -> floor: 10, ceil: 12\n",
      "-1 -> floor: None, ceil: 0\n",
      "5 -> floor: 4, ceil: 7\n",
      "18 -> floor: 17, ceil: 20\n",
      "30 -> floor: 24, ceil: None\n"
     ]
    }
   ],
   "source": [
    "# Test Code\n",
    "\n",
    "bst = BST(10)\n",
    "bst.add(3)\n",
    "bst.add(15)\n",
    "bst.add(7)\n",
    "bst.add(12)\n",
    "bst.add(4)\n",
    "bst.add(0)\n",
    "bst.add(20)\n",
    "bst.add(24)\n",
    "bst.add(17)\n",
    "\n",
    "print('10 ->',findFloorAndCeiling(bst, 10))\n",
    "print('24 ->',findFloorAndCeiling(bst, 24))\n",
    "print('23 ->',findFloorAndCeiling(bst, 23))\n",
    "print('12 ->',findFloorAndCeiling(bst, 12))\n",
    "print('11 ->',findFloorAndCeiling(bst, 11))\n",
    "print('-1 ->',findFloorAndCeiling(bst, -1))\n",
    "print('5 ->',findFloorAndCeiling(bst, 5))\n",
    "print('18 ->',findFloorAndCeiling(bst, 18))\n",
    "print('30 ->',findFloorAndCeiling(bst, 30))"
   ]
  },
  {
   "cell_type": "markdown",
   "metadata": {},
   "source": [
    "### Daily Coding Problem: Problem #309 [Hard]\n",
    "\n",
    "This problem was asked by Quantcast.\n",
    "\n",
    "You are presented with an array representing a Boolean expression. The elements are of two kinds:\n",
    "\n",
    "T and F, representing the values True and False.\n",
    "&, |, and ^, representing the bitwise operators for AND, OR, and XOR.\n",
    "Determine the number of ways to group the array elements using parentheses so that the entire expression evaluates to True.\n",
    "\n",
    "For example, suppose the input is ['F', '|', 'T', '&', 'T']. In this case, there are two acceptable groupings: (F | T) & T and F | (T & T)."
   ]
  },
  {
   "cell_type": "code",
   "execution_count": null,
   "metadata": {},
   "outputs": [],
   "source": []
  },
  {
   "cell_type": "markdown",
   "metadata": {},
   "source": [
    "### Daily Coding Problem: Problem #310 [Easy]\n",
    "\n",
    "This problem was asked by Pivotal.\n",
    "\n",
    "Write an algorithm that finds the total number of set bits in all integers between 1 and N."
   ]
  },
  {
   "cell_type": "code",
   "execution_count": 246,
   "metadata": {},
   "outputs": [],
   "source": [
    "def sumSetBits(N):\n",
    "    \n",
    "    def countSetBits( n): \n",
    "        if (n == 0):\n",
    "            return 0\n",
    "        return (n & 1) + countSetBits(n >> 1)\n",
    "    \n",
    "    res = 0\n",
    "    for num in range(N+1):\n",
    "        res += countSetBits(num)\n",
    "    return res"
   ]
  },
  {
   "cell_type": "code",
   "execution_count": 248,
   "metadata": {},
   "outputs": [
    {
     "name": "stdout",
     "output_type": "stream",
     "text": [
      "7\n",
      "83\n",
      "408\n"
     ]
    }
   ],
   "source": [
    "# Test code\n",
    "\n",
    "Na = 5\n",
    "Nb = 33\n",
    "Nc = 120\n",
    "\n",
    "print(sumSetBits(Na))\n",
    "print(sumSetBits(Nb))\n",
    "print(sumSetBits(Nc))"
   ]
  },
  {
   "cell_type": "markdown",
   "metadata": {},
   "source": [
    "### Daily Coding Problem: Problem #311 [Easy]\n",
    "\n",
    "\n",
    "This problem was asked by Sumo Logic.\n",
    "\n",
    "Given a array that's sorted but rotated at some unknown pivot, in which all elements are distinct, find a \"peak\" element in O(log N) time.\n",
    "\n",
    "An element is considered a peak if it is greater than both its left and right neighbors. It is guaranteed that the first and last elements are lower than all others."
   ]
  },
  {
   "cell_type": "code",
   "execution_count": 45,
   "metadata": {},
   "outputs": [],
   "source": [
    "import random\n",
    "\n",
    "def findPeak(nums):\n",
    "    l, r = 1, len(nums)-2\n",
    "    m = random.randint(l,r)\n",
    "    while l < r:\n",
    "        pivot = nums[m]\n",
    "        if nums[m-1] < nums[m] > nums[m+1]:\n",
    "            return pivot\n",
    "        if nums[m-1] < nums[m] < nums[m+1]:\n",
    "            l = m+1\n",
    "        if nums[m-1] > nums[m] > nums[m+1]:\n",
    "            r = m-1\n",
    "        m = random.randint(l,r)\n",
    "    return nums[l]"
   ]
  },
  {
   "cell_type": "code",
   "execution_count": 46,
   "metadata": {},
   "outputs": [
    {
     "name": "stdout",
     "output_type": "stream",
     "text": [
      "11\n"
     ]
    }
   ],
   "source": [
    "# Test code\n",
    "\n",
    "nums = [2,4,9,11,7,3,-1]\n",
    "\n",
    "print(findPeak(nums))"
   ]
  },
  {
   "cell_type": "markdown",
   "metadata": {},
   "source": [
    "### Daily Coding Problem: Problem #312 [Easy]\n",
    "\n",
    "You are given a 2 x N board, and instructed to completely cover the board with the following shapes:\n",
    "\n",
    "Dominoes, or 2 x 1 rectangles.\n",
    "\n",
    "Trominoes, or L-shapes.\n",
    "\n",
    "For example, if N = 4, here is one possible configuration, where A is a domino, and B and C are trominoes."
   ]
  },
  {
   "cell_type": "code",
   "execution_count": 3,
   "metadata": {},
   "outputs": [],
   "source": [
    "def place_shapes(n):\n",
    "    if n <= 2:\n",
    "        return n\n",
    "    \n",
    "    full_placement_dp = [0, 1, 2] + ([0] * (n-2))\n",
    "    part_placement_dp = [0, 0, 1] + ([0] * (n-2))\n",
    "    \n",
    "    for i in range(3,n+1):\n",
    "        full_placement_dp[i] = full_placement_dp[i-1] + full_placement_dp[i-2] + (2*part_placement_dp[i-1])\n",
    "        part_placement_dp[i] = part_placement_dp[i-1] + full_placement_dp[i-2]\n",
    "        \n",
    "    return full_placement_dp[n]"
   ]
  },
  {
   "cell_type": "code",
   "execution_count": 5,
   "metadata": {},
   "outputs": [
    {
     "name": "stdout",
     "output_type": "stream",
     "text": [
      "3 -> 5\n",
      "13 -> 13465\n",
      "21 -> 7540017\n"
     ]
    }
   ],
   "source": [
    "# Test code\n",
    "\n",
    "n1 = 3\n",
    "n2 = 13\n",
    "n3 = 21\n",
    "\n",
    "print(n1, '->', place_shapes(n1))\n",
    "print(n2, '->', place_shapes(n2))\n",
    "print(n3, '->', place_shapes(n3))"
   ]
  },
  {
   "cell_type": "markdown",
   "metadata": {},
   "source": [
    "### Daily Coding Problem: Problem #313 [Hard]\n",
    "\n",
    "You are given a circular lock with three wheels, each of which display the numbers 0 through 9 in order. Each of these wheels rotate clockwise and counterclockwise.\n",
    "\n",
    "In addition, the lock has a certain number of \"dead ends\", meaning that if you turn the wheels to one of these combinations, the lock becomes stuck in that state and cannot be opened.\n",
    "\n",
    "Let us consider a \"move\" to be a rotation of a single wheel by one digit, in either direction. Given a lock initially set to 000, a target combination, and a list of dead ends, write a function that returns the minimum number of moves required to reach the target state, or None if this is impossible."
   ]
  },
  {
   "cell_type": "code",
   "execution_count": 57,
   "metadata": {},
   "outputs": [],
   "source": [
    "def reach_target(target, dead_ends):\n",
    "    directions = [(i, j, k) for i in [1, -1] for j in [1, -1] for k in [1, -1]]\n",
    "    positions = [\"000\"]\n",
    "    dead_ends = set(dead_ends)\n",
    "    while positions:\n",
    "        print(positions)\n",
    "        curr = positions.pop()\n",
    "        for direction in directions:\n",
    "            new_position = \"\"\n",
    "            for idx in range(3):\n",
    "                new_idx = direction[idx] + int(curr[idx])\n",
    "                if new_idx in (-1, 10):\n",
    "                    new_idx = {-1: 9, 10: 0}[new_idx]\n",
    "                new_position += str(new_idx)\n",
    "            if new_position == target:\n",
    "                return True\n",
    "            if new_position not in dead_ends:\n",
    "                positions.append(new_position)\n",
    "                dead_ends.add(new_position)\n",
    "    return False"
   ]
  },
  {
   "cell_type": "code",
   "execution_count": 58,
   "metadata": {},
   "outputs": [
    {
     "name": "stdout",
     "output_type": "stream",
     "text": [
      "['000']\n",
      "['111', '119', '191', '199', '911', '919', '991', '999']\n",
      "['111', '119', '191', '199', '911', '919', '991', '000', '008', '080', '088', '800', '808', '880', '888']\n",
      "['111', '119', '191', '199', '911', '919', '991', '000', '008', '080', '088', '800', '808', '880', '997', '979', '977', '799', '797', '779', '777']\n",
      "['111', '119', '191', '199', '911', '919', '991', '000', '008', '080', '088', '800', '808', '880', '997', '979', '977', '799', '797', '779', '886', '868', '866', '688', '686', '668', '666']\n",
      "['111', '119', '191', '199', '911', '919', '991', '000', '008', '080', '088', '800', '808', '880', '997', '979', '977', '799', '797', '779', '886', '868', '866', '688', '686', '668', '775', '757', '755', '577', '575', '557', '555']\n",
      "['111', '119', '191', '199', '911', '919', '991', '000', '008', '080', '088', '800', '808', '880', '997', '979', '977', '799', '797', '779', '886', '868', '866', '688', '686', '668', '775', '757', '755', '577', '575', '557', '664', '646', '644', '466', '464', '446', '444']\n",
      "['111', '119', '191', '199', '911', '919', '991', '000', '008', '080', '088', '800', '808', '880', '997', '979', '977', '799', '797', '779', '886', '868', '866', '688', '686', '668', '775', '757', '755', '577', '575', '557', '664', '646', '644', '466', '464', '446', '553', '535', '533', '355', '353', '335', '333']\n",
      "['111', '119', '191', '199', '911', '919', '991', '000', '008', '080', '088', '800', '808', '880', '997', '979', '977', '799', '797', '779', '886', '868', '866', '688', '686', '668', '775', '757', '755', '577', '575', '557', '664', '646', '644', '466', '464', '446', '553', '535', '533', '355', '353', '335', '442', '424', '422', '244', '242', '224', '222']\n",
      "['111', '119', '191', '199', '911', '919', '991', '000', '008', '080', '088', '800', '808', '880', '997', '979', '977', '799', '797', '779', '886', '868', '866', '688', '686', '668', '775', '757', '755', '577', '575', '557', '664', '646', '644', '466', '464', '446', '553', '535', '533', '355', '353', '335', '442', '424', '422', '244', '242', '224', '331', '313', '311', '133', '131', '113']\n",
      "['111', '119', '191', '199', '911', '919', '991', '000', '008', '080', '088', '800', '808', '880', '997', '979', '977', '799', '797', '779', '886', '868', '866', '688', '686', '668', '775', '757', '755', '577', '575', '557', '664', '646', '644', '466', '464', '446', '553', '535', '533', '355', '353', '335', '442', '424', '422', '244', '242', '224', '331', '313', '311', '133', '131', '204', '202', '024', '022', '004', '002']\n",
      "['111', '119', '191', '199', '911', '919', '991', '000', '008', '080', '088', '800', '808', '880', '997', '979', '977', '799', '797', '779', '886', '868', '866', '688', '686', '668', '775', '757', '755', '577', '575', '557', '664', '646', '644', '466', '464', '446', '553', '535', '533', '355', '353', '335', '442', '424', '422', '244', '242', '224', '331', '313', '311', '133', '131', '204', '202', '024', '022', '004', '193', '913', '993']\n",
      "['111', '119', '191', '199', '911', '919', '991', '000', '008', '080', '088', '800', '808', '880', '997', '979', '977', '799', '797', '779', '886', '868', '866', '688', '686', '668', '775', '757', '755', '577', '575', '557', '664', '646', '644', '466', '464', '446', '553', '535', '533', '355', '353', '335', '442', '424', '422', '244', '242', '224', '331', '313', '311', '133', '131', '204', '202', '024', '022', '004', '193', '913', '084', '082', '804', '802', '884', '882']\n",
      "['111', '119', '191', '199', '911', '919', '991', '000', '008', '080', '088', '800', '808', '880', '997', '979', '977', '799', '797', '779', '886', '868', '866', '688', '686', '668', '775', '757', '755', '577', '575', '557', '664', '646', '644', '466', '464', '446', '553', '535', '533', '355', '353', '335', '442', '424', '422', '244', '242', '224', '331', '313', '311', '133', '131', '204', '202', '024', '022', '004', '193', '913', '084', '082', '804', '802', '884', '973', '971', '793', '791', '773', '771']\n",
      "['111', '119', '191', '199', '911', '919', '991', '000', '008', '080', '088', '800', '808', '880', '997', '979', '977', '799', '797', '779', '886', '868', '866', '688', '686', '668', '775', '757', '755', '577', '575', '557', '664', '646', '644', '466', '464', '446', '553', '535', '533', '355', '353', '335', '442', '424', '422', '244', '242', '224', '331', '313', '311', '133', '131', '204', '202', '024', '022', '004', '193', '913', '084', '082', '804', '802', '884', '973', '971', '793', '791', '773', '862', '860', '682', '680', '662', '660']\n",
      "['111', '119', '191', '199', '911', '919', '991', '000', '008', '080', '088', '800', '808', '880', '997', '979', '977', '799', '797', '779', '886', '868', '866', '688', '686', '668', '775', '757', '755', '577', '575', '557', '664', '646', '644', '466', '464', '446', '553', '535', '533', '355', '353', '335', '442', '424', '422', '244', '242', '224', '331', '313', '311', '133', '131', '204', '202', '024', '022', '004', '193', '913', '084', '082', '804', '802', '884', '973', '971', '793', '791', '773', '862', '860', '682', '680', '662', '751', '759', '571', '579', '551', '559']\n",
      "['111', '119', '191', '199', '911', '919', '991', '000', '008', '080', '088', '800', '808', '880', '997', '979', '977', '799', '797', '779', '886', '868', '866', '688', '686', '668', '775', '757', '755', '577', '575', '557', '664', '646', '644', '466', '464', '446', '553', '535', '533', '355', '353', '335', '442', '424', '422', '244', '242', '224', '331', '313', '311', '133', '131', '204', '202', '024', '022', '004', '193', '913', '084', '082', '804', '802', '884', '973', '971', '793', '791', '773', '862', '860', '682', '680', '662', '751', '759', '571', '579', '551', '640', '648', '460', '468', '440', '448']\n",
      "['111', '119', '191', '199', '911', '919', '991', '000', '008', '080', '088', '800', '808', '880', '997', '979', '977', '799', '797', '779', '886', '868', '866', '688', '686', '668', '775', '757', '755', '577', '575', '557', '664', '646', '644', '466', '464', '446', '553', '535', '533', '355', '353', '335', '442', '424', '422', '244', '242', '224', '331', '313', '311', '133', '131', '204', '202', '024', '022', '004', '193', '913', '084', '082', '804', '802', '884', '973', '971', '793', '791', '773', '862', '860', '682', '680', '662', '751', '759', '571', '579', '551', '640', '648', '460', '468', '440', '539', '537', '359', '357', '339', '337']\n",
      "['111', '119', '191', '199', '911', '919', '991', '000', '008', '080', '088', '800', '808', '880', '997', '979', '977', '799', '797', '779', '886', '868', '866', '688', '686', '668', '775', '757', '755', '577', '575', '557', '664', '646', '644', '466', '464', '446', '553', '535', '533', '355', '353', '335', '442', '424', '422', '244', '242', '224', '331', '313', '311', '133', '131', '204', '202', '024', '022', '004', '193', '913', '084', '082', '804', '802', '884', '973', '971', '793', '791', '773', '862', '860', '682', '680', '662', '751', '759', '571', '579', '551', '640', '648', '460', '468', '440', '539', '537', '359', '357', '339', '428', '426', '248', '246', '228', '226']\n",
      "['111', '119', '191', '199', '911', '919', '991', '000', '008', '080', '088', '800', '808', '880', '997', '979', '977', '799', '797', '779', '886', '868', '866', '688', '686', '668', '775', '757', '755', '577', '575', '557', '664', '646', '644', '466', '464', '446', '553', '535', '533', '355', '353', '335', '442', '424', '422', '244', '242', '224', '331', '313', '311', '133', '131', '204', '202', '024', '022', '004', '193', '913', '084', '082', '804', '802', '884', '973', '971', '793', '791', '773', '862', '860', '682', '680', '662', '751', '759', '571', '579', '551', '640', '648', '460', '468', '440', '539', '537', '359', '357', '339', '428', '426', '248', '246', '228', '317', '315', '137', '135', '117', '115']\n",
      "['111', '119', '191', '199', '911', '919', '991', '000', '008', '080', '088', '800', '808', '880', '997', '979', '977', '799', '797', '779', '886', '868', '866', '688', '686', '668', '775', '757', '755', '577', '575', '557', '664', '646', '644', '466', '464', '446', '553', '535', '533', '355', '353', '335', '442', '424', '422', '244', '242', '224', '331', '313', '311', '133', '131', '204', '202', '024', '022', '004', '193', '913', '084', '082', '804', '802', '884', '973', '971', '793', '791', '773', '862', '860', '682', '680', '662', '751', '759', '571', '579', '551', '640', '648', '460', '468', '440', '539', '537', '359', '357', '339', '428', '426', '248', '246', '228', '317', '315', '137', '135', '117', '206', '026', '006']\n",
      "['111', '119', '191', '199', '911', '919', '991', '000', '008', '080', '088', '800', '808', '880', '997', '979', '977', '799', '797', '779', '886', '868', '866', '688', '686', '668', '775', '757', '755', '577', '575', '557', '664', '646', '644', '466', '464', '446', '553', '535', '533', '355', '353', '335', '442', '424', '422', '244', '242', '224', '331', '313', '311', '133', '131', '204', '202', '024', '022', '004', '193', '913', '084', '082', '804', '802', '884', '973', '971', '793', '791', '773', '862', '860', '682', '680', '662', '751', '759', '571', '579', '551', '640', '648', '460', '468', '440', '539', '537', '359', '357', '339', '428', '426', '248', '246', '228', '317', '315', '137', '135', '117', '206', '026', '197', '195', '917', '915', '995']\n",
      "['111', '119', '191', '199', '911', '919', '991', '000', '008', '080', '088', '800', '808', '880', '997', '979', '977', '799', '797', '779', '886', '868', '866', '688', '686', '668', '775', '757', '755', '577', '575', '557', '664', '646', '644', '466', '464', '446', '553', '535', '533', '355', '353', '335', '442', '424', '422', '244', '242', '224', '331', '313', '311', '133', '131', '204', '202', '024', '022', '004', '193', '913', '084', '082', '804', '802', '884', '973', '971', '793', '791', '773', '862', '860', '682', '680', '662', '751', '759', '571', '579', '551', '640', '648', '460', '468', '440', '539', '537', '359', '357', '339', '428', '426', '248', '246', '228', '317', '315', '137', '135', '117', '206', '026', '197', '195', '917', '915', '086', '806']\n",
      "['111', '119', '191', '199', '911', '919', '991', '000', '008', '080', '088', '800', '808', '880', '997', '979', '977', '799', '797', '779', '886', '868', '866', '688', '686', '668', '775', '757', '755', '577', '575', '557', '664', '646', '644', '466', '464', '446', '553', '535', '533', '355', '353', '335', '442', '424', '422', '244', '242', '224', '331', '313', '311', '133', '131', '204', '202', '024', '022', '004', '193', '913', '084', '082', '804', '802', '884', '973', '971', '793', '791', '773', '862', '860', '682', '680', '662', '751', '759', '571', '579', '551', '640', '648', '460', '468', '440', '539', '537', '359', '357', '339', '428', '426', '248', '246', '228', '317', '315', '137', '135', '117', '206', '026', '197', '195', '917', '915', '086', '717', '715', '795']\n",
      "['111', '119', '191', '199', '911', '919', '991', '000', '008', '080', '088', '800', '808', '880', '997', '979', '977', '799', '797', '779', '886', '868', '866', '688', '686', '668', '775', '757', '755', '577', '575', '557', '664', '646', '644', '466', '464', '446', '553', '535', '533', '355', '353', '335', '442', '424', '422', '244', '242', '224', '331', '313', '311', '133', '131', '204', '202', '024', '022', '004', '193', '913', '084', '082', '804', '802', '884', '973', '971', '793', '791', '773', '862', '860', '682', '680', '662', '751', '759', '571', '579', '551', '640', '648', '460', '468', '440', '539', '537', '359', '357', '339', '428', '426', '248', '246', '228', '317', '315', '137', '135', '117', '206', '026', '197', '195', '917', '915', '086', '717', '715', '606', '604', '684']\n",
      "['111', '119', '191', '199', '911', '919', '991', '000', '008', '080', '088', '800', '808', '880', '997', '979', '977', '799', '797', '779', '886', '868', '866', '688', '686', '668', '775', '757', '755', '577', '575', '557', '664', '646', '644', '466', '464', '446', '553', '535', '533', '355', '353', '335', '442', '424', '422', '244', '242', '224', '331', '313', '311', '133', '131', '204', '202', '024', '022', '004', '193', '913', '084', '082', '804', '802', '884', '973', '971', '793', '791', '773', '862', '860', '682', '680', '662', '751', '759', '571', '579', '551', '640', '648', '460', '468', '440', '539', '537', '359', '357', '339', '428', '426', '248', '246', '228', '317', '315', '137', '135', '117', '206', '026', '197', '195', '917', '915', '086', '717', '715', '606', '604', '595', '593', '573']\n",
      "['111', '119', '191', '199', '911', '919', '991', '000', '008', '080', '088', '800', '808', '880', '997', '979', '977', '799', '797', '779', '886', '868', '866', '688', '686', '668', '775', '757', '755', '577', '575', '557', '664', '646', '644', '466', '464', '446', '553', '535', '533', '355', '353', '335', '442', '424', '422', '244', '242', '224', '331', '313', '311', '133', '131', '204', '202', '024', '022', '004', '193', '913', '084', '082', '804', '802', '884', '973', '971', '793', '791', '773', '862', '860', '682', '680', '662', '751', '759', '571', '579', '551', '640', '648', '460', '468', '440', '539', '537', '359', '357', '339', '428', '426', '248', '246', '228', '317', '315', '137', '135', '117', '206', '026', '197', '195', '917', '915', '086', '717', '715', '606', '604', '595', '593', '484', '482', '462']\n",
      "['111', '119', '191', '199', '911', '919', '991', '000', '008', '080', '088', '800', '808', '880', '997', '979', '977', '799', '797', '779', '886', '868', '866', '688', '686', '668', '775', '757', '755', '577', '575', '557', '664', '646', '644', '466', '464', '446', '553', '535', '533', '355', '353', '335', '442', '424', '422', '244', '242', '224', '331', '313', '311', '133', '131', '204', '202', '024', '022', '004', '193', '913', '084', '082', '804', '802', '884', '973', '971', '793', '791', '773', '862', '860', '682', '680', '662', '751', '759', '571', '579', '551', '640', '648', '460', '468', '440', '539', '537', '359', '357', '339', '428', '426', '248', '246', '228', '317', '315', '137', '135', '117', '206', '026', '197', '195', '917', '915', '086', '717', '715', '606', '604', '595', '593', '484', '482', '373', '371', '351']\n",
      "['111', '119', '191', '199', '911', '919', '991', '000', '008', '080', '088', '800', '808', '880', '997', '979', '977', '799', '797', '779', '886', '868', '866', '688', '686', '668', '775', '757', '755', '577', '575', '557', '664', '646', '644', '466', '464', '446', '553', '535', '533', '355', '353', '335', '442', '424', '422', '244', '242', '224', '331', '313', '311', '133', '131', '204', '202', '024', '022', '004', '193', '913', '084', '082', '804', '802', '884', '973', '971', '793', '791', '773', '862', '860', '682', '680', '662', '751', '759', '571', '579', '551', '640', '648', '460', '468', '440', '539', '537', '359', '357', '339', '428', '426', '248', '246', '228', '317', '315', '137', '135', '117', '206', '026', '197', '195', '917', '915', '086', '717', '715', '606', '604', '595', '593', '484', '482', '373', '371', '262', '260', '240']\n",
      "['111', '119', '191', '199', '911', '919', '991', '000', '008', '080', '088', '800', '808', '880', '997', '979', '977', '799', '797', '779', '886', '868', '866', '688', '686', '668', '775', '757', '755', '577', '575', '557', '664', '646', '644', '466', '464', '446', '553', '535', '533', '355', '353', '335', '442', '424', '422', '244', '242', '224', '331', '313', '311', '133', '131', '204', '202', '024', '022', '004', '193', '913', '084', '082', '804', '802', '884', '973', '971', '793', '791', '773', '862', '860', '682', '680', '662', '751', '759', '571', '579', '551', '640', '648', '460', '468', '440', '539', '537', '359', '357', '339', '428', '426', '248', '246', '228', '317', '315', '137', '135', '117', '206', '026', '197', '195', '917', '915', '086', '717', '715', '606', '604', '595', '593', '484', '482', '373', '371', '262', '260', '151', '159', '139']\n",
      "['111', '119', '191', '199', '911', '919', '991', '000', '008', '080', '088', '800', '808', '880', '997', '979', '977', '799', '797', '779', '886', '868', '866', '688', '686', '668', '775', '757', '755', '577', '575', '557', '664', '646', '644', '466', '464', '446', '553', '535', '533', '355', '353', '335', '442', '424', '422', '244', '242', '224', '331', '313', '311', '133', '131', '204', '202', '024', '022', '004', '193', '913', '084', '082', '804', '802', '884', '973', '971', '793', '791', '773', '862', '860', '682', '680', '662', '751', '759', '571', '579', '551', '640', '648', '460', '468', '440', '539', '537', '359', '357', '339', '428', '426', '248', '246', '228', '317', '315', '137', '135', '117', '206', '026', '197', '195', '917', '915', '086', '717', '715', '606', '604', '595', '593', '484', '482', '373', '371', '262', '260', '151', '159', '220', '040', '048', '020', '028']\n",
      "['111', '119', '191', '199', '911', '919', '991', '000', '008', '080', '088', '800', '808', '880', '997', '979', '977', '799', '797', '779', '886', '868', '866', '688', '686', '668', '775', '757', '755', '577', '575', '557', '664', '646', '644', '466', '464', '446', '553', '535', '533', '355', '353', '335', '442', '424', '422', '244', '242', '224', '331', '313', '311', '133', '131', '204', '202', '024', '022', '004', '193', '913', '084', '082', '804', '802', '884', '973', '971', '793', '791', '773', '862', '860', '682', '680', '662', '751', '759', '571', '579', '551', '640', '648', '460', '468', '440', '539', '537', '359', '357', '339', '428', '426', '248', '246', '228', '317', '315', '137', '135', '117', '206', '026', '197', '195', '917', '915', '086', '717', '715', '606', '604', '595', '593', '484', '482', '373', '371', '262', '260', '151', '159', '220', '040', '048', '020', '939', '937']\n",
      "['111', '119', '191', '199', '911', '919', '991', '000', '008', '080', '088', '800', '808', '880', '997', '979', '977', '799', '797', '779', '886', '868', '866', '688', '686', '668', '775', '757', '755', '577', '575', '557', '664', '646', '644', '466', '464', '446', '553', '535', '533', '355', '353', '335', '442', '424', '422', '244', '242', '224', '331', '313', '311', '133', '131', '204', '202', '024', '022', '004', '193', '913', '084', '082', '804', '802', '884', '973', '971', '793', '791', '773', '862', '860', '682', '680', '662', '751', '759', '571', '579', '551', '640', '648', '460', '468', '440', '539', '537', '359', '357', '339', '428', '426', '248', '246', '228', '317', '315', '137', '135', '117', '206', '026', '197', '195', '917', '915', '086', '717', '715', '606', '604', '595', '593', '484', '482', '373', '371', '262', '260', '151', '159', '220', '040', '048', '020', '939', '046', '848', '846', '828', '826']\n",
      "['111', '119', '191', '199', '911', '919', '991', '000', '008', '080', '088', '800', '808', '880', '997', '979', '977', '799', '797', '779', '886', '868', '866', '688', '686', '668', '775', '757', '755', '577', '575', '557', '664', '646', '644', '466', '464', '446', '553', '535', '533', '355', '353', '335', '442', '424', '422', '244', '242', '224', '331', '313', '311', '133', '131', '204', '202', '024', '022', '004', '193', '913', '084', '082', '804', '802', '884', '973', '971', '793', '791', '773', '862', '860', '682', '680', '662', '751', '759', '571', '579', '551', '640', '648', '460', '468', '440', '539', '537', '359', '357', '339', '428', '426', '248', '246', '228', '317', '315', '137', '135', '117', '206', '026', '197', '195', '917', '915', '086', '717', '715', '606', '604', '595', '593', '484', '482', '373', '371', '262', '260', '151', '159', '220', '040', '048', '020', '939', '046', '848', '846', '828', '935', '737', '735']\n",
      "['111', '119', '191', '199', '911', '919', '991', '000', '008', '080', '088', '800', '808', '880', '997', '979', '977', '799', '797', '779', '886', '868', '866', '688', '686', '668', '775', '757', '755', '577', '575', '557', '664', '646', '644', '466', '464', '446', '553', '535', '533', '355', '353', '335', '442', '424', '422', '244', '242', '224', '331', '313', '311', '133', '131', '204', '202', '024', '022', '004', '193', '913', '084', '082', '804', '802', '884', '973', '971', '793', '791', '773', '862', '860', '682', '680', '662', '751', '759', '571', '579', '551', '640', '648', '460', '468', '440', '539', '537', '359', '357', '339', '428', '426', '248', '246', '228', '317', '315', '137', '135', '117', '206', '026', '197', '195', '917', '915', '086', '717', '715', '606', '604', '595', '593', '484', '482', '373', '371', '262', '260', '151', '159', '220', '040', '048', '020', '939', '046', '848', '846', '828', '935', '737', '844', '824', '626', '624']\n",
      "['111', '119', '191', '199', '911', '919', '991', '000', '008', '080', '088', '800', '808', '880', '997', '979', '977', '799', '797', '779', '886', '868', '866', '688', '686', '668', '775', '757', '755', '577', '575', '557', '664', '646', '644', '466', '464', '446', '553', '535', '533', '355', '353', '335', '442', '424', '422', '244', '242', '224', '331', '313', '311', '133', '131', '204', '202', '024', '022', '004', '193', '913', '084', '082', '804', '802', '884', '973', '971', '793', '791', '773', '862', '860', '682', '680', '662', '751', '759', '571', '579', '551', '640', '648', '460', '468', '440', '539', '537', '359', '357', '339', '428', '426', '248', '246', '228', '317', '315', '137', '135', '117', '206', '026', '197', '195', '917', '915', '086', '717', '715', '606', '604', '595', '593', '484', '482', '373', '371', '262', '260', '151', '159', '220', '040', '048', '020', '939', '046', '848', '846', '828', '935', '737', '844', '824', '626', '733', '713', '515', '513']\n",
      "['111', '119', '191', '199', '911', '919', '991', '000', '008', '080', '088', '800', '808', '880', '997', '979', '977', '799', '797', '779', '886', '868', '866', '688', '686', '668', '775', '757', '755', '577', '575', '557', '664', '646', '644', '466', '464', '446', '553', '535', '533', '355', '353', '335', '442', '424', '422', '244', '242', '224', '331', '313', '311', '133', '131', '204', '202', '024', '022', '004', '193', '913', '084', '082', '804', '802', '884', '973', '971', '793', '791', '773', '862', '860', '682', '680', '662', '751', '759', '571', '579', '551', '640', '648', '460', '468', '440', '539', '537', '359', '357', '339', '428', '426', '248', '246', '228', '317', '315', '137', '135', '117', '206', '026', '197', '195', '917', '915', '086', '717', '715', '606', '604', '595', '593', '484', '482', '373', '371', '262', '260', '151', '159', '220', '040', '048', '020', '939', '046', '848', '846', '828', '935', '737', '844', '824', '626', '733', '713', '515', '622', '602', '404', '402']\n",
      "['111', '119', '191', '199', '911', '919', '991', '000', '008', '080', '088', '800', '808', '880', '997', '979', '977', '799', '797', '779', '886', '868', '866', '688', '686', '668', '775', '757', '755', '577', '575', '557', '664', '646', '644', '466', '464', '446', '553', '535', '533', '355', '353', '335', '442', '424', '422', '244', '242', '224', '331', '313', '311', '133', '131', '204', '202', '024', '022', '004', '193', '913', '084', '082', '804', '802', '884', '973', '971', '793', '791', '773', '862', '860', '682', '680', '662', '751', '759', '571', '579', '551', '640', '648', '460', '468', '440', '539', '537', '359', '357', '339', '428', '426', '248', '246', '228', '317', '315', '137', '135', '117', '206', '026', '197', '195', '917', '915', '086', '717', '715', '606', '604', '595', '593', '484', '482', '373', '371', '262', '260', '151', '159', '220', '040', '048', '020', '939', '046', '848', '846', '828', '935', '737', '844', '824', '626', '733', '713', '515', '622', '602', '404', '511', '591', '393', '391']\n",
      "['111', '119', '191', '199', '911', '919', '991', '000', '008', '080', '088', '800', '808', '880', '997', '979', '977', '799', '797', '779', '886', '868', '866', '688', '686', '668', '775', '757', '755', '577', '575', '557', '664', '646', '644', '466', '464', '446', '553', '535', '533', '355', '353', '335', '442', '424', '422', '244', '242', '224', '331', '313', '311', '133', '131', '204', '202', '024', '022', '004', '193', '913', '084', '082', '804', '802', '884', '973', '971', '793', '791', '773', '862', '860', '682', '680', '662', '751', '759', '571', '579', '551', '640', '648', '460', '468', '440', '539', '537', '359', '357', '339', '428', '426', '248', '246', '228', '317', '315', '137', '135', '117', '206', '026', '197', '195', '917', '915', '086', '717', '715', '606', '604', '595', '593', '484', '482', '373', '371', '262', '260', '151', '159', '220', '040', '048', '020', '939', '046', '848', '846', '828', '935', '737', '844', '824', '626', '733', '713', '515', '622', '602', '404', '511', '591', '393', '400', '480', '200', '282', '280']\n",
      "['111', '119', '191', '199', '911', '919', '991', '000', '008', '080', '088', '800', '808', '880', '997', '979', '977', '799', '797', '779', '886', '868', '866', '688', '686', '668', '775', '757', '755', '577', '575', '557', '664', '646', '644', '466', '464', '446', '553', '535', '533', '355', '353', '335', '442', '424', '422', '244', '242', '224', '331', '313', '311', '133', '131', '204', '202', '024', '022', '004', '193', '913', '084', '082', '804', '802', '884', '973', '971', '793', '791', '773', '862', '860', '682', '680', '662', '751', '759', '571', '579', '551', '640', '648', '460', '468', '440', '539', '537', '359', '357', '339', '428', '426', '248', '246', '228', '317', '315', '137', '135', '117', '206', '026', '197', '195', '917', '915', '086', '717', '715', '606', '604', '595', '593', '484', '482', '373', '371', '262', '260', '151', '159', '220', '040', '048', '020', '939', '046', '848', '846', '828', '935', '737', '844', '824', '626', '733', '713', '515', '622', '602', '404', '511', '591', '393', '400', '480', '200', '282', '399', '379', '171', '179']\n",
      "['111', '119', '191', '199', '911', '919', '991', '000', '008', '080', '088', '800', '808', '880', '997', '979', '977', '799', '797', '779', '886', '868', '866', '688', '686', '668', '775', '757', '755', '577', '575', '557', '664', '646', '644', '466', '464', '446', '553', '535', '533', '355', '353', '335', '442', '424', '422', '244', '242', '224', '331', '313', '311', '133', '131', '204', '202', '024', '022', '004', '193', '913', '084', '082', '804', '802', '884', '973', '971', '793', '791', '773', '862', '860', '682', '680', '662', '751', '759', '571', '579', '551', '640', '648', '460', '468', '440', '539', '537', '359', '357', '339', '428', '426', '248', '246', '228', '317', '315', '137', '135', '117', '206', '026', '197', '195', '917', '915', '086', '717', '715', '606', '604', '595', '593', '484', '482', '373', '371', '262', '260', '151', '159', '220', '040', '048', '020', '939', '046', '848', '846', '828', '935', '737', '844', '824', '626', '733', '713', '515', '622', '602', '404', '511', '591', '393', '400', '480', '200', '282', '399', '379', '171', '288', '268', '060', '068']\n",
      "['111', '119', '191', '199', '911', '919', '991', '000', '008', '080', '088', '800', '808', '880', '997', '979', '977', '799', '797', '779', '886', '868', '866', '688', '686', '668', '775', '757', '755', '577', '575', '557', '664', '646', '644', '466', '464', '446', '553', '535', '533', '355', '353', '335', '442', '424', '422', '244', '242', '224', '331', '313', '311', '133', '131', '204', '202', '024', '022', '004', '193', '913', '084', '082', '804', '802', '884', '973', '971', '793', '791', '773', '862', '860', '682', '680', '662', '751', '759', '571', '579', '551', '640', '648', '460', '468', '440', '539', '537', '359', '357', '339', '428', '426', '248', '246', '228', '317', '315', '137', '135', '117', '206', '026', '197', '195', '917', '915', '086', '717', '715', '606', '604', '595', '593', '484', '482', '373', '371', '262', '260', '151', '159', '220', '040', '048', '020', '939', '046', '848', '846', '828', '935', '737', '844', '824', '626', '733', '713', '515', '622', '602', '404', '511', '591', '393', '400', '480', '200', '282', '399', '379', '171', '288', '268', '060', '177', '157', '959', '957']\n",
      "['111', '119', '191', '199', '911', '919', '991', '000', '008', '080', '088', '800', '808', '880', '997', '979', '977', '799', '797', '779', '886', '868', '866', '688', '686', '668', '775', '757', '755', '577', '575', '557', '664', '646', '644', '466', '464', '446', '553', '535', '533', '355', '353', '335', '442', '424', '422', '244', '242', '224', '331', '313', '311', '133', '131', '204', '202', '024', '022', '004', '193', '913', '084', '082', '804', '802', '884', '973', '971', '793', '791', '773', '862', '860', '682', '680', '662', '751', '759', '571', '579', '551', '640', '648', '460', '468', '440', '539', '537', '359', '357', '339', '428', '426', '248', '246', '228', '317', '315', '137', '135', '117', '206', '026', '197', '195', '917', '915', '086', '717', '715', '606', '604', '595', '593', '484', '482', '373', '371', '262', '260', '151', '159', '220', '040', '048', '020', '939', '046', '848', '846', '828', '935', '737', '844', '824', '626', '733', '713', '515', '622', '602', '404', '511', '591', '393', '400', '480', '200', '282', '399', '379', '171', '288', '268', '060', '177', '157', '959', '066']\n",
      "['111', '119', '191', '199', '911', '919', '991', '000', '008', '080', '088', '800', '808', '880', '997', '979', '977', '799', '797', '779', '886', '868', '866', '688', '686', '668', '775', '757', '755', '577', '575', '557', '664', '646', '644', '466', '464', '446', '553', '535', '533', '355', '353', '335', '442', '424', '422', '244', '242', '224', '331', '313', '311', '133', '131', '204', '202', '024', '022', '004', '193', '913', '084', '082', '804', '802', '884', '973', '971', '793', '791', '773', '862', '860', '682', '680', '662', '751', '759', '571', '579', '551', '640', '648', '460', '468', '440', '539', '537', '359', '357', '339', '428', '426', '248', '246', '228', '317', '315', '137', '135', '117', '206', '026', '197', '195', '917', '915', '086', '717', '715', '606', '604', '595', '593', '484', '482', '373', '371', '262', '260', '151', '159', '220', '040', '048', '020', '939', '046', '848', '846', '828', '935', '737', '844', '824', '626', '733', '713', '515', '622', '602', '404', '511', '591', '393', '400', '480', '200', '282', '399', '379', '171', '288', '268', '060', '177', '157', '959', '175', '155', '975', '955']\n",
      "['111', '119', '191', '199', '911', '919', '991', '000', '008', '080', '088', '800', '808', '880', '997', '979', '977', '799', '797', '779', '886', '868', '866', '688', '686', '668', '775', '757', '755', '577', '575', '557', '664', '646', '644', '466', '464', '446', '553', '535', '533', '355', '353', '335', '442', '424', '422', '244', '242', '224', '331', '313', '311', '133', '131', '204', '202', '024', '022', '004', '193', '913', '084', '082', '804', '802', '884', '973', '971', '793', '791', '773', '862', '860', '682', '680', '662', '751', '759', '571', '579', '551', '640', '648', '460', '468', '440', '539', '537', '359', '357', '339', '428', '426', '248', '246', '228', '317', '315', '137', '135', '117', '206', '026', '197', '195', '917', '915', '086', '717', '715', '606', '604', '595', '593', '484', '482', '373', '371', '262', '260', '151', '159', '220', '040', '048', '020', '939', '046', '848', '846', '828', '935', '737', '844', '824', '626', '733', '713', '515', '622', '602', '404', '511', '591', '393', '400', '480', '200', '282', '399', '379', '171', '288', '268', '060', '177', '157', '959', '175', '155', '975', '064', '044', '864']\n",
      "['111', '119', '191', '199', '911', '919', '991', '000', '008', '080', '088', '800', '808', '880', '997', '979', '977', '799', '797', '779', '886', '868', '866', '688', '686', '668', '775', '757', '755', '577', '575', '557', '664', '646', '644', '466', '464', '446', '553', '535', '533', '355', '353', '335', '442', '424', '422', '244', '242', '224', '331', '313', '311', '133', '131', '204', '202', '024', '022', '004', '193', '913', '084', '082', '804', '802', '884', '973', '971', '793', '791', '773', '862', '860', '682', '680', '662', '751', '759', '571', '579', '551', '640', '648', '460', '468', '440', '539', '537', '359', '357', '339', '428', '426', '248', '246', '228', '317', '315', '137', '135', '117', '206', '026', '197', '195', '917', '915', '086', '717', '715', '606', '604', '595', '593', '484', '482', '373', '371', '262', '260', '151', '159', '220', '040', '048', '020', '939', '046', '848', '846', '828', '935', '737', '844', '824', '626', '733', '713', '515', '622', '602', '404', '511', '591', '393', '400', '480', '200', '282', '399', '379', '171', '288', '268', '060', '177', '157', '959', '175', '155', '975', '064', '044', '953', '753']\n",
      "['111', '119', '191', '199', '911', '919', '991', '000', '008', '080', '088', '800', '808', '880', '997', '979', '977', '799', '797', '779', '886', '868', '866', '688', '686', '668', '775', '757', '755', '577', '575', '557', '664', '646', '644', '466', '464', '446', '553', '535', '533', '355', '353', '335', '442', '424', '422', '244', '242', '224', '331', '313', '311', '133', '131', '204', '202', '024', '022', '004', '193', '913', '084', '082', '804', '802', '884', '973', '971', '793', '791', '773', '862', '860', '682', '680', '662', '751', '759', '571', '579', '551', '640', '648', '460', '468', '440', '539', '537', '359', '357', '339', '428', '426', '248', '246', '228', '317', '315', '137', '135', '117', '206', '026', '197', '195', '917', '915', '086', '717', '715', '606', '604', '595', '593', '484', '482', '373', '371', '262', '260', '151', '159', '220', '040', '048', '020', '939', '046', '848', '846', '828', '935', '737', '844', '824', '626', '733', '713', '515', '622', '602', '404', '511', '591', '393', '400', '480', '200', '282', '399', '379', '171', '288', '268', '060', '177', '157', '959', '175', '155', '975', '064', '044', '953', '842', '642']\n",
      "['111', '119', '191', '199', '911', '919', '991', '000', '008', '080', '088', '800', '808', '880', '997', '979', '977', '799', '797', '779', '886', '868', '866', '688', '686', '668', '775', '757', '755', '577', '575', '557', '664', '646', '644', '466', '464', '446', '553', '535', '533', '355', '353', '335', '442', '424', '422', '244', '242', '224', '331', '313', '311', '133', '131', '204', '202', '024', '022', '004', '193', '913', '084', '082', '804', '802', '884', '973', '971', '793', '791', '773', '862', '860', '682', '680', '662', '751', '759', '571', '579', '551', '640', '648', '460', '468', '440', '539', '537', '359', '357', '339', '428', '426', '248', '246', '228', '317', '315', '137', '135', '117', '206', '026', '197', '195', '917', '915', '086', '717', '715', '606', '604', '595', '593', '484', '482', '373', '371', '262', '260', '151', '159', '220', '040', '048', '020', '939', '046', '848', '846', '828', '935', '737', '844', '824', '626', '733', '713', '515', '622', '602', '404', '511', '591', '393', '400', '480', '200', '282', '399', '379', '171', '288', '268', '060', '177', '157', '959', '175', '155', '975', '064', '044', '953', '842', '731', '531']\n",
      "['111', '119', '191', '199', '911', '919', '991', '000', '008', '080', '088', '800', '808', '880', '997', '979', '977', '799', '797', '779', '886', '868', '866', '688', '686', '668', '775', '757', '755', '577', '575', '557', '664', '646', '644', '466', '464', '446', '553', '535', '533', '355', '353', '335', '442', '424', '422', '244', '242', '224', '331', '313', '311', '133', '131', '204', '202', '024', '022', '004', '193', '913', '084', '082', '804', '802', '884', '973', '971', '793', '791', '773', '862', '860', '682', '680', '662', '751', '759', '571', '579', '551', '640', '648', '460', '468', '440', '539', '537', '359', '357', '339', '428', '426', '248', '246', '228', '317', '315', '137', '135', '117', '206', '026', '197', '195', '917', '915', '086', '717', '715', '606', '604', '595', '593', '484', '482', '373', '371', '262', '260', '151', '159', '220', '040', '048', '020', '939', '046', '848', '846', '828', '935', '737', '844', '824', '626', '733', '713', '515', '622', '602', '404', '511', '591', '393', '400', '480', '200', '282', '399', '379', '171', '288', '268', '060', '177', '157', '959', '175', '155', '975', '064', '044', '953', '842', '731', '620', '420']\n",
      "['111', '119', '191', '199', '911', '919', '991', '000', '008', '080', '088', '800', '808', '880', '997', '979', '977', '799', '797', '779', '886', '868', '866', '688', '686', '668', '775', '757', '755', '577', '575', '557', '664', '646', '644', '466', '464', '446', '553', '535', '533', '355', '353', '335', '442', '424', '422', '244', '242', '224', '331', '313', '311', '133', '131', '204', '202', '024', '022', '004', '193', '913', '084', '082', '804', '802', '884', '973', '971', '793', '791', '773', '862', '860', '682', '680', '662', '751', '759', '571', '579', '551', '640', '648', '460', '468', '440', '539', '537', '359', '357', '339', '428', '426', '248', '246', '228', '317', '315', '137', '135', '117', '206', '026', '197', '195', '917', '915', '086', '717', '715', '606', '604', '595', '593', '484', '482', '373', '371', '262', '260', '151', '159', '220', '040', '048', '020', '939', '046', '848', '846', '828', '935', '737', '844', '824', '626', '733', '713', '515', '622', '602', '404', '511', '591', '393', '400', '480', '200', '282', '399', '379', '171', '288', '268', '060', '177', '157', '959', '175', '155', '975', '064', '044', '953', '842', '731', '620', '519', '319']\n",
      "['111', '119', '191', '199', '911', '919', '991', '000', '008', '080', '088', '800', '808', '880', '997', '979', '977', '799', '797', '779', '886', '868', '866', '688', '686', '668', '775', '757', '755', '577', '575', '557', '664', '646', '644', '466', '464', '446', '553', '535', '533', '355', '353', '335', '442', '424', '422', '244', '242', '224', '331', '313', '311', '133', '131', '204', '202', '024', '022', '004', '193', '913', '084', '082', '804', '802', '884', '973', '971', '793', '791', '773', '862', '860', '682', '680', '662', '751', '759', '571', '579', '551', '640', '648', '460', '468', '440', '539', '537', '359', '357', '339', '428', '426', '248', '246', '228', '317', '315', '137', '135', '117', '206', '026', '197', '195', '917', '915', '086', '717', '715', '606', '604', '595', '593', '484', '482', '373', '371', '262', '260', '151', '159', '220', '040', '048', '020', '939', '046', '848', '846', '828', '935', '737', '844', '824', '626', '733', '713', '515', '622', '602', '404', '511', '591', '393', '400', '480', '200', '282', '399', '379', '171', '288', '268', '060', '177', '157', '959', '175', '155', '975', '064', '044', '953', '842', '731', '620', '519', '408', '208']\n",
      "['111', '119', '191', '199', '911', '919', '991', '000', '008', '080', '088', '800', '808', '880', '997', '979', '977', '799', '797', '779', '886', '868', '866', '688', '686', '668', '775', '757', '755', '577', '575', '557', '664', '646', '644', '466', '464', '446', '553', '535', '533', '355', '353', '335', '442', '424', '422', '244', '242', '224', '331', '313', '311', '133', '131', '204', '202', '024', '022', '004', '193', '913', '084', '082', '804', '802', '884', '973', '971', '793', '791', '773', '862', '860', '682', '680', '662', '751', '759', '571', '579', '551', '640', '648', '460', '468', '440', '539', '537', '359', '357', '339', '428', '426', '248', '246', '228', '317', '315', '137', '135', '117', '206', '026', '197', '195', '917', '915', '086', '717', '715', '606', '604', '595', '593', '484', '482', '373', '371', '262', '260', '151', '159', '220', '040', '048', '020', '939', '046', '848', '846', '828', '935', '737', '844', '824', '626', '733', '713', '515', '622', '602', '404', '511', '591', '393', '400', '480', '200', '282', '399', '379', '171', '288', '268', '060', '177', '157', '959', '175', '155', '975', '064', '044', '953', '842', '731', '620', '519', '408', '397']\n",
      "['111', '119', '191', '199', '911', '919', '991', '000', '008', '080', '088', '800', '808', '880', '997', '979', '977', '799', '797', '779', '886', '868', '866', '688', '686', '668', '775', '757', '755', '577', '575', '557', '664', '646', '644', '466', '464', '446', '553', '535', '533', '355', '353', '335', '442', '424', '422', '244', '242', '224', '331', '313', '311', '133', '131', '204', '202', '024', '022', '004', '193', '913', '084', '082', '804', '802', '884', '973', '971', '793', '791', '773', '862', '860', '682', '680', '662', '751', '759', '571', '579', '551', '640', '648', '460', '468', '440', '539', '537', '359', '357', '339', '428', '426', '248', '246', '228', '317', '315', '137', '135', '117', '206', '026', '197', '195', '917', '915', '086', '717', '715', '606', '604', '595', '593', '484', '482', '373', '371', '262', '260', '151', '159', '220', '040', '048', '020', '939', '046', '848', '846', '828', '935', '737', '844', '824', '626', '733', '713', '515', '622', '602', '404', '511', '591', '393', '400', '480', '200', '282', '399', '379', '171', '288', '268', '060', '177', '157', '959', '175', '155', '975', '064', '044', '953', '842', '731', '620', '519', '408', '406', '488', '486', '286']\n",
      "['111', '119', '191', '199', '911', '919', '991', '000', '008', '080', '088', '800', '808', '880', '997', '979', '977', '799', '797', '779', '886', '868', '866', '688', '686', '668', '775', '757', '755', '577', '575', '557', '664', '646', '644', '466', '464', '446', '553', '535', '533', '355', '353', '335', '442', '424', '422', '244', '242', '224', '331', '313', '311', '133', '131', '204', '202', '024', '022', '004', '193', '913', '084', '082', '804', '802', '884', '973', '971', '793', '791', '773', '862', '860', '682', '680', '662', '751', '759', '571', '579', '551', '640', '648', '460', '468', '440', '539', '537', '359', '357', '339', '428', '426', '248', '246', '228', '317', '315', '137', '135', '117', '206', '026', '197', '195', '917', '915', '086', '717', '715', '606', '604', '595', '593', '484', '482', '373', '371', '262', '260', '151', '159', '220', '040', '048', '020', '939', '046', '848', '846', '828', '935', '737', '844', '824', '626', '733', '713', '515', '622', '602', '404', '511', '591', '393', '400', '480', '200', '282', '399', '379', '171', '288', '268', '060', '177', '157', '959', '175', '155', '975', '064', '044', '953', '842', '731', '620', '519', '408', '406', '488', '486', '395', '377', '375']\n",
      "['111', '119', '191', '199', '911', '919', '991', '000', '008', '080', '088', '800', '808', '880', '997', '979', '977', '799', '797', '779', '886', '868', '866', '688', '686', '668', '775', '757', '755', '577', '575', '557', '664', '646', '644', '466', '464', '446', '553', '535', '533', '355', '353', '335', '442', '424', '422', '244', '242', '224', '331', '313', '311', '133', '131', '204', '202', '024', '022', '004', '193', '913', '084', '082', '804', '802', '884', '973', '971', '793', '791', '773', '862', '860', '682', '680', '662', '751', '759', '571', '579', '551', '640', '648', '460', '468', '440', '539', '537', '359', '357', '339', '428', '426', '248', '246', '228', '317', '315', '137', '135', '117', '206', '026', '197', '195', '917', '915', '086', '717', '715', '606', '604', '595', '593', '484', '482', '373', '371', '262', '260', '151', '159', '220', '040', '048', '020', '939', '046', '848', '846', '828', '935', '737', '844', '824', '626', '733', '713', '515', '622', '602', '404', '511', '591', '393', '400', '480', '200', '282', '399', '379', '171', '288', '268', '060', '177', '157', '959', '175', '155', '975', '064', '044', '953', '842', '731', '620', '519', '408', '406', '488', '486', '395', '377', '284', '266', '264']\n",
      "['111', '119', '191', '199', '911', '919', '991', '000', '008', '080', '088', '800', '808', '880', '997', '979', '977', '799', '797', '779', '886', '868', '866', '688', '686', '668', '775', '757', '755', '577', '575', '557', '664', '646', '644', '466', '464', '446', '553', '535', '533', '355', '353', '335', '442', '424', '422', '244', '242', '224', '331', '313', '311', '133', '131', '204', '202', '024', '022', '004', '193', '913', '084', '082', '804', '802', '884', '973', '971', '793', '791', '773', '862', '860', '682', '680', '662', '751', '759', '571', '579', '551', '640', '648', '460', '468', '440', '539', '537', '359', '357', '339', '428', '426', '248', '246', '228', '317', '315', '137', '135', '117', '206', '026', '197', '195', '917', '915', '086', '717', '715', '606', '604', '595', '593', '484', '482', '373', '371', '262', '260', '151', '159', '220', '040', '048', '020', '939', '046', '848', '846', '828', '935', '737', '844', '824', '626', '733', '713', '515', '622', '602', '404', '511', '591', '393', '400', '480', '200', '282', '399', '379', '171', '288', '268', '060', '177', '157', '959', '175', '155', '975', '064', '044', '953', '842', '731', '620', '519', '408', '406', '488', '486', '395', '377', '284', '266', '173', '153']\n",
      "['111', '119', '191', '199', '911', '919', '991', '000', '008', '080', '088', '800', '808', '880', '997', '979', '977', '799', '797', '779', '886', '868', '866', '688', '686', '668', '775', '757', '755', '577', '575', '557', '664', '646', '644', '466', '464', '446', '553', '535', '533', '355', '353', '335', '442', '424', '422', '244', '242', '224', '331', '313', '311', '133', '131', '204', '202', '024', '022', '004', '193', '913', '084', '082', '804', '802', '884', '973', '971', '793', '791', '773', '862', '860', '682', '680', '662', '751', '759', '571', '579', '551', '640', '648', '460', '468', '440', '539', '537', '359', '357', '339', '428', '426', '248', '246', '228', '317', '315', '137', '135', '117', '206', '026', '197', '195', '917', '915', '086', '717', '715', '606', '604', '595', '593', '484', '482', '373', '371', '262', '260', '151', '159', '220', '040', '048', '020', '939', '046', '848', '846', '828', '935', '737', '844', '824', '626', '733', '713', '515', '622', '602', '404', '511', '591', '393', '400', '480', '200', '282', '399', '379', '171', '288', '268', '060', '177', '157', '959', '175', '155', '975', '064', '044', '953', '842', '731', '620', '519', '408', '406', '488', '486', '395', '377', '284', '266', '173', '062', '042']\n",
      "['111', '119', '191', '199', '911', '919', '991', '000', '008', '080', '088', '800', '808', '880', '997', '979', '977', '799', '797', '779', '886', '868', '866', '688', '686', '668', '775', '757', '755', '577', '575', '557', '664', '646', '644', '466', '464', '446', '553', '535', '533', '355', '353', '335', '442', '424', '422', '244', '242', '224', '331', '313', '311', '133', '131', '204', '202', '024', '022', '004', '193', '913', '084', '082', '804', '802', '884', '973', '971', '793', '791', '773', '862', '860', '682', '680', '662', '751', '759', '571', '579', '551', '640', '648', '460', '468', '440', '539', '537', '359', '357', '339', '428', '426', '248', '246', '228', '317', '315', '137', '135', '117', '206', '026', '197', '195', '917', '915', '086', '717', '715', '606', '604', '595', '593', '484', '482', '373', '371', '262', '260', '151', '159', '220', '040', '048', '020', '939', '046', '848', '846', '828', '935', '737', '844', '824', '626', '733', '713', '515', '622', '602', '404', '511', '591', '393', '400', '480', '200', '282', '399', '379', '171', '288', '268', '060', '177', '157', '959', '175', '155', '975', '064', '044', '953', '842', '731', '620', '519', '408', '406', '488', '486', '395', '377', '284', '266', '173', '062', '951', '933', '931']\n",
      "['111', '119', '191', '199', '911', '919', '991', '000', '008', '080', '088', '800', '808', '880', '997', '979', '977', '799', '797', '779', '886', '868', '866', '688', '686', '668', '775', '757', '755', '577', '575', '557', '664', '646', '644', '466', '464', '446', '553', '535', '533', '355', '353', '335', '442', '424', '422', '244', '242', '224', '331', '313', '311', '133', '131', '204', '202', '024', '022', '004', '193', '913', '084', '082', '804', '802', '884', '973', '971', '793', '791', '773', '862', '860', '682', '680', '662', '751', '759', '571', '579', '551', '640', '648', '460', '468', '440', '539', '537', '359', '357', '339', '428', '426', '248', '246', '228', '317', '315', '137', '135', '117', '206', '026', '197', '195', '917', '915', '086', '717', '715', '606', '604', '595', '593', '484', '482', '373', '371', '262', '260', '151', '159', '220', '040', '048', '020', '939', '046', '848', '846', '828', '935', '737', '844', '824', '626', '733', '713', '515', '622', '602', '404', '511', '591', '393', '400', '480', '200', '282', '399', '379', '171', '288', '268', '060', '177', '157', '959', '175', '155', '975', '064', '044', '953', '842', '731', '620', '519', '408', '406', '488', '486', '395', '377', '284', '266', '173', '062', '951', '933', '840', '822', '820']\n",
      "['111', '119', '191', '199', '911', '919', '991', '000', '008', '080', '088', '800', '808', '880', '997', '979', '977', '799', '797', '779', '886', '868', '866', '688', '686', '668', '775', '757', '755', '577', '575', '557', '664', '646', '644', '466', '464', '446', '553', '535', '533', '355', '353', '335', '442', '424', '422', '244', '242', '224', '331', '313', '311', '133', '131', '204', '202', '024', '022', '004', '193', '913', '084', '082', '804', '802', '884', '973', '971', '793', '791', '773', '862', '860', '682', '680', '662', '751', '759', '571', '579', '551', '640', '648', '460', '468', '440', '539', '537', '359', '357', '339', '428', '426', '248', '246', '228', '317', '315', '137', '135', '117', '206', '026', '197', '195', '917', '915', '086', '717', '715', '606', '604', '595', '593', '484', '482', '373', '371', '262', '260', '151', '159', '220', '040', '048', '020', '939', '046', '848', '846', '828', '935', '737', '844', '824', '626', '733', '713', '515', '622', '602', '404', '511', '591', '393', '400', '480', '200', '282', '399', '379', '171', '288', '268', '060', '177', '157', '959', '175', '155', '975', '064', '044', '953', '842', '731', '620', '519', '408', '406', '488', '486', '395', '377', '284', '266', '173', '062', '951', '933', '840', '822', '739', '711', '719']\n",
      "['111', '119', '191', '199', '911', '919', '991', '000', '008', '080', '088', '800', '808', '880', '997', '979', '977', '799', '797', '779', '886', '868', '866', '688', '686', '668', '775', '757', '755', '577', '575', '557', '664', '646', '644', '466', '464', '446', '553', '535', '533', '355', '353', '335', '442', '424', '422', '244', '242', '224', '331', '313', '311', '133', '131', '204', '202', '024', '022', '004', '193', '913', '084', '082', '804', '802', '884', '973', '971', '793', '791', '773', '862', '860', '682', '680', '662', '751', '759', '571', '579', '551', '640', '648', '460', '468', '440', '539', '537', '359', '357', '339', '428', '426', '248', '246', '228', '317', '315', '137', '135', '117', '206', '026', '197', '195', '917', '915', '086', '717', '715', '606', '604', '595', '593', '484', '482', '373', '371', '262', '260', '151', '159', '220', '040', '048', '020', '939', '046', '848', '846', '828', '935', '737', '844', '824', '626', '733', '713', '515', '622', '602', '404', '511', '591', '393', '400', '480', '200', '282', '399', '379', '171', '288', '268', '060', '177', '157', '959', '175', '155', '975', '064', '044', '953', '842', '731', '620', '519', '408', '406', '488', '486', '395', '377', '284', '266', '173', '062', '951', '933', '840', '822', '739', '711', '628', '600', '608']\n",
      "['111', '119', '191', '199', '911', '919', '991', '000', '008', '080', '088', '800', '808', '880', '997', '979', '977', '799', '797', '779', '886', '868', '866', '688', '686', '668', '775', '757', '755', '577', '575', '557', '664', '646', '644', '466', '464', '446', '553', '535', '533', '355', '353', '335', '442', '424', '422', '244', '242', '224', '331', '313', '311', '133', '131', '204', '202', '024', '022', '004', '193', '913', '084', '082', '804', '802', '884', '973', '971', '793', '791', '773', '862', '860', '682', '680', '662', '751', '759', '571', '579', '551', '640', '648', '460', '468', '440', '539', '537', '359', '357', '339', '428', '426', '248', '246', '228', '317', '315', '137', '135', '117', '206', '026', '197', '195', '917', '915', '086', '717', '715', '606', '604', '595', '593', '484', '482', '373', '371', '262', '260', '151', '159', '220', '040', '048', '020', '939', '046', '848', '846', '828', '935', '737', '844', '824', '626', '733', '713', '515', '622', '602', '404', '511', '591', '393', '400', '480', '200', '282', '399', '379', '171', '288', '268', '060', '177', '157', '959', '175', '155', '975', '064', '044', '953', '842', '731', '620', '519', '408', '406', '488', '486', '395', '377', '284', '266', '173', '062', '951', '933', '840', '822', '739', '711', '628', '600', '517', '599', '597']\n",
      "['111', '119', '191', '199', '911', '919', '991', '000', '008', '080', '088', '800', '808', '880', '997', '979', '977', '799', '797', '779', '886', '868', '866', '688', '686', '668', '775', '757', '755', '577', '575', '557', '664', '646', '644', '466', '464', '446', '553', '535', '533', '355', '353', '335', '442', '424', '422', '244', '242', '224', '331', '313', '311', '133', '131', '204', '202', '024', '022', '004', '193', '913', '084', '082', '804', '802', '884', '973', '971', '793', '791', '773', '862', '860', '682', '680', '662', '751', '759', '571', '579', '551', '640', '648', '460', '468', '440', '539', '537', '359', '357', '339', '428', '426', '248', '246', '228', '317', '315', '137', '135', '117', '206', '026', '197', '195', '917', '915', '086', '717', '715', '606', '604', '595', '593', '484', '482', '373', '371', '262', '260', '151', '159', '220', '040', '048', '020', '939', '046', '848', '846', '828', '935', '737', '844', '824', '626', '733', '713', '515', '622', '602', '404', '511', '591', '393', '400', '480', '200', '282', '399', '379', '171', '288', '268', '060', '177', '157', '959', '175', '155', '975', '064', '044', '953', '842', '731', '620', '519', '408', '406', '488', '486', '395', '377', '284', '266', '173', '062', '951', '933', '840', '822', '739', '711', '628', '600', '517', '599']\n",
      "['111', '119', '191', '199', '911', '919', '991', '000', '008', '080', '088', '800', '808', '880', '997', '979', '977', '799', '797', '779', '886', '868', '866', '688', '686', '668', '775', '757', '755', '577', '575', '557', '664', '646', '644', '466', '464', '446', '553', '535', '533', '355', '353', '335', '442', '424', '422', '244', '242', '224', '331', '313', '311', '133', '131', '204', '202', '024', '022', '004', '193', '913', '084', '082', '804', '802', '884', '973', '971', '793', '791', '773', '862', '860', '682', '680', '662', '751', '759', '571', '579', '551', '640', '648', '460', '468', '440', '539', '537', '359', '357', '339', '428', '426', '248', '246', '228', '317', '315', '137', '135', '117', '206', '026', '197', '195', '917', '915', '086', '717', '715', '606', '604', '595', '593', '484', '482', '373', '371', '262', '260', '151', '159', '220', '040', '048', '020', '939', '046', '848', '846', '828', '935', '737', '844', '824', '626', '733', '713', '515', '622', '602', '404', '511', '591', '393', '400', '480', '200', '282', '399', '379', '171', '288', '268', '060', '177', '157', '959', '175', '155', '975', '064', '044', '953', '842', '731', '620', '519', '408', '406', '488', '486', '395', '377', '284', '266', '173', '062', '951', '933', '840', '822', '739', '711', '628', '600', '517']\n",
      "['111', '119', '191', '199', '911', '919', '991', '000', '008', '080', '088', '800', '808', '880', '997', '979', '977', '799', '797', '779', '886', '868', '866', '688', '686', '668', '775', '757', '755', '577', '575', '557', '664', '646', '644', '466', '464', '446', '553', '535', '533', '355', '353', '335', '442', '424', '422', '244', '242', '224', '331', '313', '311', '133', '131', '204', '202', '024', '022', '004', '193', '913', '084', '082', '804', '802', '884', '973', '971', '793', '791', '773', '862', '860', '682', '680', '662', '751', '759', '571', '579', '551', '640', '648', '460', '468', '440', '539', '537', '359', '357', '339', '428', '426', '248', '246', '228', '317', '315', '137', '135', '117', '206', '026', '197', '195', '917', '915', '086', '717', '715', '606', '604', '595', '593', '484', '482', '373', '371', '262', '260', '151', '159', '220', '040', '048', '020', '939', '046', '848', '846', '828', '935', '737', '844', '824', '626', '733', '713', '515', '622', '602', '404', '511', '591', '393', '400', '480', '200', '282', '399', '379', '171', '288', '268', '060', '177', '157', '959', '175', '155', '975', '064', '044', '953', '842', '731', '620', '519', '408', '406', '488', '486', '395', '377', '284', '266', '173', '062', '951', '933', '840', '822', '739', '711', '628', '600']\n",
      "['111', '119', '191', '199', '911', '919', '991', '000', '008', '080', '088', '800', '808', '880', '997', '979', '977', '799', '797', '779', '886', '868', '866', '688', '686', '668', '775', '757', '755', '577', '575', '557', '664', '646', '644', '466', '464', '446', '553', '535', '533', '355', '353', '335', '442', '424', '422', '244', '242', '224', '331', '313', '311', '133', '131', '204', '202', '024', '022', '004', '193', '913', '084', '082', '804', '802', '884', '973', '971', '793', '791', '773', '862', '860', '682', '680', '662', '751', '759', '571', '579', '551', '640', '648', '460', '468', '440', '539', '537', '359', '357', '339', '428', '426', '248', '246', '228', '317', '315', '137', '135', '117', '206', '026', '197', '195', '917', '915', '086', '717', '715', '606', '604', '595', '593', '484', '482', '373', '371', '262', '260', '151', '159', '220', '040', '048', '020', '939', '046', '848', '846', '828', '935', '737', '844', '824', '626', '733', '713', '515', '622', '602', '404', '511', '591', '393', '400', '480', '200', '282', '399', '379', '171', '288', '268', '060', '177', '157', '959', '175', '155', '975', '064', '044', '953', '842', '731', '620', '519', '408', '406', '488', '486', '395', '377', '284', '266', '173', '062', '951', '933', '840', '822', '739', '711', '628']\n",
      "['111', '119', '191', '199', '911', '919', '991', '000', '008', '080', '088', '800', '808', '880', '997', '979', '977', '799', '797', '779', '886', '868', '866', '688', '686', '668', '775', '757', '755', '577', '575', '557', '664', '646', '644', '466', '464', '446', '553', '535', '533', '355', '353', '335', '442', '424', '422', '244', '242', '224', '331', '313', '311', '133', '131', '204', '202', '024', '022', '004', '193', '913', '084', '082', '804', '802', '884', '973', '971', '793', '791', '773', '862', '860', '682', '680', '662', '751', '759', '571', '579', '551', '640', '648', '460', '468', '440', '539', '537', '359', '357', '339', '428', '426', '248', '246', '228', '317', '315', '137', '135', '117', '206', '026', '197', '195', '917', '915', '086', '717', '715', '606', '604', '595', '593', '484', '482', '373', '371', '262', '260', '151', '159', '220', '040', '048', '020', '939', '046', '848', '846', '828', '935', '737', '844', '824', '626', '733', '713', '515', '622', '602', '404', '511', '591', '393', '400', '480', '200', '282', '399', '379', '171', '288', '268', '060', '177', '157', '959', '175', '155', '975', '064', '044', '953', '842', '731', '620', '519', '408', '406', '488', '486', '395', '377', '284', '266', '173', '062', '951', '933', '840', '822', '739', '711']\n",
      "['111', '119', '191', '199', '911', '919', '991', '000', '008', '080', '088', '800', '808', '880', '997', '979', '977', '799', '797', '779', '886', '868', '866', '688', '686', '668', '775', '757', '755', '577', '575', '557', '664', '646', '644', '466', '464', '446', '553', '535', '533', '355', '353', '335', '442', '424', '422', '244', '242', '224', '331', '313', '311', '133', '131', '204', '202', '024', '022', '004', '193', '913', '084', '082', '804', '802', '884', '973', '971', '793', '791', '773', '862', '860', '682', '680', '662', '751', '759', '571', '579', '551', '640', '648', '460', '468', '440', '539', '537', '359', '357', '339', '428', '426', '248', '246', '228', '317', '315', '137', '135', '117', '206', '026', '197', '195', '917', '915', '086', '717', '715', '606', '604', '595', '593', '484', '482', '373', '371', '262', '260', '151', '159', '220', '040', '048', '020', '939', '046', '848', '846', '828', '935', '737', '844', '824', '626', '733', '713', '515', '622', '602', '404', '511', '591', '393', '400', '480', '200', '282', '399', '379', '171', '288', '268', '060', '177', '157', '959', '175', '155', '975', '064', '044', '953', '842', '731', '620', '519', '408', '406', '488', '486', '395', '377', '284', '266', '173', '062', '951', '933', '840', '822', '739']\n",
      "['111', '119', '191', '199', '911', '919', '991', '000', '008', '080', '088', '800', '808', '880', '997', '979', '977', '799', '797', '779', '886', '868', '866', '688', '686', '668', '775', '757', '755', '577', '575', '557', '664', '646', '644', '466', '464', '446', '553', '535', '533', '355', '353', '335', '442', '424', '422', '244', '242', '224', '331', '313', '311', '133', '131', '204', '202', '024', '022', '004', '193', '913', '084', '082', '804', '802', '884', '973', '971', '793', '791', '773', '862', '860', '682', '680', '662', '751', '759', '571', '579', '551', '640', '648', '460', '468', '440', '539', '537', '359', '357', '339', '428', '426', '248', '246', '228', '317', '315', '137', '135', '117', '206', '026', '197', '195', '917', '915', '086', '717', '715', '606', '604', '595', '593', '484', '482', '373', '371', '262', '260', '151', '159', '220', '040', '048', '020', '939', '046', '848', '846', '828', '935', '737', '844', '824', '626', '733', '713', '515', '622', '602', '404', '511', '591', '393', '400', '480', '200', '282', '399', '379', '171', '288', '268', '060', '177', '157', '959', '175', '155', '975', '064', '044', '953', '842', '731', '620', '519', '408', '406', '488', '486', '395', '377', '284', '266', '173', '062', '951', '933', '840', '822']\n",
      "['111', '119', '191', '199', '911', '919', '991', '000', '008', '080', '088', '800', '808', '880', '997', '979', '977', '799', '797', '779', '886', '868', '866', '688', '686', '668', '775', '757', '755', '577', '575', '557', '664', '646', '644', '466', '464', '446', '553', '535', '533', '355', '353', '335', '442', '424', '422', '244', '242', '224', '331', '313', '311', '133', '131', '204', '202', '024', '022', '004', '193', '913', '084', '082', '804', '802', '884', '973', '971', '793', '791', '773', '862', '860', '682', '680', '662', '751', '759', '571', '579', '551', '640', '648', '460', '468', '440', '539', '537', '359', '357', '339', '428', '426', '248', '246', '228', '317', '315', '137', '135', '117', '206', '026', '197', '195', '917', '915', '086', '717', '715', '606', '604', '595', '593', '484', '482', '373', '371', '262', '260', '151', '159', '220', '040', '048', '020', '939', '046', '848', '846', '828', '935', '737', '844', '824', '626', '733', '713', '515', '622', '602', '404', '511', '591', '393', '400', '480', '200', '282', '399', '379', '171', '288', '268', '060', '177', '157', '959', '175', '155', '975', '064', '044', '953', '842', '731', '620', '519', '408', '406', '488', '486', '395', '377', '284', '266', '173', '062', '951', '933', '840']\n",
      "['111', '119', '191', '199', '911', '919', '991', '000', '008', '080', '088', '800', '808', '880', '997', '979', '977', '799', '797', '779', '886', '868', '866', '688', '686', '668', '775', '757', '755', '577', '575', '557', '664', '646', '644', '466', '464', '446', '553', '535', '533', '355', '353', '335', '442', '424', '422', '244', '242', '224', '331', '313', '311', '133', '131', '204', '202', '024', '022', '004', '193', '913', '084', '082', '804', '802', '884', '973', '971', '793', '791', '773', '862', '860', '682', '680', '662', '751', '759', '571', '579', '551', '640', '648', '460', '468', '440', '539', '537', '359', '357', '339', '428', '426', '248', '246', '228', '317', '315', '137', '135', '117', '206', '026', '197', '195', '917', '915', '086', '717', '715', '606', '604', '595', '593', '484', '482', '373', '371', '262', '260', '151', '159', '220', '040', '048', '020', '939', '046', '848', '846', '828', '935', '737', '844', '824', '626', '733', '713', '515', '622', '602', '404', '511', '591', '393', '400', '480', '200', '282', '399', '379', '171', '288', '268', '060', '177', '157', '959', '175', '155', '975', '064', '044', '953', '842', '731', '620', '519', '408', '406', '488', '486', '395', '377', '284', '266', '173', '062', '951', '933']\n",
      "['111', '119', '191', '199', '911', '919', '991', '000', '008', '080', '088', '800', '808', '880', '997', '979', '977', '799', '797', '779', '886', '868', '866', '688', '686', '668', '775', '757', '755', '577', '575', '557', '664', '646', '644', '466', '464', '446', '553', '535', '533', '355', '353', '335', '442', '424', '422', '244', '242', '224', '331', '313', '311', '133', '131', '204', '202', '024', '022', '004', '193', '913', '084', '082', '804', '802', '884', '973', '971', '793', '791', '773', '862', '860', '682', '680', '662', '751', '759', '571', '579', '551', '640', '648', '460', '468', '440', '539', '537', '359', '357', '339', '428', '426', '248', '246', '228', '317', '315', '137', '135', '117', '206', '026', '197', '195', '917', '915', '086', '717', '715', '606', '604', '595', '593', '484', '482', '373', '371', '262', '260', '151', '159', '220', '040', '048', '020', '939', '046', '848', '846', '828', '935', '737', '844', '824', '626', '733', '713', '515', '622', '602', '404', '511', '591', '393', '400', '480', '200', '282', '399', '379', '171', '288', '268', '060', '177', '157', '959', '175', '155', '975', '064', '044', '953', '842', '731', '620', '519', '408', '406', '488', '486', '395', '377', '284', '266', '173', '062', '951']\n",
      "['111', '119', '191', '199', '911', '919', '991', '000', '008', '080', '088', '800', '808', '880', '997', '979', '977', '799', '797', '779', '886', '868', '866', '688', '686', '668', '775', '757', '755', '577', '575', '557', '664', '646', '644', '466', '464', '446', '553', '535', '533', '355', '353', '335', '442', '424', '422', '244', '242', '224', '331', '313', '311', '133', '131', '204', '202', '024', '022', '004', '193', '913', '084', '082', '804', '802', '884', '973', '971', '793', '791', '773', '862', '860', '682', '680', '662', '751', '759', '571', '579', '551', '640', '648', '460', '468', '440', '539', '537', '359', '357', '339', '428', '426', '248', '246', '228', '317', '315', '137', '135', '117', '206', '026', '197', '195', '917', '915', '086', '717', '715', '606', '604', '595', '593', '484', '482', '373', '371', '262', '260', '151', '159', '220', '040', '048', '020', '939', '046', '848', '846', '828', '935', '737', '844', '824', '626', '733', '713', '515', '622', '602', '404', '511', '591', '393', '400', '480', '200', '282', '399', '379', '171', '288', '268', '060', '177', '157', '959', '175', '155', '975', '064', '044', '953', '842', '731', '620', '519', '408', '406', '488', '486', '395', '377', '284', '266', '173', '062']\n",
      "['111', '119', '191', '199', '911', '919', '991', '000', '008', '080', '088', '800', '808', '880', '997', '979', '977', '799', '797', '779', '886', '868', '866', '688', '686', '668', '775', '757', '755', '577', '575', '557', '664', '646', '644', '466', '464', '446', '553', '535', '533', '355', '353', '335', '442', '424', '422', '244', '242', '224', '331', '313', '311', '133', '131', '204', '202', '024', '022', '004', '193', '913', '084', '082', '804', '802', '884', '973', '971', '793', '791', '773', '862', '860', '682', '680', '662', '751', '759', '571', '579', '551', '640', '648', '460', '468', '440', '539', '537', '359', '357', '339', '428', '426', '248', '246', '228', '317', '315', '137', '135', '117', '206', '026', '197', '195', '917', '915', '086', '717', '715', '606', '604', '595', '593', '484', '482', '373', '371', '262', '260', '151', '159', '220', '040', '048', '020', '939', '046', '848', '846', '828', '935', '737', '844', '824', '626', '733', '713', '515', '622', '602', '404', '511', '591', '393', '400', '480', '200', '282', '399', '379', '171', '288', '268', '060', '177', '157', '959', '175', '155', '975', '064', '044', '953', '842', '731', '620', '519', '408', '406', '488', '486', '395', '377', '284', '266', '173']\n",
      "['111', '119', '191', '199', '911', '919', '991', '000', '008', '080', '088', '800', '808', '880', '997', '979', '977', '799', '797', '779', '886', '868', '866', '688', '686', '668', '775', '757', '755', '577', '575', '557', '664', '646', '644', '466', '464', '446', '553', '535', '533', '355', '353', '335', '442', '424', '422', '244', '242', '224', '331', '313', '311', '133', '131', '204', '202', '024', '022', '004', '193', '913', '084', '082', '804', '802', '884', '973', '971', '793', '791', '773', '862', '860', '682', '680', '662', '751', '759', '571', '579', '551', '640', '648', '460', '468', '440', '539', '537', '359', '357', '339', '428', '426', '248', '246', '228', '317', '315', '137', '135', '117', '206', '026', '197', '195', '917', '915', '086', '717', '715', '606', '604', '595', '593', '484', '482', '373', '371', '262', '260', '151', '159', '220', '040', '048', '020', '939', '046', '848', '846', '828', '935', '737', '844', '824', '626', '733', '713', '515', '622', '602', '404', '511', '591', '393', '400', '480', '200', '282', '399', '379', '171', '288', '268', '060', '177', '157', '959', '175', '155', '975', '064', '044', '953', '842', '731', '620', '519', '408', '406', '488', '486', '395', '377', '284', '266']\n",
      "['111', '119', '191', '199', '911', '919', '991', '000', '008', '080', '088', '800', '808', '880', '997', '979', '977', '799', '797', '779', '886', '868', '866', '688', '686', '668', '775', '757', '755', '577', '575', '557', '664', '646', '644', '466', '464', '446', '553', '535', '533', '355', '353', '335', '442', '424', '422', '244', '242', '224', '331', '313', '311', '133', '131', '204', '202', '024', '022', '004', '193', '913', '084', '082', '804', '802', '884', '973', '971', '793', '791', '773', '862', '860', '682', '680', '662', '751', '759', '571', '579', '551', '640', '648', '460', '468', '440', '539', '537', '359', '357', '339', '428', '426', '248', '246', '228', '317', '315', '137', '135', '117', '206', '026', '197', '195', '917', '915', '086', '717', '715', '606', '604', '595', '593', '484', '482', '373', '371', '262', '260', '151', '159', '220', '040', '048', '020', '939', '046', '848', '846', '828', '935', '737', '844', '824', '626', '733', '713', '515', '622', '602', '404', '511', '591', '393', '400', '480', '200', '282', '399', '379', '171', '288', '268', '060', '177', '157', '959', '175', '155', '975', '064', '044', '953', '842', '731', '620', '519', '408', '406', '488', '486', '395', '377', '284']\n",
      "['111', '119', '191', '199', '911', '919', '991', '000', '008', '080', '088', '800', '808', '880', '997', '979', '977', '799', '797', '779', '886', '868', '866', '688', '686', '668', '775', '757', '755', '577', '575', '557', '664', '646', '644', '466', '464', '446', '553', '535', '533', '355', '353', '335', '442', '424', '422', '244', '242', '224', '331', '313', '311', '133', '131', '204', '202', '024', '022', '004', '193', '913', '084', '082', '804', '802', '884', '973', '971', '793', '791', '773', '862', '860', '682', '680', '662', '751', '759', '571', '579', '551', '640', '648', '460', '468', '440', '539', '537', '359', '357', '339', '428', '426', '248', '246', '228', '317', '315', '137', '135', '117', '206', '026', '197', '195', '917', '915', '086', '717', '715', '606', '604', '595', '593', '484', '482', '373', '371', '262', '260', '151', '159', '220', '040', '048', '020', '939', '046', '848', '846', '828', '935', '737', '844', '824', '626', '733', '713', '515', '622', '602', '404', '511', '591', '393', '400', '480', '200', '282', '399', '379', '171', '288', '268', '060', '177', '157', '959', '175', '155', '975', '064', '044', '953', '842', '731', '620', '519', '408', '406', '488', '486', '395', '377']\n",
      "['111', '119', '191', '199', '911', '919', '991', '000', '008', '080', '088', '800', '808', '880', '997', '979', '977', '799', '797', '779', '886', '868', '866', '688', '686', '668', '775', '757', '755', '577', '575', '557', '664', '646', '644', '466', '464', '446', '553', '535', '533', '355', '353', '335', '442', '424', '422', '244', '242', '224', '331', '313', '311', '133', '131', '204', '202', '024', '022', '004', '193', '913', '084', '082', '804', '802', '884', '973', '971', '793', '791', '773', '862', '860', '682', '680', '662', '751', '759', '571', '579', '551', '640', '648', '460', '468', '440', '539', '537', '359', '357', '339', '428', '426', '248', '246', '228', '317', '315', '137', '135', '117', '206', '026', '197', '195', '917', '915', '086', '717', '715', '606', '604', '595', '593', '484', '482', '373', '371', '262', '260', '151', '159', '220', '040', '048', '020', '939', '046', '848', '846', '828', '935', '737', '844', '824', '626', '733', '713', '515', '622', '602', '404', '511', '591', '393', '400', '480', '200', '282', '399', '379', '171', '288', '268', '060', '177', '157', '959', '175', '155', '975', '064', '044', '953', '842', '731', '620', '519', '408', '406', '488', '486', '395']\n",
      "['111', '119', '191', '199', '911', '919', '991', '000', '008', '080', '088', '800', '808', '880', '997', '979', '977', '799', '797', '779', '886', '868', '866', '688', '686', '668', '775', '757', '755', '577', '575', '557', '664', '646', '644', '466', '464', '446', '553', '535', '533', '355', '353', '335', '442', '424', '422', '244', '242', '224', '331', '313', '311', '133', '131', '204', '202', '024', '022', '004', '193', '913', '084', '082', '804', '802', '884', '973', '971', '793', '791', '773', '862', '860', '682', '680', '662', '751', '759', '571', '579', '551', '640', '648', '460', '468', '440', '539', '537', '359', '357', '339', '428', '426', '248', '246', '228', '317', '315', '137', '135', '117', '206', '026', '197', '195', '917', '915', '086', '717', '715', '606', '604', '595', '593', '484', '482', '373', '371', '262', '260', '151', '159', '220', '040', '048', '020', '939', '046', '848', '846', '828', '935', '737', '844', '824', '626', '733', '713', '515', '622', '602', '404', '511', '591', '393', '400', '480', '200', '282', '399', '379', '171', '288', '268', '060', '177', '157', '959', '175', '155', '975', '064', '044', '953', '842', '731', '620', '519', '408', '406', '488', '486']\n",
      "['111', '119', '191', '199', '911', '919', '991', '000', '008', '080', '088', '800', '808', '880', '997', '979', '977', '799', '797', '779', '886', '868', '866', '688', '686', '668', '775', '757', '755', '577', '575', '557', '664', '646', '644', '466', '464', '446', '553', '535', '533', '355', '353', '335', '442', '424', '422', '244', '242', '224', '331', '313', '311', '133', '131', '204', '202', '024', '022', '004', '193', '913', '084', '082', '804', '802', '884', '973', '971', '793', '791', '773', '862', '860', '682', '680', '662', '751', '759', '571', '579', '551', '640', '648', '460', '468', '440', '539', '537', '359', '357', '339', '428', '426', '248', '246', '228', '317', '315', '137', '135', '117', '206', '026', '197', '195', '917', '915', '086', '717', '715', '606', '604', '595', '593', '484', '482', '373', '371', '262', '260', '151', '159', '220', '040', '048', '020', '939', '046', '848', '846', '828', '935', '737', '844', '824', '626', '733', '713', '515', '622', '602', '404', '511', '591', '393', '400', '480', '200', '282', '399', '379', '171', '288', '268', '060', '177', '157', '959', '175', '155', '975', '064', '044', '953', '842', '731', '620', '519', '408', '406', '488']\n",
      "['111', '119', '191', '199', '911', '919', '991', '000', '008', '080', '088', '800', '808', '880', '997', '979', '977', '799', '797', '779', '886', '868', '866', '688', '686', '668', '775', '757', '755', '577', '575', '557', '664', '646', '644', '466', '464', '446', '553', '535', '533', '355', '353', '335', '442', '424', '422', '244', '242', '224', '331', '313', '311', '133', '131', '204', '202', '024', '022', '004', '193', '913', '084', '082', '804', '802', '884', '973', '971', '793', '791', '773', '862', '860', '682', '680', '662', '751', '759', '571', '579', '551', '640', '648', '460', '468', '440', '539', '537', '359', '357', '339', '428', '426', '248', '246', '228', '317', '315', '137', '135', '117', '206', '026', '197', '195', '917', '915', '086', '717', '715', '606', '604', '595', '593', '484', '482', '373', '371', '262', '260', '151', '159', '220', '040', '048', '020', '939', '046', '848', '846', '828', '935', '737', '844', '824', '626', '733', '713', '515', '622', '602', '404', '511', '591', '393', '400', '480', '200', '282', '399', '379', '171', '288', '268', '060', '177', '157', '959', '175', '155', '975', '064', '044', '953', '842', '731', '620', '519', '408', '406']\n",
      "['111', '119', '191', '199', '911', '919', '991', '000', '008', '080', '088', '800', '808', '880', '997', '979', '977', '799', '797', '779', '886', '868', '866', '688', '686', '668', '775', '757', '755', '577', '575', '557', '664', '646', '644', '466', '464', '446', '553', '535', '533', '355', '353', '335', '442', '424', '422', '244', '242', '224', '331', '313', '311', '133', '131', '204', '202', '024', '022', '004', '193', '913', '084', '082', '804', '802', '884', '973', '971', '793', '791', '773', '862', '860', '682', '680', '662', '751', '759', '571', '579', '551', '640', '648', '460', '468', '440', '539', '537', '359', '357', '339', '428', '426', '248', '246', '228', '317', '315', '137', '135', '117', '206', '026', '197', '195', '917', '915', '086', '717', '715', '606', '604', '595', '593', '484', '482', '373', '371', '262', '260', '151', '159', '220', '040', '048', '020', '939', '046', '848', '846', '828', '935', '737', '844', '824', '626', '733', '713', '515', '622', '602', '404', '511', '591', '393', '400', '480', '200', '282', '399', '379', '171', '288', '268', '060', '177', '157', '959', '175', '155', '975', '064', '044', '953', '842', '731', '620', '519', '408']\n",
      "['111', '119', '191', '199', '911', '919', '991', '000', '008', '080', '088', '800', '808', '880', '997', '979', '977', '799', '797', '779', '886', '868', '866', '688', '686', '668', '775', '757', '755', '577', '575', '557', '664', '646', '644', '466', '464', '446', '553', '535', '533', '355', '353', '335', '442', '424', '422', '244', '242', '224', '331', '313', '311', '133', '131', '204', '202', '024', '022', '004', '193', '913', '084', '082', '804', '802', '884', '973', '971', '793', '791', '773', '862', '860', '682', '680', '662', '751', '759', '571', '579', '551', '640', '648', '460', '468', '440', '539', '537', '359', '357', '339', '428', '426', '248', '246', '228', '317', '315', '137', '135', '117', '206', '026', '197', '195', '917', '915', '086', '717', '715', '606', '604', '595', '593', '484', '482', '373', '371', '262', '260', '151', '159', '220', '040', '048', '020', '939', '046', '848', '846', '828', '935', '737', '844', '824', '626', '733', '713', '515', '622', '602', '404', '511', '591', '393', '400', '480', '200', '282', '399', '379', '171', '288', '268', '060', '177', '157', '959', '175', '155', '975', '064', '044', '953', '842', '731', '620', '519']\n",
      "['111', '119', '191', '199', '911', '919', '991', '000', '008', '080', '088', '800', '808', '880', '997', '979', '977', '799', '797', '779', '886', '868', '866', '688', '686', '668', '775', '757', '755', '577', '575', '557', '664', '646', '644', '466', '464', '446', '553', '535', '533', '355', '353', '335', '442', '424', '422', '244', '242', '224', '331', '313', '311', '133', '131', '204', '202', '024', '022', '004', '193', '913', '084', '082', '804', '802', '884', '973', '971', '793', '791', '773', '862', '860', '682', '680', '662', '751', '759', '571', '579', '551', '640', '648', '460', '468', '440', '539', '537', '359', '357', '339', '428', '426', '248', '246', '228', '317', '315', '137', '135', '117', '206', '026', '197', '195', '917', '915', '086', '717', '715', '606', '604', '595', '593', '484', '482', '373', '371', '262', '260', '151', '159', '220', '040', '048', '020', '939', '046', '848', '846', '828', '935', '737', '844', '824', '626', '733', '713', '515', '622', '602', '404', '511', '591', '393', '400', '480', '200', '282', '399', '379', '171', '288', '268', '060', '177', '157', '959', '175', '155', '975', '064', '044', '953', '842', '731', '620']\n",
      "['111', '119', '191', '199', '911', '919', '991', '000', '008', '080', '088', '800', '808', '880', '997', '979', '977', '799', '797', '779', '886', '868', '866', '688', '686', '668', '775', '757', '755', '577', '575', '557', '664', '646', '644', '466', '464', '446', '553', '535', '533', '355', '353', '335', '442', '424', '422', '244', '242', '224', '331', '313', '311', '133', '131', '204', '202', '024', '022', '004', '193', '913', '084', '082', '804', '802', '884', '973', '971', '793', '791', '773', '862', '860', '682', '680', '662', '751', '759', '571', '579', '551', '640', '648', '460', '468', '440', '539', '537', '359', '357', '339', '428', '426', '248', '246', '228', '317', '315', '137', '135', '117', '206', '026', '197', '195', '917', '915', '086', '717', '715', '606', '604', '595', '593', '484', '482', '373', '371', '262', '260', '151', '159', '220', '040', '048', '020', '939', '046', '848', '846', '828', '935', '737', '844', '824', '626', '733', '713', '515', '622', '602', '404', '511', '591', '393', '400', '480', '200', '282', '399', '379', '171', '288', '268', '060', '177', '157', '959', '175', '155', '975', '064', '044', '953', '842', '731']\n",
      "['111', '119', '191', '199', '911', '919', '991', '000', '008', '080', '088', '800', '808', '880', '997', '979', '977', '799', '797', '779', '886', '868', '866', '688', '686', '668', '775', '757', '755', '577', '575', '557', '664', '646', '644', '466', '464', '446', '553', '535', '533', '355', '353', '335', '442', '424', '422', '244', '242', '224', '331', '313', '311', '133', '131', '204', '202', '024', '022', '004', '193', '913', '084', '082', '804', '802', '884', '973', '971', '793', '791', '773', '862', '860', '682', '680', '662', '751', '759', '571', '579', '551', '640', '648', '460', '468', '440', '539', '537', '359', '357', '339', '428', '426', '248', '246', '228', '317', '315', '137', '135', '117', '206', '026', '197', '195', '917', '915', '086', '717', '715', '606', '604', '595', '593', '484', '482', '373', '371', '262', '260', '151', '159', '220', '040', '048', '020', '939', '046', '848', '846', '828', '935', '737', '844', '824', '626', '733', '713', '515', '622', '602', '404', '511', '591', '393', '400', '480', '200', '282', '399', '379', '171', '288', '268', '060', '177', '157', '959', '175', '155', '975', '064', '044', '953', '842']\n",
      "['111', '119', '191', '199', '911', '919', '991', '000', '008', '080', '088', '800', '808', '880', '997', '979', '977', '799', '797', '779', '886', '868', '866', '688', '686', '668', '775', '757', '755', '577', '575', '557', '664', '646', '644', '466', '464', '446', '553', '535', '533', '355', '353', '335', '442', '424', '422', '244', '242', '224', '331', '313', '311', '133', '131', '204', '202', '024', '022', '004', '193', '913', '084', '082', '804', '802', '884', '973', '971', '793', '791', '773', '862', '860', '682', '680', '662', '751', '759', '571', '579', '551', '640', '648', '460', '468', '440', '539', '537', '359', '357', '339', '428', '426', '248', '246', '228', '317', '315', '137', '135', '117', '206', '026', '197', '195', '917', '915', '086', '717', '715', '606', '604', '595', '593', '484', '482', '373', '371', '262', '260', '151', '159', '220', '040', '048', '020', '939', '046', '848', '846', '828', '935', '737', '844', '824', '626', '733', '713', '515', '622', '602', '404', '511', '591', '393', '400', '480', '200', '282', '399', '379', '171', '288', '268', '060', '177', '157', '959', '175', '155', '975', '064', '044', '953']\n",
      "['111', '119', '191', '199', '911', '919', '991', '000', '008', '080', '088', '800', '808', '880', '997', '979', '977', '799', '797', '779', '886', '868', '866', '688', '686', '668', '775', '757', '755', '577', '575', '557', '664', '646', '644', '466', '464', '446', '553', '535', '533', '355', '353', '335', '442', '424', '422', '244', '242', '224', '331', '313', '311', '133', '131', '204', '202', '024', '022', '004', '193', '913', '084', '082', '804', '802', '884', '973', '971', '793', '791', '773', '862', '860', '682', '680', '662', '751', '759', '571', '579', '551', '640', '648', '460', '468', '440', '539', '537', '359', '357', '339', '428', '426', '248', '246', '228', '317', '315', '137', '135', '117', '206', '026', '197', '195', '917', '915', '086', '717', '715', '606', '604', '595', '593', '484', '482', '373', '371', '262', '260', '151', '159', '220', '040', '048', '020', '939', '046', '848', '846', '828', '935', '737', '844', '824', '626', '733', '713', '515', '622', '602', '404', '511', '591', '393', '400', '480', '200', '282', '399', '379', '171', '288', '268', '060', '177', '157', '959', '175', '155', '975', '064', '044']\n",
      "['111', '119', '191', '199', '911', '919', '991', '000', '008', '080', '088', '800', '808', '880', '997', '979', '977', '799', '797', '779', '886', '868', '866', '688', '686', '668', '775', '757', '755', '577', '575', '557', '664', '646', '644', '466', '464', '446', '553', '535', '533', '355', '353', '335', '442', '424', '422', '244', '242', '224', '331', '313', '311', '133', '131', '204', '202', '024', '022', '004', '193', '913', '084', '082', '804', '802', '884', '973', '971', '793', '791', '773', '862', '860', '682', '680', '662', '751', '759', '571', '579', '551', '640', '648', '460', '468', '440', '539', '537', '359', '357', '339', '428', '426', '248', '246', '228', '317', '315', '137', '135', '117', '206', '026', '197', '195', '917', '915', '086', '717', '715', '606', '604', '595', '593', '484', '482', '373', '371', '262', '260', '151', '159', '220', '040', '048', '020', '939', '046', '848', '846', '828', '935', '737', '844', '824', '626', '733', '713', '515', '622', '602', '404', '511', '591', '393', '400', '480', '200', '282', '399', '379', '171', '288', '268', '060', '177', '157', '959', '175', '155', '975', '064']\n",
      "['111', '119', '191', '199', '911', '919', '991', '000', '008', '080', '088', '800', '808', '880', '997', '979', '977', '799', '797', '779', '886', '868', '866', '688', '686', '668', '775', '757', '755', '577', '575', '557', '664', '646', '644', '466', '464', '446', '553', '535', '533', '355', '353', '335', '442', '424', '422', '244', '242', '224', '331', '313', '311', '133', '131', '204', '202', '024', '022', '004', '193', '913', '084', '082', '804', '802', '884', '973', '971', '793', '791', '773', '862', '860', '682', '680', '662', '751', '759', '571', '579', '551', '640', '648', '460', '468', '440', '539', '537', '359', '357', '339', '428', '426', '248', '246', '228', '317', '315', '137', '135', '117', '206', '026', '197', '195', '917', '915', '086', '717', '715', '606', '604', '595', '593', '484', '482', '373', '371', '262', '260', '151', '159', '220', '040', '048', '020', '939', '046', '848', '846', '828', '935', '737', '844', '824', '626', '733', '713', '515', '622', '602', '404', '511', '591', '393', '400', '480', '200', '282', '399', '379', '171', '288', '268', '060', '177', '157', '959', '175', '155', '975']\n",
      "['111', '119', '191', '199', '911', '919', '991', '000', '008', '080', '088', '800', '808', '880', '997', '979', '977', '799', '797', '779', '886', '868', '866', '688', '686', '668', '775', '757', '755', '577', '575', '557', '664', '646', '644', '466', '464', '446', '553', '535', '533', '355', '353', '335', '442', '424', '422', '244', '242', '224', '331', '313', '311', '133', '131', '204', '202', '024', '022', '004', '193', '913', '084', '082', '804', '802', '884', '973', '971', '793', '791', '773', '862', '860', '682', '680', '662', '751', '759', '571', '579', '551', '640', '648', '460', '468', '440', '539', '537', '359', '357', '339', '428', '426', '248', '246', '228', '317', '315', '137', '135', '117', '206', '026', '197', '195', '917', '915', '086', '717', '715', '606', '604', '595', '593', '484', '482', '373', '371', '262', '260', '151', '159', '220', '040', '048', '020', '939', '046', '848', '846', '828', '935', '737', '844', '824', '626', '733', '713', '515', '622', '602', '404', '511', '591', '393', '400', '480', '200', '282', '399', '379', '171', '288', '268', '060', '177', '157', '959', '175', '155']\n",
      "['111', '119', '191', '199', '911', '919', '991', '000', '008', '080', '088', '800', '808', '880', '997', '979', '977', '799', '797', '779', '886', '868', '866', '688', '686', '668', '775', '757', '755', '577', '575', '557', '664', '646', '644', '466', '464', '446', '553', '535', '533', '355', '353', '335', '442', '424', '422', '244', '242', '224', '331', '313', '311', '133', '131', '204', '202', '024', '022', '004', '193', '913', '084', '082', '804', '802', '884', '973', '971', '793', '791', '773', '862', '860', '682', '680', '662', '751', '759', '571', '579', '551', '640', '648', '460', '468', '440', '539', '537', '359', '357', '339', '428', '426', '248', '246', '228', '317', '315', '137', '135', '117', '206', '026', '197', '195', '917', '915', '086', '717', '715', '606', '604', '595', '593', '484', '482', '373', '371', '262', '260', '151', '159', '220', '040', '048', '020', '939', '046', '848', '846', '828', '935', '737', '844', '824', '626', '733', '713', '515', '622', '602', '404', '511', '591', '393', '400', '480', '200', '282', '399', '379', '171', '288', '268', '060', '177', '157', '959', '175']\n",
      "['111', '119', '191', '199', '911', '919', '991', '000', '008', '080', '088', '800', '808', '880', '997', '979', '977', '799', '797', '779', '886', '868', '866', '688', '686', '668', '775', '757', '755', '577', '575', '557', '664', '646', '644', '466', '464', '446', '553', '535', '533', '355', '353', '335', '442', '424', '422', '244', '242', '224', '331', '313', '311', '133', '131', '204', '202', '024', '022', '004', '193', '913', '084', '082', '804', '802', '884', '973', '971', '793', '791', '773', '862', '860', '682', '680', '662', '751', '759', '571', '579', '551', '640', '648', '460', '468', '440', '539', '537', '359', '357', '339', '428', '426', '248', '246', '228', '317', '315', '137', '135', '117', '206', '026', '197', '195', '917', '915', '086', '717', '715', '606', '604', '595', '593', '484', '482', '373', '371', '262', '260', '151', '159', '220', '040', '048', '020', '939', '046', '848', '846', '828', '935', '737', '844', '824', '626', '733', '713', '515', '622', '602', '404', '511', '591', '393', '400', '480', '200', '282', '399', '379', '171', '288', '268', '060', '177', '157', '959']\n",
      "['111', '119', '191', '199', '911', '919', '991', '000', '008', '080', '088', '800', '808', '880', '997', '979', '977', '799', '797', '779', '886', '868', '866', '688', '686', '668', '775', '757', '755', '577', '575', '557', '664', '646', '644', '466', '464', '446', '553', '535', '533', '355', '353', '335', '442', '424', '422', '244', '242', '224', '331', '313', '311', '133', '131', '204', '202', '024', '022', '004', '193', '913', '084', '082', '804', '802', '884', '973', '971', '793', '791', '773', '862', '860', '682', '680', '662', '751', '759', '571', '579', '551', '640', '648', '460', '468', '440', '539', '537', '359', '357', '339', '428', '426', '248', '246', '228', '317', '315', '137', '135', '117', '206', '026', '197', '195', '917', '915', '086', '717', '715', '606', '604', '595', '593', '484', '482', '373', '371', '262', '260', '151', '159', '220', '040', '048', '020', '939', '046', '848', '846', '828', '935', '737', '844', '824', '626', '733', '713', '515', '622', '602', '404', '511', '591', '393', '400', '480', '200', '282', '399', '379', '171', '288', '268', '060', '177', '157']\n",
      "['111', '119', '191', '199', '911', '919', '991', '000', '008', '080', '088', '800', '808', '880', '997', '979', '977', '799', '797', '779', '886', '868', '866', '688', '686', '668', '775', '757', '755', '577', '575', '557', '664', '646', '644', '466', '464', '446', '553', '535', '533', '355', '353', '335', '442', '424', '422', '244', '242', '224', '331', '313', '311', '133', '131', '204', '202', '024', '022', '004', '193', '913', '084', '082', '804', '802', '884', '973', '971', '793', '791', '773', '862', '860', '682', '680', '662', '751', '759', '571', '579', '551', '640', '648', '460', '468', '440', '539', '537', '359', '357', '339', '428', '426', '248', '246', '228', '317', '315', '137', '135', '117', '206', '026', '197', '195', '917', '915', '086', '717', '715', '606', '604', '595', '593', '484', '482', '373', '371', '262', '260', '151', '159', '220', '040', '048', '020', '939', '046', '848', '846', '828', '935', '737', '844', '824', '626', '733', '713', '515', '622', '602', '404', '511', '591', '393', '400', '480', '200', '282', '399', '379', '171', '288', '268', '060', '177']\n",
      "['111', '119', '191', '199', '911', '919', '991', '000', '008', '080', '088', '800', '808', '880', '997', '979', '977', '799', '797', '779', '886', '868', '866', '688', '686', '668', '775', '757', '755', '577', '575', '557', '664', '646', '644', '466', '464', '446', '553', '535', '533', '355', '353', '335', '442', '424', '422', '244', '242', '224', '331', '313', '311', '133', '131', '204', '202', '024', '022', '004', '193', '913', '084', '082', '804', '802', '884', '973', '971', '793', '791', '773', '862', '860', '682', '680', '662', '751', '759', '571', '579', '551', '640', '648', '460', '468', '440', '539', '537', '359', '357', '339', '428', '426', '248', '246', '228', '317', '315', '137', '135', '117', '206', '026', '197', '195', '917', '915', '086', '717', '715', '606', '604', '595', '593', '484', '482', '373', '371', '262', '260', '151', '159', '220', '040', '048', '020', '939', '046', '848', '846', '828', '935', '737', '844', '824', '626', '733', '713', '515', '622', '602', '404', '511', '591', '393', '400', '480', '200', '282', '399', '379', '171', '288', '268', '060']\n",
      "['111', '119', '191', '199', '911', '919', '991', '000', '008', '080', '088', '800', '808', '880', '997', '979', '977', '799', '797', '779', '886', '868', '866', '688', '686', '668', '775', '757', '755', '577', '575', '557', '664', '646', '644', '466', '464', '446', '553', '535', '533', '355', '353', '335', '442', '424', '422', '244', '242', '224', '331', '313', '311', '133', '131', '204', '202', '024', '022', '004', '193', '913', '084', '082', '804', '802', '884', '973', '971', '793', '791', '773', '862', '860', '682', '680', '662', '751', '759', '571', '579', '551', '640', '648', '460', '468', '440', '539', '537', '359', '357', '339', '428', '426', '248', '246', '228', '317', '315', '137', '135', '117', '206', '026', '197', '195', '917', '915', '086', '717', '715', '606', '604', '595', '593', '484', '482', '373', '371', '262', '260', '151', '159', '220', '040', '048', '020', '939', '046', '848', '846', '828', '935', '737', '844', '824', '626', '733', '713', '515', '622', '602', '404', '511', '591', '393', '400', '480', '200', '282', '399', '379', '171', '288', '268']\n",
      "['111', '119', '191', '199', '911', '919', '991', '000', '008', '080', '088', '800', '808', '880', '997', '979', '977', '799', '797', '779', '886', '868', '866', '688', '686', '668', '775', '757', '755', '577', '575', '557', '664', '646', '644', '466', '464', '446', '553', '535', '533', '355', '353', '335', '442', '424', '422', '244', '242', '224', '331', '313', '311', '133', '131', '204', '202', '024', '022', '004', '193', '913', '084', '082', '804', '802', '884', '973', '971', '793', '791', '773', '862', '860', '682', '680', '662', '751', '759', '571', '579', '551', '640', '648', '460', '468', '440', '539', '537', '359', '357', '339', '428', '426', '248', '246', '228', '317', '315', '137', '135', '117', '206', '026', '197', '195', '917', '915', '086', '717', '715', '606', '604', '595', '593', '484', '482', '373', '371', '262', '260', '151', '159', '220', '040', '048', '020', '939', '046', '848', '846', '828', '935', '737', '844', '824', '626', '733', '713', '515', '622', '602', '404', '511', '591', '393', '400', '480', '200', '282', '399', '379', '171', '288']\n",
      "['111', '119', '191', '199', '911', '919', '991', '000', '008', '080', '088', '800', '808', '880', '997', '979', '977', '799', '797', '779', '886', '868', '866', '688', '686', '668', '775', '757', '755', '577', '575', '557', '664', '646', '644', '466', '464', '446', '553', '535', '533', '355', '353', '335', '442', '424', '422', '244', '242', '224', '331', '313', '311', '133', '131', '204', '202', '024', '022', '004', '193', '913', '084', '082', '804', '802', '884', '973', '971', '793', '791', '773', '862', '860', '682', '680', '662', '751', '759', '571', '579', '551', '640', '648', '460', '468', '440', '539', '537', '359', '357', '339', '428', '426', '248', '246', '228', '317', '315', '137', '135', '117', '206', '026', '197', '195', '917', '915', '086', '717', '715', '606', '604', '595', '593', '484', '482', '373', '371', '262', '260', '151', '159', '220', '040', '048', '020', '939', '046', '848', '846', '828', '935', '737', '844', '824', '626', '733', '713', '515', '622', '602', '404', '511', '591', '393', '400', '480', '200', '282', '399', '379', '171']\n",
      "['111', '119', '191', '199', '911', '919', '991', '000', '008', '080', '088', '800', '808', '880', '997', '979', '977', '799', '797', '779', '886', '868', '866', '688', '686', '668', '775', '757', '755', '577', '575', '557', '664', '646', '644', '466', '464', '446', '553', '535', '533', '355', '353', '335', '442', '424', '422', '244', '242', '224', '331', '313', '311', '133', '131', '204', '202', '024', '022', '004', '193', '913', '084', '082', '804', '802', '884', '973', '971', '793', '791', '773', '862', '860', '682', '680', '662', '751', '759', '571', '579', '551', '640', '648', '460', '468', '440', '539', '537', '359', '357', '339', '428', '426', '248', '246', '228', '317', '315', '137', '135', '117', '206', '026', '197', '195', '917', '915', '086', '717', '715', '606', '604', '595', '593', '484', '482', '373', '371', '262', '260', '151', '159', '220', '040', '048', '020', '939', '046', '848', '846', '828', '935', '737', '844', '824', '626', '733', '713', '515', '622', '602', '404', '511', '591', '393', '400', '480', '200', '282', '399', '379']\n",
      "['111', '119', '191', '199', '911', '919', '991', '000', '008', '080', '088', '800', '808', '880', '997', '979', '977', '799', '797', '779', '886', '868', '866', '688', '686', '668', '775', '757', '755', '577', '575', '557', '664', '646', '644', '466', '464', '446', '553', '535', '533', '355', '353', '335', '442', '424', '422', '244', '242', '224', '331', '313', '311', '133', '131', '204', '202', '024', '022', '004', '193', '913', '084', '082', '804', '802', '884', '973', '971', '793', '791', '773', '862', '860', '682', '680', '662', '751', '759', '571', '579', '551', '640', '648', '460', '468', '440', '539', '537', '359', '357', '339', '428', '426', '248', '246', '228', '317', '315', '137', '135', '117', '206', '026', '197', '195', '917', '915', '086', '717', '715', '606', '604', '595', '593', '484', '482', '373', '371', '262', '260', '151', '159', '220', '040', '048', '020', '939', '046', '848', '846', '828', '935', '737', '844', '824', '626', '733', '713', '515', '622', '602', '404', '511', '591', '393', '400', '480', '200', '282', '399']\n",
      "['111', '119', '191', '199', '911', '919', '991', '000', '008', '080', '088', '800', '808', '880', '997', '979', '977', '799', '797', '779', '886', '868', '866', '688', '686', '668', '775', '757', '755', '577', '575', '557', '664', '646', '644', '466', '464', '446', '553', '535', '533', '355', '353', '335', '442', '424', '422', '244', '242', '224', '331', '313', '311', '133', '131', '204', '202', '024', '022', '004', '193', '913', '084', '082', '804', '802', '884', '973', '971', '793', '791', '773', '862', '860', '682', '680', '662', '751', '759', '571', '579', '551', '640', '648', '460', '468', '440', '539', '537', '359', '357', '339', '428', '426', '248', '246', '228', '317', '315', '137', '135', '117', '206', '026', '197', '195', '917', '915', '086', '717', '715', '606', '604', '595', '593', '484', '482', '373', '371', '262', '260', '151', '159', '220', '040', '048', '020', '939', '046', '848', '846', '828', '935', '737', '844', '824', '626', '733', '713', '515', '622', '602', '404', '511', '591', '393', '400', '480', '200', '282']\n",
      "['111', '119', '191', '199', '911', '919', '991', '000', '008', '080', '088', '800', '808', '880', '997', '979', '977', '799', '797', '779', '886', '868', '866', '688', '686', '668', '775', '757', '755', '577', '575', '557', '664', '646', '644', '466', '464', '446', '553', '535', '533', '355', '353', '335', '442', '424', '422', '244', '242', '224', '331', '313', '311', '133', '131', '204', '202', '024', '022', '004', '193', '913', '084', '082', '804', '802', '884', '973', '971', '793', '791', '773', '862', '860', '682', '680', '662', '751', '759', '571', '579', '551', '640', '648', '460', '468', '440', '539', '537', '359', '357', '339', '428', '426', '248', '246', '228', '317', '315', '137', '135', '117', '206', '026', '197', '195', '917', '915', '086', '717', '715', '606', '604', '595', '593', '484', '482', '373', '371', '262', '260', '151', '159', '220', '040', '048', '020', '939', '046', '848', '846', '828', '935', '737', '844', '824', '626', '733', '713', '515', '622', '602', '404', '511', '591', '393', '400', '480', '200']\n",
      "['111', '119', '191', '199', '911', '919', '991', '000', '008', '080', '088', '800', '808', '880', '997', '979', '977', '799', '797', '779', '886', '868', '866', '688', '686', '668', '775', '757', '755', '577', '575', '557', '664', '646', '644', '466', '464', '446', '553', '535', '533', '355', '353', '335', '442', '424', '422', '244', '242', '224', '331', '313', '311', '133', '131', '204', '202', '024', '022', '004', '193', '913', '084', '082', '804', '802', '884', '973', '971', '793', '791', '773', '862', '860', '682', '680', '662', '751', '759', '571', '579', '551', '640', '648', '460', '468', '440', '539', '537', '359', '357', '339', '428', '426', '248', '246', '228', '317', '315', '137', '135', '117', '206', '026', '197', '195', '917', '915', '086', '717', '715', '606', '604', '595', '593', '484', '482', '373', '371', '262', '260', '151', '159', '220', '040', '048', '020', '939', '046', '848', '846', '828', '935', '737', '844', '824', '626', '733', '713', '515', '622', '602', '404', '511', '591', '393', '400', '480']\n",
      "['111', '119', '191', '199', '911', '919', '991', '000', '008', '080', '088', '800', '808', '880', '997', '979', '977', '799', '797', '779', '886', '868', '866', '688', '686', '668', '775', '757', '755', '577', '575', '557', '664', '646', '644', '466', '464', '446', '553', '535', '533', '355', '353', '335', '442', '424', '422', '244', '242', '224', '331', '313', '311', '133', '131', '204', '202', '024', '022', '004', '193', '913', '084', '082', '804', '802', '884', '973', '971', '793', '791', '773', '862', '860', '682', '680', '662', '751', '759', '571', '579', '551', '640', '648', '460', '468', '440', '539', '537', '359', '357', '339', '428', '426', '248', '246', '228', '317', '315', '137', '135', '117', '206', '026', '197', '195', '917', '915', '086', '717', '715', '606', '604', '595', '593', '484', '482', '373', '371', '262', '260', '151', '159', '220', '040', '048', '020', '939', '046', '848', '846', '828', '935', '737', '844', '824', '626', '733', '713', '515', '622', '602', '404', '511', '591', '393', '400']\n",
      "['111', '119', '191', '199', '911', '919', '991', '000', '008', '080', '088', '800', '808', '880', '997', '979', '977', '799', '797', '779', '886', '868', '866', '688', '686', '668', '775', '757', '755', '577', '575', '557', '664', '646', '644', '466', '464', '446', '553', '535', '533', '355', '353', '335', '442', '424', '422', '244', '242', '224', '331', '313', '311', '133', '131', '204', '202', '024', '022', '004', '193', '913', '084', '082', '804', '802', '884', '973', '971', '793', '791', '773', '862', '860', '682', '680', '662', '751', '759', '571', '579', '551', '640', '648', '460', '468', '440', '539', '537', '359', '357', '339', '428', '426', '248', '246', '228', '317', '315', '137', '135', '117', '206', '026', '197', '195', '917', '915', '086', '717', '715', '606', '604', '595', '593', '484', '482', '373', '371', '262', '260', '151', '159', '220', '040', '048', '020', '939', '046', '848', '846', '828', '935', '737', '844', '824', '626', '733', '713', '515', '622', '602', '404', '511', '591', '393']\n",
      "['111', '119', '191', '199', '911', '919', '991', '000', '008', '080', '088', '800', '808', '880', '997', '979', '977', '799', '797', '779', '886', '868', '866', '688', '686', '668', '775', '757', '755', '577', '575', '557', '664', '646', '644', '466', '464', '446', '553', '535', '533', '355', '353', '335', '442', '424', '422', '244', '242', '224', '331', '313', '311', '133', '131', '204', '202', '024', '022', '004', '193', '913', '084', '082', '804', '802', '884', '973', '971', '793', '791', '773', '862', '860', '682', '680', '662', '751', '759', '571', '579', '551', '640', '648', '460', '468', '440', '539', '537', '359', '357', '339', '428', '426', '248', '246', '228', '317', '315', '137', '135', '117', '206', '026', '197', '195', '917', '915', '086', '717', '715', '606', '604', '595', '593', '484', '482', '373', '371', '262', '260', '151', '159', '220', '040', '048', '020', '939', '046', '848', '846', '828', '935', '737', '844', '824', '626', '733', '713', '515', '622', '602', '404', '511', '591']\n",
      "['111', '119', '191', '199', '911', '919', '991', '000', '008', '080', '088', '800', '808', '880', '997', '979', '977', '799', '797', '779', '886', '868', '866', '688', '686', '668', '775', '757', '755', '577', '575', '557', '664', '646', '644', '466', '464', '446', '553', '535', '533', '355', '353', '335', '442', '424', '422', '244', '242', '224', '331', '313', '311', '133', '131', '204', '202', '024', '022', '004', '193', '913', '084', '082', '804', '802', '884', '973', '971', '793', '791', '773', '862', '860', '682', '680', '662', '751', '759', '571', '579', '551', '640', '648', '460', '468', '440', '539', '537', '359', '357', '339', '428', '426', '248', '246', '228', '317', '315', '137', '135', '117', '206', '026', '197', '195', '917', '915', '086', '717', '715', '606', '604', '595', '593', '484', '482', '373', '371', '262', '260', '151', '159', '220', '040', '048', '020', '939', '046', '848', '846', '828', '935', '737', '844', '824', '626', '733', '713', '515', '622', '602', '404', '511']\n",
      "['111', '119', '191', '199', '911', '919', '991', '000', '008', '080', '088', '800', '808', '880', '997', '979', '977', '799', '797', '779', '886', '868', '866', '688', '686', '668', '775', '757', '755', '577', '575', '557', '664', '646', '644', '466', '464', '446', '553', '535', '533', '355', '353', '335', '442', '424', '422', '244', '242', '224', '331', '313', '311', '133', '131', '204', '202', '024', '022', '004', '193', '913', '084', '082', '804', '802', '884', '973', '971', '793', '791', '773', '862', '860', '682', '680', '662', '751', '759', '571', '579', '551', '640', '648', '460', '468', '440', '539', '537', '359', '357', '339', '428', '426', '248', '246', '228', '317', '315', '137', '135', '117', '206', '026', '197', '195', '917', '915', '086', '717', '715', '606', '604', '595', '593', '484', '482', '373', '371', '262', '260', '151', '159', '220', '040', '048', '020', '939', '046', '848', '846', '828', '935', '737', '844', '824', '626', '733', '713', '515', '622', '602', '404']\n",
      "['111', '119', '191', '199', '911', '919', '991', '000', '008', '080', '088', '800', '808', '880', '997', '979', '977', '799', '797', '779', '886', '868', '866', '688', '686', '668', '775', '757', '755', '577', '575', '557', '664', '646', '644', '466', '464', '446', '553', '535', '533', '355', '353', '335', '442', '424', '422', '244', '242', '224', '331', '313', '311', '133', '131', '204', '202', '024', '022', '004', '193', '913', '084', '082', '804', '802', '884', '973', '971', '793', '791', '773', '862', '860', '682', '680', '662', '751', '759', '571', '579', '551', '640', '648', '460', '468', '440', '539', '537', '359', '357', '339', '428', '426', '248', '246', '228', '317', '315', '137', '135', '117', '206', '026', '197', '195', '917', '915', '086', '717', '715', '606', '604', '595', '593', '484', '482', '373', '371', '262', '260', '151', '159', '220', '040', '048', '020', '939', '046', '848', '846', '828', '935', '737', '844', '824', '626', '733', '713', '515', '622', '602']\n",
      "['111', '119', '191', '199', '911', '919', '991', '000', '008', '080', '088', '800', '808', '880', '997', '979', '977', '799', '797', '779', '886', '868', '866', '688', '686', '668', '775', '757', '755', '577', '575', '557', '664', '646', '644', '466', '464', '446', '553', '535', '533', '355', '353', '335', '442', '424', '422', '244', '242', '224', '331', '313', '311', '133', '131', '204', '202', '024', '022', '004', '193', '913', '084', '082', '804', '802', '884', '973', '971', '793', '791', '773', '862', '860', '682', '680', '662', '751', '759', '571', '579', '551', '640', '648', '460', '468', '440', '539', '537', '359', '357', '339', '428', '426', '248', '246', '228', '317', '315', '137', '135', '117', '206', '026', '197', '195', '917', '915', '086', '717', '715', '606', '604', '595', '593', '484', '482', '373', '371', '262', '260', '151', '159', '220', '040', '048', '020', '939', '046', '848', '846', '828', '935', '737', '844', '824', '626', '733', '713', '515', '622']\n",
      "['111', '119', '191', '199', '911', '919', '991', '000', '008', '080', '088', '800', '808', '880', '997', '979', '977', '799', '797', '779', '886', '868', '866', '688', '686', '668', '775', '757', '755', '577', '575', '557', '664', '646', '644', '466', '464', '446', '553', '535', '533', '355', '353', '335', '442', '424', '422', '244', '242', '224', '331', '313', '311', '133', '131', '204', '202', '024', '022', '004', '193', '913', '084', '082', '804', '802', '884', '973', '971', '793', '791', '773', '862', '860', '682', '680', '662', '751', '759', '571', '579', '551', '640', '648', '460', '468', '440', '539', '537', '359', '357', '339', '428', '426', '248', '246', '228', '317', '315', '137', '135', '117', '206', '026', '197', '195', '917', '915', '086', '717', '715', '606', '604', '595', '593', '484', '482', '373', '371', '262', '260', '151', '159', '220', '040', '048', '020', '939', '046', '848', '846', '828', '935', '737', '844', '824', '626', '733', '713', '515']\n",
      "['111', '119', '191', '199', '911', '919', '991', '000', '008', '080', '088', '800', '808', '880', '997', '979', '977', '799', '797', '779', '886', '868', '866', '688', '686', '668', '775', '757', '755', '577', '575', '557', '664', '646', '644', '466', '464', '446', '553', '535', '533', '355', '353', '335', '442', '424', '422', '244', '242', '224', '331', '313', '311', '133', '131', '204', '202', '024', '022', '004', '193', '913', '084', '082', '804', '802', '884', '973', '971', '793', '791', '773', '862', '860', '682', '680', '662', '751', '759', '571', '579', '551', '640', '648', '460', '468', '440', '539', '537', '359', '357', '339', '428', '426', '248', '246', '228', '317', '315', '137', '135', '117', '206', '026', '197', '195', '917', '915', '086', '717', '715', '606', '604', '595', '593', '484', '482', '373', '371', '262', '260', '151', '159', '220', '040', '048', '020', '939', '046', '848', '846', '828', '935', '737', '844', '824', '626', '733', '713']\n",
      "['111', '119', '191', '199', '911', '919', '991', '000', '008', '080', '088', '800', '808', '880', '997', '979', '977', '799', '797', '779', '886', '868', '866', '688', '686', '668', '775', '757', '755', '577', '575', '557', '664', '646', '644', '466', '464', '446', '553', '535', '533', '355', '353', '335', '442', '424', '422', '244', '242', '224', '331', '313', '311', '133', '131', '204', '202', '024', '022', '004', '193', '913', '084', '082', '804', '802', '884', '973', '971', '793', '791', '773', '862', '860', '682', '680', '662', '751', '759', '571', '579', '551', '640', '648', '460', '468', '440', '539', '537', '359', '357', '339', '428', '426', '248', '246', '228', '317', '315', '137', '135', '117', '206', '026', '197', '195', '917', '915', '086', '717', '715', '606', '604', '595', '593', '484', '482', '373', '371', '262', '260', '151', '159', '220', '040', '048', '020', '939', '046', '848', '846', '828', '935', '737', '844', '824', '626', '733']\n",
      "['111', '119', '191', '199', '911', '919', '991', '000', '008', '080', '088', '800', '808', '880', '997', '979', '977', '799', '797', '779', '886', '868', '866', '688', '686', '668', '775', '757', '755', '577', '575', '557', '664', '646', '644', '466', '464', '446', '553', '535', '533', '355', '353', '335', '442', '424', '422', '244', '242', '224', '331', '313', '311', '133', '131', '204', '202', '024', '022', '004', '193', '913', '084', '082', '804', '802', '884', '973', '971', '793', '791', '773', '862', '860', '682', '680', '662', '751', '759', '571', '579', '551', '640', '648', '460', '468', '440', '539', '537', '359', '357', '339', '428', '426', '248', '246', '228', '317', '315', '137', '135', '117', '206', '026', '197', '195', '917', '915', '086', '717', '715', '606', '604', '595', '593', '484', '482', '373', '371', '262', '260', '151', '159', '220', '040', '048', '020', '939', '046', '848', '846', '828', '935', '737', '844', '824', '626']\n",
      "['111', '119', '191', '199', '911', '919', '991', '000', '008', '080', '088', '800', '808', '880', '997', '979', '977', '799', '797', '779', '886', '868', '866', '688', '686', '668', '775', '757', '755', '577', '575', '557', '664', '646', '644', '466', '464', '446', '553', '535', '533', '355', '353', '335', '442', '424', '422', '244', '242', '224', '331', '313', '311', '133', '131', '204', '202', '024', '022', '004', '193', '913', '084', '082', '804', '802', '884', '973', '971', '793', '791', '773', '862', '860', '682', '680', '662', '751', '759', '571', '579', '551', '640', '648', '460', '468', '440', '539', '537', '359', '357', '339', '428', '426', '248', '246', '228', '317', '315', '137', '135', '117', '206', '026', '197', '195', '917', '915', '086', '717', '715', '606', '604', '595', '593', '484', '482', '373', '371', '262', '260', '151', '159', '220', '040', '048', '020', '939', '046', '848', '846', '828', '935', '737', '844', '824']\n",
      "['111', '119', '191', '199', '911', '919', '991', '000', '008', '080', '088', '800', '808', '880', '997', '979', '977', '799', '797', '779', '886', '868', '866', '688', '686', '668', '775', '757', '755', '577', '575', '557', '664', '646', '644', '466', '464', '446', '553', '535', '533', '355', '353', '335', '442', '424', '422', '244', '242', '224', '331', '313', '311', '133', '131', '204', '202', '024', '022', '004', '193', '913', '084', '082', '804', '802', '884', '973', '971', '793', '791', '773', '862', '860', '682', '680', '662', '751', '759', '571', '579', '551', '640', '648', '460', '468', '440', '539', '537', '359', '357', '339', '428', '426', '248', '246', '228', '317', '315', '137', '135', '117', '206', '026', '197', '195', '917', '915', '086', '717', '715', '606', '604', '595', '593', '484', '482', '373', '371', '262', '260', '151', '159', '220', '040', '048', '020', '939', '046', '848', '846', '828', '935', '737', '844']\n",
      "['111', '119', '191', '199', '911', '919', '991', '000', '008', '080', '088', '800', '808', '880', '997', '979', '977', '799', '797', '779', '886', '868', '866', '688', '686', '668', '775', '757', '755', '577', '575', '557', '664', '646', '644', '466', '464', '446', '553', '535', '533', '355', '353', '335', '442', '424', '422', '244', '242', '224', '331', '313', '311', '133', '131', '204', '202', '024', '022', '004', '193', '913', '084', '082', '804', '802', '884', '973', '971', '793', '791', '773', '862', '860', '682', '680', '662', '751', '759', '571', '579', '551', '640', '648', '460', '468', '440', '539', '537', '359', '357', '339', '428', '426', '248', '246', '228', '317', '315', '137', '135', '117', '206', '026', '197', '195', '917', '915', '086', '717', '715', '606', '604', '595', '593', '484', '482', '373', '371', '262', '260', '151', '159', '220', '040', '048', '020', '939', '046', '848', '846', '828', '935', '737']\n",
      "['111', '119', '191', '199', '911', '919', '991', '000', '008', '080', '088', '800', '808', '880', '997', '979', '977', '799', '797', '779', '886', '868', '866', '688', '686', '668', '775', '757', '755', '577', '575', '557', '664', '646', '644', '466', '464', '446', '553', '535', '533', '355', '353', '335', '442', '424', '422', '244', '242', '224', '331', '313', '311', '133', '131', '204', '202', '024', '022', '004', '193', '913', '084', '082', '804', '802', '884', '973', '971', '793', '791', '773', '862', '860', '682', '680', '662', '751', '759', '571', '579', '551', '640', '648', '460', '468', '440', '539', '537', '359', '357', '339', '428', '426', '248', '246', '228', '317', '315', '137', '135', '117', '206', '026', '197', '195', '917', '915', '086', '717', '715', '606', '604', '595', '593', '484', '482', '373', '371', '262', '260', '151', '159', '220', '040', '048', '020', '939', '046', '848', '846', '828', '935']\n",
      "['111', '119', '191', '199', '911', '919', '991', '000', '008', '080', '088', '800', '808', '880', '997', '979', '977', '799', '797', '779', '886', '868', '866', '688', '686', '668', '775', '757', '755', '577', '575', '557', '664', '646', '644', '466', '464', '446', '553', '535', '533', '355', '353', '335', '442', '424', '422', '244', '242', '224', '331', '313', '311', '133', '131', '204', '202', '024', '022', '004', '193', '913', '084', '082', '804', '802', '884', '973', '971', '793', '791', '773', '862', '860', '682', '680', '662', '751', '759', '571', '579', '551', '640', '648', '460', '468', '440', '539', '537', '359', '357', '339', '428', '426', '248', '246', '228', '317', '315', '137', '135', '117', '206', '026', '197', '195', '917', '915', '086', '717', '715', '606', '604', '595', '593', '484', '482', '373', '371', '262', '260', '151', '159', '220', '040', '048', '020', '939', '046', '848', '846', '828']\n",
      "['111', '119', '191', '199', '911', '919', '991', '000', '008', '080', '088', '800', '808', '880', '997', '979', '977', '799', '797', '779', '886', '868', '866', '688', '686', '668', '775', '757', '755', '577', '575', '557', '664', '646', '644', '466', '464', '446', '553', '535', '533', '355', '353', '335', '442', '424', '422', '244', '242', '224', '331', '313', '311', '133', '131', '204', '202', '024', '022', '004', '193', '913', '084', '082', '804', '802', '884', '973', '971', '793', '791', '773', '862', '860', '682', '680', '662', '751', '759', '571', '579', '551', '640', '648', '460', '468', '440', '539', '537', '359', '357', '339', '428', '426', '248', '246', '228', '317', '315', '137', '135', '117', '206', '026', '197', '195', '917', '915', '086', '717', '715', '606', '604', '595', '593', '484', '482', '373', '371', '262', '260', '151', '159', '220', '040', '048', '020', '939', '046', '848', '846']\n",
      "['111', '119', '191', '199', '911', '919', '991', '000', '008', '080', '088', '800', '808', '880', '997', '979', '977', '799', '797', '779', '886', '868', '866', '688', '686', '668', '775', '757', '755', '577', '575', '557', '664', '646', '644', '466', '464', '446', '553', '535', '533', '355', '353', '335', '442', '424', '422', '244', '242', '224', '331', '313', '311', '133', '131', '204', '202', '024', '022', '004', '193', '913', '084', '082', '804', '802', '884', '973', '971', '793', '791', '773', '862', '860', '682', '680', '662', '751', '759', '571', '579', '551', '640', '648', '460', '468', '440', '539', '537', '359', '357', '339', '428', '426', '248', '246', '228', '317', '315', '137', '135', '117', '206', '026', '197', '195', '917', '915', '086', '717', '715', '606', '604', '595', '593', '484', '482', '373', '371', '262', '260', '151', '159', '220', '040', '048', '020', '939', '046', '848']\n",
      "['111', '119', '191', '199', '911', '919', '991', '000', '008', '080', '088', '800', '808', '880', '997', '979', '977', '799', '797', '779', '886', '868', '866', '688', '686', '668', '775', '757', '755', '577', '575', '557', '664', '646', '644', '466', '464', '446', '553', '535', '533', '355', '353', '335', '442', '424', '422', '244', '242', '224', '331', '313', '311', '133', '131', '204', '202', '024', '022', '004', '193', '913', '084', '082', '804', '802', '884', '973', '971', '793', '791', '773', '862', '860', '682', '680', '662', '751', '759', '571', '579', '551', '640', '648', '460', '468', '440', '539', '537', '359', '357', '339', '428', '426', '248', '246', '228', '317', '315', '137', '135', '117', '206', '026', '197', '195', '917', '915', '086', '717', '715', '606', '604', '595', '593', '484', '482', '373', '371', '262', '260', '151', '159', '220', '040', '048', '020', '939', '046']\n",
      "['111', '119', '191', '199', '911', '919', '991', '000', '008', '080', '088', '800', '808', '880', '997', '979', '977', '799', '797', '779', '886', '868', '866', '688', '686', '668', '775', '757', '755', '577', '575', '557', '664', '646', '644', '466', '464', '446', '553', '535', '533', '355', '353', '335', '442', '424', '422', '244', '242', '224', '331', '313', '311', '133', '131', '204', '202', '024', '022', '004', '193', '913', '084', '082', '804', '802', '884', '973', '971', '793', '791', '773', '862', '860', '682', '680', '662', '751', '759', '571', '579', '551', '640', '648', '460', '468', '440', '539', '537', '359', '357', '339', '428', '426', '248', '246', '228', '317', '315', '137', '135', '117', '206', '026', '197', '195', '917', '915', '086', '717', '715', '606', '604', '595', '593', '484', '482', '373', '371', '262', '260', '151', '159', '220', '040', '048', '020', '939']\n",
      "['111', '119', '191', '199', '911', '919', '991', '000', '008', '080', '088', '800', '808', '880', '997', '979', '977', '799', '797', '779', '886', '868', '866', '688', '686', '668', '775', '757', '755', '577', '575', '557', '664', '646', '644', '466', '464', '446', '553', '535', '533', '355', '353', '335', '442', '424', '422', '244', '242', '224', '331', '313', '311', '133', '131', '204', '202', '024', '022', '004', '193', '913', '084', '082', '804', '802', '884', '973', '971', '793', '791', '773', '862', '860', '682', '680', '662', '751', '759', '571', '579', '551', '640', '648', '460', '468', '440', '539', '537', '359', '357', '339', '428', '426', '248', '246', '228', '317', '315', '137', '135', '117', '206', '026', '197', '195', '917', '915', '086', '717', '715', '606', '604', '595', '593', '484', '482', '373', '371', '262', '260', '151', '159', '220', '040', '048', '020']\n",
      "['111', '119', '191', '199', '911', '919', '991', '000', '008', '080', '088', '800', '808', '880', '997', '979', '977', '799', '797', '779', '886', '868', '866', '688', '686', '668', '775', '757', '755', '577', '575', '557', '664', '646', '644', '466', '464', '446', '553', '535', '533', '355', '353', '335', '442', '424', '422', '244', '242', '224', '331', '313', '311', '133', '131', '204', '202', '024', '022', '004', '193', '913', '084', '082', '804', '802', '884', '973', '971', '793', '791', '773', '862', '860', '682', '680', '662', '751', '759', '571', '579', '551', '640', '648', '460', '468', '440', '539', '537', '359', '357', '339', '428', '426', '248', '246', '228', '317', '315', '137', '135', '117', '206', '026', '197', '195', '917', '915', '086', '717', '715', '606', '604', '595', '593', '484', '482', '373', '371', '262', '260', '151', '159', '220', '040', '048']\n",
      "['111', '119', '191', '199', '911', '919', '991', '000', '008', '080', '088', '800', '808', '880', '997', '979', '977', '799', '797', '779', '886', '868', '866', '688', '686', '668', '775', '757', '755', '577', '575', '557', '664', '646', '644', '466', '464', '446', '553', '535', '533', '355', '353', '335', '442', '424', '422', '244', '242', '224', '331', '313', '311', '133', '131', '204', '202', '024', '022', '004', '193', '913', '084', '082', '804', '802', '884', '973', '971', '793', '791', '773', '862', '860', '682', '680', '662', '751', '759', '571', '579', '551', '640', '648', '460', '468', '440', '539', '537', '359', '357', '339', '428', '426', '248', '246', '228', '317', '315', '137', '135', '117', '206', '026', '197', '195', '917', '915', '086', '717', '715', '606', '604', '595', '593', '484', '482', '373', '371', '262', '260', '151', '159', '220', '040']\n",
      "['111', '119', '191', '199', '911', '919', '991', '000', '008', '080', '088', '800', '808', '880', '997', '979', '977', '799', '797', '779', '886', '868', '866', '688', '686', '668', '775', '757', '755', '577', '575', '557', '664', '646', '644', '466', '464', '446', '553', '535', '533', '355', '353', '335', '442', '424', '422', '244', '242', '224', '331', '313', '311', '133', '131', '204', '202', '024', '022', '004', '193', '913', '084', '082', '804', '802', '884', '973', '971', '793', '791', '773', '862', '860', '682', '680', '662', '751', '759', '571', '579', '551', '640', '648', '460', '468', '440', '539', '537', '359', '357', '339', '428', '426', '248', '246', '228', '317', '315', '137', '135', '117', '206', '026', '197', '195', '917', '915', '086', '717', '715', '606', '604', '595', '593', '484', '482', '373', '371', '262', '260', '151', '159', '220']\n",
      "['111', '119', '191', '199', '911', '919', '991', '000', '008', '080', '088', '800', '808', '880', '997', '979', '977', '799', '797', '779', '886', '868', '866', '688', '686', '668', '775', '757', '755', '577', '575', '557', '664', '646', '644', '466', '464', '446', '553', '535', '533', '355', '353', '335', '442', '424', '422', '244', '242', '224', '331', '313', '311', '133', '131', '204', '202', '024', '022', '004', '193', '913', '084', '082', '804', '802', '884', '973', '971', '793', '791', '773', '862', '860', '682', '680', '662', '751', '759', '571', '579', '551', '640', '648', '460', '468', '440', '539', '537', '359', '357', '339', '428', '426', '248', '246', '228', '317', '315', '137', '135', '117', '206', '026', '197', '195', '917', '915', '086', '717', '715', '606', '604', '595', '593', '484', '482', '373', '371', '262', '260', '151', '159']\n",
      "['111', '119', '191', '199', '911', '919', '991', '000', '008', '080', '088', '800', '808', '880', '997', '979', '977', '799', '797', '779', '886', '868', '866', '688', '686', '668', '775', '757', '755', '577', '575', '557', '664', '646', '644', '466', '464', '446', '553', '535', '533', '355', '353', '335', '442', '424', '422', '244', '242', '224', '331', '313', '311', '133', '131', '204', '202', '024', '022', '004', '193', '913', '084', '082', '804', '802', '884', '973', '971', '793', '791', '773', '862', '860', '682', '680', '662', '751', '759', '571', '579', '551', '640', '648', '460', '468', '440', '539', '537', '359', '357', '339', '428', '426', '248', '246', '228', '317', '315', '137', '135', '117', '206', '026', '197', '195', '917', '915', '086', '717', '715', '606', '604', '595', '593', '484', '482', '373', '371', '262', '260', '151']\n",
      "['111', '119', '191', '199', '911', '919', '991', '000', '008', '080', '088', '800', '808', '880', '997', '979', '977', '799', '797', '779', '886', '868', '866', '688', '686', '668', '775', '757', '755', '577', '575', '557', '664', '646', '644', '466', '464', '446', '553', '535', '533', '355', '353', '335', '442', '424', '422', '244', '242', '224', '331', '313', '311', '133', '131', '204', '202', '024', '022', '004', '193', '913', '084', '082', '804', '802', '884', '973', '971', '793', '791', '773', '862', '860', '682', '680', '662', '751', '759', '571', '579', '551', '640', '648', '460', '468', '440', '539', '537', '359', '357', '339', '428', '426', '248', '246', '228', '317', '315', '137', '135', '117', '206', '026', '197', '195', '917', '915', '086', '717', '715', '606', '604', '595', '593', '484', '482', '373', '371', '262', '260']\n",
      "['111', '119', '191', '199', '911', '919', '991', '000', '008', '080', '088', '800', '808', '880', '997', '979', '977', '799', '797', '779', '886', '868', '866', '688', '686', '668', '775', '757', '755', '577', '575', '557', '664', '646', '644', '466', '464', '446', '553', '535', '533', '355', '353', '335', '442', '424', '422', '244', '242', '224', '331', '313', '311', '133', '131', '204', '202', '024', '022', '004', '193', '913', '084', '082', '804', '802', '884', '973', '971', '793', '791', '773', '862', '860', '682', '680', '662', '751', '759', '571', '579', '551', '640', '648', '460', '468', '440', '539', '537', '359', '357', '339', '428', '426', '248', '246', '228', '317', '315', '137', '135', '117', '206', '026', '197', '195', '917', '915', '086', '717', '715', '606', '604', '595', '593', '484', '482', '373', '371', '262']\n",
      "['111', '119', '191', '199', '911', '919', '991', '000', '008', '080', '088', '800', '808', '880', '997', '979', '977', '799', '797', '779', '886', '868', '866', '688', '686', '668', '775', '757', '755', '577', '575', '557', '664', '646', '644', '466', '464', '446', '553', '535', '533', '355', '353', '335', '442', '424', '422', '244', '242', '224', '331', '313', '311', '133', '131', '204', '202', '024', '022', '004', '193', '913', '084', '082', '804', '802', '884', '973', '971', '793', '791', '773', '862', '860', '682', '680', '662', '751', '759', '571', '579', '551', '640', '648', '460', '468', '440', '539', '537', '359', '357', '339', '428', '426', '248', '246', '228', '317', '315', '137', '135', '117', '206', '026', '197', '195', '917', '915', '086', '717', '715', '606', '604', '595', '593', '484', '482', '373', '371']\n",
      "['111', '119', '191', '199', '911', '919', '991', '000', '008', '080', '088', '800', '808', '880', '997', '979', '977', '799', '797', '779', '886', '868', '866', '688', '686', '668', '775', '757', '755', '577', '575', '557', '664', '646', '644', '466', '464', '446', '553', '535', '533', '355', '353', '335', '442', '424', '422', '244', '242', '224', '331', '313', '311', '133', '131', '204', '202', '024', '022', '004', '193', '913', '084', '082', '804', '802', '884', '973', '971', '793', '791', '773', '862', '860', '682', '680', '662', '751', '759', '571', '579', '551', '640', '648', '460', '468', '440', '539', '537', '359', '357', '339', '428', '426', '248', '246', '228', '317', '315', '137', '135', '117', '206', '026', '197', '195', '917', '915', '086', '717', '715', '606', '604', '595', '593', '484', '482', '373']\n",
      "['111', '119', '191', '199', '911', '919', '991', '000', '008', '080', '088', '800', '808', '880', '997', '979', '977', '799', '797', '779', '886', '868', '866', '688', '686', '668', '775', '757', '755', '577', '575', '557', '664', '646', '644', '466', '464', '446', '553', '535', '533', '355', '353', '335', '442', '424', '422', '244', '242', '224', '331', '313', '311', '133', '131', '204', '202', '024', '022', '004', '193', '913', '084', '082', '804', '802', '884', '973', '971', '793', '791', '773', '862', '860', '682', '680', '662', '751', '759', '571', '579', '551', '640', '648', '460', '468', '440', '539', '537', '359', '357', '339', '428', '426', '248', '246', '228', '317', '315', '137', '135', '117', '206', '026', '197', '195', '917', '915', '086', '717', '715', '606', '604', '595', '593', '484', '482']\n",
      "['111', '119', '191', '199', '911', '919', '991', '000', '008', '080', '088', '800', '808', '880', '997', '979', '977', '799', '797', '779', '886', '868', '866', '688', '686', '668', '775', '757', '755', '577', '575', '557', '664', '646', '644', '466', '464', '446', '553', '535', '533', '355', '353', '335', '442', '424', '422', '244', '242', '224', '331', '313', '311', '133', '131', '204', '202', '024', '022', '004', '193', '913', '084', '082', '804', '802', '884', '973', '971', '793', '791', '773', '862', '860', '682', '680', '662', '751', '759', '571', '579', '551', '640', '648', '460', '468', '440', '539', '537', '359', '357', '339', '428', '426', '248', '246', '228', '317', '315', '137', '135', '117', '206', '026', '197', '195', '917', '915', '086', '717', '715', '606', '604', '595', '593', '484']\n",
      "['111', '119', '191', '199', '911', '919', '991', '000', '008', '080', '088', '800', '808', '880', '997', '979', '977', '799', '797', '779', '886', '868', '866', '688', '686', '668', '775', '757', '755', '577', '575', '557', '664', '646', '644', '466', '464', '446', '553', '535', '533', '355', '353', '335', '442', '424', '422', '244', '242', '224', '331', '313', '311', '133', '131', '204', '202', '024', '022', '004', '193', '913', '084', '082', '804', '802', '884', '973', '971', '793', '791', '773', '862', '860', '682', '680', '662', '751', '759', '571', '579', '551', '640', '648', '460', '468', '440', '539', '537', '359', '357', '339', '428', '426', '248', '246', '228', '317', '315', '137', '135', '117', '206', '026', '197', '195', '917', '915', '086', '717', '715', '606', '604', '595', '593']\n",
      "['111', '119', '191', '199', '911', '919', '991', '000', '008', '080', '088', '800', '808', '880', '997', '979', '977', '799', '797', '779', '886', '868', '866', '688', '686', '668', '775', '757', '755', '577', '575', '557', '664', '646', '644', '466', '464', '446', '553', '535', '533', '355', '353', '335', '442', '424', '422', '244', '242', '224', '331', '313', '311', '133', '131', '204', '202', '024', '022', '004', '193', '913', '084', '082', '804', '802', '884', '973', '971', '793', '791', '773', '862', '860', '682', '680', '662', '751', '759', '571', '579', '551', '640', '648', '460', '468', '440', '539', '537', '359', '357', '339', '428', '426', '248', '246', '228', '317', '315', '137', '135', '117', '206', '026', '197', '195', '917', '915', '086', '717', '715', '606', '604', '595']\n",
      "['111', '119', '191', '199', '911', '919', '991', '000', '008', '080', '088', '800', '808', '880', '997', '979', '977', '799', '797', '779', '886', '868', '866', '688', '686', '668', '775', '757', '755', '577', '575', '557', '664', '646', '644', '466', '464', '446', '553', '535', '533', '355', '353', '335', '442', '424', '422', '244', '242', '224', '331', '313', '311', '133', '131', '204', '202', '024', '022', '004', '193', '913', '084', '082', '804', '802', '884', '973', '971', '793', '791', '773', '862', '860', '682', '680', '662', '751', '759', '571', '579', '551', '640', '648', '460', '468', '440', '539', '537', '359', '357', '339', '428', '426', '248', '246', '228', '317', '315', '137', '135', '117', '206', '026', '197', '195', '917', '915', '086', '717', '715', '606', '604']\n",
      "['111', '119', '191', '199', '911', '919', '991', '000', '008', '080', '088', '800', '808', '880', '997', '979', '977', '799', '797', '779', '886', '868', '866', '688', '686', '668', '775', '757', '755', '577', '575', '557', '664', '646', '644', '466', '464', '446', '553', '535', '533', '355', '353', '335', '442', '424', '422', '244', '242', '224', '331', '313', '311', '133', '131', '204', '202', '024', '022', '004', '193', '913', '084', '082', '804', '802', '884', '973', '971', '793', '791', '773', '862', '860', '682', '680', '662', '751', '759', '571', '579', '551', '640', '648', '460', '468', '440', '539', '537', '359', '357', '339', '428', '426', '248', '246', '228', '317', '315', '137', '135', '117', '206', '026', '197', '195', '917', '915', '086', '717', '715', '606']\n",
      "['111', '119', '191', '199', '911', '919', '991', '000', '008', '080', '088', '800', '808', '880', '997', '979', '977', '799', '797', '779', '886', '868', '866', '688', '686', '668', '775', '757', '755', '577', '575', '557', '664', '646', '644', '466', '464', '446', '553', '535', '533', '355', '353', '335', '442', '424', '422', '244', '242', '224', '331', '313', '311', '133', '131', '204', '202', '024', '022', '004', '193', '913', '084', '082', '804', '802', '884', '973', '971', '793', '791', '773', '862', '860', '682', '680', '662', '751', '759', '571', '579', '551', '640', '648', '460', '468', '440', '539', '537', '359', '357', '339', '428', '426', '248', '246', '228', '317', '315', '137', '135', '117', '206', '026', '197', '195', '917', '915', '086', '717', '715']\n",
      "['111', '119', '191', '199', '911', '919', '991', '000', '008', '080', '088', '800', '808', '880', '997', '979', '977', '799', '797', '779', '886', '868', '866', '688', '686', '668', '775', '757', '755', '577', '575', '557', '664', '646', '644', '466', '464', '446', '553', '535', '533', '355', '353', '335', '442', '424', '422', '244', '242', '224', '331', '313', '311', '133', '131', '204', '202', '024', '022', '004', '193', '913', '084', '082', '804', '802', '884', '973', '971', '793', '791', '773', '862', '860', '682', '680', '662', '751', '759', '571', '579', '551', '640', '648', '460', '468', '440', '539', '537', '359', '357', '339', '428', '426', '248', '246', '228', '317', '315', '137', '135', '117', '206', '026', '197', '195', '917', '915', '086', '717']\n",
      "['111', '119', '191', '199', '911', '919', '991', '000', '008', '080', '088', '800', '808', '880', '997', '979', '977', '799', '797', '779', '886', '868', '866', '688', '686', '668', '775', '757', '755', '577', '575', '557', '664', '646', '644', '466', '464', '446', '553', '535', '533', '355', '353', '335', '442', '424', '422', '244', '242', '224', '331', '313', '311', '133', '131', '204', '202', '024', '022', '004', '193', '913', '084', '082', '804', '802', '884', '973', '971', '793', '791', '773', '862', '860', '682', '680', '662', '751', '759', '571', '579', '551', '640', '648', '460', '468', '440', '539', '537', '359', '357', '339', '428', '426', '248', '246', '228', '317', '315', '137', '135', '117', '206', '026', '197', '195', '917', '915', '086']\n",
      "['111', '119', '191', '199', '911', '919', '991', '000', '008', '080', '088', '800', '808', '880', '997', '979', '977', '799', '797', '779', '886', '868', '866', '688', '686', '668', '775', '757', '755', '577', '575', '557', '664', '646', '644', '466', '464', '446', '553', '535', '533', '355', '353', '335', '442', '424', '422', '244', '242', '224', '331', '313', '311', '133', '131', '204', '202', '024', '022', '004', '193', '913', '084', '082', '804', '802', '884', '973', '971', '793', '791', '773', '862', '860', '682', '680', '662', '751', '759', '571', '579', '551', '640', '648', '460', '468', '440', '539', '537', '359', '357', '339', '428', '426', '248', '246', '228', '317', '315', '137', '135', '117', '206', '026', '197', '195', '917', '915']\n",
      "['111', '119', '191', '199', '911', '919', '991', '000', '008', '080', '088', '800', '808', '880', '997', '979', '977', '799', '797', '779', '886', '868', '866', '688', '686', '668', '775', '757', '755', '577', '575', '557', '664', '646', '644', '466', '464', '446', '553', '535', '533', '355', '353', '335', '442', '424', '422', '244', '242', '224', '331', '313', '311', '133', '131', '204', '202', '024', '022', '004', '193', '913', '084', '082', '804', '802', '884', '973', '971', '793', '791', '773', '862', '860', '682', '680', '662', '751', '759', '571', '579', '551', '640', '648', '460', '468', '440', '539', '537', '359', '357', '339', '428', '426', '248', '246', '228', '317', '315', '137', '135', '117', '206', '026', '197', '195', '917']\n",
      "['111', '119', '191', '199', '911', '919', '991', '000', '008', '080', '088', '800', '808', '880', '997', '979', '977', '799', '797', '779', '886', '868', '866', '688', '686', '668', '775', '757', '755', '577', '575', '557', '664', '646', '644', '466', '464', '446', '553', '535', '533', '355', '353', '335', '442', '424', '422', '244', '242', '224', '331', '313', '311', '133', '131', '204', '202', '024', '022', '004', '193', '913', '084', '082', '804', '802', '884', '973', '971', '793', '791', '773', '862', '860', '682', '680', '662', '751', '759', '571', '579', '551', '640', '648', '460', '468', '440', '539', '537', '359', '357', '339', '428', '426', '248', '246', '228', '317', '315', '137', '135', '117', '206', '026', '197', '195']\n",
      "['111', '119', '191', '199', '911', '919', '991', '000', '008', '080', '088', '800', '808', '880', '997', '979', '977', '799', '797', '779', '886', '868', '866', '688', '686', '668', '775', '757', '755', '577', '575', '557', '664', '646', '644', '466', '464', '446', '553', '535', '533', '355', '353', '335', '442', '424', '422', '244', '242', '224', '331', '313', '311', '133', '131', '204', '202', '024', '022', '004', '193', '913', '084', '082', '804', '802', '884', '973', '971', '793', '791', '773', '862', '860', '682', '680', '662', '751', '759', '571', '579', '551', '640', '648', '460', '468', '440', '539', '537', '359', '357', '339', '428', '426', '248', '246', '228', '317', '315', '137', '135', '117', '206', '026', '197']\n",
      "['111', '119', '191', '199', '911', '919', '991', '000', '008', '080', '088', '800', '808', '880', '997', '979', '977', '799', '797', '779', '886', '868', '866', '688', '686', '668', '775', '757', '755', '577', '575', '557', '664', '646', '644', '466', '464', '446', '553', '535', '533', '355', '353', '335', '442', '424', '422', '244', '242', '224', '331', '313', '311', '133', '131', '204', '202', '024', '022', '004', '193', '913', '084', '082', '804', '802', '884', '973', '971', '793', '791', '773', '862', '860', '682', '680', '662', '751', '759', '571', '579', '551', '640', '648', '460', '468', '440', '539', '537', '359', '357', '339', '428', '426', '248', '246', '228', '317', '315', '137', '135', '117', '206', '026']\n",
      "['111', '119', '191', '199', '911', '919', '991', '000', '008', '080', '088', '800', '808', '880', '997', '979', '977', '799', '797', '779', '886', '868', '866', '688', '686', '668', '775', '757', '755', '577', '575', '557', '664', '646', '644', '466', '464', '446', '553', '535', '533', '355', '353', '335', '442', '424', '422', '244', '242', '224', '331', '313', '311', '133', '131', '204', '202', '024', '022', '004', '193', '913', '084', '082', '804', '802', '884', '973', '971', '793', '791', '773', '862', '860', '682', '680', '662', '751', '759', '571', '579', '551', '640', '648', '460', '468', '440', '539', '537', '359', '357', '339', '428', '426', '248', '246', '228', '317', '315', '137', '135', '117', '206']\n",
      "['111', '119', '191', '199', '911', '919', '991', '000', '008', '080', '088', '800', '808', '880', '997', '979', '977', '799', '797', '779', '886', '868', '866', '688', '686', '668', '775', '757', '755', '577', '575', '557', '664', '646', '644', '466', '464', '446', '553', '535', '533', '355', '353', '335', '442', '424', '422', '244', '242', '224', '331', '313', '311', '133', '131', '204', '202', '024', '022', '004', '193', '913', '084', '082', '804', '802', '884', '973', '971', '793', '791', '773', '862', '860', '682', '680', '662', '751', '759', '571', '579', '551', '640', '648', '460', '468', '440', '539', '537', '359', '357', '339', '428', '426', '248', '246', '228', '317', '315', '137', '135', '117']\n",
      "['111', '119', '191', '199', '911', '919', '991', '000', '008', '080', '088', '800', '808', '880', '997', '979', '977', '799', '797', '779', '886', '868', '866', '688', '686', '668', '775', '757', '755', '577', '575', '557', '664', '646', '644', '466', '464', '446', '553', '535', '533', '355', '353', '335', '442', '424', '422', '244', '242', '224', '331', '313', '311', '133', '131', '204', '202', '024', '022', '004', '193', '913', '084', '082', '804', '802', '884', '973', '971', '793', '791', '773', '862', '860', '682', '680', '662', '751', '759', '571', '579', '551', '640', '648', '460', '468', '440', '539', '537', '359', '357', '339', '428', '426', '248', '246', '228', '317', '315', '137', '135']\n",
      "['111', '119', '191', '199', '911', '919', '991', '000', '008', '080', '088', '800', '808', '880', '997', '979', '977', '799', '797', '779', '886', '868', '866', '688', '686', '668', '775', '757', '755', '577', '575', '557', '664', '646', '644', '466', '464', '446', '553', '535', '533', '355', '353', '335', '442', '424', '422', '244', '242', '224', '331', '313', '311', '133', '131', '204', '202', '024', '022', '004', '193', '913', '084', '082', '804', '802', '884', '973', '971', '793', '791', '773', '862', '860', '682', '680', '662', '751', '759', '571', '579', '551', '640', '648', '460', '468', '440', '539', '537', '359', '357', '339', '428', '426', '248', '246', '228', '317', '315', '137']\n",
      "['111', '119', '191', '199', '911', '919', '991', '000', '008', '080', '088', '800', '808', '880', '997', '979', '977', '799', '797', '779', '886', '868', '866', '688', '686', '668', '775', '757', '755', '577', '575', '557', '664', '646', '644', '466', '464', '446', '553', '535', '533', '355', '353', '335', '442', '424', '422', '244', '242', '224', '331', '313', '311', '133', '131', '204', '202', '024', '022', '004', '193', '913', '084', '082', '804', '802', '884', '973', '971', '793', '791', '773', '862', '860', '682', '680', '662', '751', '759', '571', '579', '551', '640', '648', '460', '468', '440', '539', '537', '359', '357', '339', '428', '426', '248', '246', '228', '317', '315']\n",
      "['111', '119', '191', '199', '911', '919', '991', '000', '008', '080', '088', '800', '808', '880', '997', '979', '977', '799', '797', '779', '886', '868', '866', '688', '686', '668', '775', '757', '755', '577', '575', '557', '664', '646', '644', '466', '464', '446', '553', '535', '533', '355', '353', '335', '442', '424', '422', '244', '242', '224', '331', '313', '311', '133', '131', '204', '202', '024', '022', '004', '193', '913', '084', '082', '804', '802', '884', '973', '971', '793', '791', '773', '862', '860', '682', '680', '662', '751', '759', '571', '579', '551', '640', '648', '460', '468', '440', '539', '537', '359', '357', '339', '428', '426', '248', '246', '228', '317']\n",
      "['111', '119', '191', '199', '911', '919', '991', '000', '008', '080', '088', '800', '808', '880', '997', '979', '977', '799', '797', '779', '886', '868', '866', '688', '686', '668', '775', '757', '755', '577', '575', '557', '664', '646', '644', '466', '464', '446', '553', '535', '533', '355', '353', '335', '442', '424', '422', '244', '242', '224', '331', '313', '311', '133', '131', '204', '202', '024', '022', '004', '193', '913', '084', '082', '804', '802', '884', '973', '971', '793', '791', '773', '862', '860', '682', '680', '662', '751', '759', '571', '579', '551', '640', '648', '460', '468', '440', '539', '537', '359', '357', '339', '428', '426', '248', '246', '228']\n",
      "['111', '119', '191', '199', '911', '919', '991', '000', '008', '080', '088', '800', '808', '880', '997', '979', '977', '799', '797', '779', '886', '868', '866', '688', '686', '668', '775', '757', '755', '577', '575', '557', '664', '646', '644', '466', '464', '446', '553', '535', '533', '355', '353', '335', '442', '424', '422', '244', '242', '224', '331', '313', '311', '133', '131', '204', '202', '024', '022', '004', '193', '913', '084', '082', '804', '802', '884', '973', '971', '793', '791', '773', '862', '860', '682', '680', '662', '751', '759', '571', '579', '551', '640', '648', '460', '468', '440', '539', '537', '359', '357', '339', '428', '426', '248', '246']\n",
      "['111', '119', '191', '199', '911', '919', '991', '000', '008', '080', '088', '800', '808', '880', '997', '979', '977', '799', '797', '779', '886', '868', '866', '688', '686', '668', '775', '757', '755', '577', '575', '557', '664', '646', '644', '466', '464', '446', '553', '535', '533', '355', '353', '335', '442', '424', '422', '244', '242', '224', '331', '313', '311', '133', '131', '204', '202', '024', '022', '004', '193', '913', '084', '082', '804', '802', '884', '973', '971', '793', '791', '773', '862', '860', '682', '680', '662', '751', '759', '571', '579', '551', '640', '648', '460', '468', '440', '539', '537', '359', '357', '339', '428', '426', '248']\n",
      "['111', '119', '191', '199', '911', '919', '991', '000', '008', '080', '088', '800', '808', '880', '997', '979', '977', '799', '797', '779', '886', '868', '866', '688', '686', '668', '775', '757', '755', '577', '575', '557', '664', '646', '644', '466', '464', '446', '553', '535', '533', '355', '353', '335', '442', '424', '422', '244', '242', '224', '331', '313', '311', '133', '131', '204', '202', '024', '022', '004', '193', '913', '084', '082', '804', '802', '884', '973', '971', '793', '791', '773', '862', '860', '682', '680', '662', '751', '759', '571', '579', '551', '640', '648', '460', '468', '440', '539', '537', '359', '357', '339', '428', '426']\n",
      "['111', '119', '191', '199', '911', '919', '991', '000', '008', '080', '088', '800', '808', '880', '997', '979', '977', '799', '797', '779', '886', '868', '866', '688', '686', '668', '775', '757', '755', '577', '575', '557', '664', '646', '644', '466', '464', '446', '553', '535', '533', '355', '353', '335', '442', '424', '422', '244', '242', '224', '331', '313', '311', '133', '131', '204', '202', '024', '022', '004', '193', '913', '084', '082', '804', '802', '884', '973', '971', '793', '791', '773', '862', '860', '682', '680', '662', '751', '759', '571', '579', '551', '640', '648', '460', '468', '440', '539', '537', '359', '357', '339', '428']\n",
      "['111', '119', '191', '199', '911', '919', '991', '000', '008', '080', '088', '800', '808', '880', '997', '979', '977', '799', '797', '779', '886', '868', '866', '688', '686', '668', '775', '757', '755', '577', '575', '557', '664', '646', '644', '466', '464', '446', '553', '535', '533', '355', '353', '335', '442', '424', '422', '244', '242', '224', '331', '313', '311', '133', '131', '204', '202', '024', '022', '004', '193', '913', '084', '082', '804', '802', '884', '973', '971', '793', '791', '773', '862', '860', '682', '680', '662', '751', '759', '571', '579', '551', '640', '648', '460', '468', '440', '539', '537', '359', '357', '339']\n",
      "['111', '119', '191', '199', '911', '919', '991', '000', '008', '080', '088', '800', '808', '880', '997', '979', '977', '799', '797', '779', '886', '868', '866', '688', '686', '668', '775', '757', '755', '577', '575', '557', '664', '646', '644', '466', '464', '446', '553', '535', '533', '355', '353', '335', '442', '424', '422', '244', '242', '224', '331', '313', '311', '133', '131', '204', '202', '024', '022', '004', '193', '913', '084', '082', '804', '802', '884', '973', '971', '793', '791', '773', '862', '860', '682', '680', '662', '751', '759', '571', '579', '551', '640', '648', '460', '468', '440', '539', '537', '359', '357']\n",
      "['111', '119', '191', '199', '911', '919', '991', '000', '008', '080', '088', '800', '808', '880', '997', '979', '977', '799', '797', '779', '886', '868', '866', '688', '686', '668', '775', '757', '755', '577', '575', '557', '664', '646', '644', '466', '464', '446', '553', '535', '533', '355', '353', '335', '442', '424', '422', '244', '242', '224', '331', '313', '311', '133', '131', '204', '202', '024', '022', '004', '193', '913', '084', '082', '804', '802', '884', '973', '971', '793', '791', '773', '862', '860', '682', '680', '662', '751', '759', '571', '579', '551', '640', '648', '460', '468', '440', '539', '537', '359']\n",
      "['111', '119', '191', '199', '911', '919', '991', '000', '008', '080', '088', '800', '808', '880', '997', '979', '977', '799', '797', '779', '886', '868', '866', '688', '686', '668', '775', '757', '755', '577', '575', '557', '664', '646', '644', '466', '464', '446', '553', '535', '533', '355', '353', '335', '442', '424', '422', '244', '242', '224', '331', '313', '311', '133', '131', '204', '202', '024', '022', '004', '193', '913', '084', '082', '804', '802', '884', '973', '971', '793', '791', '773', '862', '860', '682', '680', '662', '751', '759', '571', '579', '551', '640', '648', '460', '468', '440', '539', '537']\n",
      "['111', '119', '191', '199', '911', '919', '991', '000', '008', '080', '088', '800', '808', '880', '997', '979', '977', '799', '797', '779', '886', '868', '866', '688', '686', '668', '775', '757', '755', '577', '575', '557', '664', '646', '644', '466', '464', '446', '553', '535', '533', '355', '353', '335', '442', '424', '422', '244', '242', '224', '331', '313', '311', '133', '131', '204', '202', '024', '022', '004', '193', '913', '084', '082', '804', '802', '884', '973', '971', '793', '791', '773', '862', '860', '682', '680', '662', '751', '759', '571', '579', '551', '640', '648', '460', '468', '440', '539']\n",
      "['111', '119', '191', '199', '911', '919', '991', '000', '008', '080', '088', '800', '808', '880', '997', '979', '977', '799', '797', '779', '886', '868', '866', '688', '686', '668', '775', '757', '755', '577', '575', '557', '664', '646', '644', '466', '464', '446', '553', '535', '533', '355', '353', '335', '442', '424', '422', '244', '242', '224', '331', '313', '311', '133', '131', '204', '202', '024', '022', '004', '193', '913', '084', '082', '804', '802', '884', '973', '971', '793', '791', '773', '862', '860', '682', '680', '662', '751', '759', '571', '579', '551', '640', '648', '460', '468', '440']\n",
      "['111', '119', '191', '199', '911', '919', '991', '000', '008', '080', '088', '800', '808', '880', '997', '979', '977', '799', '797', '779', '886', '868', '866', '688', '686', '668', '775', '757', '755', '577', '575', '557', '664', '646', '644', '466', '464', '446', '553', '535', '533', '355', '353', '335', '442', '424', '422', '244', '242', '224', '331', '313', '311', '133', '131', '204', '202', '024', '022', '004', '193', '913', '084', '082', '804', '802', '884', '973', '971', '793', '791', '773', '862', '860', '682', '680', '662', '751', '759', '571', '579', '551', '640', '648', '460', '468']\n",
      "['111', '119', '191', '199', '911', '919', '991', '000', '008', '080', '088', '800', '808', '880', '997', '979', '977', '799', '797', '779', '886', '868', '866', '688', '686', '668', '775', '757', '755', '577', '575', '557', '664', '646', '644', '466', '464', '446', '553', '535', '533', '355', '353', '335', '442', '424', '422', '244', '242', '224', '331', '313', '311', '133', '131', '204', '202', '024', '022', '004', '193', '913', '084', '082', '804', '802', '884', '973', '971', '793', '791', '773', '862', '860', '682', '680', '662', '751', '759', '571', '579', '551', '640', '648', '460']\n",
      "['111', '119', '191', '199', '911', '919', '991', '000', '008', '080', '088', '800', '808', '880', '997', '979', '977', '799', '797', '779', '886', '868', '866', '688', '686', '668', '775', '757', '755', '577', '575', '557', '664', '646', '644', '466', '464', '446', '553', '535', '533', '355', '353', '335', '442', '424', '422', '244', '242', '224', '331', '313', '311', '133', '131', '204', '202', '024', '022', '004', '193', '913', '084', '082', '804', '802', '884', '973', '971', '793', '791', '773', '862', '860', '682', '680', '662', '751', '759', '571', '579', '551', '640', '648']\n",
      "['111', '119', '191', '199', '911', '919', '991', '000', '008', '080', '088', '800', '808', '880', '997', '979', '977', '799', '797', '779', '886', '868', '866', '688', '686', '668', '775', '757', '755', '577', '575', '557', '664', '646', '644', '466', '464', '446', '553', '535', '533', '355', '353', '335', '442', '424', '422', '244', '242', '224', '331', '313', '311', '133', '131', '204', '202', '024', '022', '004', '193', '913', '084', '082', '804', '802', '884', '973', '971', '793', '791', '773', '862', '860', '682', '680', '662', '751', '759', '571', '579', '551', '640']\n",
      "['111', '119', '191', '199', '911', '919', '991', '000', '008', '080', '088', '800', '808', '880', '997', '979', '977', '799', '797', '779', '886', '868', '866', '688', '686', '668', '775', '757', '755', '577', '575', '557', '664', '646', '644', '466', '464', '446', '553', '535', '533', '355', '353', '335', '442', '424', '422', '244', '242', '224', '331', '313', '311', '133', '131', '204', '202', '024', '022', '004', '193', '913', '084', '082', '804', '802', '884', '973', '971', '793', '791', '773', '862', '860', '682', '680', '662', '751', '759', '571', '579', '551']\n",
      "['111', '119', '191', '199', '911', '919', '991', '000', '008', '080', '088', '800', '808', '880', '997', '979', '977', '799', '797', '779', '886', '868', '866', '688', '686', '668', '775', '757', '755', '577', '575', '557', '664', '646', '644', '466', '464', '446', '553', '535', '533', '355', '353', '335', '442', '424', '422', '244', '242', '224', '331', '313', '311', '133', '131', '204', '202', '024', '022', '004', '193', '913', '084', '082', '804', '802', '884', '973', '971', '793', '791', '773', '862', '860', '682', '680', '662', '751', '759', '571', '579']\n",
      "['111', '119', '191', '199', '911', '919', '991', '000', '008', '080', '088', '800', '808', '880', '997', '979', '977', '799', '797', '779', '886', '868', '866', '688', '686', '668', '775', '757', '755', '577', '575', '557', '664', '646', '644', '466', '464', '446', '553', '535', '533', '355', '353', '335', '442', '424', '422', '244', '242', '224', '331', '313', '311', '133', '131', '204', '202', '024', '022', '004', '193', '913', '084', '082', '804', '802', '884', '973', '971', '793', '791', '773', '862', '860', '682', '680', '662', '751', '759', '571']\n",
      "['111', '119', '191', '199', '911', '919', '991', '000', '008', '080', '088', '800', '808', '880', '997', '979', '977', '799', '797', '779', '886', '868', '866', '688', '686', '668', '775', '757', '755', '577', '575', '557', '664', '646', '644', '466', '464', '446', '553', '535', '533', '355', '353', '335', '442', '424', '422', '244', '242', '224', '331', '313', '311', '133', '131', '204', '202', '024', '022', '004', '193', '913', '084', '082', '804', '802', '884', '973', '971', '793', '791', '773', '862', '860', '682', '680', '662', '751', '759']\n",
      "['111', '119', '191', '199', '911', '919', '991', '000', '008', '080', '088', '800', '808', '880', '997', '979', '977', '799', '797', '779', '886', '868', '866', '688', '686', '668', '775', '757', '755', '577', '575', '557', '664', '646', '644', '466', '464', '446', '553', '535', '533', '355', '353', '335', '442', '424', '422', '244', '242', '224', '331', '313', '311', '133', '131', '204', '202', '024', '022', '004', '193', '913', '084', '082', '804', '802', '884', '973', '971', '793', '791', '773', '862', '860', '682', '680', '662', '751']\n",
      "['111', '119', '191', '199', '911', '919', '991', '000', '008', '080', '088', '800', '808', '880', '997', '979', '977', '799', '797', '779', '886', '868', '866', '688', '686', '668', '775', '757', '755', '577', '575', '557', '664', '646', '644', '466', '464', '446', '553', '535', '533', '355', '353', '335', '442', '424', '422', '244', '242', '224', '331', '313', '311', '133', '131', '204', '202', '024', '022', '004', '193', '913', '084', '082', '804', '802', '884', '973', '971', '793', '791', '773', '862', '860', '682', '680', '662']\n",
      "['111', '119', '191', '199', '911', '919', '991', '000', '008', '080', '088', '800', '808', '880', '997', '979', '977', '799', '797', '779', '886', '868', '866', '688', '686', '668', '775', '757', '755', '577', '575', '557', '664', '646', '644', '466', '464', '446', '553', '535', '533', '355', '353', '335', '442', '424', '422', '244', '242', '224', '331', '313', '311', '133', '131', '204', '202', '024', '022', '004', '193', '913', '084', '082', '804', '802', '884', '973', '971', '793', '791', '773', '862', '860', '682', '680']\n",
      "['111', '119', '191', '199', '911', '919', '991', '000', '008', '080', '088', '800', '808', '880', '997', '979', '977', '799', '797', '779', '886', '868', '866', '688', '686', '668', '775', '757', '755', '577', '575', '557', '664', '646', '644', '466', '464', '446', '553', '535', '533', '355', '353', '335', '442', '424', '422', '244', '242', '224', '331', '313', '311', '133', '131', '204', '202', '024', '022', '004', '193', '913', '084', '082', '804', '802', '884', '973', '971', '793', '791', '773', '862', '860', '682']\n",
      "['111', '119', '191', '199', '911', '919', '991', '000', '008', '080', '088', '800', '808', '880', '997', '979', '977', '799', '797', '779', '886', '868', '866', '688', '686', '668', '775', '757', '755', '577', '575', '557', '664', '646', '644', '466', '464', '446', '553', '535', '533', '355', '353', '335', '442', '424', '422', '244', '242', '224', '331', '313', '311', '133', '131', '204', '202', '024', '022', '004', '193', '913', '084', '082', '804', '802', '884', '973', '971', '793', '791', '773', '862', '860']\n",
      "['111', '119', '191', '199', '911', '919', '991', '000', '008', '080', '088', '800', '808', '880', '997', '979', '977', '799', '797', '779', '886', '868', '866', '688', '686', '668', '775', '757', '755', '577', '575', '557', '664', '646', '644', '466', '464', '446', '553', '535', '533', '355', '353', '335', '442', '424', '422', '244', '242', '224', '331', '313', '311', '133', '131', '204', '202', '024', '022', '004', '193', '913', '084', '082', '804', '802', '884', '973', '971', '793', '791', '773', '862']\n",
      "['111', '119', '191', '199', '911', '919', '991', '000', '008', '080', '088', '800', '808', '880', '997', '979', '977', '799', '797', '779', '886', '868', '866', '688', '686', '668', '775', '757', '755', '577', '575', '557', '664', '646', '644', '466', '464', '446', '553', '535', '533', '355', '353', '335', '442', '424', '422', '244', '242', '224', '331', '313', '311', '133', '131', '204', '202', '024', '022', '004', '193', '913', '084', '082', '804', '802', '884', '973', '971', '793', '791', '773']\n",
      "['111', '119', '191', '199', '911', '919', '991', '000', '008', '080', '088', '800', '808', '880', '997', '979', '977', '799', '797', '779', '886', '868', '866', '688', '686', '668', '775', '757', '755', '577', '575', '557', '664', '646', '644', '466', '464', '446', '553', '535', '533', '355', '353', '335', '442', '424', '422', '244', '242', '224', '331', '313', '311', '133', '131', '204', '202', '024', '022', '004', '193', '913', '084', '082', '804', '802', '884', '973', '971', '793', '791']\n",
      "['111', '119', '191', '199', '911', '919', '991', '000', '008', '080', '088', '800', '808', '880', '997', '979', '977', '799', '797', '779', '886', '868', '866', '688', '686', '668', '775', '757', '755', '577', '575', '557', '664', '646', '644', '466', '464', '446', '553', '535', '533', '355', '353', '335', '442', '424', '422', '244', '242', '224', '331', '313', '311', '133', '131', '204', '202', '024', '022', '004', '193', '913', '084', '082', '804', '802', '884', '973', '971', '793']\n",
      "['111', '119', '191', '199', '911', '919', '991', '000', '008', '080', '088', '800', '808', '880', '997', '979', '977', '799', '797', '779', '886', '868', '866', '688', '686', '668', '775', '757', '755', '577', '575', '557', '664', '646', '644', '466', '464', '446', '553', '535', '533', '355', '353', '335', '442', '424', '422', '244', '242', '224', '331', '313', '311', '133', '131', '204', '202', '024', '022', '004', '193', '913', '084', '082', '804', '802', '884', '973', '971']\n",
      "['111', '119', '191', '199', '911', '919', '991', '000', '008', '080', '088', '800', '808', '880', '997', '979', '977', '799', '797', '779', '886', '868', '866', '688', '686', '668', '775', '757', '755', '577', '575', '557', '664', '646', '644', '466', '464', '446', '553', '535', '533', '355', '353', '335', '442', '424', '422', '244', '242', '224', '331', '313', '311', '133', '131', '204', '202', '024', '022', '004', '193', '913', '084', '082', '804', '802', '884', '973']\n",
      "['111', '119', '191', '199', '911', '919', '991', '000', '008', '080', '088', '800', '808', '880', '997', '979', '977', '799', '797', '779', '886', '868', '866', '688', '686', '668', '775', '757', '755', '577', '575', '557', '664', '646', '644', '466', '464', '446', '553', '535', '533', '355', '353', '335', '442', '424', '422', '244', '242', '224', '331', '313', '311', '133', '131', '204', '202', '024', '022', '004', '193', '913', '084', '082', '804', '802', '884']\n",
      "['111', '119', '191', '199', '911', '919', '991', '000', '008', '080', '088', '800', '808', '880', '997', '979', '977', '799', '797', '779', '886', '868', '866', '688', '686', '668', '775', '757', '755', '577', '575', '557', '664', '646', '644', '466', '464', '446', '553', '535', '533', '355', '353', '335', '442', '424', '422', '244', '242', '224', '331', '313', '311', '133', '131', '204', '202', '024', '022', '004', '193', '913', '084', '082', '804', '802']\n",
      "['111', '119', '191', '199', '911', '919', '991', '000', '008', '080', '088', '800', '808', '880', '997', '979', '977', '799', '797', '779', '886', '868', '866', '688', '686', '668', '775', '757', '755', '577', '575', '557', '664', '646', '644', '466', '464', '446', '553', '535', '533', '355', '353', '335', '442', '424', '422', '244', '242', '224', '331', '313', '311', '133', '131', '204', '202', '024', '022', '004', '193', '913', '084', '082', '804']\n",
      "['111', '119', '191', '199', '911', '919', '991', '000', '008', '080', '088', '800', '808', '880', '997', '979', '977', '799', '797', '779', '886', '868', '866', '688', '686', '668', '775', '757', '755', '577', '575', '557', '664', '646', '644', '466', '464', '446', '553', '535', '533', '355', '353', '335', '442', '424', '422', '244', '242', '224', '331', '313', '311', '133', '131', '204', '202', '024', '022', '004', '193', '913', '084', '082']\n",
      "['111', '119', '191', '199', '911', '919', '991', '000', '008', '080', '088', '800', '808', '880', '997', '979', '977', '799', '797', '779', '886', '868', '866', '688', '686', '668', '775', '757', '755', '577', '575', '557', '664', '646', '644', '466', '464', '446', '553', '535', '533', '355', '353', '335', '442', '424', '422', '244', '242', '224', '331', '313', '311', '133', '131', '204', '202', '024', '022', '004', '193', '913', '084']\n",
      "['111', '119', '191', '199', '911', '919', '991', '000', '008', '080', '088', '800', '808', '880', '997', '979', '977', '799', '797', '779', '886', '868', '866', '688', '686', '668', '775', '757', '755', '577', '575', '557', '664', '646', '644', '466', '464', '446', '553', '535', '533', '355', '353', '335', '442', '424', '422', '244', '242', '224', '331', '313', '311', '133', '131', '204', '202', '024', '022', '004', '193', '913']\n",
      "['111', '119', '191', '199', '911', '919', '991', '000', '008', '080', '088', '800', '808', '880', '997', '979', '977', '799', '797', '779', '886', '868', '866', '688', '686', '668', '775', '757', '755', '577', '575', '557', '664', '646', '644', '466', '464', '446', '553', '535', '533', '355', '353', '335', '442', '424', '422', '244', '242', '224', '331', '313', '311', '133', '131', '204', '202', '024', '022', '004', '193']\n",
      "['111', '119', '191', '199', '911', '919', '991', '000', '008', '080', '088', '800', '808', '880', '997', '979', '977', '799', '797', '779', '886', '868', '866', '688', '686', '668', '775', '757', '755', '577', '575', '557', '664', '646', '644', '466', '464', '446', '553', '535', '533', '355', '353', '335', '442', '424', '422', '244', '242', '224', '331', '313', '311', '133', '131', '204', '202', '024', '022', '004']\n",
      "['111', '119', '191', '199', '911', '919', '991', '000', '008', '080', '088', '800', '808', '880', '997', '979', '977', '799', '797', '779', '886', '868', '866', '688', '686', '668', '775', '757', '755', '577', '575', '557', '664', '646', '644', '466', '464', '446', '553', '535', '533', '355', '353', '335', '442', '424', '422', '244', '242', '224', '331', '313', '311', '133', '131', '204', '202', '024', '022']\n",
      "['111', '119', '191', '199', '911', '919', '991', '000', '008', '080', '088', '800', '808', '880', '997', '979', '977', '799', '797', '779', '886', '868', '866', '688', '686', '668', '775', '757', '755', '577', '575', '557', '664', '646', '644', '466', '464', '446', '553', '535', '533', '355', '353', '335', '442', '424', '422', '244', '242', '224', '331', '313', '311', '133', '131', '204', '202', '024']\n",
      "['111', '119', '191', '199', '911', '919', '991', '000', '008', '080', '088', '800', '808', '880', '997', '979', '977', '799', '797', '779', '886', '868', '866', '688', '686', '668', '775', '757', '755', '577', '575', '557', '664', '646', '644', '466', '464', '446', '553', '535', '533', '355', '353', '335', '442', '424', '422', '244', '242', '224', '331', '313', '311', '133', '131', '204', '202']\n",
      "['111', '119', '191', '199', '911', '919', '991', '000', '008', '080', '088', '800', '808', '880', '997', '979', '977', '799', '797', '779', '886', '868', '866', '688', '686', '668', '775', '757', '755', '577', '575', '557', '664', '646', '644', '466', '464', '446', '553', '535', '533', '355', '353', '335', '442', '424', '422', '244', '242', '224', '331', '313', '311', '133', '131', '204']\n",
      "['111', '119', '191', '199', '911', '919', '991', '000', '008', '080', '088', '800', '808', '880', '997', '979', '977', '799', '797', '779', '886', '868', '866', '688', '686', '668', '775', '757', '755', '577', '575', '557', '664', '646', '644', '466', '464', '446', '553', '535', '533', '355', '353', '335', '442', '424', '422', '244', '242', '224', '331', '313', '311', '133', '131']\n",
      "['111', '119', '191', '199', '911', '919', '991', '000', '008', '080', '088', '800', '808', '880', '997', '979', '977', '799', '797', '779', '886', '868', '866', '688', '686', '668', '775', '757', '755', '577', '575', '557', '664', '646', '644', '466', '464', '446', '553', '535', '533', '355', '353', '335', '442', '424', '422', '244', '242', '224', '331', '313', '311', '133']\n",
      "['111', '119', '191', '199', '911', '919', '991', '000', '008', '080', '088', '800', '808', '880', '997', '979', '977', '799', '797', '779', '886', '868', '866', '688', '686', '668', '775', '757', '755', '577', '575', '557', '664', '646', '644', '466', '464', '446', '553', '535', '533', '355', '353', '335', '442', '424', '422', '244', '242', '224', '331', '313', '311']\n",
      "['111', '119', '191', '199', '911', '919', '991', '000', '008', '080', '088', '800', '808', '880', '997', '979', '977', '799', '797', '779', '886', '868', '866', '688', '686', '668', '775', '757', '755', '577', '575', '557', '664', '646', '644', '466', '464', '446', '553', '535', '533', '355', '353', '335', '442', '424', '422', '244', '242', '224', '331', '313']\n",
      "['111', '119', '191', '199', '911', '919', '991', '000', '008', '080', '088', '800', '808', '880', '997', '979', '977', '799', '797', '779', '886', '868', '866', '688', '686', '668', '775', '757', '755', '577', '575', '557', '664', '646', '644', '466', '464', '446', '553', '535', '533', '355', '353', '335', '442', '424', '422', '244', '242', '224', '331']\n",
      "['111', '119', '191', '199', '911', '919', '991', '000', '008', '080', '088', '800', '808', '880', '997', '979', '977', '799', '797', '779', '886', '868', '866', '688', '686', '668', '775', '757', '755', '577', '575', '557', '664', '646', '644', '466', '464', '446', '553', '535', '533', '355', '353', '335', '442', '424', '422', '244', '242', '224']\n",
      "['111', '119', '191', '199', '911', '919', '991', '000', '008', '080', '088', '800', '808', '880', '997', '979', '977', '799', '797', '779', '886', '868', '866', '688', '686', '668', '775', '757', '755', '577', '575', '557', '664', '646', '644', '466', '464', '446', '553', '535', '533', '355', '353', '335', '442', '424', '422', '244', '242']\n",
      "['111', '119', '191', '199', '911', '919', '991', '000', '008', '080', '088', '800', '808', '880', '997', '979', '977', '799', '797', '779', '886', '868', '866', '688', '686', '668', '775', '757', '755', '577', '575', '557', '664', '646', '644', '466', '464', '446', '553', '535', '533', '355', '353', '335', '442', '424', '422', '244']\n",
      "['111', '119', '191', '199', '911', '919', '991', '000', '008', '080', '088', '800', '808', '880', '997', '979', '977', '799', '797', '779', '886', '868', '866', '688', '686', '668', '775', '757', '755', '577', '575', '557', '664', '646', '644', '466', '464', '446', '553', '535', '533', '355', '353', '335', '442', '424', '422']\n",
      "['111', '119', '191', '199', '911', '919', '991', '000', '008', '080', '088', '800', '808', '880', '997', '979', '977', '799', '797', '779', '886', '868', '866', '688', '686', '668', '775', '757', '755', '577', '575', '557', '664', '646', '644', '466', '464', '446', '553', '535', '533', '355', '353', '335', '442', '424']\n",
      "['111', '119', '191', '199', '911', '919', '991', '000', '008', '080', '088', '800', '808', '880', '997', '979', '977', '799', '797', '779', '886', '868', '866', '688', '686', '668', '775', '757', '755', '577', '575', '557', '664', '646', '644', '466', '464', '446', '553', '535', '533', '355', '353', '335', '442']\n",
      "['111', '119', '191', '199', '911', '919', '991', '000', '008', '080', '088', '800', '808', '880', '997', '979', '977', '799', '797', '779', '886', '868', '866', '688', '686', '668', '775', '757', '755', '577', '575', '557', '664', '646', '644', '466', '464', '446', '553', '535', '533', '355', '353', '335']\n",
      "['111', '119', '191', '199', '911', '919', '991', '000', '008', '080', '088', '800', '808', '880', '997', '979', '977', '799', '797', '779', '886', '868', '866', '688', '686', '668', '775', '757', '755', '577', '575', '557', '664', '646', '644', '466', '464', '446', '553', '535', '533', '355', '353']\n",
      "['111', '119', '191', '199', '911', '919', '991', '000', '008', '080', '088', '800', '808', '880', '997', '979', '977', '799', '797', '779', '886', '868', '866', '688', '686', '668', '775', '757', '755', '577', '575', '557', '664', '646', '644', '466', '464', '446', '553', '535', '533', '355']\n",
      "['111', '119', '191', '199', '911', '919', '991', '000', '008', '080', '088', '800', '808', '880', '997', '979', '977', '799', '797', '779', '886', '868', '866', '688', '686', '668', '775', '757', '755', '577', '575', '557', '664', '646', '644', '466', '464', '446', '553', '535', '533']\n",
      "['111', '119', '191', '199', '911', '919', '991', '000', '008', '080', '088', '800', '808', '880', '997', '979', '977', '799', '797', '779', '886', '868', '866', '688', '686', '668', '775', '757', '755', '577', '575', '557', '664', '646', '644', '466', '464', '446', '553', '535']\n",
      "['111', '119', '191', '199', '911', '919', '991', '000', '008', '080', '088', '800', '808', '880', '997', '979', '977', '799', '797', '779', '886', '868', '866', '688', '686', '668', '775', '757', '755', '577', '575', '557', '664', '646', '644', '466', '464', '446', '553']\n",
      "['111', '119', '191', '199', '911', '919', '991', '000', '008', '080', '088', '800', '808', '880', '997', '979', '977', '799', '797', '779', '886', '868', '866', '688', '686', '668', '775', '757', '755', '577', '575', '557', '664', '646', '644', '466', '464', '446']\n",
      "['111', '119', '191', '199', '911', '919', '991', '000', '008', '080', '088', '800', '808', '880', '997', '979', '977', '799', '797', '779', '886', '868', '866', '688', '686', '668', '775', '757', '755', '577', '575', '557', '664', '646', '644', '466', '464']\n",
      "['111', '119', '191', '199', '911', '919', '991', '000', '008', '080', '088', '800', '808', '880', '997', '979', '977', '799', '797', '779', '886', '868', '866', '688', '686', '668', '775', '757', '755', '577', '575', '557', '664', '646', '644', '466']\n",
      "['111', '119', '191', '199', '911', '919', '991', '000', '008', '080', '088', '800', '808', '880', '997', '979', '977', '799', '797', '779', '886', '868', '866', '688', '686', '668', '775', '757', '755', '577', '575', '557', '664', '646', '644']\n",
      "['111', '119', '191', '199', '911', '919', '991', '000', '008', '080', '088', '800', '808', '880', '997', '979', '977', '799', '797', '779', '886', '868', '866', '688', '686', '668', '775', '757', '755', '577', '575', '557', '664', '646']\n",
      "['111', '119', '191', '199', '911', '919', '991', '000', '008', '080', '088', '800', '808', '880', '997', '979', '977', '799', '797', '779', '886', '868', '866', '688', '686', '668', '775', '757', '755', '577', '575', '557', '664']\n",
      "['111', '119', '191', '199', '911', '919', '991', '000', '008', '080', '088', '800', '808', '880', '997', '979', '977', '799', '797', '779', '886', '868', '866', '688', '686', '668', '775', '757', '755', '577', '575', '557']\n",
      "['111', '119', '191', '199', '911', '919', '991', '000', '008', '080', '088', '800', '808', '880', '997', '979', '977', '799', '797', '779', '886', '868', '866', '688', '686', '668', '775', '757', '755', '577', '575']\n",
      "['111', '119', '191', '199', '911', '919', '991', '000', '008', '080', '088', '800', '808', '880', '997', '979', '977', '799', '797', '779', '886', '868', '866', '688', '686', '668', '775', '757', '755', '577']\n",
      "['111', '119', '191', '199', '911', '919', '991', '000', '008', '080', '088', '800', '808', '880', '997', '979', '977', '799', '797', '779', '886', '868', '866', '688', '686', '668', '775', '757', '755']\n",
      "['111', '119', '191', '199', '911', '919', '991', '000', '008', '080', '088', '800', '808', '880', '997', '979', '977', '799', '797', '779', '886', '868', '866', '688', '686', '668', '775', '757']\n",
      "['111', '119', '191', '199', '911', '919', '991', '000', '008', '080', '088', '800', '808', '880', '997', '979', '977', '799', '797', '779', '886', '868', '866', '688', '686', '668', '775']\n",
      "['111', '119', '191', '199', '911', '919', '991', '000', '008', '080', '088', '800', '808', '880', '997', '979', '977', '799', '797', '779', '886', '868', '866', '688', '686', '668']\n",
      "['111', '119', '191', '199', '911', '919', '991', '000', '008', '080', '088', '800', '808', '880', '997', '979', '977', '799', '797', '779', '886', '868', '866', '688', '686']\n",
      "['111', '119', '191', '199', '911', '919', '991', '000', '008', '080', '088', '800', '808', '880', '997', '979', '977', '799', '797', '779', '886', '868', '866', '688']\n",
      "['111', '119', '191', '199', '911', '919', '991', '000', '008', '080', '088', '800', '808', '880', '997', '979', '977', '799', '797', '779', '886', '868', '866']\n",
      "['111', '119', '191', '199', '911', '919', '991', '000', '008', '080', '088', '800', '808', '880', '997', '979', '977', '799', '797', '779', '886', '868']\n",
      "['111', '119', '191', '199', '911', '919', '991', '000', '008', '080', '088', '800', '808', '880', '997', '979', '977', '799', '797', '779', '886']\n",
      "['111', '119', '191', '199', '911', '919', '991', '000', '008', '080', '088', '800', '808', '880', '997', '979', '977', '799', '797', '779']\n",
      "['111', '119', '191', '199', '911', '919', '991', '000', '008', '080', '088', '800', '808', '880', '997', '979', '977', '799', '797']\n",
      "['111', '119', '191', '199', '911', '919', '991', '000', '008', '080', '088', '800', '808', '880', '997', '979', '977', '799']\n",
      "['111', '119', '191', '199', '911', '919', '991', '000', '008', '080', '088', '800', '808', '880', '997', '979', '977']\n",
      "['111', '119', '191', '199', '911', '919', '991', '000', '008', '080', '088', '800', '808', '880', '997', '979']\n",
      "['111', '119', '191', '199', '911', '919', '991', '000', '008', '080', '088', '800', '808', '880', '997']\n",
      "['111', '119', '191', '199', '911', '919', '991', '000', '008', '080', '088', '800', '808', '880']\n",
      "['111', '119', '191', '199', '911', '919', '991', '000', '008', '080', '088', '800', '808']\n",
      "['111', '119', '191', '199', '911', '919', '991', '000', '008', '080', '088', '800']\n",
      "['111', '119', '191', '199', '911', '919', '991', '000', '008', '080', '088']\n",
      "['111', '119', '191', '199', '911', '919', '991', '000', '008', '080']\n",
      "['111', '119', '191', '199', '911', '919', '991', '000', '008']\n",
      "['111', '119', '191', '199', '911', '919', '991', '000']\n",
      "['111', '119', '191', '199', '911', '919', '991']\n",
      "['111', '119', '191', '199', '911', '919']\n",
      "['111', '119', '191', '199', '911']\n",
      "['111', '119', '191', '199']\n",
      "['111', '119', '191']\n",
      "['111', '119']\n",
      "['111']\n",
      "False\n"
     ]
    }
   ],
   "source": [
    "# Test code\n",
    "\n",
    "targetA, dead_endsA = \"250\", []\n",
    "targetB, dead_endsB = \"379\", [\"480\", \"468\", \"460\", \"380\", \"288\", \"280\", \"488\", \"268\", \"360\", \"260\", \"269\"]\n",
    "\n",
    "print(reach_target(targetA, dead_endsA))\n",
    "# print(reach_target(targetB, dead_endsB))"
   ]
  },
  {
   "cell_type": "code",
   "execution_count": 21,
   "metadata": {},
   "outputs": [],
   "source": [
    "c = \"\"\n",
    "c+=\"h\""
   ]
  },
  {
   "cell_type": "code",
   "execution_count": 22,
   "metadata": {},
   "outputs": [
    {
     "data": {
      "text/plain": [
       "'h'"
      ]
     },
     "execution_count": 22,
     "metadata": {},
     "output_type": "execute_result"
    }
   ],
   "source": [
    "c"
   ]
  },
  {
   "cell_type": "code",
   "execution_count": 31,
   "metadata": {},
   "outputs": [
    {
     "data": {
      "text/plain": [
       "8"
      ]
     },
     "execution_count": 31,
     "metadata": {},
     "output_type": "execute_result"
    }
   ],
   "source": [
    "-1%9"
   ]
  },
  {
   "cell_type": "code",
   "execution_count": null,
   "metadata": {},
   "outputs": [],
   "source": []
  }
 ],
 "metadata": {
  "kernelspec": {
   "display_name": "Python 3 (ipykernel)",
   "language": "python",
   "name": "python3"
  },
  "language_info": {
   "codemirror_mode": {
    "name": "ipython",
    "version": 3
   },
   "file_extension": ".py",
   "mimetype": "text/x-python",
   "name": "python",
   "nbconvert_exporter": "python",
   "pygments_lexer": "ipython3",
   "version": "3.8.9"
  }
 },
 "nbformat": 4,
 "nbformat_minor": 2
}
